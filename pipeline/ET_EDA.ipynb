{
 "cells": [
  {
   "cell_type": "markdown",
   "metadata": {
    "id": "EZF8erxJt2BO"
   },
   "source": [
    "## Description"
   ]
  },
  {
   "cell_type": "markdown",
   "metadata": {
    "id": "39rChrfwtsp3"
   },
   "source": [
    "This notebook is used to produce summary EDA statistics and charts.\n",
    "\n",
    "The SEBAL calculations for ET are leveraged from https://github.com/gee-hydro/geeSEBAL\n",
    "\n",
    "The map displays labeled sample locations.  \n",
    "- Irrigated locations are shown in Blue.  \n",
    "- Rainfed locations are shown in Red.\n",
    "\n",
    "Usage:\n",
    "\n",
    "    1) Select the datafile to use (should be located at path ../raw_data/)"
   ]
  },
  {
   "cell_type": "code",
   "execution_count": null,
   "metadata": {},
   "outputs": [],
   "source": [
    "#data_filename = 'ET_20220308_wesus8_WA.zip'\n",
    "#data_filename = 'ET_20220309_wesus9_CO.zip'\n",
    "#data_filename = 'ET_20220314_easus11_IL.zip'\n",
    "#data_filename = 'ET_20220315_wesus12_CA.zip'\n",
    "#data_filename = 'ET_20220317_wesus13_OR.zip'\n",
    "data_filename = 'ET_20220318_wesus14_WA.zip'"
   ]
  },
  {
   "cell_type": "markdown",
   "metadata": {
    "id": "CHn4vExr_-9z"
   },
   "source": [
    "## Setup Notebook"
   ]
  },
  {
   "cell_type": "markdown",
   "metadata": {},
   "source": [
    "#### Setup Google Earth Engine libraries"
   ]
  },
  {
   "cell_type": "markdown",
   "metadata": {},
   "source": [
    "This notebook requires the installation of:\n",
    "- earthengine\n",
    "- geemap\n",
    "- geopandas\n",
    "- hdbscan\n",
    "- ipympl (only for interactive charts with matplotlib)"
   ]
  },
  {
   "cell_type": "code",
   "execution_count": 1,
   "metadata": {
    "executionInfo": {
     "elapsed": 118,
     "status": "ok",
     "timestamp": 1647699762525,
     "user": {
      "displayName": "Blair Jones",
      "photoUrl": "https://lh3.googleusercontent.com/a/default-user=s64",
      "userId": "11507989587297916179"
     },
     "user_tz": 300
    },
    "id": "lst9ZoxtN-er"
   },
   "outputs": [],
   "source": [
    "#!pip install earthengine-api\n",
    "#!pip install geemap\n",
    "#!pip install geopandas"
   ]
  },
  {
   "cell_type": "code",
   "execution_count": null,
   "metadata": {},
   "outputs": [],
   "source": [
    "import ee\n",
    "#ee.Authenticate() # Uncomment this line when first running the notebook in a new environment\n",
    "ee.Initialize()\n",
    "import geemap.foliumap as geemap"
   ]
  },
  {
   "cell_type": "code",
   "execution_count": null,
   "metadata": {},
   "outputs": [],
   "source": [
    "import numpy as np\n",
    "import pandas as pd\n",
    "import json\n",
    "\n",
    "from sklearn.ensemble import RandomForestClassifier\n",
    "from sklearn.model_selection import train_test_split\n",
    "import hdbscan\n",
    "\n",
    "from zipfile import ZipFile\n",
    "import os\n",
    "import glob\n",
    "import joblib\n",
    "from tqdm.notebook import tqdm\n",
    "\n",
    "import matplotlib.pyplot as plt\n",
    "import seaborn as sns\n",
    "\n",
    "# custom libraries\n",
    "import utils "
   ]
  },
  {
   "cell_type": "markdown",
   "metadata": {},
   "source": [
    "## Load, transform and cleanse data"
   ]
  },
  {
   "cell_type": "code",
   "execution_count": null,
   "metadata": {},
   "outputs": [],
   "source": [
    "df = pd.DataFrame()\n",
    "files = ZipFile(data_filename).filelist\n",
    "for file in tqdm(files):\n",
    "    df = pd.concat([df, pd.read_csv(zf.open(file))], ignore_index=True)\n",
    "        \n",
    "df = utils.baseETtransforms(df)\n",
    "df = utils.generateETlocationLabels(df)"
   ]
  },
  {
   "cell_type": "code",
   "execution_count": null,
   "metadata": {},
   "outputs": [],
   "source": [
    "out_foldername = data_filename.split('.')[0]\n",
    "ts = datetime.now().strftime(\"%Y_%m_%d_%H_%M_%S\")\n",
    "path = out_foldername + '/' + ts + '/'\n",
    "os.mkdir(path)"
   ]
  },
  {
   "cell_type": "markdown",
   "metadata": {},
   "source": [
    "## EDA"
   ]
  },
  {
   "cell_type": "code",
   "execution_count": 1,
   "metadata": {},
   "outputs": [],
   "source": [
    "out_stats = {\n",
    "}"
   ]
  },
  {
   "cell_type": "markdown",
   "metadata": {},
   "source": [
    "##### Basic counts"
   ]
  },
  {
   "cell_type": "code",
   "execution_count": null,
   "metadata": {},
   "outputs": [],
   "source": [
    "out_stats['num_samples'] = len(df)\n",
    "out_stats['num_blank_ET_samples'] = df.ET_24h.isna().sum()\n",
    "out_stats['num_locations'] = len(df['loc_idx'].unique())\n",
    "\n",
    "out_stats['num_ok_irr_samples'] = len(df[(df.loc_type == 0) & (~df.ET_24h.isna())])\n",
    "out_stats['num_ok_rain_samples'] = len(df[(df.loc_type == 1) & (~df.ET_24h.isna())])\n",
    "\n",
    "# check for any dates where the location type changes between rainfed and irrigated\n",
    "#     - this was tested by manually changing a datapoint\n",
    "#     - it will show any rows where the type changed for a specific location\n",
    "df_tmp = df.sort_values(['loc_idx', 'date']).groupby(['loc_idx'])\n",
    "out_stats['num_type_changes'] = len(df[df_tmp.loc_type.diff() > 0])"
   ]
  },
  {
   "cell_type": "code",
   "execution_count": null,
   "metadata": {},
   "outputs": [],
   "source": [
    "# inspect number of datapoints\n",
    "print(f'Total number of samples        {out_stats['num_samples']:>5}')\n",
    "print(f'Number of blank ET_24 samples  {out_stats['num_blank_ET_samples']:>5}')\n",
    "print(f'Number of locations            {out_stats['num_locations']:>5}')\n",
    "\n",
    "print(f'Number of OK irrigated samples {out_stats['num_ok_irr_samples']:>5}')\n",
    "print(f'Number of OK rainfed samples   {out_stats['num_ok_rain_samples']:>5}')\n",
    "\n",
    "print('Number of locations changing')\n",
    "print(f'    between Irr/Rain labels    {out_stats['num_type_changes']:>5}')"
   ]
  },
  {
   "cell_type": "markdown",
   "metadata": {},
   "source": [
    "##### Show on Map"
   ]
  },
  {
   "cell_type": "code",
   "execution_count": null,
   "metadata": {},
   "outputs": [],
   "source": [
    "lonlat_arr = []\n",
    "for lonlat in df[['longitude', 'latitude', 'loc_idx', 'loc_type']].drop_duplicates().values:\n",
    "    lonlat_arr.append(ee.Feature(ee.Geometry.Point(lonlat[0], lonlat[1]), {'name': lonlat[2], 'loc_type': lonlat[3] }))\n",
    "\n",
    "locations = ee.FeatureCollection(lonlat_arr)\n",
    "irr = locations.filter(ee.Filter.eq('loc_type', 0))\n",
    "rain = locations.filter(ee.Filter.eq('loc_type', 1))\n",
    "\n",
    "Map = geemap.Map()\n",
    "Map.add_basemap('HYBRID')\n",
    "Map.addLayer(irr.draw(color=\"blue\", pointRadius=5, strokeWidth=3), {}, 'irrigated')\n",
    "Map.addLayer(rain.draw(color=\"red\", pointRadius=5, strokeWidth=3), {}, 'rainfed')\n",
    "Map.add_labels(locations, \"location labels\", font_size=\"12pt\", font_color=\"white\", font_family=\"arial\", font_weight=\"bold\")\n",
    "Map.centerObject(locations)\n",
    "Map"
   ]
  },
  {
   "cell_type": "markdown",
   "metadata": {},
   "source": [
    "##### Plots"
   ]
  },
  {
   "cell_type": "code",
   "execution_count": null,
   "metadata": {},
   "outputs": [],
   "source": [
    "# histogram\n",
    "fig, ax = plt.subplots(1,3, figsize=(20,5))\n",
    "ax[0].hist(df.loc_idx)\n",
    "ax[1].hist(df.sort_values('yyyy').yyyy)\n",
    "ax[2].hist(df.sort_values('mm').mm)\n",
    "plt.show()\n",
    "plt.savefig(path + 'histogram.png')\n",
    "\n",
    "# NDVI\n",
    "df.sample(frac=1).boxplot(column='NDVI', by='loc_idx')\n",
    "plt.suptitle('')\n",
    "plt.savefig(path + 'ndvi.png')\n",
    "\n",
    "# ET daily\n",
    "df.sample(frac=1).boxplot(column='ET_24h', by='loc_idx')\n",
    "plt.suptitle('')\n",
    "plt.savefig(path + 'etdaily.png')\n",
    "\n",
    "# land temperature\n",
    "df.sample(frac=0.2).boxplot(column='LandT_G', by='loc_idx')\n",
    "plt.suptitle('')\n",
    "plt.savefig(path + 'landtemp.png')\n",
    "\n",
    "if False:\n",
    "    # wind speed\n",
    "    df.sample(frac=0.2).boxplot(column='ux_G', by='loc_idx')\n",
    "    plt.suptitle('')\n",
    "    plt.savefig(path + 'windspeed.png')\n",
    "\n",
    "    # relative humidity\n",
    "    df.sample(frac=0.2).boxplot(column='UR_G', by='loc_idx')\n",
    "    plt.suptitle('')\n",
    "    plt.savefig(path + 'humidity.png')\n",
    "\n",
    "    # slope\n",
    "    if 'slope' in df.columns:\n",
    "        df.sample(frac=.2).boxplot(column='slope', by='loc_idx')\n",
    "        plt.suptitle('')\n",
    "        plt.savefig(path + 'slope.png')\n",
    "\n",
    "\n",
    "    # air temperature\n",
    "    df.sample(frac=0.2).boxplot(column='AirT_G', by='loc_idx')\n",
    "    plt.suptitle('')\n",
    "    plt.savefig(path + 'airtemp.png')"
   ]
  },
  {
   "cell_type": "markdown",
   "metadata": {},
   "source": [
    "## Save summary statistics"
   ]
  },
  {
   "cell_type": "code",
   "execution_count": null,
   "metadata": {},
   "outputs": [],
   "source": [
    "filename = path + 'summary_stats.json'\n",
    "with open(filename, 'w', encoding='utf-8') as f:\n",
    "    json.dump(out_stats, f, ensure_ascii=False, indent=4)"
   ]
  }
 ],
 "metadata": {
  "colab": {
   "collapsed_sections": [],
   "name": "ET_Data_Extract_region_CA_COMBO_MASK.ipynb",
   "provenance": [
    {
     "file_id": "1j9czqdVYpKMsZ4A9OuR8AzhP8nqSTEza",
     "timestamp": 1646395591173
    },
    {
     "file_id": "1YST0rKUOHFgMG_q0h6qazFAtX-begT6b",
     "timestamp": 1645981406840
    }
   ]
  },
  "kernelspec": {
   "display_name": "Python 3",
   "language": "python",
   "name": "python3"
  },
  "language_info": {
   "codemirror_mode": {
    "name": "ipython",
    "version": 3
   },
   "file_extension": ".py",
   "mimetype": "text/x-python",
   "name": "python",
   "nbconvert_exporter": "python",
   "pygments_lexer": "ipython3",
   "version": "3.7.4"
  },
  "widgets": {
   "application/vnd.jupyter.widget-state+json": {
    "040347c429bd429b8e3f612232f185b3": {
     "model_module": "@jupyter-widgets/base",
     "model_module_version": "1.2.0",
     "model_name": "LayoutModel",
     "state": {
      "_model_module": "@jupyter-widgets/base",
      "_model_module_version": "1.2.0",
      "_model_name": "LayoutModel",
      "_view_count": null,
      "_view_module": "@jupyter-widgets/base",
      "_view_module_version": "1.2.0",
      "_view_name": "LayoutView",
      "align_content": null,
      "align_items": null,
      "align_self": null,
      "border": null,
      "bottom": null,
      "display": null,
      "flex": null,
      "flex_flow": null,
      "grid_area": null,
      "grid_auto_columns": null,
      "grid_auto_flow": null,
      "grid_auto_rows": null,
      "grid_column": null,
      "grid_gap": null,
      "grid_row": null,
      "grid_template_areas": null,
      "grid_template_columns": null,
      "grid_template_rows": null,
      "height": null,
      "justify_content": null,
      "justify_items": null,
      "left": null,
      "margin": null,
      "max_height": null,
      "max_width": null,
      "min_height": null,
      "min_width": null,
      "object_fit": null,
      "object_position": null,
      "order": null,
      "overflow": null,
      "overflow_x": null,
      "overflow_y": null,
      "padding": null,
      "right": null,
      "top": null,
      "visibility": null,
      "width": null
     }
    },
    "0ccb3fa67dc84809993efbfac2336ab1": {
     "model_module": "jupyter-leaflet",
     "model_module_version": "^0.15.0",
     "model_name": "LeafletTileLayerModel",
     "state": {
      "_model_module": "jupyter-leaflet",
      "_model_module_version": "^0.15.0",
      "_model_name": "LeafletTileLayerModel",
      "_view_count": null,
      "_view_module": "jupyter-leaflet",
      "_view_module_version": "^0.15.0",
      "_view_name": "LeafletTileLayerView",
      "attribution": "Google Earth Engine",
      "base": false,
      "bottom": true,
      "detect_retina": false,
      "loading": true,
      "max_native_zoom": 18,
      "max_zoom": 24,
      "min_native_zoom": 0,
      "min_zoom": 0,
      "name": "rainfed west",
      "no_wrap": false,
      "opacity": 0.5,
      "options": [
       "attribution",
       "detect_retina",
       "max_native_zoom",
       "max_zoom",
       "min_native_zoom",
       "min_zoom",
       "no_wrap",
       "tile_size",
       "tms"
      ],
      "popup": null,
      "popup_max_height": null,
      "popup_max_width": 300,
      "popup_min_width": 50,
      "show_loading": false,
      "tile_size": 256,
      "tms": false,
      "url": "https://earthengine.googleapis.com/v1alpha/projects/earthengine-legacy/maps/831b7c0f4ee76620bf92be90133dd9da-a971baffdea73d536f52c48ba69a3a41/tiles/{z}/{x}/{y}",
      "visible": true
     }
    },
    "136f4ffb7a69467b9860184132ced49c": {
     "model_module": "@jupyter-widgets/base",
     "model_module_version": "1.2.0",
     "model_name": "LayoutModel",
     "state": {
      "_model_module": "@jupyter-widgets/base",
      "_model_module_version": "1.2.0",
      "_model_name": "LayoutModel",
      "_view_count": null,
      "_view_module": "@jupyter-widgets/base",
      "_view_module_version": "1.2.0",
      "_view_name": "LayoutView",
      "align_content": null,
      "align_items": null,
      "align_self": null,
      "border": null,
      "bottom": null,
      "display": null,
      "flex": null,
      "flex_flow": null,
      "grid_area": null,
      "grid_auto_columns": null,
      "grid_auto_flow": null,
      "grid_auto_rows": null,
      "grid_column": null,
      "grid_gap": null,
      "grid_row": null,
      "grid_template_areas": null,
      "grid_template_columns": null,
      "grid_template_rows": null,
      "height": "600px",
      "justify_content": null,
      "justify_items": null,
      "left": null,
      "margin": null,
      "max_height": null,
      "max_width": null,
      "min_height": null,
      "min_width": null,
      "object_fit": null,
      "object_position": null,
      "order": null,
      "overflow": null,
      "overflow_x": null,
      "overflow_y": null,
      "padding": null,
      "right": null,
      "top": null,
      "visibility": null,
      "width": null
     }
    },
    "1799b6147e8b444281b38183965b2cee": {
     "model_module": "jupyter-leaflet",
     "model_module_version": "^0.15.0",
     "model_name": "LeafletWidgetControlModel",
     "state": {
      "_model_module": "jupyter-leaflet",
      "_model_module_version": "^0.15.0",
      "_model_name": "LeafletWidgetControlModel",
      "_view_count": null,
      "_view_module": "jupyter-leaflet",
      "_view_module_version": "^0.15.0",
      "_view_name": "LeafletWidgetControlView",
      "max_height": null,
      "max_width": null,
      "min_height": null,
      "min_width": null,
      "options": [
       "position",
       "transparent_bg"
      ],
      "position": "topleft",
      "transparent_bg": false,
      "widget": "IPY_MODEL_b2b11339da544e2597f0429fde475d4f"
     }
    },
    "19824da796934ac8a485ac3a7fbf3353": {
     "model_module": "@jupyter-widgets/controls",
     "model_module_version": "1.5.0",
     "model_name": "VBoxModel",
     "state": {
      "_dom_classes": [],
      "_model_module": "@jupyter-widgets/controls",
      "_model_module_version": "1.5.0",
      "_model_name": "VBoxModel",
      "_view_count": null,
      "_view_module": "@jupyter-widgets/controls",
      "_view_module_version": "1.5.0",
      "_view_name": "VBoxView",
      "box_style": "",
      "children": [
       "IPY_MODEL_f631f4f7ec434eadba46fc885fb45e6d"
      ],
      "layout": "IPY_MODEL_e61e88b59996446fb1d42ab095b27ace"
     }
    },
    "1d5e562d552343518c489d35aeafe1cf": {
     "model_module": "jupyter-leaflet",
     "model_module_version": "^0.15.0",
     "model_name": "LeafletMapStyleModel",
     "state": {
      "_model_module": "jupyter-leaflet",
      "_model_module_version": "^0.15.0",
      "_model_name": "LeafletMapStyleModel",
      "_view_count": null,
      "_view_module": "@jupyter-widgets/base",
      "_view_module_version": "1.2.0",
      "_view_name": "StyleView",
      "cursor": "move"
     }
    },
    "21f3d729c37a4c879a0a5604b2b6d6d4": {
     "model_module": "jupyter-leaflet",
     "model_module_version": "^0.15.0",
     "model_name": "LeafletTileLayerModel",
     "state": {
      "_model_module": "jupyter-leaflet",
      "_model_module_version": "^0.15.0",
      "_model_name": "LeafletTileLayerModel",
      "_view_count": null,
      "_view_module": "jupyter-leaflet",
      "_view_module_version": "^0.15.0",
      "_view_name": "LeafletTileLayerView",
      "attribution": "Google",
      "base": false,
      "bottom": true,
      "detect_retina": false,
      "loading": true,
      "max_native_zoom": 18,
      "max_zoom": 22,
      "min_native_zoom": 0,
      "min_zoom": 0,
      "name": "Google Satellite",
      "no_wrap": false,
      "opacity": 1,
      "options": [
       "attribution",
       "detect_retina",
       "max_native_zoom",
       "max_zoom",
       "min_native_zoom",
       "min_zoom",
       "no_wrap",
       "tile_size",
       "tms"
      ],
      "popup": null,
      "popup_max_height": null,
      "popup_max_width": 300,
      "popup_min_width": 50,
      "show_loading": false,
      "tile_size": 256,
      "tms": false,
      "url": "https://mt1.google.com/vt/lyrs=y&x={x}&y={y}&z={z}",
      "visible": true
     }
    },
    "2aec48fbdc2942fe9a63720d30b2fede": {
     "model_module": "jupyter-leaflet",
     "model_module_version": "^0.15.0",
     "model_name": "LeafletDrawControlModel",
     "state": {
      "_model_module": "jupyter-leaflet",
      "_model_module_version": "^0.15.0",
      "_model_name": "LeafletDrawControlModel",
      "_view_count": null,
      "_view_module": "jupyter-leaflet",
      "_view_module_version": "^0.15.0",
      "_view_name": "LeafletDrawControlView",
      "circle": {
       "shapeOptions": {
        "color": "#3388ff"
       }
      },
      "circlemarker": {},
      "data": [
       {
        "geometry": {
         "coordinates": [
          [
           [
            -92.583883,
            44.675703
           ],
           [
            -90.522199,
            42.607157
           ],
           [
            -87.820049,
            42.608996
           ],
           [
            -87.752682,
            45.296362
           ],
           [
            -91.458853,
            46.35314
           ],
           [
            -92.583883,
            44.675703
           ]
          ]
         ],
         "type": "Polygon"
        },
        "properties": {
         "style": {
          "clickable": true,
          "color": "#3388ff",
          "fill": true,
          "fillColor": null,
          "fillOpacity": 0.2,
          "opacity": 0.5,
          "stroke": true,
          "weight": 4
         }
        },
        "type": "Feature"
       }
      ],
      "edit": true,
      "marker": {
       "shapeOptions": {
        "color": "#3388ff"
       }
      },
      "options": [
       "position"
      ],
      "polygon": {
       "shapeOptions": {}
      },
      "polyline": {
       "shapeOptions": {}
      },
      "position": "topleft",
      "rectangle": {
       "shapeOptions": {
        "color": "#3388ff"
       }
      },
      "remove": true
     }
    },
    "56953bd84fd9461f82eec817e973c5fc": {
     "model_module": "@jupyter-widgets/base",
     "model_module_version": "1.2.0",
     "model_name": "LayoutModel",
     "state": {
      "_model_module": "@jupyter-widgets/base",
      "_model_module_version": "1.2.0",
      "_model_name": "LayoutModel",
      "_view_count": null,
      "_view_module": "@jupyter-widgets/base",
      "_view_module_version": "1.2.0",
      "_view_name": "LayoutView",
      "align_content": null,
      "align_items": null,
      "align_self": null,
      "border": null,
      "bottom": null,
      "display": null,
      "flex": null,
      "flex_flow": null,
      "grid_area": null,
      "grid_auto_columns": null,
      "grid_auto_flow": null,
      "grid_auto_rows": null,
      "grid_column": null,
      "grid_gap": null,
      "grid_row": null,
      "grid_template_areas": null,
      "grid_template_columns": null,
      "grid_template_rows": null,
      "height": "28px",
      "justify_content": null,
      "justify_items": null,
      "left": null,
      "margin": null,
      "max_height": null,
      "max_width": null,
      "min_height": null,
      "min_width": null,
      "object_fit": null,
      "object_position": null,
      "order": null,
      "overflow": null,
      "overflow_x": null,
      "overflow_y": null,
      "padding": "0px 0px 0px 4px",
      "right": null,
      "top": null,
      "visibility": null,
      "width": "28px"
     }
    },
    "5af974aa88b84524bf7338064ffea84d": {
     "model_module": "jupyter-leaflet",
     "model_module_version": "^0.15.0",
     "model_name": "LeafletMapStyleModel",
     "state": {
      "_model_module": "jupyter-leaflet",
      "_model_module_version": "^0.15.0",
      "_model_name": "LeafletMapStyleModel",
      "_view_count": null,
      "_view_module": "@jupyter-widgets/base",
      "_view_module_version": "1.2.0",
      "_view_name": "StyleView",
      "cursor": "grab"
     }
    },
    "7926d3899f0644db967bacfd8a222c21": {
     "model_module": "jupyter-leaflet",
     "model_module_version": "^0.15.0",
     "model_name": "LeafletTileLayerModel",
     "state": {
      "_model_module": "jupyter-leaflet",
      "_model_module_version": "^0.15.0",
      "_model_name": "LeafletTileLayerModel",
      "_view_count": null,
      "_view_module": "jupyter-leaflet",
      "_view_module_version": "^0.15.0",
      "_view_name": "LeafletTileLayerView",
      "attribution": "Google Earth Engine",
      "base": false,
      "bottom": true,
      "detect_retina": false,
      "loading": true,
      "max_native_zoom": 18,
      "max_zoom": 24,
      "min_native_zoom": 0,
      "min_zoom": 0,
      "name": "rainfed Oregon",
      "no_wrap": false,
      "opacity": 0.5,
      "options": [
       "attribution",
       "detect_retina",
       "max_native_zoom",
       "max_zoom",
       "min_native_zoom",
       "min_zoom",
       "no_wrap",
       "tile_size",
       "tms"
      ],
      "popup": null,
      "popup_max_height": null,
      "popup_max_width": 300,
      "popup_min_width": 50,
      "show_loading": false,
      "tile_size": 256,
      "tms": false,
      "url": "https://earthengine.googleapis.com/v1alpha/projects/earthengine-legacy/maps/a7c8c8ad9fdb7316a9404329eb5912bc-36685bd6056a4eb80c25b1cd23abd2dd/tiles/{z}/{x}/{y}",
      "visible": true
     }
    },
    "7ddf0956f58f4a9285b1e1312ab34c35": {
     "model_module": "jupyter-leaflet",
     "model_module_version": "^0.15.0",
     "model_name": "LeafletFullScreenControlModel",
     "state": {
      "_model_module": "jupyter-leaflet",
      "_model_module_version": "^0.15.0",
      "_model_name": "LeafletFullScreenControlModel",
      "_view_count": null,
      "_view_module": "jupyter-leaflet",
      "_view_module_version": "^0.15.0",
      "_view_name": "LeafletFullScreenControlView",
      "options": [
       "position"
      ],
      "position": "topleft"
     }
    },
    "80d702ed4ba548768ab3104a644eae17": {
     "model_module": "jupyter-leaflet",
     "model_module_version": "^0.15.0",
     "model_name": "LeafletTileLayerModel",
     "state": {
      "_model_module": "jupyter-leaflet",
      "_model_module_version": "^0.15.0",
      "_model_name": "LeafletTileLayerModel",
      "_view_count": null,
      "_view_module": "jupyter-leaflet",
      "_view_module_version": "^0.15.0",
      "_view_name": "LeafletTileLayerView",
      "attribution": "Google Earth Engine",
      "base": false,
      "bottom": true,
      "detect_retina": false,
      "loading": true,
      "max_native_zoom": 18,
      "max_zoom": 24,
      "min_native_zoom": 0,
      "min_zoom": 0,
      "name": "irrigated east",
      "no_wrap": false,
      "opacity": 0.5,
      "options": [
       "attribution",
       "detect_retina",
       "max_native_zoom",
       "max_zoom",
       "min_native_zoom",
       "min_zoom",
       "no_wrap",
       "tile_size",
       "tms"
      ],
      "popup": null,
      "popup_max_height": null,
      "popup_max_width": 300,
      "popup_min_width": 50,
      "show_loading": false,
      "tile_size": 256,
      "tms": false,
      "url": "https://earthengine.googleapis.com/v1alpha/projects/earthengine-legacy/maps/f9d5584583513f5cd27d4553fe90c272-e617314d8965846b2c59996a01b36e13/tiles/{z}/{x}/{y}",
      "visible": true
     }
    },
    "89dc1a50d3354df1a3d2141c228c6aa7": {
     "model_module": "jupyter-leaflet",
     "model_module_version": "^0.15.0",
     "model_name": "LeafletWidgetControlModel",
     "state": {
      "_model_module": "jupyter-leaflet",
      "_model_module_version": "^0.15.0",
      "_model_name": "LeafletWidgetControlModel",
      "_view_count": null,
      "_view_module": "jupyter-leaflet",
      "_view_module_version": "^0.15.0",
      "_view_name": "LeafletWidgetControlView",
      "max_height": null,
      "max_width": null,
      "min_height": null,
      "min_width": null,
      "options": [
       "position",
       "transparent_bg"
      ],
      "position": "topright",
      "transparent_bg": false,
      "widget": "IPY_MODEL_19824da796934ac8a485ac3a7fbf3353"
     }
    },
    "8a70ea96d5f64e4c9a3498aa5db82e05": {
     "model_module": "jupyter-leaflet",
     "model_module_version": "^0.15.0",
     "model_name": "LeafletTileLayerModel",
     "state": {
      "_model_module": "jupyter-leaflet",
      "_model_module_version": "^0.15.0",
      "_model_name": "LeafletTileLayerModel",
      "_view_count": null,
      "_view_module": "jupyter-leaflet",
      "_view_module_version": "^0.15.0",
      "_view_name": "LeafletTileLayerView",
      "attribution": "Google Earth Engine",
      "base": false,
      "bottom": true,
      "detect_retina": false,
      "loading": true,
      "max_native_zoom": 18,
      "max_zoom": 24,
      "min_native_zoom": 0,
      "min_zoom": 0,
      "name": "sample_locations",
      "no_wrap": false,
      "opacity": 1,
      "options": [
       "attribution",
       "detect_retina",
       "max_native_zoom",
       "max_zoom",
       "min_native_zoom",
       "min_zoom",
       "no_wrap",
       "tile_size",
       "tms"
      ],
      "popup": null,
      "popup_max_height": null,
      "popup_max_width": 300,
      "popup_min_width": 50,
      "show_loading": false,
      "tile_size": 256,
      "tms": false,
      "url": "https://earthengine.googleapis.com/v1alpha/projects/earthengine-legacy/maps/673ac1afac39dbdb9e4c455ce982dfe8-ef70167e5470e03b236796b847c87e93/tiles/{z}/{x}/{y}",
      "visible": true
     }
    },
    "914cb742b85c4597916862c9fb2d461a": {
     "model_module": "@jupyter-widgets/controls",
     "model_module_version": "1.5.0",
     "model_name": "DescriptionStyleModel",
     "state": {
      "_model_module": "@jupyter-widgets/controls",
      "_model_module_version": "1.5.0",
      "_model_name": "DescriptionStyleModel",
      "_view_count": null,
      "_view_module": "@jupyter-widgets/base",
      "_view_module_version": "1.2.0",
      "_view_name": "StyleView",
      "description_width": ""
     }
    },
    "91988dd550d44f3ebc7a09c7b0425899": {
     "model_module": "jupyter-leaflet",
     "model_module_version": "^0.15.0",
     "model_name": "LeafletMapModel",
     "state": {
      "_dom_classes": [],
      "_dragging": false,
      "_model_module": "jupyter-leaflet",
      "_model_module_version": "^0.15.0",
      "_model_name": "LeafletMapModel",
      "_view_count": null,
      "_view_module": "jupyter-leaflet",
      "_view_module_version": "^0.15.0",
      "_view_name": "LeafletMapView",
      "bottom": 12180,
      "bounce_at_zoom_limits": true,
      "box_zoom": true,
      "center": [
       44.276671273775186,
       -90.13732910156251
      ],
      "close_popup_on_click": true,
      "controls": [
       "IPY_MODEL_1799b6147e8b444281b38183965b2cee",
       "IPY_MODEL_ac537f9ebb6d48488d530a2d464b4cbf",
       "IPY_MODEL_ee20ed6452d048d3ad3088b544aa7cb2",
       "IPY_MODEL_7ddf0956f58f4a9285b1e1312ab34c35",
       "IPY_MODEL_aca9ee258ffc4ae5b3221bf09304b971",
       "IPY_MODEL_c2e75b2273514becb9d38dbaf6f366a6",
       "IPY_MODEL_2aec48fbdc2942fe9a63720d30b2fede",
       "IPY_MODEL_89dc1a50d3354df1a3d2141c228c6aa7"
      ],
      "crs": {
       "custom": false,
       "name": "EPSG3857"
      },
      "default_style": "IPY_MODEL_5af974aa88b84524bf7338064ffea84d",
      "double_click_zoom": true,
      "dragging": true,
      "dragging_style": "IPY_MODEL_1d5e562d552343518c489d35aeafe1cf",
      "east": -82.63916015625001,
      "fullscreen": false,
      "inertia": true,
      "inertia_deceleration": 3000,
      "inertia_max_speed": 1500,
      "interpolation": "bilinear",
      "keyboard": true,
      "keyboard_pan_offset": 80,
      "keyboard_zoom_offset": 1,
      "layers": [
       "IPY_MODEL_dd7bfbbb4bff485a87be63c55127481a",
       "IPY_MODEL_c7635fc022b34193aa2b0abdcbe8205d",
       "IPY_MODEL_21f3d729c37a4c879a0a5604b2b6d6d4",
       "IPY_MODEL_c960f3dbeec9446f9644a4cede7dcdc7",
       "IPY_MODEL_d699cc59ca034b52a71cf15414dd3d12",
       "IPY_MODEL_0ccb3fa67dc84809993efbfac2336ab1",
       "IPY_MODEL_80d702ed4ba548768ab3104a644eae17",
       "IPY_MODEL_b6900670543548f39a4c848a5e5f83ac",
       "IPY_MODEL_f3ea185586a34c1cb2ea34229fb0b172",
       "IPY_MODEL_7926d3899f0644db967bacfd8a222c21",
       "IPY_MODEL_fdd77f34a8e9416aa93215647b729c5e",
       "IPY_MODEL_8a70ea96d5f64e4c9a3498aa5db82e05"
      ],
      "layout": "IPY_MODEL_136f4ffb7a69467b9860184132ced49c",
      "left": 7497,
      "max_zoom": 24,
      "min_zoom": 1,
      "modisdate": "2022-03-18",
      "north": 46.58906908309185,
      "options": [
       "bounce_at_zoom_limits",
       "box_zoom",
       "center",
       "close_popup_on_click",
       "double_click_zoom",
       "dragging",
       "fullscreen",
       "inertia",
       "inertia_deceleration",
       "inertia_max_speed",
       "interpolation",
       "keyboard",
       "keyboard_pan_offset",
       "keyboard_zoom_offset",
       "max_zoom",
       "min_zoom",
       "prefer_canvas",
       "scroll_wheel_zoom",
       "tap",
       "tap_tolerance",
       "touch_zoom",
       "world_copy_jump",
       "zoom",
       "zoom_animation_threshold",
       "zoom_delta",
       "zoom_snap",
       "zoom_start"
      ],
      "prefer_canvas": false,
      "right": 8862,
      "scroll_wheel_zoom": true,
      "south": 41.86956082699455,
      "style": "IPY_MODEL_5af974aa88b84524bf7338064ffea84d",
      "tap": true,
      "tap_tolerance": 15,
      "top": 11580,
      "touch_zoom": true,
      "west": -97.635498046875,
      "window_url": "https://nr4edj7qry-496ff2e9c6d22116-0-colab.googleusercontent.com/outputframe.html?vrz=colab-20220316-060047-RC01_435063902",
      "world_copy_jump": false,
      "zoom": 7,
      "zoom_animation_threshold": 4,
      "zoom_delta": 1,
      "zoom_snap": 1,
      "zoom_start": 12
     }
    },
    "96dad8dbeaa24a0a942085cb6d9f5628": {
     "model_module": "@jupyter-widgets/base",
     "model_module_version": "1.2.0",
     "model_name": "LayoutModel",
     "state": {
      "_model_module": "@jupyter-widgets/base",
      "_model_module_version": "1.2.0",
      "_model_name": "LayoutModel",
      "_view_count": null,
      "_view_module": "@jupyter-widgets/base",
      "_view_module_version": "1.2.0",
      "_view_name": "LayoutView",
      "align_content": null,
      "align_items": null,
      "align_self": null,
      "border": null,
      "bottom": null,
      "display": null,
      "flex": null,
      "flex_flow": null,
      "grid_area": null,
      "grid_auto_columns": null,
      "grid_auto_flow": null,
      "grid_auto_rows": null,
      "grid_column": null,
      "grid_gap": null,
      "grid_row": null,
      "grid_template_areas": null,
      "grid_template_columns": null,
      "grid_template_rows": null,
      "height": "28px",
      "justify_content": null,
      "justify_items": null,
      "left": null,
      "margin": null,
      "max_height": null,
      "max_width": null,
      "min_height": null,
      "min_width": null,
      "object_fit": null,
      "object_position": null,
      "order": null,
      "overflow": null,
      "overflow_x": null,
      "overflow_y": null,
      "padding": "0px 0px 0px 4px",
      "right": null,
      "top": null,
      "visibility": null,
      "width": "28px"
     }
    },
    "a39db6b0464d48acbe4b4b1d04f4f6bb": {
     "model_module": "jupyter-leaflet",
     "model_module_version": "^0.15.0",
     "model_name": "LeafletMapStyleModel",
     "state": {
      "_model_module": "jupyter-leaflet",
      "_model_module_version": "^0.15.0",
      "_model_name": "LeafletMapStyleModel",
      "_view_count": null,
      "_view_module": "@jupyter-widgets/base",
      "_view_module_version": "1.2.0",
      "_view_name": "StyleView",
      "cursor": "grab"
     }
    },
    "a4cf8ef101174e829971ceef509ac6ad": {
     "model_module": "@jupyter-widgets/controls",
     "model_module_version": "1.5.0",
     "model_name": "DescriptionStyleModel",
     "state": {
      "_model_module": "@jupyter-widgets/controls",
      "_model_module_version": "1.5.0",
      "_model_name": "DescriptionStyleModel",
      "_view_count": null,
      "_view_module": "@jupyter-widgets/base",
      "_view_module_version": "1.2.0",
      "_view_name": "StyleView",
      "description_width": ""
     }
    },
    "ac537f9ebb6d48488d530a2d464b4cbf": {
     "model_module": "jupyter-leaflet",
     "model_module_version": "^0.15.0",
     "model_name": "LeafletZoomControlModel",
     "state": {
      "_model_module": "jupyter-leaflet",
      "_model_module_version": "^0.15.0",
      "_model_name": "LeafletZoomControlModel",
      "_view_count": null,
      "_view_module": "jupyter-leaflet",
      "_view_module_version": "^0.15.0",
      "_view_name": "LeafletZoomControlView",
      "options": [
       "position",
       "zoom_in_text",
       "zoom_in_title",
       "zoom_out_text",
       "zoom_out_title"
      ],
      "position": "topleft",
      "zoom_in_text": "+",
      "zoom_in_title": "Zoom in",
      "zoom_out_text": "-",
      "zoom_out_title": "Zoom out"
     }
    },
    "aca9ee258ffc4ae5b3221bf09304b971": {
     "model_module": "jupyter-leaflet",
     "model_module_version": "^0.15.0",
     "model_name": "LeafletMeasureControlModel",
     "state": {
      "_custom_units": {},
      "_model_module": "jupyter-leaflet",
      "_model_module_version": "^0.15.0",
      "_model_name": "LeafletMeasureControlModel",
      "_view_count": null,
      "_view_module": "jupyter-leaflet",
      "_view_module_version": "^0.15.0",
      "_view_name": "LeafletMeasureControlView",
      "active_color": "orange",
      "capture_z_index": 10000,
      "completed_color": "#C8F2BE",
      "options": [
       "active_color",
       "capture_z_index",
       "completed_color",
       "popup_options",
       "position",
       "primary_area_unit",
       "primary_length_unit",
       "secondary_area_unit",
       "secondary_length_unit"
      ],
      "popup_options": {
       "autoPanPadding": [
        10,
        10
       ],
       "className": "leaflet-measure-resultpopup"
      },
      "position": "bottomleft",
      "primary_area_unit": "acres",
      "primary_length_unit": "kilometers",
      "secondary_area_unit": null,
      "secondary_length_unit": null
     }
    },
    "b2b11339da544e2597f0429fde475d4f": {
     "model_module": "@jupyter-widgets/controls",
     "model_module_version": "1.5.0",
     "model_name": "HBoxModel",
     "state": {
      "_dom_classes": [],
      "_model_module": "@jupyter-widgets/controls",
      "_model_module_version": "1.5.0",
      "_model_name": "HBoxModel",
      "_view_count": null,
      "_view_module": "@jupyter-widgets/controls",
      "_view_module_version": "1.5.0",
      "_view_name": "HBoxView",
      "box_style": "",
      "children": [
       "IPY_MODEL_f49cd063de1347859e0474f5e4e6ea1a"
      ],
      "layout": "IPY_MODEL_040347c429bd429b8e3f612232f185b3"
     }
    },
    "b6900670543548f39a4c848a5e5f83ac": {
     "model_module": "jupyter-leaflet",
     "model_module_version": "^0.15.0",
     "model_name": "LeafletTileLayerModel",
     "state": {
      "_model_module": "jupyter-leaflet",
      "_model_module_version": "^0.15.0",
      "_model_name": "LeafletTileLayerModel",
      "_view_count": null,
      "_view_module": "jupyter-leaflet",
      "_view_module_version": "^0.15.0",
      "_view_name": "LeafletTileLayerView",
      "attribution": "Google Earth Engine",
      "base": false,
      "bottom": true,
      "detect_retina": false,
      "loading": true,
      "max_native_zoom": 18,
      "max_zoom": 24,
      "min_native_zoom": 0,
      "min_zoom": 0,
      "name": "rainfed east",
      "no_wrap": false,
      "opacity": 0.5,
      "options": [
       "attribution",
       "detect_retina",
       "max_native_zoom",
       "max_zoom",
       "min_native_zoom",
       "min_zoom",
       "no_wrap",
       "tile_size",
       "tms"
      ],
      "popup": null,
      "popup_max_height": null,
      "popup_max_width": 300,
      "popup_min_width": 50,
      "show_loading": false,
      "tile_size": 256,
      "tms": false,
      "url": "https://earthengine.googleapis.com/v1alpha/projects/earthengine-legacy/maps/268bdf94992ed6c817e77278224ab2bb-050af328980fbfbb76febdcdec5d9737/tiles/{z}/{x}/{y}",
      "visible": true
     }
    },
    "c2e75b2273514becb9d38dbaf6f366a6": {
     "model_module": "jupyter-leaflet",
     "model_module_version": "^0.15.0",
     "model_name": "LeafletAttributionControlModel",
     "state": {
      "_model_module": "jupyter-leaflet",
      "_model_module_version": "^0.15.0",
      "_model_name": "LeafletAttributionControlModel",
      "_view_count": null,
      "_view_module": "jupyter-leaflet",
      "_view_module_version": "^0.15.0",
      "_view_name": "LeafletAttributionControlView",
      "options": [
       "position",
       "prefix"
      ],
      "position": "bottomright",
      "prefix": "ipyleaflet"
     }
    },
    "c7635fc022b34193aa2b0abdcbe8205d": {
     "model_module": "jupyter-leaflet",
     "model_module_version": "^0.15.0",
     "model_name": "LeafletTileLayerModel",
     "state": {
      "_model_module": "jupyter-leaflet",
      "_model_module_version": "^0.15.0",
      "_model_name": "LeafletTileLayerModel",
      "_view_count": null,
      "_view_module": "jupyter-leaflet",
      "_view_module_version": "^0.15.0",
      "_view_name": "LeafletTileLayerView",
      "attribution": "Google",
      "base": false,
      "bottom": true,
      "detect_retina": false,
      "loading": true,
      "max_native_zoom": 18,
      "max_zoom": 22,
      "min_native_zoom": 0,
      "min_zoom": 0,
      "name": "Google Maps",
      "no_wrap": false,
      "opacity": 1,
      "options": [
       "attribution",
       "detect_retina",
       "max_native_zoom",
       "max_zoom",
       "min_native_zoom",
       "min_zoom",
       "no_wrap",
       "tile_size",
       "tms"
      ],
      "popup": null,
      "popup_max_height": null,
      "popup_max_width": 300,
      "popup_min_width": 50,
      "show_loading": false,
      "tile_size": 256,
      "tms": false,
      "url": "https://mt1.google.com/vt/lyrs=m&x={x}&y={y}&z={z}",
      "visible": true
     }
    },
    "c960f3dbeec9446f9644a4cede7dcdc7": {
     "model_module": "jupyter-leaflet",
     "model_module_version": "^0.15.0",
     "model_name": "LeafletTileLayerModel",
     "state": {
      "_model_module": "jupyter-leaflet",
      "_model_module_version": "^0.15.0",
      "_model_name": "LeafletTileLayerModel",
      "_view_count": null,
      "_view_module": "jupyter-leaflet",
      "_view_module_version": "^0.15.0",
      "_view_name": "LeafletTileLayerView",
      "attribution": "Google Earth Engine",
      "base": false,
      "bottom": true,
      "detect_retina": false,
      "loading": true,
      "max_native_zoom": 18,
      "max_zoom": 24,
      "min_native_zoom": 0,
      "min_zoom": 0,
      "name": "Layer 4",
      "no_wrap": false,
      "opacity": 1,
      "options": [
       "attribution",
       "detect_retina",
       "max_native_zoom",
       "max_zoom",
       "min_native_zoom",
       "min_zoom",
       "no_wrap",
       "tile_size",
       "tms"
      ],
      "popup": null,
      "popup_max_height": null,
      "popup_max_width": 300,
      "popup_min_width": 50,
      "show_loading": false,
      "tile_size": 256,
      "tms": false,
      "url": "https://earthengine.googleapis.com/v1alpha/projects/earthengine-legacy/maps/cf96188548d8a26c8ec005e5874330a4-12a7185adb94a57dcc21047576e58432/tiles/{z}/{x}/{y}",
      "visible": true
     }
    },
    "d699cc59ca034b52a71cf15414dd3d12": {
     "model_module": "jupyter-leaflet",
     "model_module_version": "^0.15.0",
     "model_name": "LeafletTileLayerModel",
     "state": {
      "_model_module": "jupyter-leaflet",
      "_model_module_version": "^0.15.0",
      "_model_name": "LeafletTileLayerModel",
      "_view_count": null,
      "_view_module": "jupyter-leaflet",
      "_view_module_version": "^0.15.0",
      "_view_name": "LeafletTileLayerView",
      "attribution": "Google Earth Engine",
      "base": false,
      "bottom": true,
      "detect_retina": false,
      "loading": true,
      "max_native_zoom": 18,
      "max_zoom": 24,
      "min_native_zoom": 0,
      "min_zoom": 0,
      "name": "irrigated west",
      "no_wrap": false,
      "opacity": 0.5,
      "options": [
       "attribution",
       "detect_retina",
       "max_native_zoom",
       "max_zoom",
       "min_native_zoom",
       "min_zoom",
       "no_wrap",
       "tile_size",
       "tms"
      ],
      "popup": null,
      "popup_max_height": null,
      "popup_max_width": 300,
      "popup_min_width": 50,
      "show_loading": false,
      "tile_size": 256,
      "tms": false,
      "url": "https://earthengine.googleapis.com/v1alpha/projects/earthengine-legacy/maps/cee8379161a163bbcdab310753040685-3b49424c643c52cf4f7044b0d98f205c/tiles/{z}/{x}/{y}",
      "visible": true
     }
    },
    "dd7bfbbb4bff485a87be63c55127481a": {
     "model_module": "jupyter-leaflet",
     "model_module_version": "^0.15.0",
     "model_name": "LeafletTileLayerModel",
     "state": {
      "_model_module": "jupyter-leaflet",
      "_model_module_version": "^0.15.0",
      "_model_name": "LeafletTileLayerModel",
      "_view_count": null,
      "_view_module": "jupyter-leaflet",
      "_view_module_version": "^0.15.0",
      "_view_name": "LeafletTileLayerView",
      "attribution": "&copy; <a href=\"https://www.openstreetmap.org/copyright\">OpenStreetMap</a> contributors",
      "base": true,
      "bottom": true,
      "detect_retina": false,
      "loading": true,
      "max_native_zoom": 18,
      "max_zoom": 19,
      "min_native_zoom": 0,
      "min_zoom": 1,
      "name": "OpenStreetMap.Mapnik",
      "no_wrap": false,
      "opacity": 1,
      "options": [
       "attribution",
       "detect_retina",
       "max_native_zoom",
       "max_zoom",
       "min_native_zoom",
       "min_zoom",
       "no_wrap",
       "tile_size",
       "tms"
      ],
      "popup": null,
      "popup_max_height": null,
      "popup_max_width": 300,
      "popup_min_width": 50,
      "show_loading": false,
      "tile_size": 256,
      "tms": false,
      "url": "https://a.tile.openstreetmap.org/{z}/{x}/{y}.png",
      "visible": true
     }
    },
    "e61e88b59996446fb1d42ab095b27ace": {
     "model_module": "@jupyter-widgets/base",
     "model_module_version": "1.2.0",
     "model_name": "LayoutModel",
     "state": {
      "_model_module": "@jupyter-widgets/base",
      "_model_module_version": "1.2.0",
      "_model_name": "LayoutModel",
      "_view_count": null,
      "_view_module": "@jupyter-widgets/base",
      "_view_module_version": "1.2.0",
      "_view_name": "LayoutView",
      "align_content": null,
      "align_items": null,
      "align_self": null,
      "border": null,
      "bottom": null,
      "display": null,
      "flex": null,
      "flex_flow": null,
      "grid_area": null,
      "grid_auto_columns": null,
      "grid_auto_flow": null,
      "grid_auto_rows": null,
      "grid_column": null,
      "grid_gap": null,
      "grid_row": null,
      "grid_template_areas": null,
      "grid_template_columns": null,
      "grid_template_rows": null,
      "height": null,
      "justify_content": null,
      "justify_items": null,
      "left": null,
      "margin": null,
      "max_height": null,
      "max_width": null,
      "min_height": null,
      "min_width": null,
      "object_fit": null,
      "object_position": null,
      "order": null,
      "overflow": null,
      "overflow_x": null,
      "overflow_y": null,
      "padding": null,
      "right": null,
      "top": null,
      "visibility": null,
      "width": null
     }
    },
    "ee20ed6452d048d3ad3088b544aa7cb2": {
     "model_module": "jupyter-leaflet",
     "model_module_version": "^0.15.0",
     "model_name": "LeafletScaleControlModel",
     "state": {
      "_model_module": "jupyter-leaflet",
      "_model_module_version": "^0.15.0",
      "_model_name": "LeafletScaleControlModel",
      "_view_count": null,
      "_view_module": "jupyter-leaflet",
      "_view_module_version": "^0.15.0",
      "_view_name": "LeafletScaleControlView",
      "imperial": true,
      "max_width": 100,
      "metric": true,
      "options": [
       "imperial",
       "max_width",
       "metric",
       "position",
       "update_when_idle"
      ],
      "position": "bottomleft",
      "update_when_idle": false
     }
    },
    "f3ea185586a34c1cb2ea34229fb0b172": {
     "model_module": "jupyter-leaflet",
     "model_module_version": "^0.15.0",
     "model_name": "LeafletTileLayerModel",
     "state": {
      "_model_module": "jupyter-leaflet",
      "_model_module_version": "^0.15.0",
      "_model_name": "LeafletTileLayerModel",
      "_view_count": null,
      "_view_module": "jupyter-leaflet",
      "_view_module_version": "^0.15.0",
      "_view_name": "LeafletTileLayerView",
      "attribution": "Google Earth Engine",
      "base": false,
      "bottom": true,
      "detect_retina": false,
      "loading": true,
      "max_native_zoom": 18,
      "max_zoom": 24,
      "min_native_zoom": 0,
      "min_zoom": 0,
      "name": "rainfed California",
      "no_wrap": false,
      "opacity": 0.5,
      "options": [
       "attribution",
       "detect_retina",
       "max_native_zoom",
       "max_zoom",
       "min_native_zoom",
       "min_zoom",
       "no_wrap",
       "tile_size",
       "tms"
      ],
      "popup": null,
      "popup_max_height": null,
      "popup_max_width": 300,
      "popup_min_width": 50,
      "show_loading": false,
      "tile_size": 256,
      "tms": false,
      "url": "https://earthengine.googleapis.com/v1alpha/projects/earthengine-legacy/maps/6d5d6b516e7cb6bede83421211fed607-bd6fa2186f970d91ef192620fc197349/tiles/{z}/{x}/{y}",
      "visible": true
     }
    },
    "f49cd063de1347859e0474f5e4e6ea1a": {
     "model_module": "@jupyter-widgets/controls",
     "model_module_version": "1.5.0",
     "model_name": "ToggleButtonModel",
     "state": {
      "_dom_classes": [],
      "_model_module": "@jupyter-widgets/controls",
      "_model_module_version": "1.5.0",
      "_model_name": "ToggleButtonModel",
      "_view_count": null,
      "_view_module": "@jupyter-widgets/controls",
      "_view_module_version": "1.5.0",
      "_view_name": "ToggleButtonView",
      "button_style": "",
      "description": "",
      "description_tooltip": null,
      "disabled": false,
      "icon": "globe",
      "layout": "IPY_MODEL_96dad8dbeaa24a0a942085cb6d9f5628",
      "style": "IPY_MODEL_a4cf8ef101174e829971ceef509ac6ad",
      "tooltip": "Search location/data",
      "value": false
     }
    },
    "f631f4f7ec434eadba46fc885fb45e6d": {
     "model_module": "@jupyter-widgets/controls",
     "model_module_version": "1.5.0",
     "model_name": "ToggleButtonModel",
     "state": {
      "_dom_classes": [],
      "_model_module": "@jupyter-widgets/controls",
      "_model_module_version": "1.5.0",
      "_model_name": "ToggleButtonModel",
      "_view_count": null,
      "_view_module": "@jupyter-widgets/controls",
      "_view_module_version": "1.5.0",
      "_view_name": "ToggleButtonView",
      "button_style": "",
      "description": "",
      "description_tooltip": null,
      "disabled": false,
      "icon": "wrench",
      "layout": "IPY_MODEL_56953bd84fd9461f82eec817e973c5fc",
      "style": "IPY_MODEL_914cb742b85c4597916862c9fb2d461a",
      "tooltip": "Toolbar",
      "value": false
     }
    },
    "fdd77f34a8e9416aa93215647b729c5e": {
     "model_module": "jupyter-leaflet",
     "model_module_version": "^0.15.0",
     "model_name": "LeafletTileLayerModel",
     "state": {
      "_model_module": "jupyter-leaflet",
      "_model_module_version": "^0.15.0",
      "_model_name": "LeafletTileLayerModel",
      "_view_count": null,
      "_view_module": "jupyter-leaflet",
      "_view_module_version": "^0.15.0",
      "_view_name": "LeafletTileLayerView",
      "attribution": "Google Earth Engine",
      "base": false,
      "bottom": true,
      "detect_retina": false,
      "loading": true,
      "max_native_zoom": 18,
      "max_zoom": 18,
      "min_native_zoom": 0,
      "min_zoom": 0,
      "name": "Drawn Features",
      "no_wrap": false,
      "opacity": 0.5,
      "options": [
       "attribution",
       "detect_retina",
       "max_native_zoom",
       "max_zoom",
       "min_native_zoom",
       "min_zoom",
       "no_wrap",
       "tile_size",
       "tms"
      ],
      "popup": null,
      "popup_max_height": null,
      "popup_max_width": 300,
      "popup_min_width": 50,
      "show_loading": false,
      "tile_size": 256,
      "tms": false,
      "url": "https://earthengine.googleapis.com/v1alpha/projects/earthengine-legacy/maps/377454aafdd225d4153d1df6eca9363d-392732bed68c72c41d51dbb60ea568d0/tiles/{z}/{x}/{y}",
      "visible": false
     }
    }
   }
  }
 },
 "nbformat": 4,
 "nbformat_minor": 1
}
