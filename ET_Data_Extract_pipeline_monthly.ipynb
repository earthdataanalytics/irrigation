{
 "cells": [
  {
   "cell_type": "markdown",
   "metadata": {
    "id": "EZF8erxJt2BO"
   },
   "source": [
    "# Description"
   ]
  },
  {
   "cell_type": "markdown",
   "metadata": {
    "id": "B1WBDM-W9MYa"
   },
   "source": [
    "---\n",
    ".\n",
    "\n",
    "\n",
    "THIS IS A MONTHLY NOTEBOOK\n",
    "\n",
    ".\n",
    "\n",
    "---\n",
    "\n"
   ]
  },
  {
   "cell_type": "markdown",
   "metadata": {
    "id": "39rChrfwtsp3"
   },
   "source": [
    "This notebook is used to extract ET and other data for analysis in other notebooks/code.\n",
    "\n",
    "The SEBAL calculations for ET are leveraged from https://github.com/gee-hydro/geeSEBAL\n",
    "\n",
    "Usage:\n",
    "\n",
    "  1) Show map with labeled samples for rain or irrigated locations\n",
    "\n",
    "  2) Manually specify Area of Interest (AOI) with bounding box on map\n",
    "\n",
    "  3) Specify the filename and number of sample locations to generate within the AOI\n",
    "\n",
    "  4) Launch batch data extraction\n"
   ]
  },
  {
   "cell_type": "markdown",
   "metadata": {
    "id": "CHn4vExr_-9z"
   },
   "source": [
    "# Setup Notebook"
   ]
  },
  {
   "cell_type": "code",
   "execution_count": null,
   "metadata": {
    "id": "lst9ZoxtN-er"
   },
   "outputs": [],
   "source": [
    "#!pip install geemap\n",
    "#!pip install geopandas"
   ]
  },
  {
   "cell_type": "code",
   "execution_count": 38,
   "metadata": {},
   "outputs": [],
   "source": [
    "import subprocess\n",
    "from tqdm.notebook import tqdm"
   ]
  },
  {
   "cell_type": "code",
   "execution_count": 6,
   "metadata": {
    "id": "ATpKA5QIOFUk"
   },
   "outputs": [
    {
     "data": {
      "text/html": [
       "<p>To authorize access needed by Earth Engine, open the following\n",
       "        URL in a web browser and follow the instructions:</p>\n",
       "        <p><a href=https://code.earthengine.google.com/client-auth?scopes=https%3A//www.googleapis.com/auth/earthengine%20https%3A//www.googleapis.com/auth/devstorage.full_control&request_id=JNfKOEiG5G7f_TZzVI7PPssS02iEcguq0Bh5Z_m513U&tc=0ZiAE_VmYgJXJLi5QrBA_fKru4GA8ndK6UOeixPt9CY&cc=JrBwqDDXJ2jQODEYUPoWk1gGSraOEpmYgl2u4W026tM>https://code.earthengine.google.com/client-auth?scopes=https%3A//www.googleapis.com/auth/earthengine%20https%3A//www.googleapis.com/auth/devstorage.full_control&request_id=JNfKOEiG5G7f_TZzVI7PPssS02iEcguq0Bh5Z_m513U&tc=0ZiAE_VmYgJXJLi5QrBA_fKru4GA8ndK6UOeixPt9CY&cc=JrBwqDDXJ2jQODEYUPoWk1gGSraOEpmYgl2u4W026tM</a></p>\n",
       "        <p>The authorization workflow will generate a code, which you should paste in the box below.</p>\n",
       "        "
      ],
      "text/plain": [
       "<IPython.core.display.HTML object>"
      ]
     },
     "metadata": {},
     "output_type": "display_data"
    },
    {
     "name": "stdout",
     "output_type": "stream",
     "text": [
      "Enter verification code: 4/1AfJohXlrsbR3URnY3eacNS2pWHkHNw9X9y-S-k3rRDheIGsxogj0U3PIr7A\n",
      "\n",
      "Successfully saved authorization token.\n"
     ]
    }
   ],
   "source": [
    "import ee\n",
    "ee.Authenticate()\n",
    "ee.Initialize(project='second-impact-342800')\n",
    "import geemap\n",
    "\n",
    "import numpy as np\n",
    "import pandas as pd\n",
    "import datetime\n",
    "from timeit import default_timer as timer\n",
    "from datetime import timedelta"
   ]
  },
  {
   "cell_type": "code",
   "execution_count": 7,
   "metadata": {
    "colab": {
     "base_uri": "https://localhost:8080/"
    },
    "executionInfo": {
     "elapsed": 7,
     "status": "ok",
     "timestamp": 1660744634666,
     "user": {
      "displayName": "Blair Jones",
      "userId": "11507989587297916179"
     },
     "user_tz": 300
    },
    "id": "UFqGbailPSp0",
    "outputId": "f5114b0c-30a2-424c-dbed-ed56518d8dcd"
   },
   "outputs": [],
   "source": [
    "# this is used on a cloud server\n",
    "#%cd /content\n",
    "#!git clone https://github.com/gee-hydro/geeSEBAL.git\n",
    "#!git clone https://github.com/earthdataanalytics/irrigation.git\n",
    "#!cp -r geeSEBAL/etbrasil/ irrigation/\n",
    "#%cd irrigation/"
   ]
  },
  {
   "cell_type": "markdown",
   "metadata": {
    "id": "nXZ8LFyHlBJ5"
   },
   "source": [
    "### Import Custom Libraries"
   ]
  },
  {
   "cell_type": "code",
   "execution_count": 8,
   "metadata": {
    "id": "diUuKsIzIvFM"
   },
   "outputs": [],
   "source": [
    "from pipeline import boundaries as bnd\n",
    "from pipeline import labeledsamples as ls\n",
    "from pipeline import dataextract as dx\n",
    "from pipeline import cropmasks as msk"
   ]
  },
  {
   "cell_type": "markdown",
   "metadata": {
    "id": "nijMMmz__6CD"
   },
   "source": [
    "## 1) Show labeled locations on map\n",
    "\n",
    "Rain = Red = 0\n",
    "\n",
    "Irrigated = Blue = 1"
   ]
  },
  {
   "cell_type": "code",
   "execution_count": 9,
   "metadata": {
    "id": "Ux23EAJ7se0X"
   },
   "outputs": [],
   "source": [
    "# labeled MONTHLY data\n",
    "sample_locations = ls.getRawMonthlyLabeledData()\n",
    "irr_west = sample_locations.filter(ee.Filter.eq('POINT_TYPE', 1))\n",
    "rain_west = sample_locations.filter(ee.Filter.eq('POINT_TYPE', 0))"
   ]
  },
  {
   "cell_type": "code",
   "execution_count": 10,
   "metadata": {
    "colab": {
     "base_uri": "https://localhost:8080/",
     "height": 621,
     "referenced_widgets": [
      "368746d8c1644ea7a3435a04ba915b03",
      "892486b123184d64a3019cfa26e0f717",
      "585114e85e8b4fcaa5cccc63629ef3f8",
      "3ccaa6509f6c47c497d7d8c97bd290ec",
      "919d489fddfb46b6adddbae11befa67a",
      "8bdb79782c6b411389b5f5c640a4ba86",
      "919fb2e1319b437998b08d3775145218",
      "81a84f53ae014cc1819ad2c3b27671cc",
      "6da66233a60f4a0bac5046fb5a80d8a0",
      "9cfe2a289d234f6e88117c0e3929bfd4",
      "41f79a0c2f8a46368dcdfa1a17d30f66",
      "1dee4e04d80c472fafc7da68da7309b0",
      "ed1156a3452c4ad482ab436832a0cde6",
      "a18e0853ae3046bab2be328a72fa3bdf",
      "311d85eed7144607814d13a8bfe6c638",
      "e182863979034e87be066bbb2a9ecd05",
      "309a887e5b7c4b838e3fcab51903da9a",
      "740cad43d74b47ebb2b70d2dbb24259c",
      "8b95b04efd464261be758f4bcff4f317",
      "45e712f958064fc78254e7f998a7f814",
      "0a9011c0df2f4ae585ce1d1174cc161f",
      "85d662ebf7704b4aaf2df4f782bd8abc",
      "20f23c4cdcc6493c93262efb041aa585",
      "d158265cc61c4ffe9c5cdd0f756bb741",
      "45ff84a981ea4f8192114c32a10df12f",
      "5c9644c9804241abb919fcdf389ef889",
      "711963ad2e4145bba8ea55a710e73195",
      "93e1e09270fd4da09a03941a264216df",
      "42f9a06e64e34d28be80044f80d50525",
      "4c0dd157cde749059f4f60cdefbee207"
     ]
    },
    "executionInfo": {
     "elapsed": 3861,
     "status": "ok",
     "timestamp": 1660744639336,
     "user": {
      "displayName": "Blair Jones",
      "userId": "11507989587297916179"
     },
     "user_tz": 300
    },
    "id": "p3WGynWLsxPz",
    "outputId": "283110d3-4929-4c7b-9510-ae2a7233bb2e"
   },
   "outputs": [
    {
     "name": "stderr",
     "output_type": "stream",
     "text": [
      " EECU·s PeakMem Count  Description\n",
      "  1.131    517k  1464  Loading assets: projects/eda-bjonesneu-proto/assets/irrigation/labels/(...)\n",
      "  0.503     68k  2295  (plumbing)\n",
      "  0.035     48k     1  Listing collection\n",
      "  0.018    528k     4  Algorithm Collection.geometry\n",
      "  0.001     16k    12  Algorithm Collection.style\n",
      "  0.000    4.0k     4  Algorithm Image.visualize\n",
      "  0.000    4.0k     6  Algorithm Image.updateMask\n",
      "  0.000    3.2k     6  Algorithm Image.constant\n",
      "  0.000    4.5k     6  Algorithm Image.blend\n",
      "  0.000    4.5k     3  Algorithm Geometry.bounds\n",
      "  0.000    3.3k     3  Algorithm Geometry.transform\n",
      "   -       751k   549  Algorithm Collection.loadTable\n",
      "   -       240k   732  Loading assets: projects/eda-bjonesneu-proto/assets/irrigation/labels\n",
      "   -        14k     9  Algorithm Collection.filter\n",
      "   -       5.7k     9  Algorithm Collection.map\n",
      "   -       3.6k  2430  Algorithm Collection.merge\n",
      "   -       3.3k     9  Algorithm Filter.eq\n",
      "   -       3.3k     3  Algorithm Element.set\n",
      "   -       3.2k     3  Algorithm ErrorMargin\n",
      "   -       2.8k     3  Algorithm Geometry.coordinates\n",
      "   -       1.8k     3  Algorithm Element.geometry\n",
      "   -        472     3  Expression evaluation\n",
      "   -        216   183  no description available\n"
     ]
    }
   ],
   "source": [
    "with ee.profilePrinting():\n",
    "    ee.data.setDefaultWorkloadTag('hydracarta_backend')\n",
    "    ee.data.setWorkloadTag('hydracarta_view_training_labels')\n",
    "\n",
    "    Map = geemap.Map()\n",
    "    Map.add_basemap('HYBRID')\n",
    "    Map.addLayer(irr_west, { 'color': 'blue'}, 'irrigated', opacity=0.5)\n",
    "    Map.addLayer(rain_west, { 'color': 'red'}, 'rainfed', opacity=0.5)\n",
    "    Map.center_object(irr_west)"
   ]
  },
  {
   "cell_type": "markdown",
   "metadata": {
    "id": "Te5ZJTJR06VD"
   },
   "source": [
    "## 2) Draw a bounding box on the map around the area in which to extract data"
   ]
  },
  {
   "cell_type": "code",
   "execution_count": 11,
   "metadata": {},
   "outputs": [
    {
     "data": {
      "application/vnd.jupyter.widget-view+json": {
       "model_id": "11b7de71bd1f47e68b3845c93e6d1e0f",
       "version_major": 2,
       "version_minor": 0
      },
      "text/plain": [
       "Map(center=[37.57832872246989, -120.54743003193794], controls=(WidgetControl(options=['position', 'transparent…"
      ]
     },
     "metadata": {},
     "output_type": "display_data"
    }
   ],
   "source": [
    "Map"
   ]
  },
  {
   "cell_type": "markdown",
   "metadata": {
    "id": "jtcFdkazKbXE"
   },
   "source": [
    "## 3) Generate sample locations within the bounding box\n",
    "\n",
    "Specify the:\n",
    "\n",
    "* name of the AOI\n",
    "* number of sample locations to generate\n",
    "\n",
    "\n",
    "This displays the generated samples as Yellow points on the map."
   ]
  },
  {
   "cell_type": "code",
   "execution_count": 12,
   "metadata": {
    "colab": {
     "base_uri": "https://localhost:8080/",
     "height": 35
    },
    "executionInfo": {
     "elapsed": 38655,
     "status": "ok",
     "timestamp": 1660744689740,
     "user": {
      "displayName": "Blair Jones",
      "userId": "11507989587297916179"
     },
     "user_tz": 300
    },
    "id": "laLaghPfYGS1",
    "outputId": "4a58c852-5269-44ea-a226-a3b29ce238c5",
    "scrolled": true
   },
   "outputs": [
    {
     "name": "stdout",
     "output_type": "stream",
     "text": [
      "Number of sample points generated by type: rain=100, irr=100\n"
     ]
    },
    {
     "name": "stderr",
     "output_type": "stream",
     "text": [
      " EECU·s PeakMem Count  Description\n",
      "411.030    197M  7360  Loading GeoTIFF metadata\n",
      " 58.486    7.0M 83932  (plumbing)\n",
      " 46.498    585k 27206  Loading assets: projects/eda-bjonesneu-proto/assets/irrigation/labels/(...)\n",
      "  9.690     59M  5034  no description available\n",
      "  5.006     18k   348  Algorithm ImageCollection.mosaic\n",
      "  1.804    1.0M 22084  Algorithm Image.loadGeoTIFF\n",
      "  1.248     22M    40  Loading GeoTIFF\n",
      "  0.206     87k   131  Listing collection\n",
      "  0.147     84k  2208  Algorithm Image.reduceRegions\n",
      "  0.012    1.7k   144  Algorithm Image.clip computing pixels\n",
      "  0.008     320    72  Algorithm Image.constant computing pixels\n",
      "  0.008     360    80  Reprojecting pixels from GEOGCS[\"WGS 84\",DATUM[\"World Geodetic System 1984\",SPHEROID[\"WGS 84\", 637813...] to EPSG:4326\n",
      "  0.007    1.5k   120  Algorithm Image.loadGeoTIFF computing pixels\n",
      "  0.006    187k     2  Algorithm Collection.reduceColumns with reducer Reducer.count\n",
      "  0.005    3.2k   128  Algorithm ReduceRegions.AggregationContainer\n",
      "  0.005    4.5k   132  Algorithm Image.clip\n",
      "  0.004    3.0M    72  Computing image mask from geometry\n",
      "  0.004    3.2k   132  Algorithm Image.constant\n",
      "  0.003    4.8k   132  Algorithm Image.eq\n",
      "  0.002     432    72  Algorithm Image.eq computing pixels\n",
      "  0.002     53M    20  Algorithm Collection.geometry\n",
      "  0.001    9.7k     3  Algorithm Collection.draw\n",
      "  0.000    3.8k     2  Algorithm Image.visualize\n",
      "  0.000    3.4k    12  Algorithm Image.select\n",
      "  0.000    4.4k     3  Algorithm Geometry.bounds\n",
      "  0.000    3.3k     3  Algorithm Geometry.transform\n",
      "   -       113M 18332  Loading from Google Cloud Storage gs://eda_gfs/\n",
      "   -        53M     4  Algorithm Collection.reduceColumns\n",
      "   -       2.0M   108  Algorithm ImageCollection.mosaic computing pixels\n",
      "   -       806k  8052  Algorithm Collection.loadTable\n",
      "   -       305k   240  Algorithm ImageCollection.fromImages\n",
      "   -       240k 10743  Loading assets: projects/eda-bjonesneu-proto/assets/irrigation/labels\n",
      "   -       127k   196  Algorithm List.(construct from elements)\n",
      "   -        79k   376  Algorithm List.map\n",
      "   -       8.9k   414  Algorithm Collection.filter\n",
      "   -       7.4k    40  Algorithm ReduceRegions.ReduceRegionsEnumerator\n",
      "   -       7.2k    40  Algorithm Projection\n",
      "   -       5.7k   132  Algorithm Collection.map\n",
      "   -       4.8k 94878  Algorithm Collection.merge\n",
      "   -       4.3k     4  Loading assets: projects/eda-bjonesneu-proto/assets/irrigation\n",
      "   -       4.3k   228  Algorithm TypedImageCollection.Constructor\n",
      "   -       3.6k   228  Algorithm PixelType\n",
      "   -       3.5k    12  Algorithm Collection.randomColumn\n",
      "   -       3.5k   240  Algorithm Filter.intersects\n",
      "   -       3.4k    44  Algorithm Element.set\n",
      "   -       3.4k     4  Algorithm AggregateFeatureCollection.count\n",
      "   -       3.4k    36  Algorithm Collection.limit\n",
      "   -       3.4k   144  Algorithm Feature\n",
      "   -       3.4k   231  Algorithm ErrorMargin\n",
      "   -       3.3k     6  Algorithm Collection.size\n",
      "   -       3.3k    36  Algorithm Filter.eq\n",
      "   -       3.3k   132  Algorithm Collection\n",
      "   -       3.2k     4  Algorithm GeometryConstructors.Polygon\n",
      "   -       3.1k    44  Algorithm Geometry.coordinates\n",
      "   -       1.8k    44  Algorithm Element.geometry\n",
      "   -        728    44  Algorithm Reducer.first\n",
      "   -        520    48  Expression evaluation\n"
     ]
    }
   ],
   "source": [
    "# specify manually\n",
    "aoi_name = '20230925_restart' # used in the saved filename\n",
    "num_samples = 100#2000 # number of samples for each class\n",
    "\n",
    "if Map and (len(Map.draw_features) > 0):\n",
    "    with ee.profilePrinting():\n",
    "        AOI = ee.FeatureCollection(Map.draw_features)\n",
    "        sample_locs = ls.generateMonthlySampleLocations(AOI, aoi_name, \n",
    "                                                  num_samples=num_samples,\n",
    "                                                  #start_yr=2015, end_yr=2021,\n",
    "                                                  excludeNonCrop=True\n",
    "                                                )\n",
    "        rain_count = sample_locs.filter(ee.Filter.eq('POINT_TYPE', 0)).size().getInfo()\n",
    "        irr_count = sample_locs.filter(ee.Filter.eq('POINT_TYPE', 1)).size().getInfo()\n",
    "        print(f'Number of sample points generated by type: rain={rain_count}, irr={irr_count}')\n",
    "        Map.addLayer(sample_locs.draw(color=\"yellow\", pointRadius=5, strokeWidth=3), {}, 'sample_locations', opacity=0.5)\n",
    "        Map.centerObject(sample_locs)\n",
    "\n",
    "else:\n",
    "    print(\"No AOI selected on Map\")"
   ]
  },
  {
   "cell_type": "markdown",
   "metadata": {
    "id": "X8yqw4i-V2py"
   },
   "source": [
    "## 4) Launch batch data extraction"
   ]
  },
  {
   "cell_type": "code",
   "execution_count": 13,
   "metadata": {
    "colab": {
     "base_uri": "https://localhost:8080/"
    },
    "executionInfo": {
     "elapsed": 2834204,
     "status": "ok",
     "timestamp": 1660775972134,
     "user": {
      "displayName": "Blair Jones",
      "userId": "11507989587297916179"
     },
     "user_tz": 300
    },
    "id": "bTf-t-wa7YhN",
    "outputId": "2d3444aa-78e7-4849-d208-e10fe04cf398"
   },
   "outputs": [
    {
     "name": "stdout",
     "output_type": "stream",
     "text": [
      "Number of samples to extract = 193\n"
     ]
    },
    {
     "name": "stderr",
     "output_type": "stream",
     "text": [
      "                                                 \r"
     ]
    },
    {
     "name": "stdout",
     "output_type": "stream",
     "text": [
      "Number of tasks launched = 193\n"
     ]
    },
    {
     "name": "stderr",
     "output_type": "stream",
     "text": [
      " EECU·s PeakMem Count  Description\n",
      "125.032    208M  1840  Loading GeoTIFF metadata\n",
      " 59.656    7.0M 260610  (plumbing)\n",
      " 39.604    584k 152011  Loading assets: (...)/(...)\n",
      "  2.913     59M 13791  no description available\n",
      "  1.511     17k   280  Algorithm ImageCollection.mosaic\n",
      "  0.399     22M    10  Loading GeoTIFF\n",
      "  0.363    1.0M  5714  Algorithm Image.loadGeoTIFF\n",
      "  0.154    7.5M   122  Algorithm (user-defined function)\n",
      "  0.088    333k    36  Listing collection\n",
      "  0.042     81k   745  Algorithm Image.reduceRegions\n",
      "  0.018    558k   773  Algorithm Geometry.buffer\n",
      "  0.015    3.2k  2386  Algorithm Element.geometry\n",
      "  0.003    1.7k    36  Algorithm Image.clip computing pixels\n",
      "  0.003     336    18  Algorithm Image.constant computing pixels\n",
      "  0.002    1.4k    30  Algorithm Image.loadGeoTIFF computing pixels\n",
      "  0.002    5.5k   419  Algorithm Image.clip\n",
      "  0.002    3.2k    32  Algorithm ReduceRegions.AggregationContainer\n",
      "  0.001    4.3k  3314  Algorithm Image.constant\n",
      "  0.001    4.8k   612  Algorithm Image.eq\n",
      "  0.001     272    20  Reprojecting pixels from GEOGCS[\"WGS 84\",DATUM[\"World Geodetic System 1984\",SPHEROID[\"WGS 84\", 637813...] to EPSG:4326\n",
      "  0.001    3.0M    18  Computing image mask from geometry\n",
      "  0.001     30k   394  Algorithm Collection.geometry\n",
      "  0.001     408    18  Algorithm Image.eq computing pixels\n",
      "  0.000    4.9k  6758  Algorithm Image.select\n",
      "   -       113M  4583  Loading from Google Cloud Storage gs://eda_gfs/\n",
      "   -        53M   196  Algorithm Collection.toList\n",
      "   -       2.0M    27  Algorithm ImageCollection.mosaic computing pixels\n",
      "   -       810k 37332  Algorithm Collection.loadTable\n",
      "   -       616k  2772  Algorithm Element.set\n",
      "   -       327k   422  Algorithm Collection\n",
      "   -       304k   446  Algorithm ImageCollection.fromImages\n",
      "   -       205k     1  Algorithm List.size\n",
      "   -       126k   435  Algorithm List.(construct from elements)\n",
      "   -        80k   868  Algorithm List.map\n",
      "   -        36k  2895  Algorithm ImageCollection.load\n",
      "   -        21k   386  Algorithm Dictionary.(construct from elements)\n",
      "   -        11k   772  Algorithm Image.load\n",
      "   -       8.9k  4348  Algorithm Collection.filter\n",
      "   -       7.4k 10808  Algorithm Image.addBands\n",
      "   -       7.4k    10  Algorithm ReduceRegions.ReduceRegionsEnumerator\n",
      "   -       7.1k   589  Algorithm Projection\n",
      "   -       7.0k  8685  Algorithm Image.rename\n",
      "   -       6.9k   386  Algorithm Image.where\n",
      "   -       6.8k   386  Algorithm Date.fromYMD\n",
      "   -       6.2k  1737  Algorithm Image.reduceRegion\n",
      "   -       6.2k  4472  Algorithm Collection.map\n",
      "   -       6.1k 36438  Algorithm Collection.merge\n",
      "   -       5.8k   386  Algorithm Image.reproject\n",
      "   -       5.7k  1158  Algorithm Image.updateMask\n",
      "   -       5.7k   579  Algorithm Image.divide\n",
      "   -       5.6k  1544  Algorithm Image.multiply\n",
      "   -       5.6k   772  Algorithm Image.add\n",
      "   -       5.5k  1158  Algorithm DateRange\n",
      "   -       5.3k  1737  Algorithm Dictionary.get\n",
      "   -       5.2k   386  Algorithm Dictionary.select\n",
      "   -       5.1k   193  Algorithm Date.difference\n",
      "   -       5.0k   193  Algorithm Number.divide\n",
      "   -       4.8k  1544  Algorithm Date.advance\n",
      "   -       4.8k   386  Algorithm Image.subtract\n",
      "   -       4.8k   386  Algorithm Dictionary.values\n",
      "   -       4.7k  1544  Algorithm Date.format\n",
      "   -       4.7k  1158  Algorithm Number.parse\n",
      "   -       4.7k   193  Algorithm Image.lte\n",
      "   -       4.7k   772  Algorithm Date\n",
      "   -       4.6k  1360  Algorithm Collection.limit\n",
      "   -       4.5k  1001  Algorithm Feature\n",
      "   -       4.4k   446  Algorithm Filter.intersects\n",
      "   -       4.4k   193  Algorithm List.sequence\n",
      "   -       4.3k  1737  Algorithm Element.get\n",
      "   -       4.3k    57  Algorithm TypedImageCollection.Constructor\n",
      "   -       4.3k   386  Algorithm String.cat\n",
      "   -       4.3k  1158  Algorithm Filter.dateRangeContains\n",
      "   -       4.1k   386  Algorithm Projection.nominalScale\n",
      "   -       4.1k   965  Algorithm Image.resample\n",
      "   -       4.0k   772  Algorithm Number.subtract\n",
      "   -       3.9k   193  Algorithm Image.bitwiseAnd\n",
      "   -       3.9k   772  Algorithm Collection.first\n",
      "   -       3.9k  1061  Algorithm Geometry.coordinates\n",
      "   -       3.8k   193  Algorithm Geometry.bounds\n",
      "   -       3.7k   196  Algorithm Collection.randomColumn\n",
      "   -       3.6k   579  Algorithm String.slice\n",
      "   -       3.5k   772  Algorithm List.get\n",
      "   -       3.5k    57  Algorithm PixelType\n",
      "   -       3.4k   193  Algorithm Number.multiply\n",
      "   -       3.3k   193  Algorithm AggregateFeatureCollection.array\n",
      "   -       3.3k    57  Algorithm ErrorMargin\n",
      "   -       3.3k   588  Algorithm Filter.eq\n",
      "   -       3.2k   386  Algorithm ImageCollection.merge\n",
      "   -       3.2k   386  Algorithm reduce.sum\n",
      "   -       3.1k   386  Algorithm Image.gt\n",
      "   -       3.1k   194  Algorithm GeometryConstructors.Polygon\n",
      "   -       3.1k   193  Algorithm AggregateFeatureCollection.count\n",
      "   -       3.0k   193  Algorithm Geometry.centroid\n",
      "   -       3.0k   386  Algorithm Date.millis\n",
      "   -       2.8k   772  Loading assets: USGS\n",
      "   -       2.7k   193  Algorithm Terrain.slope\n",
      "   -       2.2k   579  Algorithm Image.projection\n",
      "   -       2.2k  9084  Expression evaluation\n",
      "   -       2.0k   386  Algorithm Image.normalizedDifference\n",
      "   -       2.0k   387  Algorithm GeometryConstructors.Point\n",
      "   -       1.9k  5790  Algorithm Image.parseExpression\n",
      "   -       1.9k   193  Algorithm Filter.lt\n",
      "   -       1.9k   193  Algorithm Filter.gt\n",
      "   -       1.7k   193  Algorithm Number.add\n",
      "   -       1.6k   193  Algorithm Element.toDictionary\n",
      "   -       1.4k   193  Algorithm Image.date\n",
      "   -        736   193  Algorithm Image.pixelLonLat\n",
      "   -        680   204  Algorithm Reducer.first\n"
     ]
    }
   ],
   "source": [
    "if sample_locs:\n",
    "    with ee.profilePrinting():\n",
    "        ee.data.resetWorkloadTag()\n",
    "        ee.data.setWorkloadTag('hydracarta_export_training_labels')\n",
    "        export_tasks = dx.extractMonthlyData(sample_locs, aoi_name)#, restart_index=1825)"
   ]
  },
  {
   "cell_type": "code",
   "execution_count": 18,
   "metadata": {
    "colab": {
     "base_uri": "https://localhost:8080/"
    },
    "executionInfo": {
     "elapsed": 6372,
     "status": "ok",
     "timestamp": 1660826379753,
     "user": {
      "displayName": "Blair Jones",
      "userId": "11507989587297916179"
     },
     "user_tz": 300
    },
    "id": "g_nD5fBDGxej",
    "outputId": "1a101041-d4b5-4b31-8fa1-74bae735d70e"
   },
   "outputs": [
    {
     "name": "stdout",
     "output_type": "stream",
     "text": [
      "      18\r\n"
     ]
    }
   ],
   "source": [
    "!earthengine task list --status RUNNING READY | wc -l"
   ]
  },
  {
   "cell_type": "code",
   "execution_count": null,
   "metadata": {
    "colab": {
     "base_uri": "https://localhost:8080/"
    },
    "executionInfo": {
     "elapsed": 6267,
     "status": "ok",
     "timestamp": 1660772963282,
     "user": {
      "displayName": "Blair Jones",
      "userId": "11507989587297916179"
     },
     "user_tz": 300
    },
    "id": "d-8jr4XQY-vK",
    "outputId": "4e9311c3-13b2-41fb-ab69-b2d5378649a6"
   },
   "outputs": [],
   "source": [
    "#!earthengine task cancel all"
   ]
  },
  {
   "cell_type": "code",
   "execution_count": 33,
   "metadata": {
    "id": "WAVb1wdw9UCI"
   },
   "outputs": [],
   "source": [
    "!earthengine task list -l >> task_list_training.txt"
   ]
  },
  {
   "cell_type": "code",
   "execution_count": 23,
   "metadata": {},
   "outputs": [
    {
     "data": {
      "text/plain": [
       "['P4AVET7754HEOG5NOIJYF74F',\n",
       " 'Z6HLLKNKXFPM3FUIAJYP6AL5',\n",
       " 'IVHU2XJFEF3ELNONDOFQHEIF',\n",
       " 'XLT42M6VCUN7VHYC4UH2IIFV',\n",
       " 'HGVQXPFRBSMK74MZKPPOS4GU',\n",
       " '3GK545HIN5VRWKQPTNORUURU',\n",
       " '7GC4QBLJCQ4YOW2OU66O5XBS',\n",
       " 'BWWA7FNRZILGPD2HKREJFEMG',\n",
       " 'TLR7SGSR54XWIJP7ZQ2RGSSM',\n",
       " '3OKL2MRN46XGQO5TB5OIW3TF',\n",
       " 'OVVTVY2PWVAPRUYJ2ZZWIXN3',\n",
       " 'USKFJALRLRXKDOTAGZRSQK3H',\n",
       " 'UVU6HBMLB63CLJNVXIEFDBSG',\n",
       " 'TBDLTGYO2PEF7V6GK6EXJCA2',\n",
       " 'YOVZ3O6RPT6GNPQZPR2HY2BM',\n",
       " 'F4YFEH3JVNI6FRNZIPIFU26H',\n",
       " 'U6HSUTBJZNDWMLM3KBB6TERZ',\n",
       " '3RQPCF6T2PAM3E7EPFZ5H7PM',\n",
       " 'YB55FFXFOHTMKWBDA2XMHA3H',\n",
       " '5VVDAPBTDKS7FLASO4NOIWRQ',\n",
       " 'GY2KJWZ2CKBE57TFB355UPMB',\n",
       " 'Q6HZVXZN743Y3LFE3QPPAPG6',\n",
       " 'UK5TL4CRKBZIRLJYI23IIW2C',\n",
       " 'TBDTGNFESEX2CYJRPROWDG6V',\n",
       " 'DQLVUBAEYRCP3E6XTML6G4V4',\n",
       " '5HM6DXGEAF4CS22NNDZUW64N',\n",
       " '7G2INBRBBRS4OVAXYBE3FYI7',\n",
       " 'ZCIESPYD3WFK3FC4KKR5PEZW',\n",
       " 'IHG55YJARUIPO7RLTS76B57L',\n",
       " 'TIPEDNIBPZ3EFHUOEUVQKHCB',\n",
       " '6HWJHEWBQWWHETDUQQ6SJNUO',\n",
       " '4Y3HMCSQCJ4FQPT2OOITK6LF',\n",
       " 'DCXQ2EO7PZF7V5JI5O4BRAJE',\n",
       " 'NMJ4NCJUYUVRQLUC7JACSGIO',\n",
       " 'NWH3S2T5SQ2F5KV7AJUCOV7U',\n",
       " '6LCEZFHN3EIOMTPITQL5UXFU',\n",
       " 'PJS6HLXJM7Q3RGZFTZT5QZAF',\n",
       " '7FZSPG7I3HU4US4DOBETONIN',\n",
       " 'B6MAQI47UOYTOU7BVEYGM33Z',\n",
       " 'M5V65SQJWCOS2YMU3S4PBX5D',\n",
       " 'EMT5FSQXETMI65TAESKRFQ52',\n",
       " 'NUC2BBIWWZSDJQ6XJKSCDUDB',\n",
       " 'PKFGDKHV2X7Q3U646MOHOBQU',\n",
       " 'GO7TMNV2V7GKSQZ6CDLKIEEI',\n",
       " 'RCI6U43XMGIRSPILZUESFY4T',\n",
       " 'U5SN2CUT77U4FJZO7X2XREAC',\n",
       " 'CPRKYISXQLSWKPEOMPQXU3DR',\n",
       " 'PQYDDF2KTXJYKD7T4T4DI4CU',\n",
       " 'ZANUQSRUK75WHYLAJDFUTAMT',\n",
       " 'Q3EUPBEPFT77AUC3FMQNLDHI',\n",
       " 'VNLUSXKO76NF45GZNFXCTEBY',\n",
       " 'JW27X2BNJMANB65ETHLA2OF7',\n",
       " '5ZRBCIMSROVKSLBFMH3WQY5E',\n",
       " 'V6MI5ISUNUDFNMLWCBSHIDKI',\n",
       " 'FSUM2IOZHNOGHVOAR3E52SWH',\n",
       " 'D2BFV3YMHNP4RDYZVVRBWGWU',\n",
       " '2WCR54Y232N7G2Q66KT7DNIB',\n",
       " 'CJZEBDEJ4BUZW3CLLKDGG2CU',\n",
       " 'UGT4YIVP43XOB4LD2FSTORIB',\n",
       " 'MCPS5NIX3Z3FDP7M42UW3QSD',\n",
       " 'JQ2TWBXBGD5XNB4HOUILJZIV',\n",
       " 'ZU2KMHTB7BPUTSWDLR67CEL7',\n",
       " 'BLFUP2OOKXE3SBSTQZHSYWF3',\n",
       " '4YKRHTKHE6CTNVCY3XAO7APT',\n",
       " '7WJNBIDZ4HPIEBJ2BDZLBNKV',\n",
       " 'AFYEK6Y5K3G4A7PWLPICGHKL',\n",
       " 'LQBBQVTTJWHILBNV474T2RCD',\n",
       " 'EFNYEW4XEWLZJY7575ELKVUN',\n",
       " 'ZFZQDAVU3LIXFSXSVAANBBKO',\n",
       " 'WN6AEPANP3NKKCZHD2U4I5S6',\n",
       " 'XCYRLC4FMSAAD7YNUSILJDR6',\n",
       " '622AOWKJBLBCTFNXH562OASY',\n",
       " 'IUBVKRHB6GDALYIC2SE5SU6S',\n",
       " '2N7V5EMDNE7EQ4DS263BUA4Q',\n",
       " 'T34GLLZRFUKQWRNHUUJN45AZ',\n",
       " 'BEGJJ2JRHNZH3A4XUAFCFICL',\n",
       " '4XQMBVXUDZRIPPLDBJQHRWWP',\n",
       " 'VY2NSWUUNISXAIPNP5PCR2Q5',\n",
       " 'VPMFVWMP74QKAXG3PIG4V747',\n",
       " '2MCEM4UX5YHG5OIHT6O5WTEO',\n",
       " '6O4HPCUKVHEJV3IESDQZK7NC',\n",
       " 'BLJXWKXOOMY6SYPSFVTFFUWM',\n",
       " 'P6ZEI4I6UG5A2KCCROKCBFAB',\n",
       " 'PQJ3BIPKAECZNCD6EXEOIDJV',\n",
       " 'AJYBMD5VGCTPZXYP7K2M4E5U',\n",
       " '4T33ZTBOMXMMSYE3BYNA6LL3',\n",
       " 'JHLSXLMBJ4JFTMYVHGHRRYUT',\n",
       " 'KCMSJLEX57OSKIMG44ZA54DY',\n",
       " '2CXIFGFBZSQYUGA2INF4XYXI',\n",
       " 'COIFN6EYWMTFX6NUJXT6WSWE',\n",
       " '27FNHPOEANGNMSD43K2EPLLM',\n",
       " 'WIZP32P2BVFT5AMO4WNSHMNK',\n",
       " '3T3RD6USKX4QFXQRDWDQWUMG',\n",
       " 'ZUXFPHGNB6AHDUFRU2OTFM2B',\n",
       " 'TMTVEHZT3UGM66FKCTFMZXKD',\n",
       " 'WMM3XJPVIWGR56OMPO2FL4DZ',\n",
       " 'XLW4V4W4XEYPNDLAQ6S3PVUW',\n",
       " 'QLGLWZKMLSKLOW5MA7IYSEEH',\n",
       " '4G4V5NLLEBORSCZMJ3G5H4IZ',\n",
       " 'YDEKEC65EBLLLEOJZA6KKJX4',\n",
       " 'O6BWJ2PXABFM7TFE5T7F7VAO',\n",
       " 'ZDN5GYRIWG7KXMPBLHFQYW2Z',\n",
       " 'TFQ2VUWH3OYSNK546CHM6Y2E',\n",
       " 'HI7QGF2UIPWKDK2SMASIMYBN',\n",
       " 'CQTH2P2JYYUREDTHUJNQLTV2',\n",
       " '5ZYIIP636KUM5IAXKSPLFNZO',\n",
       " '42HLUQVZCZIGKM26QOBFPWZW',\n",
       " '5J4XCEPTWNMXQUXJURVMKIF5',\n",
       " 'BGIW5QAF7F5NKL5BOCZCELGY',\n",
       " 'ISZMG2573IJ5AS6MLWZTXWXA',\n",
       " 'YIZH5UYW2TUVIKA4ZKAIYBFO',\n",
       " 'C3GU2NJNSGUG23VMDCJ5J5TG',\n",
       " '2J5TOZEYVERHYDMJ4GWJLBF6',\n",
       " '3E7QJFU3WJKMMKKTV4I4IJ3N',\n",
       " 'UCDML2AOXT6M6XYXDJP72D67',\n",
       " 'M2MFB5PSE7QGRBFRUC7ZBPAG',\n",
       " '7KFRVGCNB5OBXND3O7BQAXEB',\n",
       " 'MUUXHPFRHVNVLFJZDBUDZOXT',\n",
       " 'CKV4KZTPONK3BFC5UZ4TN7YD',\n",
       " 'E3JYCCPBPZEOXAMKGGVVPOKB',\n",
       " 'LYZABNBSAEV77Y4EIEEKJPQW',\n",
       " '3IXPHJKQWPSGKX4SCEGKJ3KX',\n",
       " 'IVEQUPWDWTBK4PSQ4ULNMOPH',\n",
       " 'APRK5DJ5RUEKYY6OT5OW74NP',\n",
       " 'IHH4PFCACCDUFZSW4HCFZU2I',\n",
       " 'GERSNXWBR4MTU3KP6MPUFENF',\n",
       " 'JCHATJE5OKAEKKBC4NO3S2V4',\n",
       " 'F5WCNLSIL27U5LPSSIJOFZFZ',\n",
       " 'UHVEK7KCLWODDI7GIR67BJHE',\n",
       " 'ZXCR26IUHZ3ALGASEA62ES3P',\n",
       " 'CUCRR5IRDUPNGHYXG7AI3HVB',\n",
       " 'LO4WW5VCSDBEZWSDEHIEJDHU',\n",
       " '4UDVWDHIYYJTS3DXPJTORBZS',\n",
       " 'GUBTEDZDAPTHTAPEA22XT34G',\n",
       " 'XBAYFAMQJTY2TNCWXLBOF63X',\n",
       " 'DGPGGMI4RCUCDMQTPE4B2GBE',\n",
       " 'E32XF2LOXKIZMQ4OEZM7RKWF',\n",
       " 'PYRBLCEL3T6XSKGVD3YMTML5',\n",
       " 'XTZOUQL6WTR6WKG6DDLHM3CP',\n",
       " 'E5LPKXSHL5ZYYXOG2IK4ITBH',\n",
       " 'L46JFLYGS5MZI3HVEXCDWJYQ',\n",
       " 'ZQRTOMPWEA77T4YFQMGKC5MD',\n",
       " 'UYUPHF2PNKVJ24HDHJKDPOXT',\n",
       " 'KLI6HNFNN3HMOSMQK2CMRAKQ',\n",
       " '5MSTHDMQRFXFFHU4VRVWVLC5',\n",
       " '2VUE4H4QWJS6THE2LUF726VQ',\n",
       " 'L25LTQPISD5YKM3JPGSM5WO7',\n",
       " 'OELDAWQBU5OWDQT7OI6SBRYM',\n",
       " 'CZODX354MUMSKQ6WM36I75BF',\n",
       " 'EZJ4MPKOC64NP4U5GBJJYR3Y',\n",
       " 'LCRQQMHYVBJ2PGASSG2PFVNQ',\n",
       " '2QY6LNECKW64ZWSQIUSXGBCV',\n",
       " '2E7MAA6MZYBZAXN426FGM2N3',\n",
       " '456X6LB4XFYQFXF4SP2BITEI',\n",
       " 'FJQVFRWFMIQK7OBI6XSZELID',\n",
       " '5SFDZ4H7THLQK374S75MFBNC',\n",
       " 'C4QUEINNHLOSFWKGRCBTIC7Q',\n",
       " 'DBCCMRWMSZ25INQODZ2Y6S4M',\n",
       " 'OD3M4HTS2O3HL6S4FCAXCA45',\n",
       " 'N774XTBPSW4VQVZEGCFJVPZK',\n",
       " 'ZL4AH4WB4EW2WD2O6UIR7DRO',\n",
       " 'TCNWWZSAWR2F3K2L4ZE46EP7',\n",
       " 'WLVTTV56XR4JR5J7FN7DWEJA',\n",
       " 'EIMC5L4OWAQDN2W7X2V3O37F',\n",
       " '6GNGTIJ7FTZC4RVDRPOXBAIN',\n",
       " 'QF333TFJHJHFAZ5BWL5YLIE3',\n",
       " 'RGBGDPR7HKSM72MOBWPRQNFK',\n",
       " 'W2NAXU72V2IEV3HKHC4FKIHE',\n",
       " 'S6JOPJXKUQXMCC4MA56NXE72',\n",
       " '4XRGZTH5WZTJ6IY2J5VZS4EE',\n",
       " 'GIK5O7W4QZ62SHW2QE3ZOURO',\n",
       " 'KC67SNJJV4WKWISLBKI3R3R2',\n",
       " '5BJCHJAISRVU3AEWXARVQYE5',\n",
       " '57WUXPHDY5JXSF77ZF7B2JLZ',\n",
       " 'DL7UQNWFSJSUXF6TMSPNY56T',\n",
       " 'GD6XS6OCXGDBOPKP3GQ2ZU2C',\n",
       " 'PQZ4KGOT6UCLRUDXR5ZLBQRP',\n",
       " 'HE54P7YCNSS3ONSIK7WJGMVS',\n",
       " 'T4XCVVEZDMK6OAQX4BJQNUM4',\n",
       " 'YNPYPBH37PBKNU3IUD4JVFLR',\n",
       " 'C3QKNUVTH2SO2CZS2ZNSORN6',\n",
       " '4IRM5N6PNB5S4BWEOTD6YZ6Q',\n",
       " 'DTYWYWQE4M3EATBZKL67VQMW',\n",
       " '466DB7L2AVUZJGUX2MXHMQQR',\n",
       " '6D3OE7V3HRES5OL3JZMR625I',\n",
       " 'QIFUTLH7VKPQQPSEUMBT7GD6',\n",
       " 'HPRG34ICWBWA5P6POJIM2W63',\n",
       " 'IFZ4HCLHQKNPD3I3FWVD3H46',\n",
       " '7OQVUPUTXLCLYG3X3MRT7WG2',\n",
       " 'TJWKSS63CLNTJHQWGX44X37A',\n",
       " 'SA2AHNN73FWPH47GL6PZP2FF',\n",
       " 'R7RGKSX6HYZHOLMX6YEV44E2',\n",
       " 'EUJG6MU6YUMBHCG4AS76MVAZ']"
      ]
     },
     "execution_count": 23,
     "metadata": {},
     "output_type": "execute_result"
    }
   ],
   "source": [
    "with open('task_list_training.txt') as f:\n",
    "    task_ids = [x.split(' ')[0] for x in f.readlines()]\n",
    "task_ids"
   ]
  },
  {
   "cell_type": "code",
   "execution_count": 39,
   "metadata": {},
   "outputs": [
    {
     "data": {
      "application/vnd.jupyter.widget-view+json": {
       "model_id": "7e90cdf3302f49fc902bc027a53dff2f",
       "version_major": 2,
       "version_minor": 0
      },
      "text/plain": [
       "  0%|          | 0/193 [00:00<?, ?it/s]"
      ]
     },
     "metadata": {},
     "output_type": "display_data"
    }
   ],
   "source": [
    "all_stats = []\n",
    "\n",
    "for task_id in tqdm(task_ids):\n",
    "    task_stats = ee.data.getTaskStatus(task_id)\n",
    "    all_stats.extend(task_stats)\n",
    "    \n",
    "df = pd.DataFrame(all_stats)"
   ]
  },
  {
   "cell_type": "code",
   "execution_count": 65,
   "metadata": {},
   "outputs": [],
   "source": [
    "df.to_csv('gee_batch_cost_data_training.csv')"
   ]
  },
  {
   "cell_type": "code",
   "execution_count": 41,
   "metadata": {},
   "outputs": [
    {
     "data": {
      "text/html": [
       "<div>\n",
       "<style scoped>\n",
       "    .dataframe tbody tr th:only-of-type {\n",
       "        vertical-align: middle;\n",
       "    }\n",
       "\n",
       "    .dataframe tbody tr th {\n",
       "        vertical-align: top;\n",
       "    }\n",
       "\n",
       "    .dataframe thead th {\n",
       "        text-align: right;\n",
       "    }\n",
       "</style>\n",
       "<table border=\"1\" class=\"dataframe\">\n",
       "  <thead>\n",
       "    <tr style=\"text-align: right;\">\n",
       "      <th></th>\n",
       "      <th>state</th>\n",
       "      <th>description</th>\n",
       "      <th>creation_timestamp_ms</th>\n",
       "      <th>update_timestamp_ms</th>\n",
       "      <th>start_timestamp_ms</th>\n",
       "      <th>task_type</th>\n",
       "      <th>destination_uris</th>\n",
       "      <th>attempt</th>\n",
       "      <th>batch_eecu_usage_seconds</th>\n",
       "      <th>id</th>\n",
       "      <th>name</th>\n",
       "    </tr>\n",
       "  </thead>\n",
       "  <tbody>\n",
       "    <tr>\n",
       "      <th>0</th>\n",
       "      <td>COMPLETED</td>\n",
       "      <td>192</td>\n",
       "      <td>1695662922207</td>\n",
       "      <td>1695670037477</td>\n",
       "      <td>1695670027350</td>\n",
       "      <td>EXPORT_FEATURES</td>\n",
       "      <td>[https://drive.google.com/#folders/19xgV8f73Ee...</td>\n",
       "      <td>1</td>\n",
       "      <td>9.353132</td>\n",
       "      <td>P4AVET7754HEOG5NOIJYF74F</td>\n",
       "      <td>projects/second-impact-342800/operations/P4AVE...</td>\n",
       "    </tr>\n",
       "    <tr>\n",
       "      <th>1</th>\n",
       "      <td>COMPLETED</td>\n",
       "      <td>191</td>\n",
       "      <td>1695662919594</td>\n",
       "      <td>1695670008095</td>\n",
       "      <td>1695669997592</td>\n",
       "      <td>EXPORT_FEATURES</td>\n",
       "      <td>[https://drive.google.com/#folders/19xgV8f73Ee...</td>\n",
       "      <td>1</td>\n",
       "      <td>10.531713</td>\n",
       "      <td>Z6HLLKNKXFPM3FUIAJYP6AL5</td>\n",
       "      <td>projects/second-impact-342800/operations/Z6HLL...</td>\n",
       "    </tr>\n",
       "    <tr>\n",
       "      <th>2</th>\n",
       "      <td>COMPLETED</td>\n",
       "      <td>190</td>\n",
       "      <td>1695662916949</td>\n",
       "      <td>1695670081259</td>\n",
       "      <td>1695669984194</td>\n",
       "      <td>EXPORT_FEATURES</td>\n",
       "      <td>[https://drive.google.com/#folders/19xgV8f73Ee...</td>\n",
       "      <td>1</td>\n",
       "      <td>6375.973633</td>\n",
       "      <td>IVHU2XJFEF3ELNONDOFQHEIF</td>\n",
       "      <td>projects/second-impact-342800/operations/IVHU2...</td>\n",
       "    </tr>\n",
       "    <tr>\n",
       "      <th>3</th>\n",
       "      <td>COMPLETED</td>\n",
       "      <td>189</td>\n",
       "      <td>1695662914298</td>\n",
       "      <td>1695669980078</td>\n",
       "      <td>1695669972526</td>\n",
       "      <td>EXPORT_FEATURES</td>\n",
       "      <td>[https://drive.google.com/#folders/19xgV8f73Ee...</td>\n",
       "      <td>1</td>\n",
       "      <td>15.517467</td>\n",
       "      <td>XLT42M6VCUN7VHYC4UH2IIFV</td>\n",
       "      <td>projects/second-impact-342800/operations/XLT42...</td>\n",
       "    </tr>\n",
       "    <tr>\n",
       "      <th>4</th>\n",
       "      <td>COMPLETED</td>\n",
       "      <td>188</td>\n",
       "      <td>1695662911892</td>\n",
       "      <td>1695669971549</td>\n",
       "      <td>1695669957033</td>\n",
       "      <td>EXPORT_FEATURES</td>\n",
       "      <td>[https://drive.google.com/#folders/19xgV8f73Ee...</td>\n",
       "      <td>1</td>\n",
       "      <td>25.353384</td>\n",
       "      <td>HGVQXPFRBSMK74MZKPPOS4GU</td>\n",
       "      <td>projects/second-impact-342800/operations/HGVQX...</td>\n",
       "    </tr>\n",
       "  </tbody>\n",
       "</table>\n",
       "</div>"
      ],
      "text/plain": [
       "       state description  creation_timestamp_ms  update_timestamp_ms  \\\n",
       "0  COMPLETED         192          1695662922207        1695670037477   \n",
       "1  COMPLETED         191          1695662919594        1695670008095   \n",
       "2  COMPLETED         190          1695662916949        1695670081259   \n",
       "3  COMPLETED         189          1695662914298        1695669980078   \n",
       "4  COMPLETED         188          1695662911892        1695669971549   \n",
       "\n",
       "   start_timestamp_ms        task_type  \\\n",
       "0       1695670027350  EXPORT_FEATURES   \n",
       "1       1695669997592  EXPORT_FEATURES   \n",
       "2       1695669984194  EXPORT_FEATURES   \n",
       "3       1695669972526  EXPORT_FEATURES   \n",
       "4       1695669957033  EXPORT_FEATURES   \n",
       "\n",
       "                                    destination_uris  attempt  \\\n",
       "0  [https://drive.google.com/#folders/19xgV8f73Ee...        1   \n",
       "1  [https://drive.google.com/#folders/19xgV8f73Ee...        1   \n",
       "2  [https://drive.google.com/#folders/19xgV8f73Ee...        1   \n",
       "3  [https://drive.google.com/#folders/19xgV8f73Ee...        1   \n",
       "4  [https://drive.google.com/#folders/19xgV8f73Ee...        1   \n",
       "\n",
       "   batch_eecu_usage_seconds                        id  \\\n",
       "0                  9.353132  P4AVET7754HEOG5NOIJYF74F   \n",
       "1                 10.531713  Z6HLLKNKXFPM3FUIAJYP6AL5   \n",
       "2               6375.973633  IVHU2XJFEF3ELNONDOFQHEIF   \n",
       "3                 15.517467  XLT42M6VCUN7VHYC4UH2IIFV   \n",
       "4                 25.353384  HGVQXPFRBSMK74MZKPPOS4GU   \n",
       "\n",
       "                                                name  \n",
       "0  projects/second-impact-342800/operations/P4AVE...  \n",
       "1  projects/second-impact-342800/operations/Z6HLL...  \n",
       "2  projects/second-impact-342800/operations/IVHU2...  \n",
       "3  projects/second-impact-342800/operations/XLT42...  \n",
       "4  projects/second-impact-342800/operations/HGVQX...  "
      ]
     },
     "execution_count": 41,
     "metadata": {},
     "output_type": "execute_result"
    }
   ],
   "source": [
    "df.head()"
   ]
  },
  {
   "cell_type": "code",
   "execution_count": 67,
   "metadata": {},
   "outputs": [
    {
     "name": "stdout",
     "output_type": "stream",
     "text": [
      "Total EECU-secs:    1,439,163\n",
      "Total EECU-hours:      399.77\n",
      "Total cost:       $    159.91\n"
     ]
    }
   ],
   "source": [
    "total_batch_eecu_secs = df.batch_eecu_usage_seconds.sum()\n",
    "cost_per_batch_eecu_hour = 0.4 # $0.4 per eecu-hour\n",
    "total_cost = total_batch_eecu_secs / 3600 * cost_per_batch_eecu_hour\n",
    "\n",
    "print(f'Total EECU-secs:   {total_batch_eecu_secs:>10,.0f}')\n",
    "print(f'Total EECU-hours:  {total_batch_eecu_secs / 3600:>10,.2f}')\n",
    "print(f'Total cost:       ${total_cost:>10,.2f}')"
   ]
  },
  {
   "cell_type": "code",
   "execution_count": null,
   "metadata": {},
   "outputs": [],
   "source": []
  }
 ],
 "metadata": {
  "colab": {
   "collapsed_sections": [],
   "name": "ET_Data_Extract_pipeline_monthly.ipynb",
   "provenance": [
    {
     "file_id": "1j9czqdVYpKMsZ4A9OuR8AzhP8nqSTEza",
     "timestamp": 1646395591173
    },
    {
     "file_id": "1YST0rKUOHFgMG_q0h6qazFAtX-begT6b",
     "timestamp": 1645981406840
    }
   ]
  },
  "kernelspec": {
   "display_name": "Python 3",
   "language": "python",
   "name": "python3"
  },
  "language_info": {
   "codemirror_mode": {
    "name": "ipython",
    "version": 3
   },
   "file_extension": ".py",
   "mimetype": "text/x-python",
   "name": "python",
   "nbconvert_exporter": "python",
   "pygments_lexer": "ipython3",
   "version": "3.7.4"
  },
  "widgets": {
   "application/vnd.jupyter.widget-state+json": {
    "0a9011c0df2f4ae585ce1d1174cc161f": {
     "model_module": "@jupyter-widgets/base",
     "model_module_version": "1.2.0",
     "model_name": "LayoutModel",
     "state": {
      "_model_module": "@jupyter-widgets/base",
      "_model_module_version": "1.2.0",
      "_model_name": "LayoutModel",
      "_view_count": null,
      "_view_module": "@jupyter-widgets/base",
      "_view_module_version": "1.2.0",
      "_view_name": "LayoutView",
      "align_content": null,
      "align_items": null,
      "align_self": null,
      "border": null,
      "bottom": null,
      "display": null,
      "flex": null,
      "flex_flow": null,
      "grid_area": null,
      "grid_auto_columns": null,
      "grid_auto_flow": null,
      "grid_auto_rows": null,
      "grid_column": null,
      "grid_gap": null,
      "grid_row": null,
      "grid_template_areas": null,
      "grid_template_columns": null,
      "grid_template_rows": null,
      "height": null,
      "justify_content": null,
      "justify_items": null,
      "left": null,
      "margin": null,
      "max_height": null,
      "max_width": null,
      "min_height": null,
      "min_width": null,
      "object_fit": null,
      "object_position": null,
      "order": null,
      "overflow": null,
      "overflow_x": null,
      "overflow_y": null,
      "padding": null,
      "right": null,
      "top": null,
      "visibility": null,
      "width": null
     }
    },
    "1dee4e04d80c472fafc7da68da7309b0": {
     "model_module": "jupyter-leaflet",
     "model_module_version": "^0.15.0",
     "model_name": "LeafletMapStyleModel",
     "state": {
      "_model_module": "jupyter-leaflet",
      "_model_module_version": "^0.15.0",
      "_model_name": "LeafletMapStyleModel",
      "_view_count": null,
      "_view_module": "@jupyter-widgets/base",
      "_view_module_version": "1.2.0",
      "_view_name": "StyleView",
      "cursor": "grab"
     }
    },
    "20f23c4cdcc6493c93262efb041aa585": {
     "model_module": "@jupyter-widgets/base",
     "model_module_version": "1.2.0",
     "model_name": "LayoutModel",
     "state": {
      "_model_module": "@jupyter-widgets/base",
      "_model_module_version": "1.2.0",
      "_model_name": "LayoutModel",
      "_view_count": null,
      "_view_module": "@jupyter-widgets/base",
      "_view_module_version": "1.2.0",
      "_view_name": "LayoutView",
      "align_content": null,
      "align_items": null,
      "align_self": null,
      "border": null,
      "bottom": null,
      "display": null,
      "flex": null,
      "flex_flow": null,
      "grid_area": null,
      "grid_auto_columns": null,
      "grid_auto_flow": null,
      "grid_auto_rows": null,
      "grid_column": null,
      "grid_gap": null,
      "grid_row": null,
      "grid_template_areas": null,
      "grid_template_columns": null,
      "grid_template_rows": null,
      "height": null,
      "justify_content": null,
      "justify_items": null,
      "left": null,
      "margin": null,
      "max_height": null,
      "max_width": null,
      "min_height": null,
      "min_width": null,
      "object_fit": null,
      "object_position": null,
      "order": null,
      "overflow": null,
      "overflow_x": null,
      "overflow_y": null,
      "padding": null,
      "right": null,
      "top": null,
      "visibility": null,
      "width": null
     }
    },
    "309a887e5b7c4b838e3fcab51903da9a": {
     "model_module": "jupyter-leaflet",
     "model_module_version": "^0.15.0",
     "model_name": "LeafletTileLayerModel",
     "state": {
      "_model_module": "jupyter-leaflet",
      "_model_module_version": "^0.15.0",
      "_model_name": "LeafletTileLayerModel",
      "_view_count": null,
      "_view_module": "jupyter-leaflet",
      "_view_module_version": "^0.15.0",
      "_view_name": "LeafletTileLayerView",
      "attribution": "Google Earth Engine",
      "base": false,
      "bottom": true,
      "detect_retina": false,
      "loading": false,
      "max_native_zoom": 18,
      "max_zoom": 24,
      "min_native_zoom": 0,
      "min_zoom": 0,
      "name": "rainfed",
      "no_wrap": false,
      "opacity": 0.5,
      "options": [
       "attribution",
       "detect_retina",
       "max_native_zoom",
       "max_zoom",
       "min_native_zoom",
       "min_zoom",
       "no_wrap",
       "tile_size",
       "tms"
      ],
      "popup": null,
      "popup_max_height": null,
      "popup_max_width": 300,
      "popup_min_width": 50,
      "show_loading": false,
      "tile_size": 256,
      "tms": false,
      "url": "https://earthengine.googleapis.com/v1alpha/projects/earthengine-legacy/maps/4791249eb1258adf4e83d9dfc5fd1e03-e9a2cbf15518fdd3f2d363fe97b7ec5f/tiles/{z}/{x}/{y}",
      "visible": true
     }
    },
    "311d85eed7144607814d13a8bfe6c638": {
     "model_module": "jupyter-leaflet",
     "model_module_version": "^0.15.0",
     "model_name": "LeafletTileLayerModel",
     "state": {
      "_model_module": "jupyter-leaflet",
      "_model_module_version": "^0.15.0",
      "_model_name": "LeafletTileLayerModel",
      "_view_count": null,
      "_view_module": "jupyter-leaflet",
      "_view_module_version": "^0.15.0",
      "_view_name": "LeafletTileLayerView",
      "attribution": "Google",
      "base": false,
      "bottom": true,
      "detect_retina": false,
      "loading": false,
      "max_native_zoom": 18,
      "max_zoom": 22,
      "min_native_zoom": 0,
      "min_zoom": 0,
      "name": "Google Satellite",
      "no_wrap": false,
      "opacity": 1,
      "options": [
       "attribution",
       "detect_retina",
       "max_native_zoom",
       "max_zoom",
       "min_native_zoom",
       "min_zoom",
       "no_wrap",
       "tile_size",
       "tms"
      ],
      "popup": null,
      "popup_max_height": null,
      "popup_max_width": 300,
      "popup_min_width": 50,
      "show_loading": false,
      "tile_size": 256,
      "tms": false,
      "url": "https://mt1.google.com/vt/lyrs=y&x={x}&y={y}&z={z}",
      "visible": true
     }
    },
    "368746d8c1644ea7a3435a04ba915b03": {
     "model_module": "jupyter-leaflet",
     "model_module_version": "^0.15.0",
     "model_name": "LeafletMapModel",
     "state": {
      "_dom_classes": [],
      "_dragging": false,
      "_model_module": "jupyter-leaflet",
      "_model_module_version": "^0.15.0",
      "_model_name": "LeafletMapModel",
      "_view_count": null,
      "_view_module": "jupyter-leaflet",
      "_view_module_version": "^0.15.0",
      "_view_name": "LeafletMapView",
      "bottom": 6644,
      "bounce_at_zoom_limits": true,
      "box_zoom": true,
      "center": [
       37.57941251343841,
       -120.56396484375001
      ],
      "close_popup_on_click": true,
      "controls": [
       "IPY_MODEL_3ccaa6509f6c47c497d7d8c97bd290ec",
       "IPY_MODEL_919d489fddfb46b6adddbae11befa67a",
       "IPY_MODEL_8bdb79782c6b411389b5f5c640a4ba86",
       "IPY_MODEL_919fb2e1319b437998b08d3775145218",
       "IPY_MODEL_81a84f53ae014cc1819ad2c3b27671cc",
       "IPY_MODEL_6da66233a60f4a0bac5046fb5a80d8a0",
       "IPY_MODEL_9cfe2a289d234f6e88117c0e3929bfd4",
       "IPY_MODEL_41f79a0c2f8a46368dcdfa1a17d30f66"
      ],
      "crs": {
       "custom": false,
       "name": "EPSG3857"
      },
      "default_style": "IPY_MODEL_1dee4e04d80c472fafc7da68da7309b0",
      "double_click_zoom": true,
      "dragging": true,
      "dragging_style": "IPY_MODEL_740cad43d74b47ebb2b70d2dbb24259c",
      "east": -113.70849609375001,
      "fullscreen": false,
      "inertia": true,
      "inertia_deceleration": 3000,
      "inertia_max_speed": 1500,
      "interpolation": "bilinear",
      "keyboard": true,
      "keyboard_pan_offset": 80,
      "keyboard_zoom_offset": 1,
      "layers": [
       "IPY_MODEL_ed1156a3452c4ad482ab436832a0cde6",
       "IPY_MODEL_a18e0853ae3046bab2be328a72fa3bdf",
       "IPY_MODEL_311d85eed7144607814d13a8bfe6c638",
       "IPY_MODEL_e182863979034e87be066bbb2a9ecd05",
       "IPY_MODEL_309a887e5b7c4b838e3fcab51903da9a",
       "IPY_MODEL_42f9a06e64e34d28be80044f80d50525",
       "IPY_MODEL_4c0dd157cde749059f4f60cdefbee207"
      ],
      "layout": "IPY_MODEL_585114e85e8b4fcaa5cccc63629ef3f8",
      "left": 2393,
      "max_zoom": 24,
      "min_zoom": 1,
      "modisdate": "2022-08-16",
      "north": 42.61779143282346,
      "options": [
       "bounce_at_zoom_limits",
       "box_zoom",
       "center",
       "close_popup_on_click",
       "double_click_zoom",
       "dragging",
       "fullscreen",
       "inertia",
       "inertia_deceleration",
       "inertia_max_speed",
       "interpolation",
       "keyboard",
       "keyboard_pan_offset",
       "keyboard_zoom_offset",
       "max_zoom",
       "min_zoom",
       "prefer_canvas",
       "scroll_wheel_zoom",
       "tap",
       "tap_tolerance",
       "touch_zoom",
       "world_copy_jump",
       "zoom",
       "zoom_animation_threshold",
       "zoom_delta",
       "zoom_snap",
       "zoom_start"
      ],
      "prefer_canvas": false,
      "right": 3017,
      "scroll_wheel_zoom": true,
      "south": 32.175612478499346,
      "style": "IPY_MODEL_1dee4e04d80c472fafc7da68da7309b0",
      "tap": true,
      "tap_tolerance": 15,
      "top": 6044,
      "touch_zoom": true,
      "west": -127.41943359375001,
      "window_url": "https://un468rx6owq-496ff2e9c6d22116-0-colab.googleusercontent.com/outputframe.html?vrz=colab-20220811-060050-RC00_466916667",
      "world_copy_jump": false,
      "zoom": 6,
      "zoom_animation_threshold": 4,
      "zoom_delta": 1,
      "zoom_snap": 1,
      "zoom_start": 12
     }
    },
    "3ccaa6509f6c47c497d7d8c97bd290ec": {
     "model_module": "jupyter-leaflet",
     "model_module_version": "^0.15.0",
     "model_name": "LeafletWidgetControlModel",
     "state": {
      "_model_module": "jupyter-leaflet",
      "_model_module_version": "^0.15.0",
      "_model_name": "LeafletWidgetControlModel",
      "_view_count": null,
      "_view_module": "jupyter-leaflet",
      "_view_module_version": "^0.15.0",
      "_view_name": "LeafletWidgetControlView",
      "max_height": null,
      "max_width": null,
      "min_height": null,
      "min_width": null,
      "options": [
       "position",
       "transparent_bg"
      ],
      "position": "topleft",
      "transparent_bg": false,
      "widget": "IPY_MODEL_8b95b04efd464261be758f4bcff4f317"
     }
    },
    "41f79a0c2f8a46368dcdfa1a17d30f66": {
     "model_module": "jupyter-leaflet",
     "model_module_version": "^0.15.0",
     "model_name": "LeafletWidgetControlModel",
     "state": {
      "_model_module": "jupyter-leaflet",
      "_model_module_version": "^0.15.0",
      "_model_name": "LeafletWidgetControlModel",
      "_view_count": null,
      "_view_module": "jupyter-leaflet",
      "_view_module_version": "^0.15.0",
      "_view_name": "LeafletWidgetControlView",
      "max_height": null,
      "max_width": null,
      "min_height": null,
      "min_width": null,
      "options": [
       "position",
       "transparent_bg"
      ],
      "position": "topright",
      "transparent_bg": false,
      "widget": "IPY_MODEL_45e712f958064fc78254e7f998a7f814"
     }
    },
    "42f9a06e64e34d28be80044f80d50525": {
     "model_module": "jupyter-leaflet",
     "model_module_version": "^0.15.0",
     "model_name": "LeafletTileLayerModel",
     "state": {
      "_model_module": "jupyter-leaflet",
      "_model_module_version": "^0.15.0",
      "_model_name": "LeafletTileLayerModel",
      "_view_count": null,
      "_view_module": "jupyter-leaflet",
      "_view_module_version": "^0.15.0",
      "_view_name": "LeafletTileLayerView",
      "attribution": "Google Earth Engine",
      "base": false,
      "bottom": true,
      "detect_retina": false,
      "loading": false,
      "max_native_zoom": 18,
      "max_zoom": 18,
      "min_native_zoom": 0,
      "min_zoom": 0,
      "name": "Drawn Features",
      "no_wrap": false,
      "opacity": 0.5,
      "options": [
       "attribution",
       "detect_retina",
       "max_native_zoom",
       "max_zoom",
       "min_native_zoom",
       "min_zoom",
       "no_wrap",
       "tile_size",
       "tms"
      ],
      "popup": null,
      "popup_max_height": null,
      "popup_max_width": 300,
      "popup_min_width": 50,
      "show_loading": false,
      "tile_size": 256,
      "tms": false,
      "url": "https://earthengine.googleapis.com/v1alpha/projects/earthengine-legacy/maps/5b7393cad90bece8a8e9aa90eabd9ad9-4ec071331e30999b517384929f907d5c/tiles/{z}/{x}/{y}",
      "visible": false
     }
    },
    "45e712f958064fc78254e7f998a7f814": {
     "model_module": "@jupyter-widgets/controls",
     "model_module_version": "1.5.0",
     "model_name": "VBoxModel",
     "state": {
      "_dom_classes": [],
      "_model_module": "@jupyter-widgets/controls",
      "_model_module_version": "1.5.0",
      "_model_name": "VBoxModel",
      "_view_count": null,
      "_view_module": "@jupyter-widgets/controls",
      "_view_module_version": "1.5.0",
      "_view_name": "VBoxView",
      "box_style": "",
      "children": [
       "IPY_MODEL_d158265cc61c4ffe9c5cdd0f756bb741"
      ],
      "layout": "IPY_MODEL_20f23c4cdcc6493c93262efb041aa585"
     }
    },
    "45ff84a981ea4f8192114c32a10df12f": {
     "model_module": "@jupyter-widgets/controls",
     "model_module_version": "1.5.0",
     "model_name": "DescriptionStyleModel",
     "state": {
      "_model_module": "@jupyter-widgets/controls",
      "_model_module_version": "1.5.0",
      "_model_name": "DescriptionStyleModel",
      "_view_count": null,
      "_view_module": "@jupyter-widgets/base",
      "_view_module_version": "1.2.0",
      "_view_name": "StyleView",
      "description_width": ""
     }
    },
    "4c0dd157cde749059f4f60cdefbee207": {
     "model_module": "jupyter-leaflet",
     "model_module_version": "^0.15.0",
     "model_name": "LeafletTileLayerModel",
     "state": {
      "_model_module": "jupyter-leaflet",
      "_model_module_version": "^0.15.0",
      "_model_name": "LeafletTileLayerModel",
      "_view_count": null,
      "_view_module": "jupyter-leaflet",
      "_view_module_version": "^0.15.0",
      "_view_name": "LeafletTileLayerView",
      "attribution": "Google Earth Engine",
      "base": false,
      "bottom": true,
      "detect_retina": false,
      "loading": false,
      "max_native_zoom": 18,
      "max_zoom": 24,
      "min_native_zoom": 0,
      "min_zoom": 0,
      "name": "sample_locations",
      "no_wrap": false,
      "opacity": 0.5,
      "options": [
       "attribution",
       "detect_retina",
       "max_native_zoom",
       "max_zoom",
       "min_native_zoom",
       "min_zoom",
       "no_wrap",
       "tile_size",
       "tms"
      ],
      "popup": null,
      "popup_max_height": null,
      "popup_max_width": 300,
      "popup_min_width": 50,
      "show_loading": false,
      "tile_size": 256,
      "tms": false,
      "url": "https://earthengine.googleapis.com/v1alpha/projects/earthengine-legacy/maps/2c0c5e044ed6a522139c4cb62404a42a-f6e6245a95a3d7f09280ea2f58a5d96f/tiles/{z}/{x}/{y}",
      "visible": true
     }
    },
    "585114e85e8b4fcaa5cccc63629ef3f8": {
     "model_module": "@jupyter-widgets/base",
     "model_module_version": "1.2.0",
     "model_name": "LayoutModel",
     "state": {
      "_model_module": "@jupyter-widgets/base",
      "_model_module_version": "1.2.0",
      "_model_name": "LayoutModel",
      "_view_count": null,
      "_view_module": "@jupyter-widgets/base",
      "_view_module_version": "1.2.0",
      "_view_name": "LayoutView",
      "align_content": null,
      "align_items": null,
      "align_self": null,
      "border": null,
      "bottom": null,
      "display": null,
      "flex": null,
      "flex_flow": null,
      "grid_area": null,
      "grid_auto_columns": null,
      "grid_auto_flow": null,
      "grid_auto_rows": null,
      "grid_column": null,
      "grid_gap": null,
      "grid_row": null,
      "grid_template_areas": null,
      "grid_template_columns": null,
      "grid_template_rows": null,
      "height": "600px",
      "justify_content": null,
      "justify_items": null,
      "left": null,
      "margin": null,
      "max_height": null,
      "max_width": null,
      "min_height": null,
      "min_width": null,
      "object_fit": null,
      "object_position": null,
      "order": null,
      "overflow": null,
      "overflow_x": null,
      "overflow_y": null,
      "padding": null,
      "right": null,
      "top": null,
      "visibility": null,
      "width": null
     }
    },
    "5c9644c9804241abb919fcdf389ef889": {
     "model_module": "@jupyter-widgets/base",
     "model_module_version": "1.2.0",
     "model_name": "LayoutModel",
     "state": {
      "_model_module": "@jupyter-widgets/base",
      "_model_module_version": "1.2.0",
      "_model_name": "LayoutModel",
      "_view_count": null,
      "_view_module": "@jupyter-widgets/base",
      "_view_module_version": "1.2.0",
      "_view_name": "LayoutView",
      "align_content": null,
      "align_items": null,
      "align_self": null,
      "border": null,
      "bottom": null,
      "display": null,
      "flex": null,
      "flex_flow": null,
      "grid_area": null,
      "grid_auto_columns": null,
      "grid_auto_flow": null,
      "grid_auto_rows": null,
      "grid_column": null,
      "grid_gap": null,
      "grid_row": null,
      "grid_template_areas": null,
      "grid_template_columns": null,
      "grid_template_rows": null,
      "height": "28px",
      "justify_content": null,
      "justify_items": null,
      "left": null,
      "margin": null,
      "max_height": null,
      "max_width": null,
      "min_height": null,
      "min_width": null,
      "object_fit": null,
      "object_position": null,
      "order": null,
      "overflow": null,
      "overflow_x": null,
      "overflow_y": null,
      "padding": "0px 0px 0px 4px",
      "right": null,
      "top": null,
      "visibility": null,
      "width": "28px"
     }
    },
    "6da66233a60f4a0bac5046fb5a80d8a0": {
     "model_module": "jupyter-leaflet",
     "model_module_version": "^0.15.0",
     "model_name": "LeafletAttributionControlModel",
     "state": {
      "_model_module": "jupyter-leaflet",
      "_model_module_version": "^0.15.0",
      "_model_name": "LeafletAttributionControlModel",
      "_view_count": null,
      "_view_module": "jupyter-leaflet",
      "_view_module_version": "^0.15.0",
      "_view_name": "LeafletAttributionControlView",
      "options": [
       "position",
       "prefix"
      ],
      "position": "bottomright",
      "prefix": "ipyleaflet"
     }
    },
    "711963ad2e4145bba8ea55a710e73195": {
     "model_module": "@jupyter-widgets/controls",
     "model_module_version": "1.5.0",
     "model_name": "DescriptionStyleModel",
     "state": {
      "_model_module": "@jupyter-widgets/controls",
      "_model_module_version": "1.5.0",
      "_model_name": "DescriptionStyleModel",
      "_view_count": null,
      "_view_module": "@jupyter-widgets/base",
      "_view_module_version": "1.2.0",
      "_view_name": "StyleView",
      "description_width": ""
     }
    },
    "740cad43d74b47ebb2b70d2dbb24259c": {
     "model_module": "jupyter-leaflet",
     "model_module_version": "^0.15.0",
     "model_name": "LeafletMapStyleModel",
     "state": {
      "_model_module": "jupyter-leaflet",
      "_model_module_version": "^0.15.0",
      "_model_name": "LeafletMapStyleModel",
      "_view_count": null,
      "_view_module": "@jupyter-widgets/base",
      "_view_module_version": "1.2.0",
      "_view_name": "StyleView",
      "cursor": "move"
     }
    },
    "81a84f53ae014cc1819ad2c3b27671cc": {
     "model_module": "jupyter-leaflet",
     "model_module_version": "^0.15.0",
     "model_name": "LeafletMeasureControlModel",
     "state": {
      "_custom_units": {},
      "_model_module": "jupyter-leaflet",
      "_model_module_version": "^0.15.0",
      "_model_name": "LeafletMeasureControlModel",
      "_view_count": null,
      "_view_module": "jupyter-leaflet",
      "_view_module_version": "^0.15.0",
      "_view_name": "LeafletMeasureControlView",
      "active_color": "orange",
      "capture_z_index": 10000,
      "completed_color": "#C8F2BE",
      "options": [
       "active_color",
       "capture_z_index",
       "completed_color",
       "popup_options",
       "position",
       "primary_area_unit",
       "primary_length_unit",
       "secondary_area_unit",
       "secondary_length_unit"
      ],
      "popup_options": {
       "autoPanPadding": [
        10,
        10
       ],
       "className": "leaflet-measure-resultpopup"
      },
      "position": "bottomleft",
      "primary_area_unit": "acres",
      "primary_length_unit": "kilometers",
      "secondary_area_unit": null,
      "secondary_length_unit": null
     }
    },
    "85d662ebf7704b4aaf2df4f782bd8abc": {
     "model_module": "@jupyter-widgets/controls",
     "model_module_version": "1.5.0",
     "model_name": "ToggleButtonModel",
     "state": {
      "_dom_classes": [],
      "_model_module": "@jupyter-widgets/controls",
      "_model_module_version": "1.5.0",
      "_model_name": "ToggleButtonModel",
      "_view_count": null,
      "_view_module": "@jupyter-widgets/controls",
      "_view_module_version": "1.5.0",
      "_view_name": "ToggleButtonView",
      "button_style": "",
      "description": "",
      "description_tooltip": null,
      "disabled": false,
      "icon": "globe",
      "layout": "IPY_MODEL_5c9644c9804241abb919fcdf389ef889",
      "style": "IPY_MODEL_45ff84a981ea4f8192114c32a10df12f",
      "tooltip": "Search location/data",
      "value": false
     }
    },
    "892486b123184d64a3019cfa26e0f717": {
     "model_module": "jupyter-leaflet",
     "model_module_version": "^0.15.0",
     "model_name": "LeafletMapStyleModel",
     "state": {
      "_model_module": "jupyter-leaflet",
      "_model_module_version": "^0.15.0",
      "_model_name": "LeafletMapStyleModel",
      "_view_count": null,
      "_view_module": "@jupyter-widgets/base",
      "_view_module_version": "1.2.0",
      "_view_name": "StyleView",
      "cursor": "grab"
     }
    },
    "8b95b04efd464261be758f4bcff4f317": {
     "model_module": "@jupyter-widgets/controls",
     "model_module_version": "1.5.0",
     "model_name": "HBoxModel",
     "state": {
      "_dom_classes": [],
      "_model_module": "@jupyter-widgets/controls",
      "_model_module_version": "1.5.0",
      "_model_name": "HBoxModel",
      "_view_count": null,
      "_view_module": "@jupyter-widgets/controls",
      "_view_module_version": "1.5.0",
      "_view_name": "HBoxView",
      "box_style": "",
      "children": [
       "IPY_MODEL_85d662ebf7704b4aaf2df4f782bd8abc"
      ],
      "layout": "IPY_MODEL_0a9011c0df2f4ae585ce1d1174cc161f"
     }
    },
    "8bdb79782c6b411389b5f5c640a4ba86": {
     "model_module": "jupyter-leaflet",
     "model_module_version": "^0.15.0",
     "model_name": "LeafletScaleControlModel",
     "state": {
      "_model_module": "jupyter-leaflet",
      "_model_module_version": "^0.15.0",
      "_model_name": "LeafletScaleControlModel",
      "_view_count": null,
      "_view_module": "jupyter-leaflet",
      "_view_module_version": "^0.15.0",
      "_view_name": "LeafletScaleControlView",
      "imperial": true,
      "max_width": 100,
      "metric": true,
      "options": [
       "imperial",
       "max_width",
       "metric",
       "position",
       "update_when_idle"
      ],
      "position": "bottomleft",
      "update_when_idle": false
     }
    },
    "919d489fddfb46b6adddbae11befa67a": {
     "model_module": "jupyter-leaflet",
     "model_module_version": "^0.15.0",
     "model_name": "LeafletZoomControlModel",
     "state": {
      "_model_module": "jupyter-leaflet",
      "_model_module_version": "^0.15.0",
      "_model_name": "LeafletZoomControlModel",
      "_view_count": null,
      "_view_module": "jupyter-leaflet",
      "_view_module_version": "^0.15.0",
      "_view_name": "LeafletZoomControlView",
      "options": [
       "position",
       "zoom_in_text",
       "zoom_in_title",
       "zoom_out_text",
       "zoom_out_title"
      ],
      "position": "topleft",
      "zoom_in_text": "+",
      "zoom_in_title": "Zoom in",
      "zoom_out_text": "-",
      "zoom_out_title": "Zoom out"
     }
    },
    "919fb2e1319b437998b08d3775145218": {
     "model_module": "jupyter-leaflet",
     "model_module_version": "^0.15.0",
     "model_name": "LeafletFullScreenControlModel",
     "state": {
      "_model_module": "jupyter-leaflet",
      "_model_module_version": "^0.15.0",
      "_model_name": "LeafletFullScreenControlModel",
      "_view_count": null,
      "_view_module": "jupyter-leaflet",
      "_view_module_version": "^0.15.0",
      "_view_name": "LeafletFullScreenControlView",
      "options": [
       "position"
      ],
      "position": "topleft"
     }
    },
    "93e1e09270fd4da09a03941a264216df": {
     "model_module": "@jupyter-widgets/base",
     "model_module_version": "1.2.0",
     "model_name": "LayoutModel",
     "state": {
      "_model_module": "@jupyter-widgets/base",
      "_model_module_version": "1.2.0",
      "_model_name": "LayoutModel",
      "_view_count": null,
      "_view_module": "@jupyter-widgets/base",
      "_view_module_version": "1.2.0",
      "_view_name": "LayoutView",
      "align_content": null,
      "align_items": null,
      "align_self": null,
      "border": null,
      "bottom": null,
      "display": null,
      "flex": null,
      "flex_flow": null,
      "grid_area": null,
      "grid_auto_columns": null,
      "grid_auto_flow": null,
      "grid_auto_rows": null,
      "grid_column": null,
      "grid_gap": null,
      "grid_row": null,
      "grid_template_areas": null,
      "grid_template_columns": null,
      "grid_template_rows": null,
      "height": "28px",
      "justify_content": null,
      "justify_items": null,
      "left": null,
      "margin": null,
      "max_height": null,
      "max_width": null,
      "min_height": null,
      "min_width": null,
      "object_fit": null,
      "object_position": null,
      "order": null,
      "overflow": null,
      "overflow_x": null,
      "overflow_y": null,
      "padding": "0px 0px 0px 4px",
      "right": null,
      "top": null,
      "visibility": null,
      "width": "28px"
     }
    },
    "9cfe2a289d234f6e88117c0e3929bfd4": {
     "model_module": "jupyter-leaflet",
     "model_module_version": "^0.15.0",
     "model_name": "LeafletDrawControlModel",
     "state": {
      "_model_module": "jupyter-leaflet",
      "_model_module_version": "^0.15.0",
      "_model_name": "LeafletDrawControlModel",
      "_view_count": null,
      "_view_module": "jupyter-leaflet",
      "_view_module_version": "^0.15.0",
      "_view_name": "LeafletDrawControlView",
      "circle": {
       "shapeOptions": {
        "color": "#3388ff"
       }
      },
      "circlemarker": {},
      "data": [
       {
        "geometry": {
         "coordinates": [
          [
           [
            -130.353556,
            29.082745
           ],
           [
            -130.353556,
            44.565172
           ],
           [
            -109.951944,
            44.565172
           ],
           [
            -109.951944,
            29.082745
           ],
           [
            -130.353556,
            29.082745
           ]
          ]
         ],
         "type": "Polygon"
        },
        "properties": {
         "style": {
          "clickable": true,
          "color": "#3388ff",
          "fill": true,
          "fillColor": null,
          "fillOpacity": 0.2,
          "opacity": 0.5,
          "stroke": true,
          "weight": 4
         }
        },
        "type": "Feature"
       }
      ],
      "edit": true,
      "marker": {
       "shapeOptions": {
        "color": "#3388ff"
       }
      },
      "options": [
       "position"
      ],
      "polygon": {
       "shapeOptions": {}
      },
      "polyline": {
       "shapeOptions": {}
      },
      "position": "topleft",
      "rectangle": {
       "shapeOptions": {
        "color": "#3388ff"
       }
      },
      "remove": true
     }
    },
    "a18e0853ae3046bab2be328a72fa3bdf": {
     "model_module": "jupyter-leaflet",
     "model_module_version": "^0.15.0",
     "model_name": "LeafletTileLayerModel",
     "state": {
      "_model_module": "jupyter-leaflet",
      "_model_module_version": "^0.15.0",
      "_model_name": "LeafletTileLayerModel",
      "_view_count": null,
      "_view_module": "jupyter-leaflet",
      "_view_module_version": "^0.15.0",
      "_view_name": "LeafletTileLayerView",
      "attribution": "Google",
      "base": false,
      "bottom": true,
      "detect_retina": false,
      "loading": false,
      "max_native_zoom": 18,
      "max_zoom": 22,
      "min_native_zoom": 0,
      "min_zoom": 0,
      "name": "Google Maps",
      "no_wrap": false,
      "opacity": 1,
      "options": [
       "attribution",
       "detect_retina",
       "max_native_zoom",
       "max_zoom",
       "min_native_zoom",
       "min_zoom",
       "no_wrap",
       "tile_size",
       "tms"
      ],
      "popup": null,
      "popup_max_height": null,
      "popup_max_width": 300,
      "popup_min_width": 50,
      "show_loading": false,
      "tile_size": 256,
      "tms": false,
      "url": "https://mt1.google.com/vt/lyrs=m&x={x}&y={y}&z={z}",
      "visible": true
     }
    },
    "d158265cc61c4ffe9c5cdd0f756bb741": {
     "model_module": "@jupyter-widgets/controls",
     "model_module_version": "1.5.0",
     "model_name": "ToggleButtonModel",
     "state": {
      "_dom_classes": [],
      "_model_module": "@jupyter-widgets/controls",
      "_model_module_version": "1.5.0",
      "_model_name": "ToggleButtonModel",
      "_view_count": null,
      "_view_module": "@jupyter-widgets/controls",
      "_view_module_version": "1.5.0",
      "_view_name": "ToggleButtonView",
      "button_style": "",
      "description": "",
      "description_tooltip": null,
      "disabled": false,
      "icon": "wrench",
      "layout": "IPY_MODEL_93e1e09270fd4da09a03941a264216df",
      "style": "IPY_MODEL_711963ad2e4145bba8ea55a710e73195",
      "tooltip": "Toolbar",
      "value": false
     }
    },
    "e182863979034e87be066bbb2a9ecd05": {
     "model_module": "jupyter-leaflet",
     "model_module_version": "^0.15.0",
     "model_name": "LeafletTileLayerModel",
     "state": {
      "_model_module": "jupyter-leaflet",
      "_model_module_version": "^0.15.0",
      "_model_name": "LeafletTileLayerModel",
      "_view_count": null,
      "_view_module": "jupyter-leaflet",
      "_view_module_version": "^0.15.0",
      "_view_name": "LeafletTileLayerView",
      "attribution": "Google Earth Engine",
      "base": false,
      "bottom": true,
      "detect_retina": false,
      "loading": false,
      "max_native_zoom": 18,
      "max_zoom": 24,
      "min_native_zoom": 0,
      "min_zoom": 0,
      "name": "irrigated",
      "no_wrap": false,
      "opacity": 0.5,
      "options": [
       "attribution",
       "detect_retina",
       "max_native_zoom",
       "max_zoom",
       "min_native_zoom",
       "min_zoom",
       "no_wrap",
       "tile_size",
       "tms"
      ],
      "popup": null,
      "popup_max_height": null,
      "popup_max_width": 300,
      "popup_min_width": 50,
      "show_loading": false,
      "tile_size": 256,
      "tms": false,
      "url": "https://earthengine.googleapis.com/v1alpha/projects/earthengine-legacy/maps/100a409ec46df985720711a0568fd787-05e1cee08b9511b54a3bccae2a817413/tiles/{z}/{x}/{y}",
      "visible": true
     }
    },
    "ed1156a3452c4ad482ab436832a0cde6": {
     "model_module": "jupyter-leaflet",
     "model_module_version": "^0.15.0",
     "model_name": "LeafletTileLayerModel",
     "state": {
      "_model_module": "jupyter-leaflet",
      "_model_module_version": "^0.15.0",
      "_model_name": "LeafletTileLayerModel",
      "_view_count": null,
      "_view_module": "jupyter-leaflet",
      "_view_module_version": "^0.15.0",
      "_view_name": "LeafletTileLayerView",
      "attribution": "&copy; <a href=\"https://www.openstreetmap.org/copyright\">OpenStreetMap</a> contributors",
      "base": true,
      "bottom": true,
      "detect_retina": false,
      "loading": false,
      "max_native_zoom": 18,
      "max_zoom": 19,
      "min_native_zoom": 0,
      "min_zoom": 1,
      "name": "OpenStreetMap.Mapnik",
      "no_wrap": false,
      "opacity": 1,
      "options": [
       "attribution",
       "detect_retina",
       "max_native_zoom",
       "max_zoom",
       "min_native_zoom",
       "min_zoom",
       "no_wrap",
       "tile_size",
       "tms"
      ],
      "popup": null,
      "popup_max_height": null,
      "popup_max_width": 300,
      "popup_min_width": 50,
      "show_loading": false,
      "tile_size": 256,
      "tms": false,
      "url": "https://a.tile.openstreetmap.org/{z}/{x}/{y}.png",
      "visible": true
     }
    }
   }
  }
 },
 "nbformat": 4,
 "nbformat_minor": 1
}
