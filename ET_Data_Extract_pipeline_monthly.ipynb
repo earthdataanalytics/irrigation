{
 "cells": [
  {
   "cell_type": "markdown",
   "metadata": {
    "id": "EZF8erxJt2BO"
   },
   "source": [
    "# Description"
   ]
  },
  {
   "cell_type": "markdown",
   "metadata": {
    "id": "B1WBDM-W9MYa"
   },
   "source": [
    "---\n",
    ".\n",
    "\n",
    "\n",
    "THIS IS A MONTHLY NOTEBOOK\n",
    "\n",
    ".\n",
    "\n",
    "---\n",
    "\n"
   ]
  },
  {
   "cell_type": "markdown",
   "metadata": {
    "id": "39rChrfwtsp3"
   },
   "source": [
    "This notebook is used to extract ET and other data for analysis in other notebooks/code.\n",
    "\n",
    "The SEBAL calculations for ET are leveraged from https://github.com/gee-hydro/geeSEBAL\n",
    "\n",
    "Usage:\n",
    "\n",
    "  1) Show map with labeled samples for rain or irrigated locations\n",
    "\n",
    "  2) Manually specify Area of Interest (AOI) with bounding box on map\n",
    "\n",
    "  3) Specify the filename and number of sample locations to generate within the AOI\n",
    "\n",
    "  4) Launch batch data extraction\n"
   ]
  },
  {
   "cell_type": "markdown",
   "metadata": {
    "id": "CHn4vExr_-9z"
   },
   "source": [
    "# Setup Notebook"
   ]
  },
  {
   "cell_type": "code",
   "execution_count": 1,
   "metadata": {
    "id": "lst9ZoxtN-er"
   },
   "outputs": [],
   "source": [
    "#!pip install geemap\n",
    "#!pip install geopandas"
   ]
  },
  {
   "cell_type": "code",
   "execution_count": 2,
   "metadata": {},
   "outputs": [],
   "source": [
    "import subprocess\n",
    "from tqdm.notebook import tqdm"
   ]
  },
  {
   "cell_type": "code",
   "execution_count": 3,
   "metadata": {
    "id": "ATpKA5QIOFUk"
   },
   "outputs": [
    {
     "data": {
      "text/html": [
       "<p>To authorize access needed by Earth Engine, open the following\n",
       "        URL in a web browser and follow the instructions:</p>\n",
       "        <p><a href=https://code.earthengine.google.com/client-auth?scopes=https%3A//www.googleapis.com/auth/earthengine%20https%3A//www.googleapis.com/auth/devstorage.full_control&request_id=LnwVAk1DhDeTitom5JCdunaI41Zr75S5hfzfKTTT2G4&tc=UL_-5g1wkXwqpmeG78QzHgLQDzntd6_DEgY4t1w4oy0&cc=pCMgXHVeA6vjBCyeBZQ_lPG-IesoSJCxxjImtw_y9uM>https://code.earthengine.google.com/client-auth?scopes=https%3A//www.googleapis.com/auth/earthengine%20https%3A//www.googleapis.com/auth/devstorage.full_control&request_id=LnwVAk1DhDeTitom5JCdunaI41Zr75S5hfzfKTTT2G4&tc=UL_-5g1wkXwqpmeG78QzHgLQDzntd6_DEgY4t1w4oy0&cc=pCMgXHVeA6vjBCyeBZQ_lPG-IesoSJCxxjImtw_y9uM</a></p>\n",
       "        <p>The authorization workflow will generate a code, which you should paste in the box below.</p>\n",
       "        "
      ],
      "text/plain": [
       "<IPython.core.display.HTML object>"
      ]
     },
     "metadata": {},
     "output_type": "display_data"
    },
    {
     "name": "stdout",
     "output_type": "stream",
     "text": [
      "Enter verification code: 4/1AfJohXnl8V2PYHCUKFNrsuUBpsJujHwKg4f5Csx6xU5bMIkBh7rornfGKgY\n",
      "\n",
      "Successfully saved authorization token.\n"
     ]
    }
   ],
   "source": [
    "import ee\n",
    "ee.Authenticate()\n",
    "ee.Initialize(project='second-impact-342800')\n",
    "import geemap\n",
    "\n",
    "import numpy as np\n",
    "import pandas as pd\n",
    "import datetime\n",
    "from timeit import default_timer as timer\n",
    "from datetime import timedelta"
   ]
  },
  {
   "cell_type": "code",
   "execution_count": 4,
   "metadata": {
    "colab": {
     "base_uri": "https://localhost:8080/"
    },
    "executionInfo": {
     "elapsed": 7,
     "status": "ok",
     "timestamp": 1660744634666,
     "user": {
      "displayName": "Blair Jones",
      "userId": "11507989587297916179"
     },
     "user_tz": 300
    },
    "id": "UFqGbailPSp0",
    "outputId": "f5114b0c-30a2-424c-dbed-ed56518d8dcd"
   },
   "outputs": [],
   "source": [
    "# this is used on a cloud server\n",
    "#%cd /content\n",
    "#!git clone https://github.com/gee-hydro/geeSEBAL.git\n",
    "#!git clone https://github.com/earthdataanalytics/irrigation.git\n",
    "#!cp -r geeSEBAL/etbrasil/ irrigation/\n",
    "#%cd irrigation/"
   ]
  },
  {
   "cell_type": "markdown",
   "metadata": {
    "id": "nXZ8LFyHlBJ5"
   },
   "source": [
    "### Import Custom Libraries"
   ]
  },
  {
   "cell_type": "code",
   "execution_count": 5,
   "metadata": {
    "id": "diUuKsIzIvFM"
   },
   "outputs": [],
   "source": [
    "from pipeline import boundaries as bnd\n",
    "from pipeline import labeledsamples as ls\n",
    "from pipeline import dataextract as dx\n",
    "from pipeline import cropmasks as msk"
   ]
  },
  {
   "cell_type": "markdown",
   "metadata": {
    "id": "nijMMmz__6CD"
   },
   "source": [
    "## 1) Show labeled locations on map\n",
    "\n",
    "Rain = Red = 0\n",
    "\n",
    "Irrigated = Blue = 1"
   ]
  },
  {
   "cell_type": "code",
   "execution_count": 6,
   "metadata": {
    "id": "Ux23EAJ7se0X"
   },
   "outputs": [],
   "source": [
    "# labeled MONTHLY data\n",
    "sample_locations = ls.getRawMonthlyLabeledData()\n",
    "irr_west = sample_locations.filter(ee.Filter.eq('POINT_TYPE', 1))\n",
    "rain_west = sample_locations.filter(ee.Filter.eq('POINT_TYPE', 0))"
   ]
  },
  {
   "cell_type": "code",
   "execution_count": 7,
   "metadata": {
    "colab": {
     "base_uri": "https://localhost:8080/",
     "height": 621,
     "referenced_widgets": [
      "368746d8c1644ea7a3435a04ba915b03",
      "892486b123184d64a3019cfa26e0f717",
      "585114e85e8b4fcaa5cccc63629ef3f8",
      "3ccaa6509f6c47c497d7d8c97bd290ec",
      "919d489fddfb46b6adddbae11befa67a",
      "8bdb79782c6b411389b5f5c640a4ba86",
      "919fb2e1319b437998b08d3775145218",
      "81a84f53ae014cc1819ad2c3b27671cc",
      "6da66233a60f4a0bac5046fb5a80d8a0",
      "9cfe2a289d234f6e88117c0e3929bfd4",
      "41f79a0c2f8a46368dcdfa1a17d30f66",
      "1dee4e04d80c472fafc7da68da7309b0",
      "ed1156a3452c4ad482ab436832a0cde6",
      "a18e0853ae3046bab2be328a72fa3bdf",
      "311d85eed7144607814d13a8bfe6c638",
      "e182863979034e87be066bbb2a9ecd05",
      "309a887e5b7c4b838e3fcab51903da9a",
      "740cad43d74b47ebb2b70d2dbb24259c",
      "8b95b04efd464261be758f4bcff4f317",
      "45e712f958064fc78254e7f998a7f814",
      "0a9011c0df2f4ae585ce1d1174cc161f",
      "85d662ebf7704b4aaf2df4f782bd8abc",
      "20f23c4cdcc6493c93262efb041aa585",
      "d158265cc61c4ffe9c5cdd0f756bb741",
      "45ff84a981ea4f8192114c32a10df12f",
      "5c9644c9804241abb919fcdf389ef889",
      "711963ad2e4145bba8ea55a710e73195",
      "93e1e09270fd4da09a03941a264216df",
      "42f9a06e64e34d28be80044f80d50525",
      "4c0dd157cde749059f4f60cdefbee207"
     ]
    },
    "executionInfo": {
     "elapsed": 3861,
     "status": "ok",
     "timestamp": 1660744639336,
     "user": {
      "displayName": "Blair Jones",
      "userId": "11507989587297916179"
     },
     "user_tz": 300
    },
    "id": "p3WGynWLsxPz",
    "outputId": "283110d3-4929-4c7b-9510-ae2a7233bb2e"
   },
   "outputs": [],
   "source": [
    "#with ee.profilePrinting():\n",
    "if True:\n",
    "    ee.data.setDefaultWorkloadTag('hydracarta_backend')\n",
    "    ee.data.setWorkloadTag('hydracarta_view_training_labels')\n",
    "\n",
    "    Map = geemap.Map()\n",
    "    Map.add_basemap('HYBRID')\n",
    "    Map.addLayer(irr_west, { 'color': 'blue'}, 'irrigated', opacity=0.5)\n",
    "    Map.addLayer(rain_west, { 'color': 'red'}, 'rainfed', opacity=0.5)\n",
    "    Map.center_object(irr_west)"
   ]
  },
  {
   "cell_type": "markdown",
   "metadata": {
    "id": "Te5ZJTJR06VD"
   },
   "source": [
    "## 2) Draw a bounding box on the map around the area in which to extract data"
   ]
  },
  {
   "cell_type": "code",
   "execution_count": 8,
   "metadata": {
    "scrolled": false
   },
   "outputs": [
    {
     "data": {
      "application/vnd.jupyter.widget-view+json": {
       "model_id": "d34bc93c09dd44179755b49d830da26a",
       "version_major": 2,
       "version_minor": 0
      },
      "text/plain": [
       "Map(center=[37.57832872246989, -120.54743003193794], controls=(WidgetControl(options=['position', 'transparent…"
      ]
     },
     "metadata": {},
     "output_type": "display_data"
    }
   ],
   "source": [
    "Map"
   ]
  },
  {
   "cell_type": "markdown",
   "metadata": {
    "id": "jtcFdkazKbXE"
   },
   "source": [
    "## 3) Generate sample locations within the bounding box\n",
    "\n",
    "Specify the:\n",
    "\n",
    "* name of the AOI\n",
    "* number of sample locations to generate\n",
    "\n",
    "\n",
    "This displays the generated samples as Yellow points on the map."
   ]
  },
  {
   "cell_type": "code",
   "execution_count": 9,
   "metadata": {
    "colab": {
     "base_uri": "https://localhost:8080/",
     "height": 35
    },
    "executionInfo": {
     "elapsed": 38655,
     "status": "ok",
     "timestamp": 1660744689740,
     "user": {
      "displayName": "Blair Jones",
      "userId": "11507989587297916179"
     },
     "user_tz": 300
    },
    "id": "laLaghPfYGS1",
    "outputId": "4a58c852-5269-44ea-a226-a3b29ce238c5",
    "scrolled": true
   },
   "outputs": [
    {
     "name": "stdout",
     "output_type": "stream",
     "text": [
      "Number of sample points generated by type: rain=100, irr=100\n"
     ]
    }
   ],
   "source": [
    "# specify manually\n",
    "aoi_name = '20231105_ssebop' # used in the saved filename\n",
    "num_samples = 100 # number of samples for each class\n",
    "\n",
    "#with ee.profilePrinting():\n",
    "if Map and (len(Map.draw_features) > 0):\n",
    "    AOI = ee.FeatureCollection(Map.draw_features)\n",
    "    sample_locs = ls.generateMonthlySampleLocations(AOI, aoi_name, \n",
    "                                              num_samples=num_samples,\n",
    "                                              #start_yr=2015, end_yr=2021,\n",
    "                                              excludeNonCrop=True\n",
    "                                            )\n",
    "    rain_count = sample_locs.filter(ee.Filter.eq('POINT_TYPE', 0)).size().getInfo()\n",
    "    irr_count = sample_locs.filter(ee.Filter.eq('POINT_TYPE', 1)).size().getInfo()\n",
    "    print(f'Number of sample points generated by type: rain={rain_count}, irr={irr_count}')\n",
    "    Map.addLayer(sample_locs.draw(color=\"yellow\", pointRadius=5, strokeWidth=3), {}, 'sample_locations', opacity=0.5)\n",
    "    Map.centerObject(sample_locs)\n",
    "\n",
    "else:\n",
    "    print(\"No AOI selected on Map\")"
   ]
  },
  {
   "cell_type": "markdown",
   "metadata": {
    "id": "X8yqw4i-V2py"
   },
   "source": [
    "## 4) Launch batch data extraction"
   ]
  },
  {
   "cell_type": "code",
   "execution_count": 11,
   "metadata": {
    "colab": {
     "base_uri": "https://localhost:8080/"
    },
    "executionInfo": {
     "elapsed": 2834204,
     "status": "ok",
     "timestamp": 1660775972134,
     "user": {
      "displayName": "Blair Jones",
      "userId": "11507989587297916179"
     },
     "user_tz": 300
    },
    "id": "bTf-t-wa7YhN",
    "outputId": "2d3444aa-78e7-4849-d208-e10fe04cf398"
   },
   "outputs": [
    {
     "name": "stdout",
     "output_type": "stream",
     "text": [
      "Number of samples to extract = 191\n"
     ]
    },
    {
     "name": "stderr",
     "output_type": "stream",
     "text": [
      "                                                 "
     ]
    },
    {
     "name": "stdout",
     "output_type": "stream",
     "text": [
      "Number of tasks launched = 191\n"
     ]
    },
    {
     "name": "stderr",
     "output_type": "stream",
     "text": [
      "\r"
     ]
    }
   ],
   "source": [
    "if sample_locs:\n",
    "    #with ee.profilePrinting():\n",
    "    if True:\n",
    "        ee.data.resetWorkloadTag()\n",
    "        ee.data.setWorkloadTag('hydracarta_export_training_labels')\n",
    "        export_tasks = dx.extractMonthlyData(sample_locs, aoi_name, ET_model=dx.SupportedModels.SSEBOP)#, scale=250)#, restart_index=1825)"
   ]
  },
  {
   "cell_type": "code",
   "execution_count": 12,
   "metadata": {
    "colab": {
     "base_uri": "https://localhost:8080/"
    },
    "executionInfo": {
     "elapsed": 6372,
     "status": "ok",
     "timestamp": 1660826379753,
     "user": {
      "displayName": "Blair Jones",
      "userId": "11507989587297916179"
     },
     "user_tz": 300
    },
    "id": "g_nD5fBDGxej",
    "outputId": "1a101041-d4b5-4b31-8fa1-74bae735d70e"
   },
   "outputs": [
    {
     "name": "stdout",
     "output_type": "stream",
     "text": [
      "      24\r\n"
     ]
    }
   ],
   "source": [
    "!earthengine task list --status RUNNING READY | wc -l"
   ]
  },
  {
   "cell_type": "code",
   "execution_count": null,
   "metadata": {
    "colab": {
     "base_uri": "https://localhost:8080/"
    },
    "executionInfo": {
     "elapsed": 6267,
     "status": "ok",
     "timestamp": 1660772963282,
     "user": {
      "displayName": "Blair Jones",
      "userId": "11507989587297916179"
     },
     "user_tz": 300
    },
    "id": "d-8jr4XQY-vK",
    "outputId": "4e9311c3-13b2-41fb-ab69-b2d5378649a6"
   },
   "outputs": [],
   "source": [
    "#!earthengine task cancel all"
   ]
  },
  {
   "cell_type": "markdown",
   "metadata": {},
   "source": [
    "# Retrieve cost information"
   ]
  },
  {
   "cell_type": "code",
   "execution_count": null,
   "metadata": {},
   "outputs": [],
   "source": [
    "STOP - Wait to continue until all tasks are completed"
   ]
  },
  {
   "cell_type": "code",
   "execution_count": 14,
   "metadata": {
    "id": "WAVb1wdw9UCI"
   },
   "outputs": [],
   "source": [
    "!earthengine task list -l >> task_list_training.txt"
   ]
  },
  {
   "cell_type": "code",
   "execution_count": 15,
   "metadata": {},
   "outputs": [],
   "source": [
    "with open('task_list_training.txt') as f:\n",
    "    task_ids = [x.split(' ')[0] for x in f.readlines()]\n",
    "#task_ids"
   ]
  },
  {
   "cell_type": "code",
   "execution_count": 16,
   "metadata": {},
   "outputs": [
    {
     "data": {
      "application/vnd.jupyter.widget-view+json": {
       "model_id": "af37e51442b84b5fb962ba5be3c121e6",
       "version_major": 2,
       "version_minor": 0
      },
      "text/plain": [
       "  0%|          | 0/191 [00:00<?, ?it/s]"
      ]
     },
     "metadata": {},
     "output_type": "display_data"
    }
   ],
   "source": [
    "all_stats = []\n",
    "\n",
    "for task_id in tqdm(task_ids):\n",
    "    task_stats = ee.data.getTaskStatus(task_id)\n",
    "    all_stats.extend(task_stats)\n",
    "    \n",
    "df = pd.DataFrame(all_stats)"
   ]
  },
  {
   "cell_type": "code",
   "execution_count": 17,
   "metadata": {},
   "outputs": [],
   "source": [
    "df.to_csv('gee_batch_cost_data_training.csv')"
   ]
  },
  {
   "cell_type": "code",
   "execution_count": 19,
   "metadata": {},
   "outputs": [
    {
     "name": "stdout",
     "output_type": "stream",
     "text": [
      "Total EECU-secs:        3,921\n",
      "Total EECU-hours:        1.09\n",
      "Total cost:       $      0.44\n"
     ]
    }
   ],
   "source": [
    "total_batch_eecu_secs = df.batch_eecu_usage_seconds.sum()\n",
    "cost_per_batch_eecu_hour = 0.4 # $0.4 per eecu-hour\n",
    "total_cost = total_batch_eecu_secs / 3600 * cost_per_batch_eecu_hour\n",
    "\n",
    "print(f'Total EECU-secs:   {total_batch_eecu_secs:>10,.0f}')\n",
    "print(f'Total EECU-hours:  {total_batch_eecu_secs / 3600:>10,.2f}')\n",
    "print(f'Total cost:       ${total_cost:>10,.2f}')"
   ]
  },
  {
   "cell_type": "code",
   "execution_count": null,
   "metadata": {},
   "outputs": [],
   "source": []
  }
 ],
 "metadata": {
  "colab": {
   "collapsed_sections": [],
   "name": "ET_Data_Extract_pipeline_monthly.ipynb",
   "provenance": [
    {
     "file_id": "1j9czqdVYpKMsZ4A9OuR8AzhP8nqSTEza",
     "timestamp": 1646395591173
    },
    {
     "file_id": "1YST0rKUOHFgMG_q0h6qazFAtX-begT6b",
     "timestamp": 1645981406840
    }
   ]
  },
  "kernelspec": {
   "display_name": "Python 3",
   "language": "python",
   "name": "python3"
  },
  "language_info": {
   "codemirror_mode": {
    "name": "ipython",
    "version": 3
   },
   "file_extension": ".py",
   "mimetype": "text/x-python",
   "name": "python",
   "nbconvert_exporter": "python",
   "pygments_lexer": "ipython3",
   "version": "3.7.4"
  },
  "widgets": {
   "application/vnd.jupyter.widget-state+json": {
    "0a9011c0df2f4ae585ce1d1174cc161f": {
     "model_module": "@jupyter-widgets/base",
     "model_module_version": "1.2.0",
     "model_name": "LayoutModel",
     "state": {
      "_model_module": "@jupyter-widgets/base",
      "_model_module_version": "1.2.0",
      "_model_name": "LayoutModel",
      "_view_count": null,
      "_view_module": "@jupyter-widgets/base",
      "_view_module_version": "1.2.0",
      "_view_name": "LayoutView",
      "align_content": null,
      "align_items": null,
      "align_self": null,
      "border": null,
      "bottom": null,
      "display": null,
      "flex": null,
      "flex_flow": null,
      "grid_area": null,
      "grid_auto_columns": null,
      "grid_auto_flow": null,
      "grid_auto_rows": null,
      "grid_column": null,
      "grid_gap": null,
      "grid_row": null,
      "grid_template_areas": null,
      "grid_template_columns": null,
      "grid_template_rows": null,
      "height": null,
      "justify_content": null,
      "justify_items": null,
      "left": null,
      "margin": null,
      "max_height": null,
      "max_width": null,
      "min_height": null,
      "min_width": null,
      "object_fit": null,
      "object_position": null,
      "order": null,
      "overflow": null,
      "overflow_x": null,
      "overflow_y": null,
      "padding": null,
      "right": null,
      "top": null,
      "visibility": null,
      "width": null
     }
    },
    "1dee4e04d80c472fafc7da68da7309b0": {
     "model_module": "jupyter-leaflet",
     "model_module_version": "^0.15.0",
     "model_name": "LeafletMapStyleModel",
     "state": {
      "_model_module": "jupyter-leaflet",
      "_model_module_version": "^0.15.0",
      "_model_name": "LeafletMapStyleModel",
      "_view_count": null,
      "_view_module": "@jupyter-widgets/base",
      "_view_module_version": "1.2.0",
      "_view_name": "StyleView",
      "cursor": "grab"
     }
    },
    "20f23c4cdcc6493c93262efb041aa585": {
     "model_module": "@jupyter-widgets/base",
     "model_module_version": "1.2.0",
     "model_name": "LayoutModel",
     "state": {
      "_model_module": "@jupyter-widgets/base",
      "_model_module_version": "1.2.0",
      "_model_name": "LayoutModel",
      "_view_count": null,
      "_view_module": "@jupyter-widgets/base",
      "_view_module_version": "1.2.0",
      "_view_name": "LayoutView",
      "align_content": null,
      "align_items": null,
      "align_self": null,
      "border": null,
      "bottom": null,
      "display": null,
      "flex": null,
      "flex_flow": null,
      "grid_area": null,
      "grid_auto_columns": null,
      "grid_auto_flow": null,
      "grid_auto_rows": null,
      "grid_column": null,
      "grid_gap": null,
      "grid_row": null,
      "grid_template_areas": null,
      "grid_template_columns": null,
      "grid_template_rows": null,
      "height": null,
      "justify_content": null,
      "justify_items": null,
      "left": null,
      "margin": null,
      "max_height": null,
      "max_width": null,
      "min_height": null,
      "min_width": null,
      "object_fit": null,
      "object_position": null,
      "order": null,
      "overflow": null,
      "overflow_x": null,
      "overflow_y": null,
      "padding": null,
      "right": null,
      "top": null,
      "visibility": null,
      "width": null
     }
    },
    "309a887e5b7c4b838e3fcab51903da9a": {
     "model_module": "jupyter-leaflet",
     "model_module_version": "^0.15.0",
     "model_name": "LeafletTileLayerModel",
     "state": {
      "_model_module": "jupyter-leaflet",
      "_model_module_version": "^0.15.0",
      "_model_name": "LeafletTileLayerModel",
      "_view_count": null,
      "_view_module": "jupyter-leaflet",
      "_view_module_version": "^0.15.0",
      "_view_name": "LeafletTileLayerView",
      "attribution": "Google Earth Engine",
      "base": false,
      "bottom": true,
      "detect_retina": false,
      "loading": false,
      "max_native_zoom": 18,
      "max_zoom": 24,
      "min_native_zoom": 0,
      "min_zoom": 0,
      "name": "rainfed",
      "no_wrap": false,
      "opacity": 0.5,
      "options": [
       "attribution",
       "detect_retina",
       "max_native_zoom",
       "max_zoom",
       "min_native_zoom",
       "min_zoom",
       "no_wrap",
       "tile_size",
       "tms"
      ],
      "popup": null,
      "popup_max_height": null,
      "popup_max_width": 300,
      "popup_min_width": 50,
      "show_loading": false,
      "tile_size": 256,
      "tms": false,
      "url": "https://earthengine.googleapis.com/v1alpha/projects/earthengine-legacy/maps/4791249eb1258adf4e83d9dfc5fd1e03-e9a2cbf15518fdd3f2d363fe97b7ec5f/tiles/{z}/{x}/{y}",
      "visible": true
     }
    },
    "311d85eed7144607814d13a8bfe6c638": {
     "model_module": "jupyter-leaflet",
     "model_module_version": "^0.15.0",
     "model_name": "LeafletTileLayerModel",
     "state": {
      "_model_module": "jupyter-leaflet",
      "_model_module_version": "^0.15.0",
      "_model_name": "LeafletTileLayerModel",
      "_view_count": null,
      "_view_module": "jupyter-leaflet",
      "_view_module_version": "^0.15.0",
      "_view_name": "LeafletTileLayerView",
      "attribution": "Google",
      "base": false,
      "bottom": true,
      "detect_retina": false,
      "loading": false,
      "max_native_zoom": 18,
      "max_zoom": 22,
      "min_native_zoom": 0,
      "min_zoom": 0,
      "name": "Google Satellite",
      "no_wrap": false,
      "opacity": 1,
      "options": [
       "attribution",
       "detect_retina",
       "max_native_zoom",
       "max_zoom",
       "min_native_zoom",
       "min_zoom",
       "no_wrap",
       "tile_size",
       "tms"
      ],
      "popup": null,
      "popup_max_height": null,
      "popup_max_width": 300,
      "popup_min_width": 50,
      "show_loading": false,
      "tile_size": 256,
      "tms": false,
      "url": "https://mt1.google.com/vt/lyrs=y&x={x}&y={y}&z={z}",
      "visible": true
     }
    },
    "368746d8c1644ea7a3435a04ba915b03": {
     "model_module": "jupyter-leaflet",
     "model_module_version": "^0.15.0",
     "model_name": "LeafletMapModel",
     "state": {
      "_dom_classes": [],
      "_dragging": false,
      "_model_module": "jupyter-leaflet",
      "_model_module_version": "^0.15.0",
      "_model_name": "LeafletMapModel",
      "_view_count": null,
      "_view_module": "jupyter-leaflet",
      "_view_module_version": "^0.15.0",
      "_view_name": "LeafletMapView",
      "bottom": 6644,
      "bounce_at_zoom_limits": true,
      "box_zoom": true,
      "center": [
       37.57941251343841,
       -120.56396484375001
      ],
      "close_popup_on_click": true,
      "controls": [
       "IPY_MODEL_3ccaa6509f6c47c497d7d8c97bd290ec",
       "IPY_MODEL_919d489fddfb46b6adddbae11befa67a",
       "IPY_MODEL_8bdb79782c6b411389b5f5c640a4ba86",
       "IPY_MODEL_919fb2e1319b437998b08d3775145218",
       "IPY_MODEL_81a84f53ae014cc1819ad2c3b27671cc",
       "IPY_MODEL_6da66233a60f4a0bac5046fb5a80d8a0",
       "IPY_MODEL_9cfe2a289d234f6e88117c0e3929bfd4",
       "IPY_MODEL_41f79a0c2f8a46368dcdfa1a17d30f66"
      ],
      "crs": {
       "custom": false,
       "name": "EPSG3857"
      },
      "default_style": "IPY_MODEL_1dee4e04d80c472fafc7da68da7309b0",
      "double_click_zoom": true,
      "dragging": true,
      "dragging_style": "IPY_MODEL_740cad43d74b47ebb2b70d2dbb24259c",
      "east": -113.70849609375001,
      "fullscreen": false,
      "inertia": true,
      "inertia_deceleration": 3000,
      "inertia_max_speed": 1500,
      "interpolation": "bilinear",
      "keyboard": true,
      "keyboard_pan_offset": 80,
      "keyboard_zoom_offset": 1,
      "layers": [
       "IPY_MODEL_ed1156a3452c4ad482ab436832a0cde6",
       "IPY_MODEL_a18e0853ae3046bab2be328a72fa3bdf",
       "IPY_MODEL_311d85eed7144607814d13a8bfe6c638",
       "IPY_MODEL_e182863979034e87be066bbb2a9ecd05",
       "IPY_MODEL_309a887e5b7c4b838e3fcab51903da9a",
       "IPY_MODEL_42f9a06e64e34d28be80044f80d50525",
       "IPY_MODEL_4c0dd157cde749059f4f60cdefbee207"
      ],
      "layout": "IPY_MODEL_585114e85e8b4fcaa5cccc63629ef3f8",
      "left": 2393,
      "max_zoom": 24,
      "min_zoom": 1,
      "modisdate": "2022-08-16",
      "north": 42.61779143282346,
      "options": [
       "bounce_at_zoom_limits",
       "box_zoom",
       "center",
       "close_popup_on_click",
       "double_click_zoom",
       "dragging",
       "fullscreen",
       "inertia",
       "inertia_deceleration",
       "inertia_max_speed",
       "interpolation",
       "keyboard",
       "keyboard_pan_offset",
       "keyboard_zoom_offset",
       "max_zoom",
       "min_zoom",
       "prefer_canvas",
       "scroll_wheel_zoom",
       "tap",
       "tap_tolerance",
       "touch_zoom",
       "world_copy_jump",
       "zoom",
       "zoom_animation_threshold",
       "zoom_delta",
       "zoom_snap",
       "zoom_start"
      ],
      "prefer_canvas": false,
      "right": 3017,
      "scroll_wheel_zoom": true,
      "south": 32.175612478499346,
      "style": "IPY_MODEL_1dee4e04d80c472fafc7da68da7309b0",
      "tap": true,
      "tap_tolerance": 15,
      "top": 6044,
      "touch_zoom": true,
      "west": -127.41943359375001,
      "window_url": "https://un468rx6owq-496ff2e9c6d22116-0-colab.googleusercontent.com/outputframe.html?vrz=colab-20220811-060050-RC00_466916667",
      "world_copy_jump": false,
      "zoom": 6,
      "zoom_animation_threshold": 4,
      "zoom_delta": 1,
      "zoom_snap": 1,
      "zoom_start": 12
     }
    },
    "3ccaa6509f6c47c497d7d8c97bd290ec": {
     "model_module": "jupyter-leaflet",
     "model_module_version": "^0.15.0",
     "model_name": "LeafletWidgetControlModel",
     "state": {
      "_model_module": "jupyter-leaflet",
      "_model_module_version": "^0.15.0",
      "_model_name": "LeafletWidgetControlModel",
      "_view_count": null,
      "_view_module": "jupyter-leaflet",
      "_view_module_version": "^0.15.0",
      "_view_name": "LeafletWidgetControlView",
      "max_height": null,
      "max_width": null,
      "min_height": null,
      "min_width": null,
      "options": [
       "position",
       "transparent_bg"
      ],
      "position": "topleft",
      "transparent_bg": false,
      "widget": "IPY_MODEL_8b95b04efd464261be758f4bcff4f317"
     }
    },
    "41f79a0c2f8a46368dcdfa1a17d30f66": {
     "model_module": "jupyter-leaflet",
     "model_module_version": "^0.15.0",
     "model_name": "LeafletWidgetControlModel",
     "state": {
      "_model_module": "jupyter-leaflet",
      "_model_module_version": "^0.15.0",
      "_model_name": "LeafletWidgetControlModel",
      "_view_count": null,
      "_view_module": "jupyter-leaflet",
      "_view_module_version": "^0.15.0",
      "_view_name": "LeafletWidgetControlView",
      "max_height": null,
      "max_width": null,
      "min_height": null,
      "min_width": null,
      "options": [
       "position",
       "transparent_bg"
      ],
      "position": "topright",
      "transparent_bg": false,
      "widget": "IPY_MODEL_45e712f958064fc78254e7f998a7f814"
     }
    },
    "42f9a06e64e34d28be80044f80d50525": {
     "model_module": "jupyter-leaflet",
     "model_module_version": "^0.15.0",
     "model_name": "LeafletTileLayerModel",
     "state": {
      "_model_module": "jupyter-leaflet",
      "_model_module_version": "^0.15.0",
      "_model_name": "LeafletTileLayerModel",
      "_view_count": null,
      "_view_module": "jupyter-leaflet",
      "_view_module_version": "^0.15.0",
      "_view_name": "LeafletTileLayerView",
      "attribution": "Google Earth Engine",
      "base": false,
      "bottom": true,
      "detect_retina": false,
      "loading": false,
      "max_native_zoom": 18,
      "max_zoom": 18,
      "min_native_zoom": 0,
      "min_zoom": 0,
      "name": "Drawn Features",
      "no_wrap": false,
      "opacity": 0.5,
      "options": [
       "attribution",
       "detect_retina",
       "max_native_zoom",
       "max_zoom",
       "min_native_zoom",
       "min_zoom",
       "no_wrap",
       "tile_size",
       "tms"
      ],
      "popup": null,
      "popup_max_height": null,
      "popup_max_width": 300,
      "popup_min_width": 50,
      "show_loading": false,
      "tile_size": 256,
      "tms": false,
      "url": "https://earthengine.googleapis.com/v1alpha/projects/earthengine-legacy/maps/5b7393cad90bece8a8e9aa90eabd9ad9-4ec071331e30999b517384929f907d5c/tiles/{z}/{x}/{y}",
      "visible": false
     }
    },
    "45e712f958064fc78254e7f998a7f814": {
     "model_module": "@jupyter-widgets/controls",
     "model_module_version": "1.5.0",
     "model_name": "VBoxModel",
     "state": {
      "_dom_classes": [],
      "_model_module": "@jupyter-widgets/controls",
      "_model_module_version": "1.5.0",
      "_model_name": "VBoxModel",
      "_view_count": null,
      "_view_module": "@jupyter-widgets/controls",
      "_view_module_version": "1.5.0",
      "_view_name": "VBoxView",
      "box_style": "",
      "children": [
       "IPY_MODEL_d158265cc61c4ffe9c5cdd0f756bb741"
      ],
      "layout": "IPY_MODEL_20f23c4cdcc6493c93262efb041aa585"
     }
    },
    "45ff84a981ea4f8192114c32a10df12f": {
     "model_module": "@jupyter-widgets/controls",
     "model_module_version": "1.5.0",
     "model_name": "DescriptionStyleModel",
     "state": {
      "_model_module": "@jupyter-widgets/controls",
      "_model_module_version": "1.5.0",
      "_model_name": "DescriptionStyleModel",
      "_view_count": null,
      "_view_module": "@jupyter-widgets/base",
      "_view_module_version": "1.2.0",
      "_view_name": "StyleView",
      "description_width": ""
     }
    },
    "4c0dd157cde749059f4f60cdefbee207": {
     "model_module": "jupyter-leaflet",
     "model_module_version": "^0.15.0",
     "model_name": "LeafletTileLayerModel",
     "state": {
      "_model_module": "jupyter-leaflet",
      "_model_module_version": "^0.15.0",
      "_model_name": "LeafletTileLayerModel",
      "_view_count": null,
      "_view_module": "jupyter-leaflet",
      "_view_module_version": "^0.15.0",
      "_view_name": "LeafletTileLayerView",
      "attribution": "Google Earth Engine",
      "base": false,
      "bottom": true,
      "detect_retina": false,
      "loading": false,
      "max_native_zoom": 18,
      "max_zoom": 24,
      "min_native_zoom": 0,
      "min_zoom": 0,
      "name": "sample_locations",
      "no_wrap": false,
      "opacity": 0.5,
      "options": [
       "attribution",
       "detect_retina",
       "max_native_zoom",
       "max_zoom",
       "min_native_zoom",
       "min_zoom",
       "no_wrap",
       "tile_size",
       "tms"
      ],
      "popup": null,
      "popup_max_height": null,
      "popup_max_width": 300,
      "popup_min_width": 50,
      "show_loading": false,
      "tile_size": 256,
      "tms": false,
      "url": "https://earthengine.googleapis.com/v1alpha/projects/earthengine-legacy/maps/2c0c5e044ed6a522139c4cb62404a42a-f6e6245a95a3d7f09280ea2f58a5d96f/tiles/{z}/{x}/{y}",
      "visible": true
     }
    },
    "585114e85e8b4fcaa5cccc63629ef3f8": {
     "model_module": "@jupyter-widgets/base",
     "model_module_version": "1.2.0",
     "model_name": "LayoutModel",
     "state": {
      "_model_module": "@jupyter-widgets/base",
      "_model_module_version": "1.2.0",
      "_model_name": "LayoutModel",
      "_view_count": null,
      "_view_module": "@jupyter-widgets/base",
      "_view_module_version": "1.2.0",
      "_view_name": "LayoutView",
      "align_content": null,
      "align_items": null,
      "align_self": null,
      "border": null,
      "bottom": null,
      "display": null,
      "flex": null,
      "flex_flow": null,
      "grid_area": null,
      "grid_auto_columns": null,
      "grid_auto_flow": null,
      "grid_auto_rows": null,
      "grid_column": null,
      "grid_gap": null,
      "grid_row": null,
      "grid_template_areas": null,
      "grid_template_columns": null,
      "grid_template_rows": null,
      "height": "600px",
      "justify_content": null,
      "justify_items": null,
      "left": null,
      "margin": null,
      "max_height": null,
      "max_width": null,
      "min_height": null,
      "min_width": null,
      "object_fit": null,
      "object_position": null,
      "order": null,
      "overflow": null,
      "overflow_x": null,
      "overflow_y": null,
      "padding": null,
      "right": null,
      "top": null,
      "visibility": null,
      "width": null
     }
    },
    "5c9644c9804241abb919fcdf389ef889": {
     "model_module": "@jupyter-widgets/base",
     "model_module_version": "1.2.0",
     "model_name": "LayoutModel",
     "state": {
      "_model_module": "@jupyter-widgets/base",
      "_model_module_version": "1.2.0",
      "_model_name": "LayoutModel",
      "_view_count": null,
      "_view_module": "@jupyter-widgets/base",
      "_view_module_version": "1.2.0",
      "_view_name": "LayoutView",
      "align_content": null,
      "align_items": null,
      "align_self": null,
      "border": null,
      "bottom": null,
      "display": null,
      "flex": null,
      "flex_flow": null,
      "grid_area": null,
      "grid_auto_columns": null,
      "grid_auto_flow": null,
      "grid_auto_rows": null,
      "grid_column": null,
      "grid_gap": null,
      "grid_row": null,
      "grid_template_areas": null,
      "grid_template_columns": null,
      "grid_template_rows": null,
      "height": "28px",
      "justify_content": null,
      "justify_items": null,
      "left": null,
      "margin": null,
      "max_height": null,
      "max_width": null,
      "min_height": null,
      "min_width": null,
      "object_fit": null,
      "object_position": null,
      "order": null,
      "overflow": null,
      "overflow_x": null,
      "overflow_y": null,
      "padding": "0px 0px 0px 4px",
      "right": null,
      "top": null,
      "visibility": null,
      "width": "28px"
     }
    },
    "6da66233a60f4a0bac5046fb5a80d8a0": {
     "model_module": "jupyter-leaflet",
     "model_module_version": "^0.15.0",
     "model_name": "LeafletAttributionControlModel",
     "state": {
      "_model_module": "jupyter-leaflet",
      "_model_module_version": "^0.15.0",
      "_model_name": "LeafletAttributionControlModel",
      "_view_count": null,
      "_view_module": "jupyter-leaflet",
      "_view_module_version": "^0.15.0",
      "_view_name": "LeafletAttributionControlView",
      "options": [
       "position",
       "prefix"
      ],
      "position": "bottomright",
      "prefix": "ipyleaflet"
     }
    },
    "711963ad2e4145bba8ea55a710e73195": {
     "model_module": "@jupyter-widgets/controls",
     "model_module_version": "1.5.0",
     "model_name": "DescriptionStyleModel",
     "state": {
      "_model_module": "@jupyter-widgets/controls",
      "_model_module_version": "1.5.0",
      "_model_name": "DescriptionStyleModel",
      "_view_count": null,
      "_view_module": "@jupyter-widgets/base",
      "_view_module_version": "1.2.0",
      "_view_name": "StyleView",
      "description_width": ""
     }
    },
    "740cad43d74b47ebb2b70d2dbb24259c": {
     "model_module": "jupyter-leaflet",
     "model_module_version": "^0.15.0",
     "model_name": "LeafletMapStyleModel",
     "state": {
      "_model_module": "jupyter-leaflet",
      "_model_module_version": "^0.15.0",
      "_model_name": "LeafletMapStyleModel",
      "_view_count": null,
      "_view_module": "@jupyter-widgets/base",
      "_view_module_version": "1.2.0",
      "_view_name": "StyleView",
      "cursor": "move"
     }
    },
    "81a84f53ae014cc1819ad2c3b27671cc": {
     "model_module": "jupyter-leaflet",
     "model_module_version": "^0.15.0",
     "model_name": "LeafletMeasureControlModel",
     "state": {
      "_custom_units": {},
      "_model_module": "jupyter-leaflet",
      "_model_module_version": "^0.15.0",
      "_model_name": "LeafletMeasureControlModel",
      "_view_count": null,
      "_view_module": "jupyter-leaflet",
      "_view_module_version": "^0.15.0",
      "_view_name": "LeafletMeasureControlView",
      "active_color": "orange",
      "capture_z_index": 10000,
      "completed_color": "#C8F2BE",
      "options": [
       "active_color",
       "capture_z_index",
       "completed_color",
       "popup_options",
       "position",
       "primary_area_unit",
       "primary_length_unit",
       "secondary_area_unit",
       "secondary_length_unit"
      ],
      "popup_options": {
       "autoPanPadding": [
        10,
        10
       ],
       "className": "leaflet-measure-resultpopup"
      },
      "position": "bottomleft",
      "primary_area_unit": "acres",
      "primary_length_unit": "kilometers",
      "secondary_area_unit": null,
      "secondary_length_unit": null
     }
    },
    "85d662ebf7704b4aaf2df4f782bd8abc": {
     "model_module": "@jupyter-widgets/controls",
     "model_module_version": "1.5.0",
     "model_name": "ToggleButtonModel",
     "state": {
      "_dom_classes": [],
      "_model_module": "@jupyter-widgets/controls",
      "_model_module_version": "1.5.0",
      "_model_name": "ToggleButtonModel",
      "_view_count": null,
      "_view_module": "@jupyter-widgets/controls",
      "_view_module_version": "1.5.0",
      "_view_name": "ToggleButtonView",
      "button_style": "",
      "description": "",
      "description_tooltip": null,
      "disabled": false,
      "icon": "globe",
      "layout": "IPY_MODEL_5c9644c9804241abb919fcdf389ef889",
      "style": "IPY_MODEL_45ff84a981ea4f8192114c32a10df12f",
      "tooltip": "Search location/data",
      "value": false
     }
    },
    "892486b123184d64a3019cfa26e0f717": {
     "model_module": "jupyter-leaflet",
     "model_module_version": "^0.15.0",
     "model_name": "LeafletMapStyleModel",
     "state": {
      "_model_module": "jupyter-leaflet",
      "_model_module_version": "^0.15.0",
      "_model_name": "LeafletMapStyleModel",
      "_view_count": null,
      "_view_module": "@jupyter-widgets/base",
      "_view_module_version": "1.2.0",
      "_view_name": "StyleView",
      "cursor": "grab"
     }
    },
    "8b95b04efd464261be758f4bcff4f317": {
     "model_module": "@jupyter-widgets/controls",
     "model_module_version": "1.5.0",
     "model_name": "HBoxModel",
     "state": {
      "_dom_classes": [],
      "_model_module": "@jupyter-widgets/controls",
      "_model_module_version": "1.5.0",
      "_model_name": "HBoxModel",
      "_view_count": null,
      "_view_module": "@jupyter-widgets/controls",
      "_view_module_version": "1.5.0",
      "_view_name": "HBoxView",
      "box_style": "",
      "children": [
       "IPY_MODEL_85d662ebf7704b4aaf2df4f782bd8abc"
      ],
      "layout": "IPY_MODEL_0a9011c0df2f4ae585ce1d1174cc161f"
     }
    },
    "8bdb79782c6b411389b5f5c640a4ba86": {
     "model_module": "jupyter-leaflet",
     "model_module_version": "^0.15.0",
     "model_name": "LeafletScaleControlModel",
     "state": {
      "_model_module": "jupyter-leaflet",
      "_model_module_version": "^0.15.0",
      "_model_name": "LeafletScaleControlModel",
      "_view_count": null,
      "_view_module": "jupyter-leaflet",
      "_view_module_version": "^0.15.0",
      "_view_name": "LeafletScaleControlView",
      "imperial": true,
      "max_width": 100,
      "metric": true,
      "options": [
       "imperial",
       "max_width",
       "metric",
       "position",
       "update_when_idle"
      ],
      "position": "bottomleft",
      "update_when_idle": false
     }
    },
    "919d489fddfb46b6adddbae11befa67a": {
     "model_module": "jupyter-leaflet",
     "model_module_version": "^0.15.0",
     "model_name": "LeafletZoomControlModel",
     "state": {
      "_model_module": "jupyter-leaflet",
      "_model_module_version": "^0.15.0",
      "_model_name": "LeafletZoomControlModel",
      "_view_count": null,
      "_view_module": "jupyter-leaflet",
      "_view_module_version": "^0.15.0",
      "_view_name": "LeafletZoomControlView",
      "options": [
       "position",
       "zoom_in_text",
       "zoom_in_title",
       "zoom_out_text",
       "zoom_out_title"
      ],
      "position": "topleft",
      "zoom_in_text": "+",
      "zoom_in_title": "Zoom in",
      "zoom_out_text": "-",
      "zoom_out_title": "Zoom out"
     }
    },
    "919fb2e1319b437998b08d3775145218": {
     "model_module": "jupyter-leaflet",
     "model_module_version": "^0.15.0",
     "model_name": "LeafletFullScreenControlModel",
     "state": {
      "_model_module": "jupyter-leaflet",
      "_model_module_version": "^0.15.0",
      "_model_name": "LeafletFullScreenControlModel",
      "_view_count": null,
      "_view_module": "jupyter-leaflet",
      "_view_module_version": "^0.15.0",
      "_view_name": "LeafletFullScreenControlView",
      "options": [
       "position"
      ],
      "position": "topleft"
     }
    },
    "93e1e09270fd4da09a03941a264216df": {
     "model_module": "@jupyter-widgets/base",
     "model_module_version": "1.2.0",
     "model_name": "LayoutModel",
     "state": {
      "_model_module": "@jupyter-widgets/base",
      "_model_module_version": "1.2.0",
      "_model_name": "LayoutModel",
      "_view_count": null,
      "_view_module": "@jupyter-widgets/base",
      "_view_module_version": "1.2.0",
      "_view_name": "LayoutView",
      "align_content": null,
      "align_items": null,
      "align_self": null,
      "border": null,
      "bottom": null,
      "display": null,
      "flex": null,
      "flex_flow": null,
      "grid_area": null,
      "grid_auto_columns": null,
      "grid_auto_flow": null,
      "grid_auto_rows": null,
      "grid_column": null,
      "grid_gap": null,
      "grid_row": null,
      "grid_template_areas": null,
      "grid_template_columns": null,
      "grid_template_rows": null,
      "height": "28px",
      "justify_content": null,
      "justify_items": null,
      "left": null,
      "margin": null,
      "max_height": null,
      "max_width": null,
      "min_height": null,
      "min_width": null,
      "object_fit": null,
      "object_position": null,
      "order": null,
      "overflow": null,
      "overflow_x": null,
      "overflow_y": null,
      "padding": "0px 0px 0px 4px",
      "right": null,
      "top": null,
      "visibility": null,
      "width": "28px"
     }
    },
    "9cfe2a289d234f6e88117c0e3929bfd4": {
     "model_module": "jupyter-leaflet",
     "model_module_version": "^0.15.0",
     "model_name": "LeafletDrawControlModel",
     "state": {
      "_model_module": "jupyter-leaflet",
      "_model_module_version": "^0.15.0",
      "_model_name": "LeafletDrawControlModel",
      "_view_count": null,
      "_view_module": "jupyter-leaflet",
      "_view_module_version": "^0.15.0",
      "_view_name": "LeafletDrawControlView",
      "circle": {
       "shapeOptions": {
        "color": "#3388ff"
       }
      },
      "circlemarker": {},
      "data": [
       {
        "geometry": {
         "coordinates": [
          [
           [
            -130.353556,
            29.082745
           ],
           [
            -130.353556,
            44.565172
           ],
           [
            -109.951944,
            44.565172
           ],
           [
            -109.951944,
            29.082745
           ],
           [
            -130.353556,
            29.082745
           ]
          ]
         ],
         "type": "Polygon"
        },
        "properties": {
         "style": {
          "clickable": true,
          "color": "#3388ff",
          "fill": true,
          "fillColor": null,
          "fillOpacity": 0.2,
          "opacity": 0.5,
          "stroke": true,
          "weight": 4
         }
        },
        "type": "Feature"
       }
      ],
      "edit": true,
      "marker": {
       "shapeOptions": {
        "color": "#3388ff"
       }
      },
      "options": [
       "position"
      ],
      "polygon": {
       "shapeOptions": {}
      },
      "polyline": {
       "shapeOptions": {}
      },
      "position": "topleft",
      "rectangle": {
       "shapeOptions": {
        "color": "#3388ff"
       }
      },
      "remove": true
     }
    },
    "a18e0853ae3046bab2be328a72fa3bdf": {
     "model_module": "jupyter-leaflet",
     "model_module_version": "^0.15.0",
     "model_name": "LeafletTileLayerModel",
     "state": {
      "_model_module": "jupyter-leaflet",
      "_model_module_version": "^0.15.0",
      "_model_name": "LeafletTileLayerModel",
      "_view_count": null,
      "_view_module": "jupyter-leaflet",
      "_view_module_version": "^0.15.0",
      "_view_name": "LeafletTileLayerView",
      "attribution": "Google",
      "base": false,
      "bottom": true,
      "detect_retina": false,
      "loading": false,
      "max_native_zoom": 18,
      "max_zoom": 22,
      "min_native_zoom": 0,
      "min_zoom": 0,
      "name": "Google Maps",
      "no_wrap": false,
      "opacity": 1,
      "options": [
       "attribution",
       "detect_retina",
       "max_native_zoom",
       "max_zoom",
       "min_native_zoom",
       "min_zoom",
       "no_wrap",
       "tile_size",
       "tms"
      ],
      "popup": null,
      "popup_max_height": null,
      "popup_max_width": 300,
      "popup_min_width": 50,
      "show_loading": false,
      "tile_size": 256,
      "tms": false,
      "url": "https://mt1.google.com/vt/lyrs=m&x={x}&y={y}&z={z}",
      "visible": true
     }
    },
    "d158265cc61c4ffe9c5cdd0f756bb741": {
     "model_module": "@jupyter-widgets/controls",
     "model_module_version": "1.5.0",
     "model_name": "ToggleButtonModel",
     "state": {
      "_dom_classes": [],
      "_model_module": "@jupyter-widgets/controls",
      "_model_module_version": "1.5.0",
      "_model_name": "ToggleButtonModel",
      "_view_count": null,
      "_view_module": "@jupyter-widgets/controls",
      "_view_module_version": "1.5.0",
      "_view_name": "ToggleButtonView",
      "button_style": "",
      "description": "",
      "description_tooltip": null,
      "disabled": false,
      "icon": "wrench",
      "layout": "IPY_MODEL_93e1e09270fd4da09a03941a264216df",
      "style": "IPY_MODEL_711963ad2e4145bba8ea55a710e73195",
      "tooltip": "Toolbar",
      "value": false
     }
    },
    "e182863979034e87be066bbb2a9ecd05": {
     "model_module": "jupyter-leaflet",
     "model_module_version": "^0.15.0",
     "model_name": "LeafletTileLayerModel",
     "state": {
      "_model_module": "jupyter-leaflet",
      "_model_module_version": "^0.15.0",
      "_model_name": "LeafletTileLayerModel",
      "_view_count": null,
      "_view_module": "jupyter-leaflet",
      "_view_module_version": "^0.15.0",
      "_view_name": "LeafletTileLayerView",
      "attribution": "Google Earth Engine",
      "base": false,
      "bottom": true,
      "detect_retina": false,
      "loading": false,
      "max_native_zoom": 18,
      "max_zoom": 24,
      "min_native_zoom": 0,
      "min_zoom": 0,
      "name": "irrigated",
      "no_wrap": false,
      "opacity": 0.5,
      "options": [
       "attribution",
       "detect_retina",
       "max_native_zoom",
       "max_zoom",
       "min_native_zoom",
       "min_zoom",
       "no_wrap",
       "tile_size",
       "tms"
      ],
      "popup": null,
      "popup_max_height": null,
      "popup_max_width": 300,
      "popup_min_width": 50,
      "show_loading": false,
      "tile_size": 256,
      "tms": false,
      "url": "https://earthengine.googleapis.com/v1alpha/projects/earthengine-legacy/maps/100a409ec46df985720711a0568fd787-05e1cee08b9511b54a3bccae2a817413/tiles/{z}/{x}/{y}",
      "visible": true
     }
    },
    "ed1156a3452c4ad482ab436832a0cde6": {
     "model_module": "jupyter-leaflet",
     "model_module_version": "^0.15.0",
     "model_name": "LeafletTileLayerModel",
     "state": {
      "_model_module": "jupyter-leaflet",
      "_model_module_version": "^0.15.0",
      "_model_name": "LeafletTileLayerModel",
      "_view_count": null,
      "_view_module": "jupyter-leaflet",
      "_view_module_version": "^0.15.0",
      "_view_name": "LeafletTileLayerView",
      "attribution": "&copy; <a href=\"https://www.openstreetmap.org/copyright\">OpenStreetMap</a> contributors",
      "base": true,
      "bottom": true,
      "detect_retina": false,
      "loading": false,
      "max_native_zoom": 18,
      "max_zoom": 19,
      "min_native_zoom": 0,
      "min_zoom": 1,
      "name": "OpenStreetMap.Mapnik",
      "no_wrap": false,
      "opacity": 1,
      "options": [
       "attribution",
       "detect_retina",
       "max_native_zoom",
       "max_zoom",
       "min_native_zoom",
       "min_zoom",
       "no_wrap",
       "tile_size",
       "tms"
      ],
      "popup": null,
      "popup_max_height": null,
      "popup_max_width": 300,
      "popup_min_width": 50,
      "show_loading": false,
      "tile_size": 256,
      "tms": false,
      "url": "https://a.tile.openstreetmap.org/{z}/{x}/{y}.png",
      "visible": true
     }
    }
   }
  }
 },
 "nbformat": 4,
 "nbformat_minor": 1
}
