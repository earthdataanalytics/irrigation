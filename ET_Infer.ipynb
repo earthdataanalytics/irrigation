{
 "cells": [
  {
   "cell_type": "markdown",
   "metadata": {
    "id": "EZF8erxJt2BO"
   },
   "source": [
    "# Description"
   ]
  },
  {
   "cell_type": "markdown",
   "metadata": {
    "id": "39rChrfwtsp3"
   },
   "source": [
    "This notebook is used to run an pre-trained ML model to predict whether irrigation is in use in a geographic zone for a date range.  It generates images which can then be visualized in Google Earth Engine.\n",
    "\n",
    "The SEBAL calculations for ET are leveraged from https://github.com/gee-hydro/geeSEBAL\n"
   ]
  },
  {
   "cell_type": "markdown",
   "metadata": {
    "id": "CHn4vExr_-9z"
   },
   "source": [
    "# Setup Notebook"
   ]
  },
  {
   "cell_type": "code",
   "execution_count": null,
   "metadata": {
    "executionInfo": {
     "elapsed": 189,
     "status": "ok",
     "timestamp": 1675895228520,
     "user": {
      "displayName": "Blair Jones",
      "userId": "11507989587297916179"
     },
     "user_tz": 300
    },
    "id": "lst9ZoxtN-er"
   },
   "outputs": [],
   "source": [
    "#!pip install geemap\n",
    "#!pip install geopandas"
   ]
  },
  {
   "cell_type": "code",
   "execution_count": 3,
   "metadata": {
    "executionInfo": {
     "elapsed": 1399,
     "status": "ok",
     "timestamp": 1675895230047,
     "user": {
      "displayName": "Blair Jones",
      "userId": "11507989587297916179"
     },
     "user_tz": 300
    },
    "id": "ATpKA5QIOFUk"
   },
   "outputs": [
    {
     "data": {
      "text/html": [
       "<p>To authorize access needed by Earth Engine, open the following\n",
       "        URL in a web browser and follow the instructions:</p>\n",
       "        <p><a href=https://code.earthengine.google.com/client-auth?scopes=https%3A//www.googleapis.com/auth/earthengine%20https%3A//www.googleapis.com/auth/devstorage.full_control&request_id=M8gePJcOcCqFT21ahMSijBY1TdAq2Tfw5iG--ezwa5Y&tc=miW-jK00TLEHYA5mnuNQnRWBOJeS5cQiDPn1G4iv7c8&cc=N8Ht7zypbNcYMwzAql4VWVHyjIMDfHay-AL4pVOj78g>https://code.earthengine.google.com/client-auth?scopes=https%3A//www.googleapis.com/auth/earthengine%20https%3A//www.googleapis.com/auth/devstorage.full_control&request_id=M8gePJcOcCqFT21ahMSijBY1TdAq2Tfw5iG--ezwa5Y&tc=miW-jK00TLEHYA5mnuNQnRWBOJeS5cQiDPn1G4iv7c8&cc=N8Ht7zypbNcYMwzAql4VWVHyjIMDfHay-AL4pVOj78g</a></p>\n",
       "        <p>The authorization workflow will generate a code, which you should paste in the box below.</p>\n",
       "        "
      ],
      "text/plain": [
       "<IPython.core.display.HTML object>"
      ]
     },
     "metadata": {},
     "output_type": "display_data"
    },
    {
     "name": "stdout",
     "output_type": "stream",
     "text": [
      "Enter verification code: 4/1AfJohXkpHGvQHvOJoRs-5F-sZUVZQhFhZ6wm5y0RO4fz-YgmS9cRRegkNfs\n",
      "\n",
      "Successfully saved authorization token.\n"
     ]
    }
   ],
   "source": [
    "import ee\n",
    "ee.Authenticate()\n",
    "ee.Initialize(project='second-impact-342800')\n",
    "import geemap\n",
    "\n",
    "import numpy as np\n",
    "import pandas as pd\n",
    "import datetime\n",
    "import json\n",
    "from timeit import default_timer as timer\n",
    "from datetime import timedelta\n",
    "import ipyleaflet\n",
    "import ipywidgets as widgets\n",
    "from tqdm.notebook import tqdm\n",
    "import calendar"
   ]
  },
  {
   "cell_type": "code",
   "execution_count": 4,
   "metadata": {
    "colab": {
     "base_uri": "https://localhost:8080/"
    },
    "executionInfo": {
     "elapsed": 4,
     "status": "ok",
     "timestamp": 1675895230190,
     "user": {
      "displayName": "Blair Jones",
      "userId": "11507989587297916179"
     },
     "user_tz": 300
    },
    "id": "UFqGbailPSp0",
    "outputId": "ba2a1160-737d-46c2-8a3b-988047ffd5af"
   },
   "outputs": [],
   "source": [
    "# Run in a cloud environment\n",
    "#%cd /content\n",
    "#!git clone https://github.com/gee-hydro/geeSEBAL.git\n",
    "#!git clone https://github.com/earthdataanalytics/irrigation.git\n",
    "#!cp -r geeSEBAL/etbrasil/ irrigation/\n",
    "#%cd irrigation/"
   ]
  },
  {
   "cell_type": "markdown",
   "metadata": {
    "id": "Ee4YrSM06loM"
   },
   "source": [
    "#### Custom libraries"
   ]
  },
  {
   "cell_type": "code",
   "execution_count": 5,
   "metadata": {
    "executionInfo": {
     "elapsed": 660,
     "status": "ok",
     "timestamp": 1675895230849,
     "user": {
      "displayName": "Blair Jones",
      "userId": "11507989587297916179"
     },
     "user_tz": 300
    },
    "id": "diUuKsIzIvFM"
   },
   "outputs": [],
   "source": [
    "from etbrasil.geesebal import Image\n",
    "from etbrasil.geesebal import etretrieval as etr\n",
    "from pipeline import boundaries as bnd\n",
    "from pipeline import cropmasks as msk\n",
    "from pipeline import labeledsamples as ls\n",
    "from pipeline import dataextract as dx\n",
    "from pipeline import utils"
   ]
  },
  {
   "cell_type": "markdown",
   "metadata": {
    "id": "rGdWx_m9e6i1"
   },
   "source": [
    "# Train GEE Random Forest classifier"
   ]
  },
  {
   "cell_type": "markdown",
   "metadata": {
    "id": "0Vji2XyBFL_v"
   },
   "source": [
    "##### Set training parameters"
   ]
  },
  {
   "cell_type": "code",
   "execution_count": 6,
   "metadata": {
    "executionInfo": {
     "elapsed": 2,
     "status": "ok",
     "timestamp": 1675895230849,
     "user": {
      "displayName": "Blair Jones",
      "userId": "11507989587297916179"
     },
     "user_tz": 300
    },
    "id": "tg7R5w-bCENd"
   },
   "outputs": [],
   "source": [
    "# To customize for each run\n",
    "project_name = 'Restart'\n",
    "startDate = '2021-08-01'\n",
    "endDate = '2022-10-31'\n",
    "model_name = '20230925_gee_cost_est' # This retrieves the best model for the area.  Was previously f'{project_name}'\n",
    "\n",
    "# Defaults\n",
    "et_var = 'ET_24h_R'\n",
    "label_var = 'loc_type'\n",
    "cols = [et_var, 'NDVI', 'LandT_G', 'last_rain', 'sum_precip_priorX',\t'mm', label_var, 'latitude', 'longitude']"
   ]
  },
  {
   "cell_type": "markdown",
   "metadata": {
    "id": "ZxHD1NyJHyG4"
   },
   "source": [
    "##### Retrieve training data"
   ]
  },
  {
   "cell_type": "code",
   "execution_count": 7,
   "metadata": {
    "executionInfo": {
     "elapsed": 3,
     "status": "ok",
     "timestamp": 1675895230850,
     "user": {
      "displayName": "Blair Jones",
      "userId": "11507989587297916179"
     },
     "user_tz": 300
    },
    "id": "77pSwxSNXO6Q"
   },
   "outputs": [],
   "source": [
    "model_path = f'../runs/{model_name}/best/'\n",
    "with open(model_path+'summary_stats.json', 'r', encoding='utf-8') as f:\n",
    "    local_best = json.load(f)\n",
    "\n",
    "best_run = local_best['exp_ref']\n",
    "feature_path = f'../runs/{model_name}/{best_run}/'"
   ]
  },
  {
   "cell_type": "code",
   "execution_count": 10,
   "metadata": {
    "colab": {
     "base_uri": "https://localhost:8080/"
    },
    "executionInfo": {
     "elapsed": 3797,
     "status": "ok",
     "timestamp": 1675895234644,
     "user": {
      "displayName": "Blair Jones",
      "userId": "11507989587297916179"
     },
     "user_tz": 300
    },
    "id": "nzbly4RLMMGF",
    "outputId": "4e399037-8a83-461a-c515-191e9c437236"
   },
   "outputs": [
    {
     "name": "stdout",
     "output_type": "stream",
     "text": [
      "Total number of samples:    145\n",
      "Number of training samples: 114\n"
     ]
    },
    {
     "name": "stderr",
     "output_type": "stream",
     "text": [
      " EECU·s PeakMem Count  Description\n",
      "  0.066    162k   643  (plumbing)\n",
      "  0.022    240k   146  no description available\n",
      "  0.001    1.6k     2  Algorithm Collection.reduceColumns with reducer Reducer.count\n",
      "  0.000    2.5k     2  Listing collection\n",
      "   -       286k     6  Algorithm Collection\n",
      "   -       201k     2  Algorithm List.(construct from elements)\n",
      "   -        11k     4  Algorithm Collection.reduceColumns\n",
      "   -       3.8k     3  Algorithm Collection.filter\n",
      "   -       3.6k   870  Algorithm Feature\n",
      "   -       3.5k     3  Algorithm Collection.randomColumn\n",
      "   -       3.4k     4  Algorithm AggregateFeatureCollection.count\n",
      "   -       3.3k     6  Algorithm Collection.size\n",
      "   -       3.3k     3  Algorithm Filter.lt\n",
      "   -       2.0k   182  Algorithm GeometryConstructors.Point\n"
     ]
    }
   ],
   "source": [
    "with ee.profilePrinting():\n",
    "    ee.data.setDefaultWorkloadTag('hydracarta_backend')\n",
    "    ee.data.setWorkloadTag('hydracarta_train_model')\n",
    "\n",
    "    df_features = pd.read_pickle(feature_path+'features.pkl')\n",
    "    df_features = df_features[cols]\n",
    "\n",
    "    # set all columns to numeric\n",
    "    for col in cols:\n",
    "        df_features[col] = df_features[col].astype(float)\n",
    "\n",
    "    # convert from celsius to kelvin\n",
    "    df_features.LandT_G = df_features.LandT_G + 273.15\n",
    "\n",
    "    fc_data = geemap.pandas_to_ee(df_features, latitude=\"latitude\", longitude=\"longitude\")\n",
    "    print('Total number of samples:   ', fc_data.size().getInfo())\n",
    "\n",
    "    fc_split = utils.train_test_split(fc_data)\n",
    "    print('Number of training samples:', fc_split['train_partition'].size().getInfo())"
   ]
  },
  {
   "cell_type": "markdown",
   "metadata": {
    "id": "R53nBWicVOQH"
   },
   "source": [
    "##### Create and train GEE RandomForest Classifier"
   ]
  },
  {
   "cell_type": "code",
   "execution_count": 11,
   "metadata": {
    "executionInfo": {
     "elapsed": 12,
     "status": "ok",
     "timestamp": 1675895234644,
     "user": {
      "displayName": "Blair Jones",
      "userId": "11507989587297916179"
     },
     "user_tz": 300
    },
    "id": "U2mfSXxlMYdM"
   },
   "outputs": [
    {
     "name": "stderr",
     "output_type": "stream",
     "text": [
      " EECU·s PeakMem Count  Description\n"
     ]
    }
   ],
   "source": [
    "with ee.profilePrinting():\n",
    "    ee.data.setWorkloadTag('hydracarta_train_model')\n",
    "\n",
    "    num_trees = 1000\n",
    "    bag_fraction = 0.63\n",
    "    #variables_per_split = 10\n",
    "    feature_list = cols[:6]\n",
    "\n",
    "    classifier = ee.Classifier.smileRandomForest(\n",
    "        numberOfTrees=num_trees,\n",
    "    #    variablesPerSplit=variables_per_split,\n",
    "        bagFraction=bag_fraction,\n",
    "        seed=10\n",
    "    )\n",
    "    classifier = classifier.train(\n",
    "        features=fc_split['train_partition'],\n",
    "        classProperty=label_var,\n",
    "        inputProperties=feature_list,\n",
    "        subsamplingSeed=10\n",
    "    )"
   ]
  },
  {
   "cell_type": "markdown",
   "metadata": {
    "id": "wO4eppTCCEso"
   },
   "source": [
    "#### Score GEE classifier"
   ]
  },
  {
   "cell_type": "code",
   "execution_count": 13,
   "metadata": {
    "colab": {
     "base_uri": "https://localhost:8080/"
    },
    "executionInfo": {
     "elapsed": 9493,
     "status": "ok",
     "timestamp": 1675895244126,
     "user": {
      "displayName": "Blair Jones",
      "userId": "11507989587297916179"
     },
     "user_tz": 300
    },
    "id": "Uz-n0c1RPiix",
    "outputId": "6cdb2c16-8af6-4b66-82c1-1565a308b14f"
   },
   "outputs": [
    {
     "name": "stdout",
     "output_type": "stream",
     "text": [
      "Validation error matrix: [[9, 5], [2, 15]]\n",
      "Validation accuracy:     0.774\n",
      "Validation kappa:        0.535\n",
      "CPU times: user 137 ms, sys: 8.88 ms, total: 146 ms\n",
      "Wall time: 4.85 s\n"
     ]
    },
    {
     "name": "stderr",
     "output_type": "stream",
     "text": [
      " EECU·s PeakMem Count  Description\n",
      "  0.466    355k    18  Training a SmileRandomForest classifier\n",
      "  0.466     15M  2585  (plumbing)\n",
      "  0.131    242k   882  no description available\n",
      "  0.002    2.5k     9  Listing collection\n",
      "  0.001    3.4k    15  Algorithm Classifier.TrainingContainer\n",
      "  0.001     15k    12  Algorithm Collection.errorMatrix\n",
      "   -       286k    18  Algorithm Collection\n",
      "   -       201k     6  Algorithm List.(construct from elements)\n",
      "   -       7.0k   435  Algorithm Dictionary.(construct from elements)\n",
      "   -       6.5k     3  Classification using a SMILE classifier\n",
      "   -       6.1k     9  Algorithm FeatureCollection.classify\n",
      "   -       5.1k     6  Algorithm Classifier.train\n",
      "   -       3.9k    27  Algorithm Collection.filter\n",
      "   -       3.7k  2610  Algorithm Feature\n",
      "   -       3.5k    18  Algorithm Collection.randomColumn\n",
      "   -       3.3k     9  Algorithm Filter.gt\n",
      "   -       3.3k     9  Algorithm Filter.lt\n",
      "   -       3.3k     3  Algorithm ConfusionMatrix\n",
      "   -       3.2k     9  Algorithm Filter.not\n",
      "   -       2.9k     1  Algorithm ConfusionMatrix.accuracy\n",
      "   -       2.9k     1  Algorithm ConfusionMatrix.kappa\n",
      "   -       2.6k     6  Algorithm Classifier.smileRandomForest\n",
      "   -       2.0k   273  Algorithm GeometryConstructors.Point\n"
     ]
    }
   ],
   "source": [
    "%%time\n",
    "with ee.profilePrinting():\n",
    "    ee.data.setWorkloadTag('hydracarta_score_model')\n",
    "\n",
    "    validated = fc_split['test_partition'].classify(classifier)\n",
    "\n",
    "    # Get a confusion matrix representing expected accuracy.\n",
    "    if classifier.mode() != 'PROBABILITY':\n",
    "        validation_matrix = validated.errorMatrix(label_var, 'classification')\n",
    "        cm = validation_matrix.getInfo()\n",
    "        gee_acc = validation_matrix.accuracy().getInfo()\n",
    "        gee_kappa = validation_matrix.kappa().getInfo()\n",
    "\n",
    "        print(f'Validation error matrix: {cm}')\n",
    "        print(f'Validation accuracy:     {gee_acc:.3f}')\n",
    "        print(f'Validation kappa:        {gee_kappa:.3f}')"
   ]
  },
  {
   "cell_type": "markdown",
   "metadata": {
    "id": "Ob_MlG7BCGVR"
   },
   "source": [
    "#### Compare GEE and local classfiers"
   ]
  },
  {
   "cell_type": "code",
   "execution_count": 14,
   "metadata": {
    "colab": {
     "base_uri": "https://localhost:8080/"
    },
    "executionInfo": {
     "elapsed": 15,
     "status": "ok",
     "timestamp": 1675895244126,
     "user": {
      "displayName": "Blair Jones",
      "userId": "11507989587297916179"
     },
     "user_tz": 300
    },
    "id": "oBD0DGqWCHK-",
    "outputId": "da664c6a-2152-42e0-bc90-028213b2c630"
   },
   "outputs": [
    {
     "name": "stdout",
     "output_type": "stream",
     "text": [
      "GEE RF Classifier Accuracy   0.77\n",
      "Local RF Classifier Accuracy 0.93\n"
     ]
    }
   ],
   "source": [
    "print(f'GEE RF Classifier Accuracy   {gee_acc:.2f}')\n",
    "print(f'Local RF Classifier Accuracy {local_best[\"rf_accuracy\"]:.2f}')"
   ]
  },
  {
   "cell_type": "markdown",
   "metadata": {
    "id": "5SgMJuJM65d3"
   },
   "source": [
    "# Infer classes for AOI"
   ]
  },
  {
   "cell_type": "markdown",
   "metadata": {
    "id": "Xjx_cCeOx3-h"
   },
   "source": [
    "##### Define Area of Interest (AOI)"
   ]
  },
  {
   "cell_type": "code",
   "execution_count": 15,
   "metadata": {
    "colab": {
     "base_uri": "https://localhost:8080/",
     "height": 621,
     "referenced_widgets": [
      "62794d6199f64e68ad2ee60f9d7c6412",
      "56c6d21605c04435b69c9e239df37e4b",
      "ee64186fd4bb4d67887cb3d3ad521060",
      "8990da3783ca49a28ae8a6957433e8fc",
      "6c1c6f5a6a35482cb7c800be9c7bfc1a",
      "42cb86997fca47e89284aeb971e0d384",
      "17215e6c9d82406095a4a16ec909edd8",
      "191de9780d8d465f90558438d3b06285",
      "6b4fa7738dde4428ab227536412acd40",
      "d8b4b98bedeb4edfbffeb28b7e07e084",
      "55e3a18add6e4fe7bd959f5bcc041df3",
      "a1db2d83378e4075b8514cf3afb4b86e",
      "2b8e5cc6675f45f58e94f0ced9bd6165",
      "1fa88a65f5484912af0ff1610697c9d5",
      "df14730060e3479682566bd7a58f643b",
      "4aea53e838234024b47fcdcb98561545",
      "1f2e04baaa6a464bbf8d160a527a4fa1",
      "7ed39b425c434f3895043030b35ca2cc",
      "cf372a6dc36e47278d6245ecb49a0c2d",
      "17ec7f98a2c14860bc0407cda9a3926f",
      "3e085d57ad7247e396ff95075e39f538",
      "73478cd1fe864565997450b2d19bd99e",
      "a354fbf120c64253b7fcf7d48c05a0d0",
      "541d02002c2e468195b6c4ee2ac4b6fd",
      "67f357acfb324e1aa2cc2727fe957d3b",
      "11e24951e63244678fd694df6d9c8407",
      "84288a634fa24fd9af9fa5c87536e2d1"
     ]
    },
    "executionInfo": {
     "elapsed": 362,
     "status": "ok",
     "timestamp": 1675895244474,
     "user": {
      "displayName": "Blair Jones",
      "userId": "11507989587297916179"
     },
     "user_tz": 300
    },
    "id": "7oW-gKuodfEd",
    "outputId": "36bdaca0-2020-4a32-df63-83c10a3e703f"
   },
   "outputs": [
    {
     "data": {
      "application/vnd.jupyter.widget-view+json": {
       "model_id": "b22a9ea6374443f0a8a1d7086dac2384",
       "version_major": 2,
       "version_minor": 0
      },
      "text/plain": [
       "Map(center=[20, 0], controls=(WidgetControl(options=['position', 'transparent_bg'], widget=HBox(children=(Togg…"
      ]
     },
     "metadata": {},
     "output_type": "display_data"
    }
   ],
   "source": [
    "Map = geemap.Map()\n",
    "Map.add_basemap('HYBRID')\n",
    "Map.centerObject(bnd.central_ca)\n",
    "Map"
   ]
  },
  {
   "cell_type": "code",
   "execution_count": 22,
   "metadata": {
    "executionInfo": {
     "elapsed": 137,
     "status": "ok",
     "timestamp": 1675895262573,
     "user": {
      "displayName": "Blair Jones",
      "userId": "11507989587297916179"
     },
     "user_tz": 300
    },
    "id": "NdRYXm3K64aH"
   },
   "outputs": [],
   "source": [
    "# In general it has been best to select an AOI which is less than (<) 3,000 hectares in area\n",
    "# otherwise the export step tends to crash when processing takes too long, which occurs\n",
    "# frequently when area > 3k hectares.\n",
    "\n",
    "if Map and (len(Map.draw_features) > 0):\n",
    "    aoi = ee.FeatureCollection(Map.draw_features)\n",
    "else:\n",
    "    print(\"Please select an Area of Interest on the map\")"
   ]
  },
  {
   "cell_type": "markdown",
   "metadata": {
    "id": "mv9bxbvQx9mr"
   },
   "source": [
    "##### Retrieve data for inference"
   ]
  },
  {
   "cell_type": "code",
   "execution_count": 36,
   "metadata": {
    "executionInfo": {
     "elapsed": 174,
     "status": "ok",
     "timestamp": 1675805152228,
     "user": {
      "displayName": "Blair Jones",
      "userId": "11507989587297916179"
     },
     "user_tz": 300
    },
    "id": "ge30_CDHIIf0"
   },
   "outputs": [],
   "source": [
    "def retrieveRGBandClassPredictions(startDate=None, endDate=None, applyCropMask=False):\n",
    "    if (startDate==None) or (endDate==None):\n",
    "        print(\"Please specify start and end date\")\n",
    "        return None, None\n",
    "\n",
    "    etcol = Image(window_start=startDate, window_end=endDate, \n",
    "                      aoi=aoi, cloud_max=30, et_var=et_var) \\\n",
    "                .ETandMeteo\n",
    "\n",
    "    if applyCropMask: # added on 2023-02-07\n",
    "        etcol = etcol.map(lambda x: x.updateMask(msk.createGFSADmask(aoi)))\n",
    "\n",
    "    num_images = etcol.size().getInfo()\n",
    "    print('Number of ET sample images retrieved: ', num_images)\n",
    "\n",
    "    rgbCol = ['R', 'G', 'B']\n",
    "    # 2022.08 - in versions before the monthly data labels version Aug-2022, \n",
    "    # the rgb_mosaic was calculated as a mosaic, however this started producing\n",
    "    # too many bad images.\n",
    "    rgb_mosaic = (\n",
    "        etcol\n",
    "            .first()\n",
    "            .clip(aoi)\n",
    "            .select(['R', 'GR', 'B'])\n",
    "            .rename(rgbCol)\n",
    "            .set('custom:date', startDate+'_'+endDate)\n",
    "    )\n",
    "\n",
    "    pred_col = etcol.map(lambda x: x.classify(classifier))\n",
    "\n",
    "    # create a map which takes the mean over all predictions in the time window\n",
    "    # to represent the probability of the pixel being irrigated or not during the window\n",
    "    pred_prob = (\n",
    "        pred_col\n",
    "            .mean()\n",
    "            .clip(aoi)\n",
    "            .set('custom:date', startDate+'_'+endDate)\n",
    "            .set('custom:num_input_images', num_images)\n",
    "    )\n",
    "            \n",
    "    return rgb_mosaic, pred_prob, etcol, num_images"
   ]
  },
  {
   "cell_type": "code",
   "execution_count": 28,
   "metadata": {
    "colab": {
     "base_uri": "https://localhost:8080/"
    },
    "executionInfo": {
     "elapsed": 1078,
     "status": "ok",
     "timestamp": 1675805154149,
     "user": {
      "displayName": "Blair Jones",
      "userId": "11507989587297916179"
     },
     "user_tz": 300
    },
    "id": "GdpRDZH3KmOK",
    "outputId": "9bf2fe3f-4045-428b-8597-6475d3377d16"
   },
   "outputs": [
    {
     "name": "stdout",
     "output_type": "stream",
     "text": [
      "Number of ET sample images retrieved:  77\n"
     ]
    },
    {
     "name": "stderr",
     "output_type": "stream",
     "text": [
      " EECU·s PeakMem Count  Description\n",
      "  0.520     85k  4623  (plumbing)\n",
      "  0.017    138k   224  Algorithm (user-defined function)\n",
      "  0.012     448    80  Listing collection\n",
      "  0.011     94k    78  Algorithm Collection.reduceColumns with reducer Reducer.count\n",
      "  0.007    160k   500  Algorithm Image.constant\n",
      "  0.006    164k   631  Loading assets: (...)/(...)\n",
      "  0.001     13k   105  Algorithm Image.divide\n",
      "  0.000     12k    37  Algorithm Image.log\n",
      "  0.000    7.5k   248  Algorithm Image.multiply\n",
      "  0.000     17k    76  Algorithm Image.addBands\n",
      "  0.000    5.6k    77  Algorithm Image.subtract\n",
      "  0.000    7.6k     4  Algorithm Collection.geometry\n",
      "  0.000    8.6k   247  Algorithm Image.rename\n",
      "  0.000    3.3k    12  Algorithm Image.sin\n",
      "  0.000    3.4k    87  Algorithm Image.select\n",
      "  0.000    3.3k     6  Algorithm Image.tan\n",
      "  0.000    3.3k    10  Algorithm Image.cos\n",
      "  0.000    2.3k     3  Algorithm Image.pixelLonLat\n",
      "  0.000    6.9k    88  Algorithm Image.add\n",
      "   -       1.7M    62  Algorithm Collection.map\n",
      "   -       1.5M   147  Algorithm Image.parseExpression\n",
      "   -       886k   156  Algorithm Collection.reduceColumns\n",
      "   -        73k   234  Algorithm AggregateFeatureCollection.count\n",
      "   -        51k   234  Algorithm Element.set\n",
      "   -        43k    18  Algorithm ImageCollection.load\n",
      "   -        39k   275  Algorithm Collection.filter\n",
      "   -        26k   140  Expression evaluation\n",
      "   -        12k     9  Algorithm Collection.first\n",
      "   -        11k     4  Algorithm Image.load\n",
      "   -      10.0k     2  Algorithm Dictionary.(construct from elements)\n",
      "   -       9.6k    95  Algorithm Image.where\n",
      "   -       7.0k     3  Algorithm Collection.size\n",
      "   -       6.8k     6  Algorithm ImageCollection.merge\n",
      "   -       6.0k     5  Algorithm Image.gt\n",
      "   -       5.5k     2  Algorithm Image.reproject\n",
      "   -       5.5k    21  Algorithm Image.reduceRegion\n",
      "   -       5.2k     1  Algorithm List.map\n",
      "   -       4.8k     5  Algorithm Image.lte\n",
      "   -       4.3k    16  Algorithm Image.updateMask\n",
      "   -       4.2k    84  Algorithm DateRange\n",
      "   -       4.1k     3  Algorithm List.(construct from elements)\n",
      "   -       4.0k     3  Algorithm Image.clip\n",
      "   -       3.9k     1  Algorithm Image.unmask\n",
      "   -       3.9k    28  Algorithm Image.pow\n",
      "   -       3.9k    17  Algorithm Image.eq\n",
      "   -       3.9k     2  Algorithm Date.difference\n",
      "   -       3.9k     1  Algorithm Image.bitwiseAnd\n",
      "   -       3.9k     1  Algorithm Image.reduce\n",
      "   -       3.8k     7  Algorithm Number.add\n",
      "   -       3.8k   235  Algorithm Collection.limit\n",
      "   -       3.4k    55  Algorithm Number.multiply\n",
      "   -       3.4k   272  Algorithm Number.subtract\n",
      "   -       3.4k     1  Algorithm List.sequence\n",
      "   -       3.4k     3  Algorithm Number.parse\n",
      "   -       3.4k     2  Algorithm Image.stratifiedSample\n",
      "   -       3.4k   240  Algorithm Filter.dateRangeContains\n",
      "   -       3.4k     2  Algorithm Dictionary.select\n",
      "   -       3.3k    27  Algorithm Dictionary.get\n",
      "   -       3.3k     5  Algorithm Filter.intersects\n",
      "   -       3.3k     4  Algorithm Date.format\n",
      "   -       3.3k     3  Algorithm Filter.lt\n",
      "   -       3.3k     3  Algorithm Filter.gt\n",
      "   -       3.3k   239  Algorithm Element.get\n",
      "   -       3.3k    40  Algorithm Number.divide\n",
      "   -       3.3k     2  Algorithm Projection\n",
      "   -       3.2k     5  Algorithm Image.resample\n",
      "   -       3.2k     8  Algorithm Feature\n",
      "   -       3.2k     3  Algorithm Collection\n",
      "   -       3.2k     1  Algorithm List.get\n",
      "   -       3.2k     6  Algorithm Number.sin\n",
      "   -       3.2k     3  Algorithm Number.asin\n",
      "   -       3.2k     7  Algorithm Date.advance\n",
      "   -       3.2k     2  Algorithm Dictionary.values\n",
      "   -       3.2k     3  Algorithm Date\n",
      "   -       3.1k     3  Algorithm Date.getRelative\n",
      "   -       3.1k     1  Algorithm GeometryConstructors.Polygon\n",
      "   -       3.1k     1  Algorithm Image.gte\n",
      "   -       3.1k     2  Algorithm Geometry.bounds\n",
      "   -       2.8k     2  Algorithm GeometryConstructors.Point\n",
      "   -       2.7k     1  Algorithm Geometry.centroid\n",
      "   -       2.7k     1  Algorithm Geometry.coordinates\n",
      "   -       2.7k     4  Loading assets: USGS\n",
      "   -       2.7k     4  Algorithm Element.geometry\n",
      "   -       2.6k     8  Algorithm Image.exp\n",
      "   -       2.6k     2  Algorithm Image.sqrt\n",
      "   -       2.6k     2  Algorithm Image.acos\n",
      "   -       2.5k    10  Algorithm AggregateFeatureCollection.first\n",
      "   -       2.5k     2  Algorithm Image.int\n",
      "   -       2.5k     1  Algorithm ImageCollection.fromImages\n",
      "   -       2.4k     1  Algorithm Feature.setGeometry\n",
      "   -       2.4k     1  Algorithm Image.float\n",
      "   -       2.4k     3  Algorithm Reducer.percentile\n",
      "   -       2.3k    16  Algorithm Image.lt\n",
      "   -       2.3k     3  Algorithm reduce.sum\n",
      "   -       2.3k     1  Algorithm reduce.min\n",
      "   -       2.3k     3  Algorithm Image.date\n",
      "   -       2.1k     2  Algorithm Date.get\n",
      "   -       2.1k     5  Algorithm Number.cos\n",
      "   -       2.1k     1  Algorithm Date.millis\n",
      "   -       2.1k     1  Algorithm Number.int\n",
      "   -       2.1k     2  Algorithm Image.projection\n",
      "   -       2.0k     2  Algorithm Image.normalizedDifference\n",
      "   -       1.7k     1  Algorithm Terrain.products\n",
      "   -       1.6k     1  Algorithm Projection.nominalScale\n",
      "   -       1.6k     1  Algorithm Element.toDictionary\n",
      "   -       1.6k     2  Algorithm Image.atan\n",
      "   -        640     1  Algorithm Reducer.mean\n",
      "   -        640     1  Algorithm Reducer.first\n",
      "   -        640     1  Algorithm Reducer.count\n",
      "   -        216     5  Algorithm Collection.merge\n"
     ]
    },
    {
     "ename": "AttributeError",
     "evalue": "'ImageCollection' object has no attribute 'clip'",
     "output_type": "error",
     "traceback": [
      "\u001b[0;31m---------------------------------------------------------------------------\u001b[0m",
      "\u001b[0;31mAttributeError\u001b[0m                            Traceback (most recent call last)",
      "\u001b[0;32m<timed exec>\u001b[0m in \u001b[0;36m<module>\u001b[0;34m\u001b[0m\n",
      "\u001b[0;32m<ipython-input-27-978f40e60d28>\u001b[0m in \u001b[0;36mretrieveRGBandClassPredictions\u001b[0;34m(startDate, endDate, applyCropMask)\u001b[0m\n\u001b[1;32m     30\u001b[0m     \u001b[0;31m# to represent the probability of the pixel being irrigated or not during the window\u001b[0m\u001b[0;34m\u001b[0m\u001b[0;34m\u001b[0m\u001b[0;34m\u001b[0m\u001b[0m\n\u001b[1;32m     31\u001b[0m     pred_prob = (\n\u001b[0;32m---> 32\u001b[0;31m         \u001b[0mpred_col\u001b[0m\u001b[0;34m\u001b[0m\u001b[0;34m\u001b[0m\u001b[0m\n\u001b[0m\u001b[1;32m     33\u001b[0m             \u001b[0;34m.\u001b[0m\u001b[0mclip\u001b[0m\u001b[0;34m(\u001b[0m\u001b[0maoi\u001b[0m\u001b[0;34m)\u001b[0m\u001b[0;34m\u001b[0m\u001b[0;34m\u001b[0m\u001b[0m\n\u001b[1;32m     34\u001b[0m             \u001b[0;34m.\u001b[0m\u001b[0mmean\u001b[0m\u001b[0;34m(\u001b[0m\u001b[0;34m)\u001b[0m\u001b[0;34m\u001b[0m\u001b[0;34m\u001b[0m\u001b[0m\n",
      "\u001b[0;31mAttributeError\u001b[0m: 'ImageCollection' object has no attribute 'clip'"
     ]
    }
   ],
   "source": [
    "%%time\n",
    "with ee.profilePrinting():\n",
    "    ee.data.setWorkloadTag('hydracarta_infer_aoi')\n",
    "\n",
    "    rgb_mosaic, pred_prob, et_data, cnt = retrieveRGBandClassPredictions(startDate, endDate, applyCropMask=False)"
   ]
  },
  {
   "cell_type": "markdown",
   "metadata": {
    "id": "lFgrL3pSyI-L"
   },
   "source": [
    "\n",
    "##### Visualize results\n"
   ]
  },
  {
   "cell_type": "code",
   "execution_count": 34,
   "metadata": {},
   "outputs": [
    {
     "ename": "EEException",
     "evalue": "Too many concurrent aggregations.",
     "output_type": "error",
     "traceback": [
      "\u001b[0;31m---------------------------------------------------------------------------\u001b[0m",
      "\u001b[0;31mHttpError\u001b[0m                                 Traceback (most recent call last)",
      "\u001b[0;32m~/opt/anaconda3/lib/python3.7/site-packages/ee/data.py\u001b[0m in \u001b[0;36m_execute_cloud_call\u001b[0;34m(call, num_retries)\u001b[0m\n\u001b[1;32m    351\u001b[0m   \u001b[0;32mtry\u001b[0m\u001b[0;34m:\u001b[0m\u001b[0;34m\u001b[0m\u001b[0;34m\u001b[0m\u001b[0m\n\u001b[0;32m--> 352\u001b[0;31m     \u001b[0;32mreturn\u001b[0m \u001b[0mcall\u001b[0m\u001b[0;34m.\u001b[0m\u001b[0mexecute\u001b[0m\u001b[0;34m(\u001b[0m\u001b[0mnum_retries\u001b[0m\u001b[0;34m=\u001b[0m\u001b[0mnum_retries\u001b[0m\u001b[0;34m)\u001b[0m\u001b[0;34m\u001b[0m\u001b[0;34m\u001b[0m\u001b[0m\n\u001b[0m\u001b[1;32m    353\u001b[0m   \u001b[0;32mexcept\u001b[0m \u001b[0mgoogleapiclient\u001b[0m\u001b[0;34m.\u001b[0m\u001b[0merrors\u001b[0m\u001b[0;34m.\u001b[0m\u001b[0mHttpError\u001b[0m \u001b[0;32mas\u001b[0m \u001b[0me\u001b[0m\u001b[0;34m:\u001b[0m\u001b[0;34m\u001b[0m\u001b[0;34m\u001b[0m\u001b[0m\n",
      "\u001b[0;32m~/opt/anaconda3/lib/python3.7/site-packages/googleapiclient/_helpers.py\u001b[0m in \u001b[0;36mpositional_wrapper\u001b[0;34m(*args, **kwargs)\u001b[0m\n\u001b[1;32m    129\u001b[0m                     \u001b[0mlogger\u001b[0m\u001b[0;34m.\u001b[0m\u001b[0mwarning\u001b[0m\u001b[0;34m(\u001b[0m\u001b[0mmessage\u001b[0m\u001b[0;34m)\u001b[0m\u001b[0;34m\u001b[0m\u001b[0;34m\u001b[0m\u001b[0m\n\u001b[0;32m--> 130\u001b[0;31m             \u001b[0;32mreturn\u001b[0m \u001b[0mwrapped\u001b[0m\u001b[0;34m(\u001b[0m\u001b[0;34m*\u001b[0m\u001b[0margs\u001b[0m\u001b[0;34m,\u001b[0m \u001b[0;34m**\u001b[0m\u001b[0mkwargs\u001b[0m\u001b[0;34m)\u001b[0m\u001b[0;34m\u001b[0m\u001b[0;34m\u001b[0m\u001b[0m\n\u001b[0m\u001b[1;32m    131\u001b[0m \u001b[0;34m\u001b[0m\u001b[0m\n",
      "\u001b[0;32m~/opt/anaconda3/lib/python3.7/site-packages/googleapiclient/http.py\u001b[0m in \u001b[0;36mexecute\u001b[0;34m(self, http, num_retries)\u001b[0m\n\u001b[1;32m    937\u001b[0m         \u001b[0;32mif\u001b[0m \u001b[0mresp\u001b[0m\u001b[0;34m.\u001b[0m\u001b[0mstatus\u001b[0m \u001b[0;34m>=\u001b[0m \u001b[0;36m300\u001b[0m\u001b[0;34m:\u001b[0m\u001b[0;34m\u001b[0m\u001b[0;34m\u001b[0m\u001b[0m\n\u001b[0;32m--> 938\u001b[0;31m             \u001b[0;32mraise\u001b[0m \u001b[0mHttpError\u001b[0m\u001b[0;34m(\u001b[0m\u001b[0mresp\u001b[0m\u001b[0;34m,\u001b[0m \u001b[0mcontent\u001b[0m\u001b[0;34m,\u001b[0m \u001b[0muri\u001b[0m\u001b[0;34m=\u001b[0m\u001b[0mself\u001b[0m\u001b[0;34m.\u001b[0m\u001b[0muri\u001b[0m\u001b[0;34m)\u001b[0m\u001b[0;34m\u001b[0m\u001b[0;34m\u001b[0m\u001b[0m\n\u001b[0m\u001b[1;32m    939\u001b[0m         \u001b[0;32mreturn\u001b[0m \u001b[0mself\u001b[0m\u001b[0;34m.\u001b[0m\u001b[0mpostproc\u001b[0m\u001b[0;34m(\u001b[0m\u001b[0mresp\u001b[0m\u001b[0;34m,\u001b[0m \u001b[0mcontent\u001b[0m\u001b[0;34m)\u001b[0m\u001b[0;34m\u001b[0m\u001b[0;34m\u001b[0m\u001b[0m\n",
      "\u001b[0;31mHttpError\u001b[0m: <HttpError 429 when requesting https://earthengine.googleapis.com/v1/projects/second-impact-342800/maps?fields=name&workloadTag=hydracarta_export_infer_results&alt=json returned \"Too many concurrent aggregations.\". Details: \"Too many concurrent aggregations.\">",
      "\nDuring handling of the above exception, another exception occurred:\n",
      "\u001b[0;31mEEException\u001b[0m                               Traceback (most recent call last)",
      "\u001b[0;32m<ipython-input-34-ace1a19019ba>\u001b[0m in \u001b[0;36m<module>\u001b[0;34m\u001b[0m\n\u001b[1;32m      1\u001b[0m \u001b[0mMap\u001b[0m\u001b[0;34m.\u001b[0m\u001b[0mcenterObject\u001b[0m\u001b[0;34m(\u001b[0m\u001b[0maoi\u001b[0m\u001b[0;34m)\u001b[0m\u001b[0;34m\u001b[0m\u001b[0;34m\u001b[0m\u001b[0m\n\u001b[0;32m----> 2\u001b[0;31m \u001b[0mMap\u001b[0m\u001b[0;34m.\u001b[0m\u001b[0maddLayer\u001b[0m\u001b[0;34m(\u001b[0m\u001b[0mrgb_mosaic\u001b[0m\u001b[0;34m,\u001b[0m \u001b[0mrgb_viz\u001b[0m\u001b[0;34m,\u001b[0m \u001b[0;34m'rgb'\u001b[0m\u001b[0;34m,\u001b[0m \u001b[0;32mTrue\u001b[0m\u001b[0;34m,\u001b[0m \u001b[0;36m1.0\u001b[0m\u001b[0;34m)\u001b[0m\u001b[0;34m\u001b[0m\u001b[0;34m\u001b[0m\u001b[0m\n\u001b[0m\u001b[1;32m      3\u001b[0m \u001b[0mMap\u001b[0m\u001b[0;34m\u001b[0m\u001b[0;34m\u001b[0m\u001b[0m\n",
      "\u001b[0;32m~/opt/anaconda3/lib/python3.7/site-packages/geemap/geemap.py\u001b[0m in \u001b[0;36madd_ee_layer\u001b[0;34m(self, ee_object, vis_params, name, shown, opacity)\u001b[0m\n\u001b[1;32m   1487\u001b[0m                 )\n\u001b[1;32m   1488\u001b[0m \u001b[0;34m\u001b[0m\u001b[0m\n\u001b[0;32m-> 1489\u001b[0;31m         \u001b[0mmap_id_dict\u001b[0m \u001b[0;34m=\u001b[0m \u001b[0mee\u001b[0m\u001b[0;34m.\u001b[0m\u001b[0mImage\u001b[0m\u001b[0;34m(\u001b[0m\u001b[0mimage\u001b[0m\u001b[0;34m)\u001b[0m\u001b[0;34m.\u001b[0m\u001b[0mgetMapId\u001b[0m\u001b[0;34m(\u001b[0m\u001b[0mvis_params\u001b[0m\u001b[0;34m)\u001b[0m\u001b[0;34m\u001b[0m\u001b[0;34m\u001b[0m\u001b[0m\n\u001b[0m\u001b[1;32m   1490\u001b[0m         \u001b[0murl\u001b[0m \u001b[0;34m=\u001b[0m \u001b[0mmap_id_dict\u001b[0m\u001b[0;34m[\u001b[0m\u001b[0;34m\"tile_fetcher\"\u001b[0m\u001b[0;34m]\u001b[0m\u001b[0;34m.\u001b[0m\u001b[0murl_format\u001b[0m\u001b[0;34m\u001b[0m\u001b[0;34m\u001b[0m\u001b[0m\n\u001b[1;32m   1491\u001b[0m         tile_layer = ipyleaflet.TileLayer(\n",
      "\u001b[0;32m~/opt/anaconda3/lib/python3.7/site-packages/ee/image.py\u001b[0m in \u001b[0;36mgetMapId\u001b[0;34m(self, vis_params)\u001b[0m\n\u001b[1;32m    125\u001b[0m     \u001b[0mvis_image\u001b[0m\u001b[0;34m,\u001b[0m \u001b[0mrequest\u001b[0m \u001b[0;34m=\u001b[0m \u001b[0mself\u001b[0m\u001b[0;34m.\u001b[0m\u001b[0m_apply_visualization\u001b[0m\u001b[0;34m(\u001b[0m\u001b[0mvis_params\u001b[0m\u001b[0;34m)\u001b[0m\u001b[0;34m\u001b[0m\u001b[0;34m\u001b[0m\u001b[0m\n\u001b[1;32m    126\u001b[0m     \u001b[0mrequest\u001b[0m\u001b[0;34m[\u001b[0m\u001b[0;34m'image'\u001b[0m\u001b[0;34m]\u001b[0m \u001b[0;34m=\u001b[0m \u001b[0mvis_image\u001b[0m\u001b[0;34m\u001b[0m\u001b[0;34m\u001b[0m\u001b[0m\n\u001b[0;32m--> 127\u001b[0;31m     \u001b[0mresponse\u001b[0m \u001b[0;34m=\u001b[0m \u001b[0mdata\u001b[0m\u001b[0;34m.\u001b[0m\u001b[0mgetMapId\u001b[0m\u001b[0;34m(\u001b[0m\u001b[0mrequest\u001b[0m\u001b[0;34m)\u001b[0m\u001b[0;34m\u001b[0m\u001b[0;34m\u001b[0m\u001b[0m\n\u001b[0m\u001b[1;32m    128\u001b[0m     \u001b[0mresponse\u001b[0m\u001b[0;34m[\u001b[0m\u001b[0;34m'image'\u001b[0m\u001b[0;34m]\u001b[0m \u001b[0;34m=\u001b[0m \u001b[0mself\u001b[0m\u001b[0;34m\u001b[0m\u001b[0;34m\u001b[0m\u001b[0m\n\u001b[1;32m    129\u001b[0m     \u001b[0;32mreturn\u001b[0m \u001b[0mresponse\u001b[0m\u001b[0;34m\u001b[0m\u001b[0;34m\u001b[0m\u001b[0m\n",
      "\u001b[0;32m~/opt/anaconda3/lib/python3.7/site-packages/ee/data.py\u001b[0m in \u001b[0;36mgetMapId\u001b[0;34m(params)\u001b[0m\n\u001b[1;32m    663\u001b[0m       \u001b[0m_get_cloud_projects\u001b[0m\u001b[0;34m(\u001b[0m\u001b[0;34m)\u001b[0m\u001b[0;34m\u001b[0m\u001b[0;34m\u001b[0m\u001b[0m\n\u001b[1;32m    664\u001b[0m       \u001b[0;34m.\u001b[0m\u001b[0mmaps\u001b[0m\u001b[0;34m(\u001b[0m\u001b[0;34m)\u001b[0m\u001b[0;34m\u001b[0m\u001b[0;34m\u001b[0m\u001b[0m\n\u001b[0;32m--> 665\u001b[0;31m       \u001b[0;34m.\u001b[0m\u001b[0mcreate\u001b[0m\u001b[0;34m(\u001b[0m\u001b[0mparent\u001b[0m\u001b[0;34m=\u001b[0m\u001b[0m_get_projects_path\u001b[0m\u001b[0;34m(\u001b[0m\u001b[0;34m)\u001b[0m\u001b[0;34m,\u001b[0m \u001b[0;34m**\u001b[0m\u001b[0mqueryParams\u001b[0m\u001b[0;34m)\u001b[0m\u001b[0;34m\u001b[0m\u001b[0;34m\u001b[0m\u001b[0m\n\u001b[0m\u001b[1;32m    666\u001b[0m   )\n\u001b[1;32m    667\u001b[0m   \u001b[0mmap_name\u001b[0m \u001b[0;34m=\u001b[0m \u001b[0mresult\u001b[0m\u001b[0;34m[\u001b[0m\u001b[0;34m'name'\u001b[0m\u001b[0;34m]\u001b[0m\u001b[0;34m\u001b[0m\u001b[0;34m\u001b[0m\u001b[0m\n",
      "\u001b[0;32m~/opt/anaconda3/lib/python3.7/site-packages/ee/data.py\u001b[0m in \u001b[0;36m_execute_cloud_call\u001b[0;34m(call, num_retries)\u001b[0m\n\u001b[1;32m    352\u001b[0m     \u001b[0;32mreturn\u001b[0m \u001b[0mcall\u001b[0m\u001b[0;34m.\u001b[0m\u001b[0mexecute\u001b[0m\u001b[0;34m(\u001b[0m\u001b[0mnum_retries\u001b[0m\u001b[0;34m=\u001b[0m\u001b[0mnum_retries\u001b[0m\u001b[0;34m)\u001b[0m\u001b[0;34m\u001b[0m\u001b[0;34m\u001b[0m\u001b[0m\n\u001b[1;32m    353\u001b[0m   \u001b[0;32mexcept\u001b[0m \u001b[0mgoogleapiclient\u001b[0m\u001b[0;34m.\u001b[0m\u001b[0merrors\u001b[0m\u001b[0;34m.\u001b[0m\u001b[0mHttpError\u001b[0m \u001b[0;32mas\u001b[0m \u001b[0me\u001b[0m\u001b[0;34m:\u001b[0m\u001b[0;34m\u001b[0m\u001b[0;34m\u001b[0m\u001b[0m\n\u001b[0;32m--> 354\u001b[0;31m     \u001b[0;32mraise\u001b[0m \u001b[0m_translate_cloud_exception\u001b[0m\u001b[0;34m(\u001b[0m\u001b[0me\u001b[0m\u001b[0;34m)\u001b[0m  \u001b[0;31m# pylint: disable=raise-missing-from\u001b[0m\u001b[0;34m\u001b[0m\u001b[0;34m\u001b[0m\u001b[0m\n\u001b[0m\u001b[1;32m    355\u001b[0m \u001b[0;34m\u001b[0m\u001b[0m\n\u001b[1;32m    356\u001b[0m \u001b[0;34m\u001b[0m\u001b[0m\n",
      "\u001b[0;31mEEException\u001b[0m: Too many concurrent aggregations."
     ]
    }
   ],
   "source": [
    "Map.centerObject(aoi)\n",
    "Map.addLayer(rgb_mosaic, rgb_viz, 'rgb', True, 1.0)\n",
    "Map"
   ]
  },
  {
   "cell_type": "code",
   "execution_count": 29,
   "metadata": {
    "executionInfo": {
     "elapsed": 142,
     "status": "ok",
     "timestamp": 1675805155075,
     "user": {
      "displayName": "Blair Jones",
      "userId": "11507989587297916179"
     },
     "user_tz": 300
    },
    "id": "l3CQ2NCMLHiW",
    "scrolled": false
   },
   "outputs": [
    {
     "name": "stderr",
     "output_type": "stream",
     "text": [
      " EECU·s PeakMem Count  Description\n",
      "562.433    5.0M  1792  Algorithm Image.normalizedDifference computing pixels\n",
      "539.502    1.0M  2630  Algorithm Image.reduceRegion\n",
      "296.686     27M 20496  Algorithm Image.multiply computing pixels\n",
      "241.742     18M  1008  Algorithm Image.exp computing pixels\n",
      "196.401     82M  1176  Algorithm Image.gradient computing pixels\n",
      "179.848     32M   336  Reprojection precalculation between EPSG:4326 and EPSG:32610\n",
      "125.313     18M  9296  Algorithm Image.updateMask computing pixels\n",
      "112.716     36M  1344  Algorithm Image.sin computing pixels\n",
      "111.953     36M  1344  Algorithm Image.cos computing pixels\n",
      "108.434     18M   672  Algorithm Image.resample computing pixels\n",
      " 70.269     19M 561812  (plumbing)\n",
      " 58.524     11M 111026  Loading assets: (...)/(...)\n",
      " 43.002    3.9M  1344  Algorithm Image.clip computing pixels\n",
      " 42.372     32M   840  Algorithm Image.pixelLonLat computing pixels\n",
      " 28.658    2.0M  2912  Algorithm Image.eq computing pixels\n",
      "  7.318    3.5M 69539  Algorithm Image.addBands\n",
      "  6.771    2.2M 83015  Algorithm Image.select\n",
      "  3.330    2.7M 178105  Algorithm Image.multiply\n",
      "  2.314    401k 166741  Algorithm Image.constant\n",
      "  1.921    1.2M 68928  Algorithm Image.rename\n",
      "  1.814    2.8M 14352  Algorithm Image.updateMask\n",
      "  1.697    1.2M 67185  Algorithm Image.add\n",
      "  1.378    1.9k   672  no description available\n",
      "  1.187    597k 46222  Algorithm Image.divide\n",
      "  1.110    565k 43862  Algorithm Image.subtract\n",
      "  1.107    1.6k 21728  Algorithm Image.constant computing pixels\n",
      "  0.848     13k  5201  Listing collection\n",
      "  0.784     50k  2257  Algorithm Terrain.products\n",
      "  0.523     38k  4514  Algorithm Image.normalizedDifference\n",
      "  0.510     22k  2256  Algorithm Image.gradient\n",
      "  0.435     384  3360  Reprojecting pixels from (...) to (...)\n",
      "  0.289    357k 11690  Algorithm Image.resample\n",
      "  0.283    235k 16010  Algorithm Image.sin\n",
      "  0.258    276k  4595  Algorithm Image.reproject\n",
      "  0.246    159k 13634  Algorithm Image.cos\n",
      "  0.225    1.1k  7616  Algorithm Image.add computing pixels\n",
      "  0.191     49k  2282  Algorithm Image.clip\n",
      "  0.172    147k  9450  Algorithm Image.pow\n",
      "  0.161    1.1k  3696  Algorithm Image.subtract computing pixels\n",
      "  0.152    117k  6925  Algorithm Image.exp\n",
      "  0.144     97k  7803  Algorithm Image.where\n",
      "  0.122     12k  3733  Algorithm Image.pixelLonLat\n",
      "  0.120     984  3696  Algorithm Image.divide computing pixels\n",
      "  0.112    1.1M   307  Algorithm (user-defined function)\n",
      "  0.100     83k  2361  Algorithm reduce.sum\n",
      "  0.095     38k  2272  Algorithm ReduceRegion.AggregationContainer\n",
      "  0.094     58k  4610  Algorithm Image.log\n",
      "  0.090     64k  6813  Algorithm Image.gt\n",
      "  0.088    1.1k  1680  Algorithm Terrain.products computing pixels\n",
      "  0.072    118k  4841  Algorithm Image.eq\n",
      "  0.063     78k  4606  Algorithm Image.tan\n",
      "  0.059     58k  2338  Algorithm Image.reduce\n",
      "  0.052     37k  2846  Algorithm Image.lte\n",
      "  0.050     432  1456  Algorithm Image.gt computing pixels\n",
      "  0.045     728  1456  Algorithm Image.bitwiseAnd computing pixels\n",
      "  0.038     60k  2338  Algorithm Image.bitwiseAnd\n",
      "  0.038     76k  2376  Algorithm Image.sqrt\n",
      "  0.035     76k  2376  Algorithm Image.acos\n",
      "  0.028     472  1512  Algorithm Image.reproject computing pixels\n",
      "  0.020     408   672  Algorithm Image.lte computing pixels\n",
      "  0.020    3.6M   336  Computing image mask from geometry\n",
      "  0.019     576   672  Algorithm Image.pow computing pixels\n",
      "  0.006     496    37  Algorithm Collection.reduceColumns with reducer Reducer.count\n",
      "  0.002    7.8k    31  Algorithm Image.int\n",
      "  0.001    3.1k   186  Algorithm Element.geometry\n",
      "  0.001    3.1k    31  Algorithm Geometry.centroid\n",
      "  0.001     16k    34  Algorithm Image.gte\n",
      "  0.001    4.4k    46  Algorithm Geometry.bounds\n",
      "  0.001     11k     6  Algorithm StratifiedSampleImage.AggregationContainer\n",
      "  0.000     15k     6  Algorithm Collection.style\n",
      "  0.000    4.1k     3  Algorithm Image.visualize\n",
      "  0.000    7.5k     8  Algorithm Collection.geometry\n",
      "  0.000    4.4k     3  Algorithm Image.blend\n",
      "  0.000    3.3k     3  Algorithm Geometry.transform\n",
      "   -       3.2M   753  Algorithm Collection.first\n",
      "   -       1.9M  2440  Algorithm Collection.map\n",
      "   -       1.5M   147  Algorithm Image.parseExpression\n",
      "   -       395k    74  Algorithm Collection.reduceColumns\n",
      "   -       216k    34  Algorithm Image.stratifiedSample\n",
      "   -       195k  2956  Algorithm Collection.filter\n",
      "   -        96k  4587  Algorithm Element.set\n",
      "   -        64k   112  Algorithm AggregateFeatureCollection.count\n",
      "   -        46k 20780  Algorithm Image.load\n",
      "   -        42k  2244  Algorithm ImageCollection.load\n",
      "   -        27k  7360  Expression evaluation\n",
      "   -        13k    22  Algorithm Dictionary.(construct from elements)\n",
      "   -       8.6k   622  Algorithm Number.divide\n",
      "   -       8.1k   297  Algorithm Dictionary.get\n",
      "   -       7.7k   792  Algorithm Projection\n",
      "   -       6.7k     6  Algorithm ImageCollection.merge\n",
      "   -       5.9k  1016  Algorithm Number.subtract\n",
      "   -       5.7k  1119  Algorithm Number.multiply\n",
      "   -       5.6k    12  Algorithm List.map\n",
      "   -       5.1k  2226  Algorithm TypedImageCollection.Constructor\n",
      "   -       4.6k   944  Algorithm DateRange\n",
      "   -       4.5k     2  Algorithm Dictionary.values\n",
      "   -       4.4k   126  Algorithm Filter.intersects\n",
      "   -       4.1k   767  Algorithm List.(construct from elements)\n",
      "   -       4.0k  2800  Algorithm Filter.dateRangeContains\n",
      "   -       3.9k    11  Algorithm List.sequence\n",
      "   -       3.9k    22  Algorithm Date.difference\n",
      "   -       3.8k    61  Algorithm Date\n",
      "   -       3.8k    12  Algorithm Image.unmask\n",
      "   -       3.6k   348  Algorithm Collection.limit\n",
      "   -       3.6k   359  Algorithm Number.add\n",
      "   -       3.6k  2226  Algorithm PixelType\n",
      "   -       3.4k  2164  Loading assets: USGS\n",
      "   -       3.2k     2  Algorithm Dictionary.select\n",
      "   -       3.2k    47  Algorithm Date.format\n",
      "   -       3.2k    11  Algorithm Image.float\n",
      "   -       3.2k   135  Algorithm Feature\n",
      "   -       3.2k     9  Algorithm Collection\n",
      "   -       3.2k   158  Algorithm Date.advance\n",
      "   -       3.2k     3  Algorithm Filter.lt\n",
      "   -       3.2k     3  Algorithm Filter.gt\n",
      "   -       3.2k   535  Algorithm Element.get\n",
      "   -       3.2k     3  Algorithm GeometryConstructors.Polygon\n",
      "   -       3.2k    60  Algorithm Date.getRelative\n",
      "   -       3.2k    36  Algorithm Number.parse\n",
      "   -       3.2k     3  Algorithm ErrorMargin\n",
      "   -       3.1k    73  Algorithm Image.date\n",
      "   -       3.1k   143  Algorithm Image.projection\n",
      "   -       3.1k    11  Algorithm List.get\n",
      "   -       3.1k   236  Algorithm Number.cos\n",
      "   -       3.1k   177  Algorithm Number.sin\n",
      "   -       3.1k    31  Algorithm Number.int\n",
      "   -       3.1k     3  Algorithm Number.asin\n",
      "   -       2.8k    22  Algorithm GeometryConstructors.Point\n",
      "   -       2.6k    11  Algorithm Geometry.coordinates\n",
      "   -       2.5k   176  Algorithm Image.lt\n",
      "   -       2.5k   110  Algorithm AggregateFeatureCollection.first\n",
      "   -       2.4k   744  Algorithm Reducer.percentile\n",
      "   -       2.4k    11  Algorithm Feature.setGeometry\n",
      "   -       2.4k    12  Algorithm ImageCollection.fromImages\n",
      "   -       2.3k    12  Algorithm reduce.min\n",
      "   -       2.2k    22  Algorithm Date.get\n",
      "   -       2.1k    11  Algorithm Date.millis\n",
      "   -       1.7k    38  Algorithm Projection.nominalScale\n",
      "   -       1.5k     1  Algorithm Element.toDictionary\n",
      "   -       1.5k    12  Algorithm Image.atan\n",
      "   -        744   743  Algorithm Reducer.mean\n",
      "   -        640     2  Algorithm Reducer.count\n",
      "   -        624     1  Algorithm Reducer.first\n",
      "   -        376  5432  Algorithm Image.load computing pixels\n",
      "   -        336     4  Algorithm Collection.merge\n",
      "   -          0   135  Algorithm (unknown)\n"
     ]
    },
    {
     "ename": "EEException",
     "evalue": "Too many concurrent aggregations.",
     "output_type": "error",
     "traceback": [
      "\u001b[0;31m---------------------------------------------------------------------------\u001b[0m",
      "\u001b[0;31mHttpError\u001b[0m                                 Traceback (most recent call last)",
      "\u001b[0;32m~/opt/anaconda3/lib/python3.7/site-packages/ee/data.py\u001b[0m in \u001b[0;36m_execute_cloud_call\u001b[0;34m(call, num_retries)\u001b[0m\n\u001b[1;32m    351\u001b[0m   \u001b[0;32mtry\u001b[0m\u001b[0;34m:\u001b[0m\u001b[0;34m\u001b[0m\u001b[0;34m\u001b[0m\u001b[0m\n\u001b[0;32m--> 352\u001b[0;31m     \u001b[0;32mreturn\u001b[0m \u001b[0mcall\u001b[0m\u001b[0;34m.\u001b[0m\u001b[0mexecute\u001b[0m\u001b[0;34m(\u001b[0m\u001b[0mnum_retries\u001b[0m\u001b[0;34m=\u001b[0m\u001b[0mnum_retries\u001b[0m\u001b[0;34m)\u001b[0m\u001b[0;34m\u001b[0m\u001b[0;34m\u001b[0m\u001b[0m\n\u001b[0m\u001b[1;32m    353\u001b[0m   \u001b[0;32mexcept\u001b[0m \u001b[0mgoogleapiclient\u001b[0m\u001b[0;34m.\u001b[0m\u001b[0merrors\u001b[0m\u001b[0;34m.\u001b[0m\u001b[0mHttpError\u001b[0m \u001b[0;32mas\u001b[0m \u001b[0me\u001b[0m\u001b[0;34m:\u001b[0m\u001b[0;34m\u001b[0m\u001b[0;34m\u001b[0m\u001b[0m\n",
      "\u001b[0;32m~/opt/anaconda3/lib/python3.7/site-packages/googleapiclient/_helpers.py\u001b[0m in \u001b[0;36mpositional_wrapper\u001b[0;34m(*args, **kwargs)\u001b[0m\n\u001b[1;32m    129\u001b[0m                     \u001b[0mlogger\u001b[0m\u001b[0;34m.\u001b[0m\u001b[0mwarning\u001b[0m\u001b[0;34m(\u001b[0m\u001b[0mmessage\u001b[0m\u001b[0;34m)\u001b[0m\u001b[0;34m\u001b[0m\u001b[0;34m\u001b[0m\u001b[0m\n\u001b[0;32m--> 130\u001b[0;31m             \u001b[0;32mreturn\u001b[0m \u001b[0mwrapped\u001b[0m\u001b[0;34m(\u001b[0m\u001b[0;34m*\u001b[0m\u001b[0margs\u001b[0m\u001b[0;34m,\u001b[0m \u001b[0;34m**\u001b[0m\u001b[0mkwargs\u001b[0m\u001b[0;34m)\u001b[0m\u001b[0;34m\u001b[0m\u001b[0;34m\u001b[0m\u001b[0m\n\u001b[0m\u001b[1;32m    131\u001b[0m \u001b[0;34m\u001b[0m\u001b[0m\n",
      "\u001b[0;32m~/opt/anaconda3/lib/python3.7/site-packages/googleapiclient/http.py\u001b[0m in \u001b[0;36mexecute\u001b[0;34m(self, http, num_retries)\u001b[0m\n\u001b[1;32m    937\u001b[0m         \u001b[0;32mif\u001b[0m \u001b[0mresp\u001b[0m\u001b[0;34m.\u001b[0m\u001b[0mstatus\u001b[0m \u001b[0;34m>=\u001b[0m \u001b[0;36m300\u001b[0m\u001b[0;34m:\u001b[0m\u001b[0;34m\u001b[0m\u001b[0;34m\u001b[0m\u001b[0m\n\u001b[0;32m--> 938\u001b[0;31m             \u001b[0;32mraise\u001b[0m \u001b[0mHttpError\u001b[0m\u001b[0;34m(\u001b[0m\u001b[0mresp\u001b[0m\u001b[0;34m,\u001b[0m \u001b[0mcontent\u001b[0m\u001b[0;34m,\u001b[0m \u001b[0muri\u001b[0m\u001b[0;34m=\u001b[0m\u001b[0mself\u001b[0m\u001b[0;34m.\u001b[0m\u001b[0muri\u001b[0m\u001b[0;34m)\u001b[0m\u001b[0;34m\u001b[0m\u001b[0;34m\u001b[0m\u001b[0m\n\u001b[0m\u001b[1;32m    939\u001b[0m         \u001b[0;32mreturn\u001b[0m \u001b[0mself\u001b[0m\u001b[0;34m.\u001b[0m\u001b[0mpostproc\u001b[0m\u001b[0;34m(\u001b[0m\u001b[0mresp\u001b[0m\u001b[0;34m,\u001b[0m \u001b[0mcontent\u001b[0m\u001b[0;34m)\u001b[0m\u001b[0;34m\u001b[0m\u001b[0;34m\u001b[0m\u001b[0m\n",
      "\u001b[0;31mHttpError\u001b[0m: <HttpError 429 when requesting https://earthengine.googleapis.com/v1/projects/second-impact-342800/maps?fields=name&workloadTag=hydracarta_view_infer_results&alt=json returned \"Too many concurrent aggregations.\". Details: \"Too many concurrent aggregations.\">",
      "\nDuring handling of the above exception, another exception occurred:\n",
      "\u001b[0;31mEEException\u001b[0m                               Traceback (most recent call last)",
      "\u001b[0;32m<ipython-input-29-d2c71a70a65e>\u001b[0m in \u001b[0;36m<module>\u001b[0;34m\u001b[0m\n\u001b[1;32m     10\u001b[0m         \u001b[0mMap\u001b[0m\u001b[0;34m.\u001b[0m\u001b[0mcenterObject\u001b[0m\u001b[0;34m(\u001b[0m\u001b[0maoi\u001b[0m\u001b[0;34m)\u001b[0m\u001b[0;34m\u001b[0m\u001b[0;34m\u001b[0m\u001b[0m\n\u001b[1;32m     11\u001b[0m         \u001b[0mMap\u001b[0m\u001b[0;34m.\u001b[0m\u001b[0maddLayer\u001b[0m\u001b[0;34m(\u001b[0m\u001b[0maoi\u001b[0m\u001b[0;34m,\u001b[0m \u001b[0;34m{\u001b[0m\u001b[0;34m}\u001b[0m\u001b[0;34m,\u001b[0m \u001b[0;34m'aoi boundary'\u001b[0m\u001b[0;34m,\u001b[0m \u001b[0;32mTrue\u001b[0m\u001b[0;34m,\u001b[0m \u001b[0;36m0.55\u001b[0m\u001b[0;34m)\u001b[0m\u001b[0;34m\u001b[0m\u001b[0;34m\u001b[0m\u001b[0m\n\u001b[0;32m---> 12\u001b[0;31m         \u001b[0mMap\u001b[0m\u001b[0;34m.\u001b[0m\u001b[0maddLayer\u001b[0m\u001b[0;34m(\u001b[0m\u001b[0mrgb_mosaic\u001b[0m\u001b[0;34m,\u001b[0m \u001b[0mrgb_viz\u001b[0m\u001b[0;34m,\u001b[0m \u001b[0;34m'rgb'\u001b[0m\u001b[0;34m,\u001b[0m \u001b[0;32mTrue\u001b[0m\u001b[0;34m,\u001b[0m \u001b[0;36m1.0\u001b[0m\u001b[0;34m)\u001b[0m\u001b[0;34m\u001b[0m\u001b[0;34m\u001b[0m\u001b[0m\n\u001b[0m\u001b[1;32m     13\u001b[0m         \u001b[0mMap\u001b[0m\u001b[0;34m.\u001b[0m\u001b[0maddLayer\u001b[0m\u001b[0;34m(\u001b[0m\u001b[0mpred_prob\u001b[0m\u001b[0;34m,\u001b[0m \u001b[0mprob_viz\u001b[0m\u001b[0;34m,\u001b[0m \u001b[0;34m'probabilities'\u001b[0m\u001b[0;34m,\u001b[0m \u001b[0;32mTrue\u001b[0m\u001b[0;34m,\u001b[0m \u001b[0;36m1.0\u001b[0m\u001b[0;34m)\u001b[0m\u001b[0;34m\u001b[0m\u001b[0;34m\u001b[0m\u001b[0m\n\u001b[1;32m     14\u001b[0m         \u001b[0mMap\u001b[0m\u001b[0;34m\u001b[0m\u001b[0;34m\u001b[0m\u001b[0m\n",
      "\u001b[0;32m~/opt/anaconda3/lib/python3.7/site-packages/geemap/geemap.py\u001b[0m in \u001b[0;36madd_ee_layer\u001b[0;34m(self, ee_object, vis_params, name, shown, opacity)\u001b[0m\n\u001b[1;32m   1487\u001b[0m                 )\n\u001b[1;32m   1488\u001b[0m \u001b[0;34m\u001b[0m\u001b[0m\n\u001b[0;32m-> 1489\u001b[0;31m         \u001b[0mmap_id_dict\u001b[0m \u001b[0;34m=\u001b[0m \u001b[0mee\u001b[0m\u001b[0;34m.\u001b[0m\u001b[0mImage\u001b[0m\u001b[0;34m(\u001b[0m\u001b[0mimage\u001b[0m\u001b[0;34m)\u001b[0m\u001b[0;34m.\u001b[0m\u001b[0mgetMapId\u001b[0m\u001b[0;34m(\u001b[0m\u001b[0mvis_params\u001b[0m\u001b[0;34m)\u001b[0m\u001b[0;34m\u001b[0m\u001b[0;34m\u001b[0m\u001b[0m\n\u001b[0m\u001b[1;32m   1490\u001b[0m         \u001b[0murl\u001b[0m \u001b[0;34m=\u001b[0m \u001b[0mmap_id_dict\u001b[0m\u001b[0;34m[\u001b[0m\u001b[0;34m\"tile_fetcher\"\u001b[0m\u001b[0;34m]\u001b[0m\u001b[0;34m.\u001b[0m\u001b[0murl_format\u001b[0m\u001b[0;34m\u001b[0m\u001b[0;34m\u001b[0m\u001b[0m\n\u001b[1;32m   1491\u001b[0m         tile_layer = ipyleaflet.TileLayer(\n",
      "\u001b[0;32m~/opt/anaconda3/lib/python3.7/site-packages/ee/image.py\u001b[0m in \u001b[0;36mgetMapId\u001b[0;34m(self, vis_params)\u001b[0m\n\u001b[1;32m    125\u001b[0m     \u001b[0mvis_image\u001b[0m\u001b[0;34m,\u001b[0m \u001b[0mrequest\u001b[0m \u001b[0;34m=\u001b[0m \u001b[0mself\u001b[0m\u001b[0;34m.\u001b[0m\u001b[0m_apply_visualization\u001b[0m\u001b[0;34m(\u001b[0m\u001b[0mvis_params\u001b[0m\u001b[0;34m)\u001b[0m\u001b[0;34m\u001b[0m\u001b[0;34m\u001b[0m\u001b[0m\n\u001b[1;32m    126\u001b[0m     \u001b[0mrequest\u001b[0m\u001b[0;34m[\u001b[0m\u001b[0;34m'image'\u001b[0m\u001b[0;34m]\u001b[0m \u001b[0;34m=\u001b[0m \u001b[0mvis_image\u001b[0m\u001b[0;34m\u001b[0m\u001b[0;34m\u001b[0m\u001b[0m\n\u001b[0;32m--> 127\u001b[0;31m     \u001b[0mresponse\u001b[0m \u001b[0;34m=\u001b[0m \u001b[0mdata\u001b[0m\u001b[0;34m.\u001b[0m\u001b[0mgetMapId\u001b[0m\u001b[0;34m(\u001b[0m\u001b[0mrequest\u001b[0m\u001b[0;34m)\u001b[0m\u001b[0;34m\u001b[0m\u001b[0;34m\u001b[0m\u001b[0m\n\u001b[0m\u001b[1;32m    128\u001b[0m     \u001b[0mresponse\u001b[0m\u001b[0;34m[\u001b[0m\u001b[0;34m'image'\u001b[0m\u001b[0;34m]\u001b[0m \u001b[0;34m=\u001b[0m \u001b[0mself\u001b[0m\u001b[0;34m\u001b[0m\u001b[0;34m\u001b[0m\u001b[0m\n\u001b[1;32m    129\u001b[0m     \u001b[0;32mreturn\u001b[0m \u001b[0mresponse\u001b[0m\u001b[0;34m\u001b[0m\u001b[0;34m\u001b[0m\u001b[0m\n",
      "\u001b[0;32m~/opt/anaconda3/lib/python3.7/site-packages/ee/data.py\u001b[0m in \u001b[0;36mgetMapId\u001b[0;34m(params)\u001b[0m\n\u001b[1;32m    663\u001b[0m       \u001b[0m_get_cloud_projects\u001b[0m\u001b[0;34m(\u001b[0m\u001b[0;34m)\u001b[0m\u001b[0;34m\u001b[0m\u001b[0;34m\u001b[0m\u001b[0m\n\u001b[1;32m    664\u001b[0m       \u001b[0;34m.\u001b[0m\u001b[0mmaps\u001b[0m\u001b[0;34m(\u001b[0m\u001b[0;34m)\u001b[0m\u001b[0;34m\u001b[0m\u001b[0;34m\u001b[0m\u001b[0m\n\u001b[0;32m--> 665\u001b[0;31m       \u001b[0;34m.\u001b[0m\u001b[0mcreate\u001b[0m\u001b[0;34m(\u001b[0m\u001b[0mparent\u001b[0m\u001b[0;34m=\u001b[0m\u001b[0m_get_projects_path\u001b[0m\u001b[0;34m(\u001b[0m\u001b[0;34m)\u001b[0m\u001b[0;34m,\u001b[0m \u001b[0;34m**\u001b[0m\u001b[0mqueryParams\u001b[0m\u001b[0;34m)\u001b[0m\u001b[0;34m\u001b[0m\u001b[0;34m\u001b[0m\u001b[0m\n\u001b[0m\u001b[1;32m    666\u001b[0m   )\n\u001b[1;32m    667\u001b[0m   \u001b[0mmap_name\u001b[0m \u001b[0;34m=\u001b[0m \u001b[0mresult\u001b[0m\u001b[0;34m[\u001b[0m\u001b[0;34m'name'\u001b[0m\u001b[0;34m]\u001b[0m\u001b[0;34m\u001b[0m\u001b[0;34m\u001b[0m\u001b[0m\n",
      "\u001b[0;32m~/opt/anaconda3/lib/python3.7/site-packages/ee/data.py\u001b[0m in \u001b[0;36m_execute_cloud_call\u001b[0;34m(call, num_retries)\u001b[0m\n\u001b[1;32m    352\u001b[0m     \u001b[0;32mreturn\u001b[0m \u001b[0mcall\u001b[0m\u001b[0;34m.\u001b[0m\u001b[0mexecute\u001b[0m\u001b[0;34m(\u001b[0m\u001b[0mnum_retries\u001b[0m\u001b[0;34m=\u001b[0m\u001b[0mnum_retries\u001b[0m\u001b[0;34m)\u001b[0m\u001b[0;34m\u001b[0m\u001b[0;34m\u001b[0m\u001b[0m\n\u001b[1;32m    353\u001b[0m   \u001b[0;32mexcept\u001b[0m \u001b[0mgoogleapiclient\u001b[0m\u001b[0;34m.\u001b[0m\u001b[0merrors\u001b[0m\u001b[0;34m.\u001b[0m\u001b[0mHttpError\u001b[0m \u001b[0;32mas\u001b[0m \u001b[0me\u001b[0m\u001b[0;34m:\u001b[0m\u001b[0;34m\u001b[0m\u001b[0;34m\u001b[0m\u001b[0m\n\u001b[0;32m--> 354\u001b[0;31m     \u001b[0;32mraise\u001b[0m \u001b[0m_translate_cloud_exception\u001b[0m\u001b[0;34m(\u001b[0m\u001b[0me\u001b[0m\u001b[0;34m)\u001b[0m  \u001b[0;31m# pylint: disable=raise-missing-from\u001b[0m\u001b[0;34m\u001b[0m\u001b[0;34m\u001b[0m\u001b[0m\n\u001b[0m\u001b[1;32m    355\u001b[0m \u001b[0;34m\u001b[0m\u001b[0m\n\u001b[1;32m    356\u001b[0m \u001b[0;34m\u001b[0m\u001b[0m\n",
      "\u001b[0;31mEEException\u001b[0m: Too many concurrent aggregations."
     ]
    }
   ],
   "source": [
    "rgbCol = ['R', 'G', 'B']\n",
    "rgb_viz = {'bands': rgbCol, 'min': 0.0, 'max': 3000, 'gamma': 1.4} # LS-Col-1-SR\n",
    "pred_viz = {'min': 0.0, 'max': 1.0, 'palette': ['red', 'blue']}\n",
    "prob_viz = {'min': 0.0, 'max': 1.0, 'palette': ['red', 'magenta', 'pink', 'yellow', 'aqua', 'blue', 'darkblue']}\n",
    "\n",
    "if True: # skip this cell \n",
    "    with ee.profilePrinting():\n",
    "        ee.data.setWorkloadTag('hydracarta_view_infer_results')\n",
    "\n",
    "        Map.centerObject(aoi)\n",
    "        Map.addLayer(aoi, {}, 'aoi boundary', True, 0.55)\n",
    "        Map.addLayer(rgb_mosaic, rgb_viz, 'rgb', True, 1.0)\n",
    "        Map.addLayer(pred_prob, prob_viz, 'probabilities', True, 1.0)\n",
    "        Map"
   ]
  },
  {
   "cell_type": "markdown",
   "metadata": {
    "id": "BjUk66Frpi-B"
   },
   "source": [
    "# Export Data"
   ]
  },
  {
   "cell_type": "code",
   "execution_count": 31,
   "metadata": {
    "executionInfo": {
     "elapsed": 213,
     "status": "ok",
     "timestamp": 1675805157680,
     "user": {
      "displayName": "Blair Jones",
      "userId": "11507989587297916179"
     },
     "user_tz": 300
    },
    "id": "0M9EzqyzIhxG"
   },
   "outputs": [],
   "source": [
    "def exportImages(rgb_mosaic, pred_prob, startDate, endDate, aoi=None):\n",
    "    #print(\"RGB export start\")\n",
    "    rgb_filename = f'../outputmaps/monthly_rgb_{startDate}_{endDate}.tif'\n",
    "    geemap.ee_export_image(rgb_mosaic, filename=rgb_filename, scale=30, \n",
    "                            region=aoi, file_per_band=False,\n",
    "                            timeout=300)\n",
    "    #print(\"RGB export end\")\n",
    "    \n",
    "    #print(\"Class prediction export start\")\n",
    "    class_filename = f'../outputmaps/monthly_classes_{startDate}_{endDate}.tif'\n",
    "    geemap.ee_export_image(pred_prob, filename=class_filename, scale=30, \n",
    "                       region=aoi, file_per_band=False,\n",
    "                       timeout=1200)\n",
    "    #print(\"Class prediction export end\")"
   ]
  },
  {
   "cell_type": "code",
   "execution_count": 37,
   "metadata": {
    "colab": {
     "base_uri": "https://localhost:8080/",
     "height": 864,
     "referenced_widgets": [
      "9b7c7c37cb5c4d33a178d19ad43d7848",
      "8a873d84f2b84758a4fc719ee81aace4",
      "e6c43aab0a2f4695997de95947d65c06",
      "034788857bee462d9e2a6c2faebc8855",
      "a9b9d3ff2a514caea7ff2657c9bd2c7d",
      "72bb826ab6e0431ca4537ab7d1462b44",
      "a74cd555df704375b30f9de974906da3",
      "4a00c78afb1b49659cf4852ac61020e0",
      "c1d925c20ebb44aca0eb2feb7102bac5",
      "48bb79c90c784bb2a7eabcb5d33270c7",
      "fb2bb054669142bb859eb5af77b21168"
     ]
    },
    "executionInfo": {
     "elapsed": 43770,
     "status": "error",
     "timestamp": 1675794497029,
     "user": {
      "displayName": "Blair Jones",
      "userId": "11507989587297916179"
     },
     "user_tz": 300
    },
    "id": "hr12p84GjueK",
    "outputId": "51936b14-546d-4f45-b468-761810c07d29"
   },
   "outputs": [
    {
     "data": {
      "application/vnd.jupyter.widget-view+json": {
       "model_id": "90a58f7a18d743569cfd5944fac2cc94",
       "version_major": 2,
       "version_minor": 0
      },
      "text/plain": [
       "  0%|          | 0/15 [00:00<?, ?it/s]"
      ]
     },
     "metadata": {},
     "output_type": "display_data"
    },
    {
     "name": "stdout",
     "output_type": "stream",
     "text": [
      "Processing 2021-08-01 2021-08-31\n",
      "Number of ET sample images retrieved:  7\n",
      "Generating URL ...\n",
      "Downloading data from https://earthengine.googleapis.com/v1/projects/second-impact-342800/thumbnails/c46f09f3b018b9cfd1b0ac20c243afa9-5a27dacdf92607dd008d5602b4f5ded4:getPixels\n",
      "Please wait ...\n",
      "Data downloaded to /Users/blairjones/Desktop/earthdataanalytics/outputmaps/monthly_rgb_2021-08-01_2021-08-31.tif\n",
      "Generating URL ...\n",
      "Downloading data from https://earthengine.googleapis.com/v1/projects/second-impact-342800/thumbnails/f53efb62a74066b37df380648b9ae3a4-a41b911d33afeca28b400d7ef342599d:getPixels\n",
      "Please wait ...\n",
      "Data downloaded to /Users/blairjones/Desktop/earthdataanalytics/outputmaps/monthly_classes_2021-08-01_2021-08-31.tif\n",
      "Processing 2021-09-01 2021-09-30\n",
      "Number of ET sample images retrieved:  7\n",
      "Generating URL ...\n",
      "Downloading data from https://earthengine.googleapis.com/v1/projects/second-impact-342800/thumbnails/09f0b810ff62112cdc12109ba7846a42-39f2dc0541af82d67e5023bef7a27edd:getPixels\n",
      "Please wait ...\n",
      "Data downloaded to /Users/blairjones/Desktop/earthdataanalytics/outputmaps/monthly_rgb_2021-09-01_2021-09-30.tif\n",
      "Generating URL ...\n",
      "Downloading data from https://earthengine.googleapis.com/v1/projects/second-impact-342800/thumbnails/0eb4a4392e5c0da7f808aa0d1e984056-94d5c845a11c208ad9244f445c6442c3:getPixels\n",
      "Please wait ...\n",
      "Data downloaded to /Users/blairjones/Desktop/earthdataanalytics/outputmaps/monthly_classes_2021-09-01_2021-09-30.tif\n",
      "Processing 2021-10-01 2021-10-31\n",
      "Number of ET sample images retrieved:  3\n",
      "Generating URL ...\n",
      "Downloading data from https://earthengine.googleapis.com/v1/projects/second-impact-342800/thumbnails/3b397a95b82c281de9ef42f76e914885-12c3cff87cae908faec4a7bf8ac9ee16:getPixels\n",
      "Please wait ...\n",
      "Data downloaded to /Users/blairjones/Desktop/earthdataanalytics/outputmaps/monthly_rgb_2021-10-01_2021-10-31.tif\n",
      "Generating URL ...\n",
      "Downloading data from https://earthengine.googleapis.com/v1/projects/second-impact-342800/thumbnails/0eb79081385a9f55cde0f1f70eb0410c-cfe083f5aca8c84c162939f3913fb4e4:getPixels\n",
      "Please wait ...\n",
      "Data downloaded to /Users/blairjones/Desktop/earthdataanalytics/outputmaps/monthly_classes_2021-10-01_2021-10-31.tif\n",
      "Processing 2021-11-01 2021-11-30\n",
      "Number of ET sample images retrieved:  2\n",
      "Generating URL ...\n",
      "Downloading data from https://earthengine.googleapis.com/v1/projects/second-impact-342800/thumbnails/4f000d74c04868423b9b4c22445cccd8-636ea2481d3424100fbb36661d8a177a:getPixels\n",
      "Please wait ...\n",
      "Data downloaded to /Users/blairjones/Desktop/earthdataanalytics/outputmaps/monthly_rgb_2021-11-01_2021-11-30.tif\n",
      "Generating URL ...\n",
      "Downloading data from https://earthengine.googleapis.com/v1/projects/second-impact-342800/thumbnails/1b12655699885252e16944fa1c05a5db-9953898e4d7e9fa27c7e4dc1f195c727:getPixels\n",
      "Please wait ...\n",
      "Data downloaded to /Users/blairjones/Desktop/earthdataanalytics/outputmaps/monthly_classes_2021-11-01_2021-11-30.tif\n",
      "Processing 2021-12-01 2021-12-31\n",
      "Number of ET sample images retrieved:  2\n",
      "Generating URL ...\n",
      "Downloading data from https://earthengine.googleapis.com/v1/projects/second-impact-342800/thumbnails/812538443b4cfdee8addabad2f0d9785-57fdefcf7ece165675adb4de226b45cc:getPixels\n",
      "Please wait ...\n",
      "Data downloaded to /Users/blairjones/Desktop/earthdataanalytics/outputmaps/monthly_rgb_2021-12-01_2021-12-31.tif\n",
      "Generating URL ...\n",
      "Downloading data from https://earthengine.googleapis.com/v1/projects/second-impact-342800/thumbnails/75ad9a8085fe2439d96a309ce724f233-9390f4ae547f844cf4b7811b2fbc4a44:getPixels\n",
      "Please wait ...\n"
     ]
    },
    {
     "name": "stderr",
     "output_type": "stream",
     "text": [
      " EECU·s PeakMem Count  Description\n",
      "9539.544     70M 537330  Algorithm Image.updateMask computing pixels\n",
      "8679.093     35M 925124  Algorithm Image.multiply computing pixels\n",
      "8617.008    134k 43881  Algorithm reduce.sum\n",
      "6878.056     18M 40308  Algorithm Image.exp computing pixels\n",
      "6794.477     32M 15374  Reprojection precalculation between (...) and (...)\n",
      "6134.572     82M 46368  Algorithm Image.gradient computing pixels\n",
      "5355.487     18M 340412  Algorithm Image.add computing pixels\n",
      "4916.345     63M 65520  Algorithm Image.sin computing pixels\n",
      "4667.771     54M 61344  Algorithm Image.cos computing pixels\n",
      "4484.610     45M 39604  Algorithm Image.resample computing pixels\n",
      "3608.106    1.0M 31047  Algorithm Image.reduceRegion\n",
      "2660.209    5.0M 27504  Algorithm Image.normalizedDifference computing pixels\n",
      "2301.472    3.0M 32224  Algorithm Image.lte computing pixels\n",
      "2071.151    9.0M  4176  Algorithm Image.reduce computing pixels\n",
      "1636.251     27M 37296  Algorithm Image.where computing pixels\n",
      "1444.455     50M 39384  Algorithm Image.pixelLonLat computing pixels\n",
      "1333.011     36M 13174254  (plumbing)\n",
      "1204.720    4.0M 38340  Algorithm Image.eq computing pixels\n",
      "1163.314    3.9M 53032  Algorithm Image.clip computing pixels\n",
      "1131.061     18M 2258717  Loading assets: (...)/(...)\n",
      "1033.471     18M 235132  Algorithm Image.subtract computing pixels\n",
      "764.187     18M 356494  Algorithm Image.load computing pixels\n",
      "712.372     18M  8352  Algorithm Image.tan computing pixels\n",
      "656.046    9.0M  4176  Algorithm Image.acos computing pixels\n",
      "526.527    9.4M 66240  Algorithm Terrain.products computing pixels\n",
      "498.490    9.0M 234576  Algorithm Image.divide computing pixels\n",
      "418.321     18M 28244  Algorithm Image.log computing pixels\n",
      " 99.212    1.8M 990189  Algorithm Image.addBands\n",
      " 97.131    515k 1443200  Algorithm Image.select\n",
      " 66.082    1.0M  4618  Algorithm Image.gte computing pixels\n",
      " 48.198    2.1M 2382876  Algorithm Image.multiply\n",
      " 37.845    242k 27256  no description available\n",
      " 34.505     560 366266  Reprojecting pixels from (...) to (...)\n",
      " 32.495    1.3M 225420  Algorithm Image.updateMask\n",
      " 31.920    2.2k 845840  Algorithm Image.constant computing pixels\n",
      " 28.096    329k 2136492  Algorithm Image.constant\n",
      " 25.119    1.2M 926196  Algorithm Image.rename\n",
      " 21.050    817k 868212  Algorithm Image.add\n",
      " 17.919    201k  7855  Algorithm (user-defined function)\n",
      " 15.268    737k 650757  Algorithm Image.subtract\n",
      " 14.369    1.3M 614055  Algorithm Image.divide\n",
      "  9.973     14k 66636  Listing collection\n",
      "  9.107     16k 26481  Algorithm Terrain.products\n",
      "  5.624     11k 52962  Algorithm Image.normalizedDifference\n",
      "  5.497    7.8k 26466  Algorithm Image.gradient\n",
      "  3.628    520k 205062  Algorithm Image.pow\n",
      "  3.282     39k 185586  Algorithm Image.sin\n",
      "  3.007    513k 96771  Algorithm Image.log\n",
      "  2.964     29k 132675  Algorithm Image.resample\n",
      "  2.963     31k 53016  Algorithm Image.reproject\n",
      "  2.842     33k 159018  Algorithm Image.cos\n",
      "  2.748    680k 133017  Algorithm Image.where\n",
      "  2.410    1.8k 70820  Algorithm Image.pow computing pixels\n",
      "  2.152     53k 26649  Algorithm Image.clip\n",
      "  1.755     496 85524  Algorithm Image.reproject computing pixels\n",
      "  1.741     25k 80454  Algorithm Image.exp\n",
      "  1.403    4.5k 44155  Algorithm Image.pixelLonLat\n",
      "  1.360    355k    30  Training a SmileRandomForest classifier\n",
      "  1.265     23k 92805  Algorithm Image.gt\n",
      "  1.047     16k 10266  Algorithm Image.int\n",
      "  1.030     864 27216  Algorithm Image.gt computing pixels\n",
      "  1.023     24k 59601  Algorithm Image.lte\n",
      "  0.897     81k 59775  Algorithm Image.eq\n",
      "  0.764    105k 20790  Algorithm ReduceRegion.AggregationContainer\n",
      "  0.760    3.6M 13258  Computing image mask from geometry\n",
      "  0.738    8.4k 53094  Algorithm Image.tan\n",
      "  0.623    7.1k 26535  Algorithm Image.reduce\n",
      "  0.607    1.2k 17280  Algorithm Image.bitwiseAnd computing pixels\n",
      "  0.474     24k  6504  Algorithm StratifiedSampleImage.AggregationContainer\n",
      "  0.435    5.6k 26535  Algorithm Image.bitwiseAnd\n",
      "  0.424    6.3k 26568  Algorithm Image.sqrt\n",
      "  0.402    6.3k 26568  Algorithm Image.acos\n",
      "  0.230    1.2k  4716  Algorithm Image.sqrt computing pixels\n",
      "  0.171     728  3780  Algorithm Image.atan computing pixels\n",
      "  0.134     432  3780  Algorithm Image.lt computing pixels\n",
      "  0.117    4.9k  7119  Algorithm Image.gte\n",
      "  0.111     98k  6528  Algorithm Image.atan\n",
      "  0.099     376  4114  Algorithm Image.int computing pixels\n",
      "  0.091     76k  6774  Algorithm Image.lt\n",
      "  0.019    245k   318  Algorithm Image.stratifiedSample\n",
      "  0.016     472   180  Algorithm Collection.reduceColumns with reducer Reducer.first\n",
      "  0.009     16k    44  Algorithm Collection.reduceColumns with reducer Reducer.count\n",
      "  0.005    5.0k    30  Algorithm Image.clipToBoundsAndScale\n",
      "  0.003    7.6k    60  Algorithm Collection.geometry\n",
      "  0.002    1.5M    15  Algorithm reduce.mean\n",
      "  0.002    3.2k   276  Algorithm Element.geometry\n",
      "  0.002    3.4k    25  Algorithm Classifier.TrainingContainer\n",
      "  0.002    3.9k   138  Algorithm Geometry.bounds\n",
      "  0.002    3.2k    69  Algorithm Geometry.centroid\n",
      "  0.002    6.9k    20  Algorithm Image.classify\n",
      "  0.002     23k    69  Algorithm reduce.min\n",
      "  0.001    6.8k    87  Algorithm Image.unmask\n",
      "  0.001    6.7k    87  Algorithm Image.float\n",
      "   -       9.0M 10440  Algorithm reduce.sum computing pixels\n",
      "   -       1.8M 33945  Algorithm Collection.map\n",
      "   -       1.5M   515  Algorithm Collection.first\n",
      "   -       1.5M  2205  Algorithm Image.parseExpression\n",
      "   -       498k   448  Algorithm Collection.reduceColumns\n",
      "   -       287k    75  Algorithm Collection\n",
      "   -       201k 11001  Algorithm List.(construct from elements)\n",
      "   -       123k 34419  Algorithm Collection.filter\n",
      "   -       103k    69  Algorithm ImageCollection.fromImages\n",
      "   -        92k 53445  Algorithm Element.set\n",
      "   -        54k   690  Algorithm AggregateFeatureCollection.first\n",
      "   -        46k 245924  Algorithm Image.load\n",
      "   -        43k 33000  Algorithm ImageCollection.load\n",
      "   -        40k   231  Algorithm List.map\n",
      "   -        28k 23776  Expression evaluation\n",
      "   -        13k   791  Algorithm Dictionary.(construct from elements)\n",
      "   -        10k   142  Algorithm AggregateFeatureCollection.count\n",
      "   -       9.3k 10184  Algorithm Projection\n",
      "   -       9.3k  3396  Algorithm Number.subtract\n",
      "   -       9.1k   891  Algorithm Dictionary.get\n",
      "   -       8.9k  2436  Algorithm Number.divide\n",
      "   -       8.5k  3309  Algorithm Number.multiply\n",
      "   -       7.0k    15  Algorithm Collection.size\n",
      "   -       6.8k    90  Algorithm ImageCollection.merge\n",
      "   -       6.4k 11324  Algorithm DateRange\n",
      "   -       6.2k    99  Algorithm Date.getRelative\n",
      "   -       6.1k   483  Algorithm Number.add\n",
      "   -       5.8k   543  Algorithm Element.get\n",
      "   -       5.8k 32730  Algorithm TypedImageCollection.Constructor\n",
      "   -       5.6k 33756  Algorithm Filter.dateRangeContains\n",
      "   -       5.5k    33  Algorithm Geometry.coordinates\n",
      "   -       5.2k    10  Algorithm Classifier.train\n",
      "   -       4.9k    33  Algorithm List.sequence\n",
      "   -       4.9k    30  Algorithm Dictionary.select\n",
      "   -       4.9k    69  Algorithm Number.int\n",
      "   -       4.5k    99  Algorithm Date\n",
      "   -       4.4k    30  Algorithm Dictionary.values\n",
      "   -       4.3k   183  Algorithm Filter.intersects\n",
      "   -       4.1k  4578  Algorithm Feature\n",
      "   -       4.0k    84  Algorithm Date.difference\n",
      "   -       3.8k   339  Algorithm Collection.limit\n",
      "   -       3.6k    99  Algorithm Number.parse\n",
      "   -       3.6k   591  Algorithm Date.advance\n",
      "   -       3.6k 32730  Algorithm PixelType\n",
      "   -       3.5k    30  Algorithm Collection.randomColumn\n",
      "   -       3.4k 25976  Loading assets: USGS\n",
      "   -       3.3k   132  Algorithm Date.format\n",
      "   -       3.3k    60  Algorithm Filter.lt\n",
      "   -       3.3k    60  Algorithm Filter.gt\n",
      "   -       3.2k   225  Algorithm Image.date\n",
      "   -       3.2k   138  Algorithm Image.projection\n",
      "   -       3.2k    33  Algorithm List.get\n",
      "   -       3.2k    15  Algorithm GeometryConstructors.Polygon\n",
      "   -       3.2k   345  Algorithm Number.cos\n",
      "   -       3.2k   252  Algorithm Number.sin\n",
      "   -       3.2k    45  Algorithm Number.asin\n",
      "   -       2.9k   521  Algorithm GeometryConstructors.Point\n",
      "   -       2.6k    10  Algorithm Classifier.smileRandomForest\n",
      "   -       2.5k    33  Algorithm Feature.setGeometry\n",
      "   -       2.4k  4149  Algorithm Reducer.percentile\n",
      "   -       2.4k   213  Algorithm Date.millis\n",
      "   -       2.3k    66  Algorithm Date.get\n",
      "   -       1.7k    33  Algorithm Projection.nominalScale\n",
      "   -       1.6k    15  Algorithm Element.toDictionary\n",
      "   -        744  8837  Algorithm Reducer.mean\n",
      "   -        744  2319  Algorithm Reducer.count\n",
      "   -        744   285  Algorithm Reducer.first\n",
      "   -        240    65  Algorithm Collection.merge\n"
     ]
    },
    {
     "ename": "KeyboardInterrupt",
     "evalue": "",
     "output_type": "error",
     "traceback": [
      "\u001b[0;31m---------------------------------------------------------------------------\u001b[0m",
      "\u001b[0;31mKeyboardInterrupt\u001b[0m                         Traceback (most recent call last)",
      "\u001b[0;32m<timed exec>\u001b[0m in \u001b[0;36m<module>\u001b[0;34m\u001b[0m\n",
      "\u001b[0;32m<ipython-input-31-369050ce9b96>\u001b[0m in \u001b[0;36mexportImages\u001b[0;34m(rgb_mosaic, pred_prob, startDate, endDate, aoi)\u001b[0m\n\u001b[1;32m     11\u001b[0m     geemap.ee_export_image(pred_prob, filename=class_filename, scale=30, \n\u001b[1;32m     12\u001b[0m                        \u001b[0mregion\u001b[0m\u001b[0;34m=\u001b[0m\u001b[0maoi\u001b[0m\u001b[0;34m,\u001b[0m \u001b[0mfile_per_band\u001b[0m\u001b[0;34m=\u001b[0m\u001b[0;32mFalse\u001b[0m\u001b[0;34m,\u001b[0m\u001b[0;34m\u001b[0m\u001b[0;34m\u001b[0m\u001b[0m\n\u001b[0;32m---> 13\u001b[0;31m                        timeout=1200)\n\u001b[0m\u001b[1;32m     14\u001b[0m     \u001b[0;31m#print(\"Class prediction export end\")\u001b[0m\u001b[0;34m\u001b[0m\u001b[0;34m\u001b[0m\u001b[0;34m\u001b[0m\u001b[0m\n",
      "\u001b[0;32m~/opt/anaconda3/lib/python3.7/site-packages/geemap/common.py\u001b[0m in \u001b[0;36mee_export_image\u001b[0;34m(ee_object, filename, scale, crs, crs_transform, region, dimensions, file_per_band, format, unzip, unmask_value, timeout, proxies)\u001b[0m\n\u001b[1;32m   2304\u001b[0m             \u001b[0;32mreturn\u001b[0m\u001b[0;34m\u001b[0m\u001b[0;34m\u001b[0m\u001b[0m\n\u001b[1;32m   2305\u001b[0m         \u001b[0mprint\u001b[0m\u001b[0;34m(\u001b[0m\u001b[0;34mf\"Downloading data from {url}\\nPlease wait ...\"\u001b[0m\u001b[0;34m)\u001b[0m\u001b[0;34m\u001b[0m\u001b[0;34m\u001b[0m\u001b[0m\n\u001b[0;32m-> 2306\u001b[0;31m         \u001b[0mr\u001b[0m \u001b[0;34m=\u001b[0m \u001b[0mrequests\u001b[0m\u001b[0;34m.\u001b[0m\u001b[0mget\u001b[0m\u001b[0;34m(\u001b[0m\u001b[0murl\u001b[0m\u001b[0;34m,\u001b[0m \u001b[0mstream\u001b[0m\u001b[0;34m=\u001b[0m\u001b[0;32mTrue\u001b[0m\u001b[0;34m,\u001b[0m \u001b[0mtimeout\u001b[0m\u001b[0;34m=\u001b[0m\u001b[0mtimeout\u001b[0m\u001b[0;34m,\u001b[0m \u001b[0mproxies\u001b[0m\u001b[0;34m=\u001b[0m\u001b[0mproxies\u001b[0m\u001b[0;34m)\u001b[0m\u001b[0;34m\u001b[0m\u001b[0;34m\u001b[0m\u001b[0m\n\u001b[0m\u001b[1;32m   2307\u001b[0m \u001b[0;34m\u001b[0m\u001b[0m\n\u001b[1;32m   2308\u001b[0m         \u001b[0;32mif\u001b[0m \u001b[0mr\u001b[0m\u001b[0;34m.\u001b[0m\u001b[0mstatus_code\u001b[0m \u001b[0;34m!=\u001b[0m \u001b[0;36m200\u001b[0m\u001b[0;34m:\u001b[0m\u001b[0;34m\u001b[0m\u001b[0;34m\u001b[0m\u001b[0m\n",
      "\u001b[0;32m~/opt/anaconda3/lib/python3.7/site-packages/requests/api.py\u001b[0m in \u001b[0;36mget\u001b[0;34m(url, params, **kwargs)\u001b[0m\n\u001b[1;32m     74\u001b[0m \u001b[0;34m\u001b[0m\u001b[0m\n\u001b[1;32m     75\u001b[0m     \u001b[0mkwargs\u001b[0m\u001b[0;34m.\u001b[0m\u001b[0msetdefault\u001b[0m\u001b[0;34m(\u001b[0m\u001b[0;34m'allow_redirects'\u001b[0m\u001b[0;34m,\u001b[0m \u001b[0;32mTrue\u001b[0m\u001b[0;34m)\u001b[0m\u001b[0;34m\u001b[0m\u001b[0;34m\u001b[0m\u001b[0m\n\u001b[0;32m---> 76\u001b[0;31m     \u001b[0;32mreturn\u001b[0m \u001b[0mrequest\u001b[0m\u001b[0;34m(\u001b[0m\u001b[0;34m'get'\u001b[0m\u001b[0;34m,\u001b[0m \u001b[0murl\u001b[0m\u001b[0;34m,\u001b[0m \u001b[0mparams\u001b[0m\u001b[0;34m=\u001b[0m\u001b[0mparams\u001b[0m\u001b[0;34m,\u001b[0m \u001b[0;34m**\u001b[0m\u001b[0mkwargs\u001b[0m\u001b[0;34m)\u001b[0m\u001b[0;34m\u001b[0m\u001b[0;34m\u001b[0m\u001b[0m\n\u001b[0m\u001b[1;32m     77\u001b[0m \u001b[0;34m\u001b[0m\u001b[0m\n\u001b[1;32m     78\u001b[0m \u001b[0;34m\u001b[0m\u001b[0m\n",
      "\u001b[0;32m~/opt/anaconda3/lib/python3.7/site-packages/requests/api.py\u001b[0m in \u001b[0;36mrequest\u001b[0;34m(method, url, **kwargs)\u001b[0m\n\u001b[1;32m     59\u001b[0m     \u001b[0;31m# cases, and look like a memory leak in others.\u001b[0m\u001b[0;34m\u001b[0m\u001b[0;34m\u001b[0m\u001b[0;34m\u001b[0m\u001b[0m\n\u001b[1;32m     60\u001b[0m     \u001b[0;32mwith\u001b[0m \u001b[0msessions\u001b[0m\u001b[0;34m.\u001b[0m\u001b[0mSession\u001b[0m\u001b[0;34m(\u001b[0m\u001b[0;34m)\u001b[0m \u001b[0;32mas\u001b[0m \u001b[0msession\u001b[0m\u001b[0;34m:\u001b[0m\u001b[0;34m\u001b[0m\u001b[0;34m\u001b[0m\u001b[0m\n\u001b[0;32m---> 61\u001b[0;31m         \u001b[0;32mreturn\u001b[0m \u001b[0msession\u001b[0m\u001b[0;34m.\u001b[0m\u001b[0mrequest\u001b[0m\u001b[0;34m(\u001b[0m\u001b[0mmethod\u001b[0m\u001b[0;34m=\u001b[0m\u001b[0mmethod\u001b[0m\u001b[0;34m,\u001b[0m \u001b[0murl\u001b[0m\u001b[0;34m=\u001b[0m\u001b[0murl\u001b[0m\u001b[0;34m,\u001b[0m \u001b[0;34m**\u001b[0m\u001b[0mkwargs\u001b[0m\u001b[0;34m)\u001b[0m\u001b[0;34m\u001b[0m\u001b[0;34m\u001b[0m\u001b[0m\n\u001b[0m\u001b[1;32m     62\u001b[0m \u001b[0;34m\u001b[0m\u001b[0m\n\u001b[1;32m     63\u001b[0m \u001b[0;34m\u001b[0m\u001b[0m\n",
      "\u001b[0;32m~/opt/anaconda3/lib/python3.7/site-packages/requests/sessions.py\u001b[0m in \u001b[0;36mrequest\u001b[0;34m(self, method, url, params, data, headers, cookies, files, auth, timeout, allow_redirects, proxies, hooks, stream, verify, cert, json)\u001b[0m\n\u001b[1;32m    540\u001b[0m         }\n\u001b[1;32m    541\u001b[0m         \u001b[0msend_kwargs\u001b[0m\u001b[0;34m.\u001b[0m\u001b[0mupdate\u001b[0m\u001b[0;34m(\u001b[0m\u001b[0msettings\u001b[0m\u001b[0;34m)\u001b[0m\u001b[0;34m\u001b[0m\u001b[0;34m\u001b[0m\u001b[0m\n\u001b[0;32m--> 542\u001b[0;31m         \u001b[0mresp\u001b[0m \u001b[0;34m=\u001b[0m \u001b[0mself\u001b[0m\u001b[0;34m.\u001b[0m\u001b[0msend\u001b[0m\u001b[0;34m(\u001b[0m\u001b[0mprep\u001b[0m\u001b[0;34m,\u001b[0m \u001b[0;34m**\u001b[0m\u001b[0msend_kwargs\u001b[0m\u001b[0;34m)\u001b[0m\u001b[0;34m\u001b[0m\u001b[0;34m\u001b[0m\u001b[0m\n\u001b[0m\u001b[1;32m    543\u001b[0m \u001b[0;34m\u001b[0m\u001b[0m\n\u001b[1;32m    544\u001b[0m         \u001b[0;32mreturn\u001b[0m \u001b[0mresp\u001b[0m\u001b[0;34m\u001b[0m\u001b[0;34m\u001b[0m\u001b[0m\n",
      "\u001b[0;32m~/opt/anaconda3/lib/python3.7/site-packages/requests/sessions.py\u001b[0m in \u001b[0;36msend\u001b[0;34m(self, request, **kwargs)\u001b[0m\n\u001b[1;32m    653\u001b[0m \u001b[0;34m\u001b[0m\u001b[0m\n\u001b[1;32m    654\u001b[0m         \u001b[0;31m# Send the request\u001b[0m\u001b[0;34m\u001b[0m\u001b[0;34m\u001b[0m\u001b[0;34m\u001b[0m\u001b[0m\n\u001b[0;32m--> 655\u001b[0;31m         \u001b[0mr\u001b[0m \u001b[0;34m=\u001b[0m \u001b[0madapter\u001b[0m\u001b[0;34m.\u001b[0m\u001b[0msend\u001b[0m\u001b[0;34m(\u001b[0m\u001b[0mrequest\u001b[0m\u001b[0;34m,\u001b[0m \u001b[0;34m**\u001b[0m\u001b[0mkwargs\u001b[0m\u001b[0;34m)\u001b[0m\u001b[0;34m\u001b[0m\u001b[0;34m\u001b[0m\u001b[0m\n\u001b[0m\u001b[1;32m    656\u001b[0m \u001b[0;34m\u001b[0m\u001b[0m\n\u001b[1;32m    657\u001b[0m         \u001b[0;31m# Total elapsed time of the request (approximately)\u001b[0m\u001b[0;34m\u001b[0m\u001b[0;34m\u001b[0m\u001b[0;34m\u001b[0m\u001b[0m\n",
      "\u001b[0;32m~/opt/anaconda3/lib/python3.7/site-packages/requests/adapters.py\u001b[0m in \u001b[0;36msend\u001b[0;34m(self, request, stream, timeout, verify, cert, proxies)\u001b[0m\n\u001b[1;32m    447\u001b[0m                     \u001b[0mdecode_content\u001b[0m\u001b[0;34m=\u001b[0m\u001b[0;32mFalse\u001b[0m\u001b[0;34m,\u001b[0m\u001b[0;34m\u001b[0m\u001b[0;34m\u001b[0m\u001b[0m\n\u001b[1;32m    448\u001b[0m                     \u001b[0mretries\u001b[0m\u001b[0;34m=\u001b[0m\u001b[0mself\u001b[0m\u001b[0;34m.\u001b[0m\u001b[0mmax_retries\u001b[0m\u001b[0;34m,\u001b[0m\u001b[0;34m\u001b[0m\u001b[0;34m\u001b[0m\u001b[0m\n\u001b[0;32m--> 449\u001b[0;31m                     \u001b[0mtimeout\u001b[0m\u001b[0;34m=\u001b[0m\u001b[0mtimeout\u001b[0m\u001b[0;34m\u001b[0m\u001b[0;34m\u001b[0m\u001b[0m\n\u001b[0m\u001b[1;32m    450\u001b[0m                 )\n\u001b[1;32m    451\u001b[0m \u001b[0;34m\u001b[0m\u001b[0m\n",
      "\u001b[0;32m~/opt/anaconda3/lib/python3.7/site-packages/urllib3/connectionpool.py\u001b[0m in \u001b[0;36murlopen\u001b[0;34m(self, method, url, body, headers, retries, redirect, assert_same_host, timeout, pool_timeout, release_conn, chunked, body_pos, **response_kw)\u001b[0m\n\u001b[1;32m    704\u001b[0m                 \u001b[0mbody\u001b[0m\u001b[0;34m=\u001b[0m\u001b[0mbody\u001b[0m\u001b[0;34m,\u001b[0m\u001b[0;34m\u001b[0m\u001b[0;34m\u001b[0m\u001b[0m\n\u001b[1;32m    705\u001b[0m                 \u001b[0mheaders\u001b[0m\u001b[0;34m=\u001b[0m\u001b[0mheaders\u001b[0m\u001b[0;34m,\u001b[0m\u001b[0;34m\u001b[0m\u001b[0;34m\u001b[0m\u001b[0m\n\u001b[0;32m--> 706\u001b[0;31m                 \u001b[0mchunked\u001b[0m\u001b[0;34m=\u001b[0m\u001b[0mchunked\u001b[0m\u001b[0;34m,\u001b[0m\u001b[0;34m\u001b[0m\u001b[0;34m\u001b[0m\u001b[0m\n\u001b[0m\u001b[1;32m    707\u001b[0m             )\n\u001b[1;32m    708\u001b[0m \u001b[0;34m\u001b[0m\u001b[0m\n",
      "\u001b[0;32m~/opt/anaconda3/lib/python3.7/site-packages/urllib3/connectionpool.py\u001b[0m in \u001b[0;36m_make_request\u001b[0;34m(self, conn, method, url, timeout, chunked, **httplib_request_kw)\u001b[0m\n\u001b[1;32m    443\u001b[0m                     \u001b[0;31m# Python 3 (including for exceptions like SystemExit).\u001b[0m\u001b[0;34m\u001b[0m\u001b[0;34m\u001b[0m\u001b[0;34m\u001b[0m\u001b[0m\n\u001b[1;32m    444\u001b[0m                     \u001b[0;31m# Otherwise it looks like a bug in the code.\u001b[0m\u001b[0;34m\u001b[0m\u001b[0;34m\u001b[0m\u001b[0;34m\u001b[0m\u001b[0m\n\u001b[0;32m--> 445\u001b[0;31m                     \u001b[0msix\u001b[0m\u001b[0;34m.\u001b[0m\u001b[0mraise_from\u001b[0m\u001b[0;34m(\u001b[0m\u001b[0me\u001b[0m\u001b[0;34m,\u001b[0m \u001b[0;32mNone\u001b[0m\u001b[0;34m)\u001b[0m\u001b[0;34m\u001b[0m\u001b[0;34m\u001b[0m\u001b[0m\n\u001b[0m\u001b[1;32m    446\u001b[0m         \u001b[0;32mexcept\u001b[0m \u001b[0;34m(\u001b[0m\u001b[0mSocketTimeout\u001b[0m\u001b[0;34m,\u001b[0m \u001b[0mBaseSSLError\u001b[0m\u001b[0;34m,\u001b[0m \u001b[0mSocketError\u001b[0m\u001b[0;34m)\u001b[0m \u001b[0;32mas\u001b[0m \u001b[0me\u001b[0m\u001b[0;34m:\u001b[0m\u001b[0;34m\u001b[0m\u001b[0;34m\u001b[0m\u001b[0m\n\u001b[1;32m    447\u001b[0m             \u001b[0mself\u001b[0m\u001b[0;34m.\u001b[0m\u001b[0m_raise_timeout\u001b[0m\u001b[0;34m(\u001b[0m\u001b[0merr\u001b[0m\u001b[0;34m=\u001b[0m\u001b[0me\u001b[0m\u001b[0;34m,\u001b[0m \u001b[0murl\u001b[0m\u001b[0;34m=\u001b[0m\u001b[0murl\u001b[0m\u001b[0;34m,\u001b[0m \u001b[0mtimeout_value\u001b[0m\u001b[0;34m=\u001b[0m\u001b[0mread_timeout\u001b[0m\u001b[0;34m)\u001b[0m\u001b[0;34m\u001b[0m\u001b[0;34m\u001b[0m\u001b[0m\n",
      "\u001b[0;32m~/opt/anaconda3/lib/python3.7/site-packages/urllib3/packages/six.py\u001b[0m in \u001b[0;36mraise_from\u001b[0;34m(value, from_value)\u001b[0m\n",
      "\u001b[0;32m~/opt/anaconda3/lib/python3.7/site-packages/urllib3/connectionpool.py\u001b[0m in \u001b[0;36m_make_request\u001b[0;34m(self, conn, method, url, timeout, chunked, **httplib_request_kw)\u001b[0m\n\u001b[1;32m    438\u001b[0m                 \u001b[0;31m# Python 3\u001b[0m\u001b[0;34m\u001b[0m\u001b[0;34m\u001b[0m\u001b[0;34m\u001b[0m\u001b[0m\n\u001b[1;32m    439\u001b[0m                 \u001b[0;32mtry\u001b[0m\u001b[0;34m:\u001b[0m\u001b[0;34m\u001b[0m\u001b[0;34m\u001b[0m\u001b[0m\n\u001b[0;32m--> 440\u001b[0;31m                     \u001b[0mhttplib_response\u001b[0m \u001b[0;34m=\u001b[0m \u001b[0mconn\u001b[0m\u001b[0;34m.\u001b[0m\u001b[0mgetresponse\u001b[0m\u001b[0;34m(\u001b[0m\u001b[0;34m)\u001b[0m\u001b[0;34m\u001b[0m\u001b[0;34m\u001b[0m\u001b[0m\n\u001b[0m\u001b[1;32m    441\u001b[0m                 \u001b[0;32mexcept\u001b[0m \u001b[0mBaseException\u001b[0m \u001b[0;32mas\u001b[0m \u001b[0me\u001b[0m\u001b[0;34m:\u001b[0m\u001b[0;34m\u001b[0m\u001b[0;34m\u001b[0m\u001b[0m\n\u001b[1;32m    442\u001b[0m                     \u001b[0;31m# Remove the TypeError from the exception chain in\u001b[0m\u001b[0;34m\u001b[0m\u001b[0;34m\u001b[0m\u001b[0;34m\u001b[0m\u001b[0m\n",
      "\u001b[0;32m~/opt/anaconda3/lib/python3.7/http/client.py\u001b[0m in \u001b[0;36mgetresponse\u001b[0;34m(self)\u001b[0m\n\u001b[1;32m   1334\u001b[0m         \u001b[0;32mtry\u001b[0m\u001b[0;34m:\u001b[0m\u001b[0;34m\u001b[0m\u001b[0;34m\u001b[0m\u001b[0m\n\u001b[1;32m   1335\u001b[0m             \u001b[0;32mtry\u001b[0m\u001b[0;34m:\u001b[0m\u001b[0;34m\u001b[0m\u001b[0;34m\u001b[0m\u001b[0m\n\u001b[0;32m-> 1336\u001b[0;31m                 \u001b[0mresponse\u001b[0m\u001b[0;34m.\u001b[0m\u001b[0mbegin\u001b[0m\u001b[0;34m(\u001b[0m\u001b[0;34m)\u001b[0m\u001b[0;34m\u001b[0m\u001b[0;34m\u001b[0m\u001b[0m\n\u001b[0m\u001b[1;32m   1337\u001b[0m             \u001b[0;32mexcept\u001b[0m \u001b[0mConnectionError\u001b[0m\u001b[0;34m:\u001b[0m\u001b[0;34m\u001b[0m\u001b[0;34m\u001b[0m\u001b[0m\n\u001b[1;32m   1338\u001b[0m                 \u001b[0mself\u001b[0m\u001b[0;34m.\u001b[0m\u001b[0mclose\u001b[0m\u001b[0;34m(\u001b[0m\u001b[0;34m)\u001b[0m\u001b[0;34m\u001b[0m\u001b[0;34m\u001b[0m\u001b[0m\n",
      "\u001b[0;32m~/opt/anaconda3/lib/python3.7/http/client.py\u001b[0m in \u001b[0;36mbegin\u001b[0;34m(self)\u001b[0m\n\u001b[1;32m    304\u001b[0m         \u001b[0;31m# read until we get a non-100 response\u001b[0m\u001b[0;34m\u001b[0m\u001b[0;34m\u001b[0m\u001b[0;34m\u001b[0m\u001b[0m\n\u001b[1;32m    305\u001b[0m         \u001b[0;32mwhile\u001b[0m \u001b[0;32mTrue\u001b[0m\u001b[0;34m:\u001b[0m\u001b[0;34m\u001b[0m\u001b[0;34m\u001b[0m\u001b[0m\n\u001b[0;32m--> 306\u001b[0;31m             \u001b[0mversion\u001b[0m\u001b[0;34m,\u001b[0m \u001b[0mstatus\u001b[0m\u001b[0;34m,\u001b[0m \u001b[0mreason\u001b[0m \u001b[0;34m=\u001b[0m \u001b[0mself\u001b[0m\u001b[0;34m.\u001b[0m\u001b[0m_read_status\u001b[0m\u001b[0;34m(\u001b[0m\u001b[0;34m)\u001b[0m\u001b[0;34m\u001b[0m\u001b[0;34m\u001b[0m\u001b[0m\n\u001b[0m\u001b[1;32m    307\u001b[0m             \u001b[0;32mif\u001b[0m \u001b[0mstatus\u001b[0m \u001b[0;34m!=\u001b[0m \u001b[0mCONTINUE\u001b[0m\u001b[0;34m:\u001b[0m\u001b[0;34m\u001b[0m\u001b[0;34m\u001b[0m\u001b[0m\n\u001b[1;32m    308\u001b[0m                 \u001b[0;32mbreak\u001b[0m\u001b[0;34m\u001b[0m\u001b[0;34m\u001b[0m\u001b[0m\n",
      "\u001b[0;32m~/opt/anaconda3/lib/python3.7/http/client.py\u001b[0m in \u001b[0;36m_read_status\u001b[0;34m(self)\u001b[0m\n\u001b[1;32m    265\u001b[0m \u001b[0;34m\u001b[0m\u001b[0m\n\u001b[1;32m    266\u001b[0m     \u001b[0;32mdef\u001b[0m \u001b[0m_read_status\u001b[0m\u001b[0;34m(\u001b[0m\u001b[0mself\u001b[0m\u001b[0;34m)\u001b[0m\u001b[0;34m:\u001b[0m\u001b[0;34m\u001b[0m\u001b[0;34m\u001b[0m\u001b[0m\n\u001b[0;32m--> 267\u001b[0;31m         \u001b[0mline\u001b[0m \u001b[0;34m=\u001b[0m \u001b[0mstr\u001b[0m\u001b[0;34m(\u001b[0m\u001b[0mself\u001b[0m\u001b[0;34m.\u001b[0m\u001b[0mfp\u001b[0m\u001b[0;34m.\u001b[0m\u001b[0mreadline\u001b[0m\u001b[0;34m(\u001b[0m\u001b[0m_MAXLINE\u001b[0m \u001b[0;34m+\u001b[0m \u001b[0;36m1\u001b[0m\u001b[0;34m)\u001b[0m\u001b[0;34m,\u001b[0m \u001b[0;34m\"iso-8859-1\"\u001b[0m\u001b[0;34m)\u001b[0m\u001b[0;34m\u001b[0m\u001b[0;34m\u001b[0m\u001b[0m\n\u001b[0m\u001b[1;32m    268\u001b[0m         \u001b[0;32mif\u001b[0m \u001b[0mlen\u001b[0m\u001b[0;34m(\u001b[0m\u001b[0mline\u001b[0m\u001b[0;34m)\u001b[0m \u001b[0;34m>\u001b[0m \u001b[0m_MAXLINE\u001b[0m\u001b[0;34m:\u001b[0m\u001b[0;34m\u001b[0m\u001b[0;34m\u001b[0m\u001b[0m\n\u001b[1;32m    269\u001b[0m             \u001b[0;32mraise\u001b[0m \u001b[0mLineTooLong\u001b[0m\u001b[0;34m(\u001b[0m\u001b[0;34m\"status line\"\u001b[0m\u001b[0;34m)\u001b[0m\u001b[0;34m\u001b[0m\u001b[0;34m\u001b[0m\u001b[0m\n",
      "\u001b[0;32m~/opt/anaconda3/lib/python3.7/socket.py\u001b[0m in \u001b[0;36mreadinto\u001b[0;34m(self, b)\u001b[0m\n\u001b[1;32m    587\u001b[0m         \u001b[0;32mwhile\u001b[0m \u001b[0;32mTrue\u001b[0m\u001b[0;34m:\u001b[0m\u001b[0;34m\u001b[0m\u001b[0;34m\u001b[0m\u001b[0m\n\u001b[1;32m    588\u001b[0m             \u001b[0;32mtry\u001b[0m\u001b[0;34m:\u001b[0m\u001b[0;34m\u001b[0m\u001b[0;34m\u001b[0m\u001b[0m\n\u001b[0;32m--> 589\u001b[0;31m                 \u001b[0;32mreturn\u001b[0m \u001b[0mself\u001b[0m\u001b[0;34m.\u001b[0m\u001b[0m_sock\u001b[0m\u001b[0;34m.\u001b[0m\u001b[0mrecv_into\u001b[0m\u001b[0;34m(\u001b[0m\u001b[0mb\u001b[0m\u001b[0;34m)\u001b[0m\u001b[0;34m\u001b[0m\u001b[0;34m\u001b[0m\u001b[0m\n\u001b[0m\u001b[1;32m    590\u001b[0m             \u001b[0;32mexcept\u001b[0m \u001b[0mtimeout\u001b[0m\u001b[0;34m:\u001b[0m\u001b[0;34m\u001b[0m\u001b[0;34m\u001b[0m\u001b[0m\n\u001b[1;32m    591\u001b[0m                 \u001b[0mself\u001b[0m\u001b[0;34m.\u001b[0m\u001b[0m_timeout_occurred\u001b[0m \u001b[0;34m=\u001b[0m \u001b[0;32mTrue\u001b[0m\u001b[0;34m\u001b[0m\u001b[0;34m\u001b[0m\u001b[0m\n",
      "\u001b[0;32m~/opt/anaconda3/lib/python3.7/ssl.py\u001b[0m in \u001b[0;36mrecv_into\u001b[0;34m(self, buffer, nbytes, flags)\u001b[0m\n\u001b[1;32m   1069\u001b[0m                   \u001b[0;34m\"non-zero flags not allowed in calls to recv_into() on %s\"\u001b[0m \u001b[0;34m%\u001b[0m\u001b[0;34m\u001b[0m\u001b[0;34m\u001b[0m\u001b[0m\n\u001b[1;32m   1070\u001b[0m                   self.__class__)\n\u001b[0;32m-> 1071\u001b[0;31m             \u001b[0;32mreturn\u001b[0m \u001b[0mself\u001b[0m\u001b[0;34m.\u001b[0m\u001b[0mread\u001b[0m\u001b[0;34m(\u001b[0m\u001b[0mnbytes\u001b[0m\u001b[0;34m,\u001b[0m \u001b[0mbuffer\u001b[0m\u001b[0;34m)\u001b[0m\u001b[0;34m\u001b[0m\u001b[0;34m\u001b[0m\u001b[0m\n\u001b[0m\u001b[1;32m   1072\u001b[0m         \u001b[0;32melse\u001b[0m\u001b[0;34m:\u001b[0m\u001b[0;34m\u001b[0m\u001b[0;34m\u001b[0m\u001b[0m\n\u001b[1;32m   1073\u001b[0m             \u001b[0;32mreturn\u001b[0m \u001b[0msuper\u001b[0m\u001b[0;34m(\u001b[0m\u001b[0;34m)\u001b[0m\u001b[0;34m.\u001b[0m\u001b[0mrecv_into\u001b[0m\u001b[0;34m(\u001b[0m\u001b[0mbuffer\u001b[0m\u001b[0;34m,\u001b[0m \u001b[0mnbytes\u001b[0m\u001b[0;34m,\u001b[0m \u001b[0mflags\u001b[0m\u001b[0;34m)\u001b[0m\u001b[0;34m\u001b[0m\u001b[0;34m\u001b[0m\u001b[0m\n",
      "\u001b[0;32m~/opt/anaconda3/lib/python3.7/ssl.py\u001b[0m in \u001b[0;36mread\u001b[0;34m(self, len, buffer)\u001b[0m\n\u001b[1;32m    927\u001b[0m         \u001b[0;32mtry\u001b[0m\u001b[0;34m:\u001b[0m\u001b[0;34m\u001b[0m\u001b[0;34m\u001b[0m\u001b[0m\n\u001b[1;32m    928\u001b[0m             \u001b[0;32mif\u001b[0m \u001b[0mbuffer\u001b[0m \u001b[0;32mis\u001b[0m \u001b[0;32mnot\u001b[0m \u001b[0;32mNone\u001b[0m\u001b[0;34m:\u001b[0m\u001b[0;34m\u001b[0m\u001b[0;34m\u001b[0m\u001b[0m\n\u001b[0;32m--> 929\u001b[0;31m                 \u001b[0;32mreturn\u001b[0m \u001b[0mself\u001b[0m\u001b[0;34m.\u001b[0m\u001b[0m_sslobj\u001b[0m\u001b[0;34m.\u001b[0m\u001b[0mread\u001b[0m\u001b[0;34m(\u001b[0m\u001b[0mlen\u001b[0m\u001b[0;34m,\u001b[0m \u001b[0mbuffer\u001b[0m\u001b[0;34m)\u001b[0m\u001b[0;34m\u001b[0m\u001b[0;34m\u001b[0m\u001b[0m\n\u001b[0m\u001b[1;32m    930\u001b[0m             \u001b[0;32melse\u001b[0m\u001b[0;34m:\u001b[0m\u001b[0;34m\u001b[0m\u001b[0;34m\u001b[0m\u001b[0m\n\u001b[1;32m    931\u001b[0m                 \u001b[0;32mreturn\u001b[0m \u001b[0mself\u001b[0m\u001b[0;34m.\u001b[0m\u001b[0m_sslobj\u001b[0m\u001b[0;34m.\u001b[0m\u001b[0mread\u001b[0m\u001b[0;34m(\u001b[0m\u001b[0mlen\u001b[0m\u001b[0;34m)\u001b[0m\u001b[0;34m\u001b[0m\u001b[0;34m\u001b[0m\u001b[0m\n",
      "\u001b[0;31mKeyboardInterrupt\u001b[0m: "
     ]
    }
   ],
   "source": [
    "%%time\n",
    "from dateutil.relativedelta import relativedelta\n",
    "# The output from this cell is saved to the local instance under the folder /outputmaps\n",
    "# No tasks are created on GEE\n",
    "\n",
    "retrieval_dates = pd.date_range(startDate,endDate, \n",
    "              freq='MS').strftime(\"%Y-%m-%d\").tolist()\n",
    "\n",
    "with ee.profilePrinting():\n",
    "    ee.data.setWorkloadTag('hydracarta_export_infer_results')\n",
    "\n",
    "    for start_date in tqdm(retrieval_dates):\n",
    "        start_date_ts = datetime.datetime.strptime(start_date, '%Y-%m-%d')\n",
    "        end_date = start_date_ts + relativedelta(months=1) + timedelta(days=-1)\n",
    "        end_date = end_date.strftime('%Y-%m-%d')\n",
    "\n",
    "        print('Processing', start_date, end_date)\n",
    "        rgb_mosaic, pred_prob, et_data, img_cnt = retrieveRGBandClassPredictions(start_date, end_date)\n",
    "        if img_cnt > 1:\n",
    "            exportImages(rgb_mosaic, pred_prob, start_date, end_date, aoi=aoi.geometry()) # or aoi=Map.user_roi\n",
    "        else:\n",
    "            print('\\tWarning:  Less than two(2) ET images retrieved for period', start_date, end_date)"
   ]
  },
  {
   "cell_type": "code",
   "execution_count": 42,
   "metadata": {},
   "outputs": [
    {
     "data": {
      "text/plain": [
       "'Restart'"
      ]
     },
     "execution_count": 42,
     "metadata": {},
     "output_type": "execute_result"
    }
   ],
   "source": [
    "project_name"
   ]
  },
  {
   "cell_type": "code",
   "execution_count": 41,
   "metadata": {
    "colab": {
     "base_uri": "https://localhost:8080/"
    },
    "executionInfo": {
     "elapsed": 2171,
     "status": "ok",
     "timestamp": 1675724902652,
     "user": {
      "displayName": "Blair Jones",
      "userId": "11507989587297916179"
     },
     "user_tz": 300
    },
    "id": "kdFqAtgUeaZY",
    "outputId": "f94ebf17-f141-4b72-9556-59ffb0166aa0"
   },
   "outputs": [
    {
     "data": {
      "text/plain": [
       "1"
      ]
     },
     "execution_count": 41,
     "metadata": {},
     "output_type": "execute_result"
    }
   ],
   "source": [
    "import subprocess\n",
    "#!gsutil mv *.tif gs://staging_demo/CA_monthly_01\n",
    "run_string = f'gsutil mv ../outputmaps/*.tif gs://staging_demo/{project_name}'\n",
    "subprocess.call(run_string, shell=True)"
   ]
  },
  {
   "cell_type": "markdown",
   "metadata": {
    "id": "f8wBpXal9JJl"
   },
   "source": [
    "Create image collections for each type"
   ]
  },
  {
   "cell_type": "code",
   "execution_count": 43,
   "metadata": {
    "colab": {
     "base_uri": "https://localhost:8080/"
    },
    "executionInfo": {
     "elapsed": 4746,
     "status": "ok",
     "timestamp": 1675724989768,
     "user": {
      "displayName": "Blair Jones",
      "userId": "11507989587297916179"
     },
     "user_tz": 300
    },
    "id": "kJuCKtMid76D",
    "outputId": "6637b345-f6ae-42c7-a56a-1e7e487b65a3"
   },
   "outputs": [
    {
     "data": {
      "text/plain": [
       "0"
      ]
     },
     "execution_count": 43,
     "metadata": {},
     "output_type": "execute_result"
    }
   ],
   "source": [
    "run_string = f'earthengine create collection projects/eda-bjonesneu-proto/assets/irrigation/monthly_classes_{project_name}'\n",
    "subprocess.call(run_string, shell=True)"
   ]
  },
  {
   "cell_type": "code",
   "execution_count": 44,
   "metadata": {
    "colab": {
     "base_uri": "https://localhost:8080/"
    },
    "executionInfo": {
     "elapsed": 4565,
     "status": "ok",
     "timestamp": 1675724996384,
     "user": {
      "displayName": "Blair Jones",
      "userId": "11507989587297916179"
     },
     "user_tz": 300
    },
    "id": "3KUepxHYe_jG",
    "outputId": "1e6dd053-cf7d-4b72-da96-14e354857e34"
   },
   "outputs": [
    {
     "data": {
      "text/plain": [
       "0"
      ]
     },
     "execution_count": 44,
     "metadata": {},
     "output_type": "execute_result"
    }
   ],
   "source": [
    "run_string = f'earthengine create collection projects/eda-bjonesneu-proto/assets/irrigation/monthly_rgb_{project_name}'\n",
    "subprocess.call(run_string, shell=True)"
   ]
  },
  {
   "cell_type": "code",
   "execution_count": 45,
   "metadata": {
    "colab": {
     "base_uri": "https://localhost:8080/"
    },
    "executionInfo": {
     "elapsed": 4349,
     "status": "ok",
     "timestamp": 1675725000731,
     "user": {
      "displayName": "Blair Jones",
      "userId": "11507989587297916179"
     },
     "user_tz": 300
    },
    "id": "xMNQkcF7isEl",
    "outputId": "e8931814-f810-4e1f-d62a-a186f4525c5b"
   },
   "outputs": [
    {
     "name": "stdout",
     "output_type": "stream",
     "text": [
      "projects/eda-bjonesneu-proto/assets/irrigation/classes_col\r\n",
      "projects/eda-bjonesneu-proto/assets/irrigation/labels\r\n",
      "projects/eda-bjonesneu-proto/assets/irrigation/labels_new\r\n",
      "projects/eda-bjonesneu-proto/assets/irrigation/labels_old\r\n",
      "projects/eda-bjonesneu-proto/assets/irrigation/monthly_classes_Clark_Ranch\r\n",
      "projects/eda-bjonesneu-proto/assets/irrigation/monthly_classes_Restart\r\n",
      "projects/eda-bjonesneu-proto/assets/irrigation/monthly_classes_Westwind\r\n",
      "projects/eda-bjonesneu-proto/assets/irrigation/monthly_classes_col_monthly\r\n",
      "projects/eda-bjonesneu-proto/assets/irrigation/monthly_classes_col_monthly_02\r\n",
      "projects/eda-bjonesneu-proto/assets/irrigation/monthly_rgb_Clark_Ranch\r\n",
      "projects/eda-bjonesneu-proto/assets/irrigation/monthly_rgb_Restart\r\n",
      "projects/eda-bjonesneu-proto/assets/irrigation/monthly_rgb_Westwind\r\n",
      "projects/eda-bjonesneu-proto/assets/irrigation/monthly_rgb_col_monthly\r\n",
      "projects/eda-bjonesneu-proto/assets/irrigation/monthly_rgb_col_monthly_02\r\n",
      "projects/eda-bjonesneu-proto/assets/irrigation/rgb_col\r\n"
     ]
    }
   ],
   "source": [
    "!earthengine ls projects/eda-bjonesneu-proto/assets/irrigation"
   ]
  },
  {
   "cell_type": "markdown",
   "metadata": {
    "id": "JQY5l7pi9Cpg"
   },
   "source": [
    "Upload the individual images to each image collection"
   ]
  },
  {
   "cell_type": "code",
   "execution_count": 52,
   "metadata": {
    "executionInfo": {
     "elapsed": 17187,
     "status": "ok",
     "timestamp": 1675725035686,
     "user": {
      "displayName": "Blair Jones",
      "userId": "11507989587297916179"
     },
     "user_tz": 300
    },
    "id": "cUh6X9nqXhiJ"
   },
   "outputs": [
    {
     "name": "stdout",
     "output_type": "stream",
     "text": [
      "<Blob: staging_demo, CA_monthly_01/monthly_classes_2016-03-01_2016-03-31.tif, 1660007854784470>\n",
      "<Blob: staging_demo, CA_monthly_01/monthly_classes_2016-04-01_2016-04-30.tif, 1660007854936408>\n",
      "<Blob: staging_demo, CA_monthly_01/monthly_classes_2016-05-01_2016-05-31.tif, 1660007855100679>\n",
      "<Blob: staging_demo, CA_monthly_01/monthly_classes_2016-06-01_2016-06-30.tif, 1660007855265766>\n",
      "<Blob: staging_demo, CA_monthly_01/monthly_classes_2016-07-01_2016-07-31.tif, 1660007855441392>\n",
      "<Blob: staging_demo, CA_monthly_01/monthly_classes_2016-08-01_2016-08-31.tif, 1660007855635241>\n",
      "<Blob: staging_demo, CA_monthly_01/monthly_classes_2016-09-01_2016-09-30.tif, 1660007855770685>\n",
      "<Blob: staging_demo, CA_monthly_01/monthly_classes_2016-10-01_2016-10-31.tif, 1660007855948929>\n",
      "<Blob: staging_demo, CA_monthly_01/monthly_classes_2016-11-01_2016-11-30.tif, 1660007856116652>\n",
      "<Blob: staging_demo, CA_monthly_01/monthly_classes_2016-12-01_2016-12-31.tif, 1660007856301638>\n",
      "<Blob: staging_demo, CA_monthly_01/monthly_classes_2017-01-01_2017-01-31.tif, 1660007856468634>\n",
      "<Blob: staging_demo, CA_monthly_01/monthly_classes_2017-04-01_2017-04-30.tif, 1660007856633877>\n",
      "<Blob: staging_demo, CA_monthly_01/monthly_classes_2017-05-01_2017-05-31.tif, 1660007856770852>\n",
      "<Blob: staging_demo, CA_monthly_01/monthly_classes_2017-06-01_2017-06-30.tif, 1660007856948000>\n",
      "<Blob: staging_demo, CA_monthly_01/monthly_classes_2017-07-01_2017-07-31.tif, 1660007857085224>\n",
      "<Blob: staging_demo, CA_monthly_01/monthly_classes_2017-08-01_2017-08-31.tif, 1660007857228968>\n",
      "<Blob: staging_demo, CA_monthly_01/monthly_classes_2017-09-01_2017-09-30.tif, 1660007857391858>\n",
      "<Blob: staging_demo, CA_monthly_01/monthly_classes_2017-10-01_2017-10-31.tif, 1660007857564692>\n",
      "<Blob: staging_demo, CA_monthly_01/monthly_classes_2017-11-01_2017-11-30.tif, 1660007857696629>\n",
      "<Blob: staging_demo, CA_monthly_01/monthly_classes_2018-02-01_2018-02-28.tif, 1660007857835437>\n",
      "<Blob: staging_demo, CA_monthly_01/monthly_classes_2018-03-01_2018-03-31.tif, 1660007857997036>\n",
      "<Blob: staging_demo, CA_monthly_01/monthly_classes_2018-04-01_2018-04-30.tif, 1660007858208080>\n",
      "<Blob: staging_demo, CA_monthly_01/monthly_classes_2018-05-01_2018-05-31.tif, 1660007858381785>\n",
      "<Blob: staging_demo, CA_monthly_01/monthly_classes_2018-06-01_2018-06-30.tif, 1660007858561095>\n",
      "<Blob: staging_demo, CA_monthly_01/monthly_classes_2018-07-01_2018-07-31.tif, 1660007858702303>\n",
      "<Blob: staging_demo, CA_monthly_01/monthly_classes_2018-08-01_2018-08-31.tif, 1660007858870980>\n",
      "<Blob: staging_demo, CA_monthly_01/monthly_classes_2018-09-01_2018-09-30.tif, 1660007859007728>\n",
      "<Blob: staging_demo, CA_monthly_01/monthly_classes_2018-10-01_2018-10-31.tif, 1660007859195101>\n",
      "<Blob: staging_demo, CA_monthly_01/monthly_classes_2018-11-01_2018-11-30.tif, 1660007859355182>\n",
      "<Blob: staging_demo, CA_monthly_01/monthly_classes_2018-12-01_2018-12-31.tif, 1660007859538637>\n",
      "<Blob: staging_demo, CA_monthly_01/monthly_classes_2019-04-01_2019-04-30.tif, 1660007859713671>\n",
      "<Blob: staging_demo, CA_monthly_01/monthly_classes_2019-05-01_2019-05-31.tif, 1660007859846533>\n",
      "<Blob: staging_demo, CA_monthly_01/monthly_classes_2019-06-01_2019-06-30.tif, 1660007859990476>\n",
      "<Blob: staging_demo, CA_monthly_01/monthly_classes_2019-07-01_2019-07-31.tif, 1660007860174690>\n",
      "<Blob: staging_demo, CA_monthly_01/monthly_classes_2019-08-01_2019-08-31.tif, 1660007860345497>\n",
      "<Blob: staging_demo, CA_monthly_01/monthly_classes_2019-09-01_2019-09-30.tif, 1660007860518365>\n",
      "<Blob: staging_demo, CA_monthly_01/monthly_classes_2019-10-01_2019-10-31.tif, 1660007860683892>\n",
      "<Blob: staging_demo, CA_monthly_01/monthly_classes_2019-11-01_2019-11-30.tif, 1660007860815429>\n",
      "<Blob: staging_demo, CA_monthly_01/monthly_classes_2020-03-01_2020-03-31.tif, 1660007861015687>\n",
      "<Blob: staging_demo, CA_monthly_01/monthly_classes_2020-04-01_2020-04-30.tif, 1660007861197602>\n",
      "<Blob: staging_demo, CA_monthly_01/monthly_classes_2020-05-01_2020-05-31.tif, 1660007861390813>\n",
      "<Blob: staging_demo, CA_monthly_01/monthly_classes_2020-06-01_2020-06-30.tif, 1660007861527121>\n",
      "<Blob: staging_demo, CA_monthly_01/monthly_classes_2020-07-01_2020-07-31.tif, 1660007861705267>\n",
      "<Blob: staging_demo, CA_monthly_01/monthly_classes_2020-08-01_2020-08-31.tif, 1660007861863729>\n",
      "<Blob: staging_demo, CA_monthly_01/monthly_classes_2020-09-01_2020-09-30.tif, 1660007862016455>\n",
      "<Blob: staging_demo, CA_monthly_01/monthly_classes_2020-10-01_2020-10-31.tif, 1660007862210802>\n",
      "<Blob: staging_demo, CA_monthly_01/monthly_classes_2020-11-01_2020-11-30.tif, 1660007862396704>\n",
      "<Blob: staging_demo, CA_monthly_01/monthly_classes_2021-03-01_2021-03-31.tif, 1660007862554691>\n",
      "<Blob: staging_demo, CA_monthly_01/monthly_classes_2021-04-01_2021-04-30.tif, 1660007862750703>\n",
      "<Blob: staging_demo, CA_monthly_01/monthly_classes_2021-05-01_2021-05-31.tif, 1660007862917644>\n",
      "<Blob: staging_demo, CA_monthly_01/monthly_classes_2021-06-01_2021-06-30.tif, 1660007863102290>\n",
      "<Blob: staging_demo, CA_monthly_01/monthly_classes_2021-07-01_2021-07-31.tif, 1660007863253408>\n",
      "<Blob: staging_demo, CA_monthly_01/monthly_classes_2021-08-01_2021-08-31.tif, 1660007863422517>\n",
      "<Blob: staging_demo, CA_monthly_01/monthly_classes_2021-09-01_2021-09-30.tif, 1660007863582280>\n",
      "<Blob: staging_demo, CA_monthly_01/monthly_classes_2021-11-01_2021-11-30.tif, 1660007863745553>\n",
      "<Blob: staging_demo, CA_monthly_01/monthly_rgb_2016-03-01_2016-03-31.tif, 1660007863893106>\n",
      "<Blob: staging_demo, CA_monthly_01/monthly_rgb_2016-04-01_2016-04-30.tif, 1660007864043895>\n",
      "<Blob: staging_demo, CA_monthly_01/monthly_rgb_2016-05-01_2016-05-31.tif, 1660007864206875>\n",
      "<Blob: staging_demo, CA_monthly_01/monthly_rgb_2016-06-01_2016-06-30.tif, 1660007864362753>\n",
      "<Blob: staging_demo, CA_monthly_01/monthly_rgb_2016-07-01_2016-07-31.tif, 1660007864528078>\n",
      "<Blob: staging_demo, CA_monthly_01/monthly_rgb_2016-08-01_2016-08-31.tif, 1660007864789377>\n",
      "<Blob: staging_demo, CA_monthly_01/monthly_rgb_2016-09-01_2016-09-30.tif, 1660007864948195>\n",
      "<Blob: staging_demo, CA_monthly_01/monthly_rgb_2016-10-01_2016-10-31.tif, 1660007865106029>\n",
      "<Blob: staging_demo, CA_monthly_01/monthly_rgb_2016-11-01_2016-11-30.tif, 1660007865312100>\n",
      "<Blob: staging_demo, CA_monthly_01/monthly_rgb_2016-12-01_2016-12-31.tif, 1660007865506000>\n",
      "<Blob: staging_demo, CA_monthly_01/monthly_rgb_2017-01-01_2017-01-31.tif, 1660007865667282>\n",
      "<Blob: staging_demo, CA_monthly_01/monthly_rgb_2017-04-01_2017-04-30.tif, 1660007865819218>\n",
      "<Blob: staging_demo, CA_monthly_01/monthly_rgb_2017-05-01_2017-05-31.tif, 1660007865976247>\n",
      "<Blob: staging_demo, CA_monthly_01/monthly_rgb_2017-06-01_2017-06-30.tif, 1660007866137067>\n",
      "<Blob: staging_demo, CA_monthly_01/monthly_rgb_2017-07-01_2017-07-31.tif, 1660007866289015>\n",
      "<Blob: staging_demo, CA_monthly_01/monthly_rgb_2017-08-01_2017-08-31.tif, 1660007866451318>\n",
      "<Blob: staging_demo, CA_monthly_01/monthly_rgb_2017-09-01_2017-09-30.tif, 1660007866600932>\n",
      "<Blob: staging_demo, CA_monthly_01/monthly_rgb_2017-10-01_2017-10-31.tif, 1660007866744361>\n",
      "<Blob: staging_demo, CA_monthly_01/monthly_rgb_2017-11-01_2017-11-30.tif, 1660007866933692>\n",
      "<Blob: staging_demo, CA_monthly_01/monthly_rgb_2018-02-01_2018-02-28.tif, 1660007867091878>\n",
      "<Blob: staging_demo, CA_monthly_01/monthly_rgb_2018-03-01_2018-03-31.tif, 1660007867308095>\n",
      "<Blob: staging_demo, CA_monthly_01/monthly_rgb_2018-04-01_2018-04-30.tif, 1660007867464404>\n",
      "<Blob: staging_demo, CA_monthly_01/monthly_rgb_2018-05-01_2018-05-31.tif, 1660007867628875>\n",
      "<Blob: staging_demo, CA_monthly_01/monthly_rgb_2018-06-01_2018-06-30.tif, 1660007867772881>\n",
      "<Blob: staging_demo, CA_monthly_01/monthly_rgb_2018-07-01_2018-07-31.tif, 1660007867923798>\n",
      "<Blob: staging_demo, CA_monthly_01/monthly_rgb_2018-08-01_2018-08-31.tif, 1660007868071409>\n",
      "<Blob: staging_demo, CA_monthly_01/monthly_rgb_2018-09-01_2018-09-30.tif, 1660007868225706>\n",
      "<Blob: staging_demo, CA_monthly_01/monthly_rgb_2018-10-01_2018-10-31.tif, 1660007868368139>\n",
      "<Blob: staging_demo, CA_monthly_01/monthly_rgb_2018-11-01_2018-11-30.tif, 1660007868514444>\n",
      "<Blob: staging_demo, CA_monthly_01/monthly_rgb_2018-12-01_2018-12-31.tif, 1660007868691410>\n",
      "<Blob: staging_demo, CA_monthly_01/monthly_rgb_2019-04-01_2019-04-30.tif, 1660007868861299>\n",
      "<Blob: staging_demo, CA_monthly_01/monthly_rgb_2019-05-01_2019-05-31.tif, 1660007869010670>\n",
      "<Blob: staging_demo, CA_monthly_01/monthly_rgb_2019-06-01_2019-06-30.tif, 1660007869160738>\n",
      "<Blob: staging_demo, CA_monthly_01/monthly_rgb_2019-07-01_2019-07-31.tif, 1660007869307827>\n",
      "<Blob: staging_demo, CA_monthly_01/monthly_rgb_2019-08-01_2019-08-31.tif, 1660007869456671>\n",
      "<Blob: staging_demo, CA_monthly_01/monthly_rgb_2019-09-01_2019-09-30.tif, 1660007869617820>\n",
      "<Blob: staging_demo, CA_monthly_01/monthly_rgb_2019-10-01_2019-10-31.tif, 1660007869766784>\n",
      "<Blob: staging_demo, CA_monthly_01/monthly_rgb_2019-11-01_2019-11-30.tif, 1660007869913711>\n",
      "<Blob: staging_demo, CA_monthly_01/monthly_rgb_2020-03-01_2020-03-31.tif, 1660007870107722>\n",
      "<Blob: staging_demo, CA_monthly_01/monthly_rgb_2020-04-01_2020-04-30.tif, 1660007870249944>\n",
      "<Blob: staging_demo, CA_monthly_01/monthly_rgb_2020-05-01_2020-05-31.tif, 1660007870421561>\n",
      "<Blob: staging_demo, CA_monthly_01/monthly_rgb_2020-06-01_2020-06-30.tif, 1660007870574585>\n",
      "<Blob: staging_demo, CA_monthly_01/monthly_rgb_2020-07-01_2020-07-31.tif, 1660007870777043>\n",
      "<Blob: staging_demo, CA_monthly_01/monthly_rgb_2020-08-01_2020-08-31.tif, 1660007870944086>\n",
      "<Blob: staging_demo, CA_monthly_01/monthly_rgb_2020-09-01_2020-09-30.tif, 1660007871098710>\n",
      "<Blob: staging_demo, CA_monthly_01/monthly_rgb_2020-10-01_2020-10-31.tif, 1660007871255977>\n",
      "<Blob: staging_demo, CA_monthly_01/monthly_rgb_2020-11-01_2020-11-30.tif, 1660007871408115>\n",
      "<Blob: staging_demo, CA_monthly_01/monthly_rgb_2021-03-01_2021-03-31.tif, 1660007871556201>\n",
      "<Blob: staging_demo, CA_monthly_01/monthly_rgb_2021-04-01_2021-04-30.tif, 1660007871701072>\n",
      "<Blob: staging_demo, CA_monthly_01/monthly_rgb_2021-05-01_2021-05-31.tif, 1660007871866551>\n",
      "<Blob: staging_demo, CA_monthly_01/monthly_rgb_2021-06-01_2021-06-30.tif, 1660007872047393>\n",
      "<Blob: staging_demo, CA_monthly_01/monthly_rgb_2021-07-01_2021-07-31.tif, 1660007872190915>\n",
      "<Blob: staging_demo, CA_monthly_01/monthly_rgb_2021-08-01_2021-08-31.tif, 1660007872332502>\n",
      "<Blob: staging_demo, CA_monthly_01/monthly_rgb_2021-09-01_2021-09-30.tif, 1660007872517711>\n",
      "<Blob: staging_demo, CA_monthly_01/monthly_rgb_2021-11-01_2021-11-30.tif, 1660007872676353>\n",
      "<Blob: staging_demo, CA_monthly_02/monthly_classes_2016-03-01_2016-03-31.tif, 1660855813042883>\n",
      "<Blob: staging_demo, CA_monthly_02/monthly_classes_2016-04-01_2016-04-30.tif, 1660855813193855>\n",
      "<Blob: staging_demo, CA_monthly_02/monthly_classes_2016-05-01_2016-05-31.tif, 1660855813367328>\n",
      "<Blob: staging_demo, CA_monthly_02/monthly_classes_2016-06-01_2016-06-30.tif, 1660855813515679>\n",
      "<Blob: staging_demo, CA_monthly_02/monthly_classes_2016-07-01_2016-07-31.tif, 1660855813696884>\n",
      "<Blob: staging_demo, CA_monthly_02/monthly_classes_2016-08-01_2016-08-31.tif, 1660855813834396>\n",
      "<Blob: staging_demo, CA_monthly_02/monthly_classes_2016-09-01_2016-09-30.tif, 1660855813984900>\n",
      "<Blob: staging_demo, CA_monthly_02/monthly_classes_2016-10-01_2016-10-31.tif, 1660855814122857>\n",
      "<Blob: staging_demo, CA_monthly_02/monthly_classes_2016-11-01_2016-11-30.tif, 1660855814270735>\n",
      "<Blob: staging_demo, CA_monthly_02/monthly_classes_2016-12-01_2016-12-31.tif, 1660855814462696>\n",
      "<Blob: staging_demo, CA_monthly_02/monthly_classes_2017-01-01_2017-01-31.tif, 1660855814617104>\n",
      "<Blob: staging_demo, CA_monthly_02/monthly_classes_2017-04-01_2017-04-30.tif, 1660855814809086>\n",
      "<Blob: staging_demo, CA_monthly_02/monthly_classes_2017-05-01_2017-05-31.tif, 1660855814984698>\n",
      "<Blob: staging_demo, CA_monthly_02/monthly_classes_2017-06-01_2017-06-30.tif, 1660855815124214>\n",
      "<Blob: staging_demo, CA_monthly_02/monthly_classes_2017-07-01_2017-07-31.tif, 1660855815319126>\n",
      "<Blob: staging_demo, CA_monthly_02/monthly_classes_2017-08-01_2017-08-31.tif, 1660855815484508>\n",
      "<Blob: staging_demo, CA_monthly_02/monthly_classes_2017-09-01_2017-09-30.tif, 1660855815639904>\n",
      "<Blob: staging_demo, CA_monthly_02/monthly_classes_2017-10-01_2017-10-31.tif, 1660855815789366>\n",
      "<Blob: staging_demo, CA_monthly_02/monthly_classes_2017-11-01_2017-11-30.tif, 1660855815962924>\n",
      "<Blob: staging_demo, CA_monthly_02/monthly_classes_2018-02-01_2018-02-28.tif, 1660855816121686>\n",
      "<Blob: staging_demo, CA_monthly_02/monthly_classes_2018-03-01_2018-03-31.tif, 1660855816311775>\n",
      "<Blob: staging_demo, CA_monthly_02/monthly_classes_2018-04-01_2018-04-30.tif, 1660855816466317>\n",
      "<Blob: staging_demo, CA_monthly_02/monthly_classes_2018-05-01_2018-05-31.tif, 1660855816609104>\n",
      "<Blob: staging_demo, CA_monthly_02/monthly_classes_2018-06-01_2018-06-30.tif, 1660855816742726>\n",
      "<Blob: staging_demo, CA_monthly_02/monthly_classes_2018-07-01_2018-07-31.tif, 1660855816884764>\n",
      "<Blob: staging_demo, CA_monthly_02/monthly_classes_2018-08-01_2018-08-31.tif, 1660855817036469>\n",
      "<Blob: staging_demo, CA_monthly_02/monthly_classes_2018-09-01_2018-09-30.tif, 1660855817210109>\n",
      "<Blob: staging_demo, CA_monthly_02/monthly_classes_2018-10-01_2018-10-31.tif, 1660855817341587>\n",
      "<Blob: staging_demo, CA_monthly_02/monthly_classes_2018-11-01_2018-11-30.tif, 1660855817492603>\n",
      "<Blob: staging_demo, CA_monthly_02/monthly_classes_2018-12-01_2018-12-31.tif, 1660855817651945>\n",
      "<Blob: staging_demo, CA_monthly_02/monthly_classes_2019-04-01_2019-04-30.tif, 1660855817810686>\n",
      "<Blob: staging_demo, CA_monthly_02/monthly_classes_2019-05-01_2019-05-31.tif, 1660855817944267>\n",
      "<Blob: staging_demo, CA_monthly_02/monthly_classes_2019-06-01_2019-06-30.tif, 1660855818114750>\n",
      "<Blob: staging_demo, CA_monthly_02/monthly_classes_2019-07-01_2019-07-31.tif, 1660855818276098>\n",
      "<Blob: staging_demo, CA_monthly_02/monthly_classes_2019-08-01_2019-08-31.tif, 1660855818441650>\n",
      "<Blob: staging_demo, CA_monthly_02/monthly_classes_2019-09-01_2019-09-30.tif, 1660855818599486>\n",
      "<Blob: staging_demo, CA_monthly_02/monthly_classes_2019-10-01_2019-10-31.tif, 1660855818774514>\n",
      "<Blob: staging_demo, CA_monthly_02/monthly_classes_2019-11-01_2019-11-30.tif, 1660855818894618>\n",
      "<Blob: staging_demo, CA_monthly_02/monthly_classes_2020-02-01_2020-02-29.tif, 1675721164399345>\n",
      "<Blob: staging_demo, CA_monthly_02/monthly_classes_2020-03-01_2020-03-31.tif, 1675721164558555>\n",
      "<Blob: staging_demo, CA_monthly_02/monthly_classes_2020-04-01_2020-04-30.tif, 1660855819237881>\n",
      "<Blob: staging_demo, CA_monthly_02/monthly_classes_2020-05-01_2020-05-31.tif, 1675721164757429>\n",
      "<Blob: staging_demo, CA_monthly_02/monthly_classes_2020-06-01_2020-06-30.tif, 1675721164928126>\n",
      "<Blob: staging_demo, CA_monthly_02/monthly_classes_2020-07-01_2020-07-31.tif, 1675721165113102>\n",
      "<Blob: staging_demo, CA_monthly_02/monthly_classes_2020-08-01_2020-08-31.tif, 1675721165290471>\n",
      "<Blob: staging_demo, CA_monthly_02/monthly_classes_2020-09-01_2020-09-30.tif, 1675721165466953>\n",
      "<Blob: staging_demo, CA_monthly_02/monthly_classes_2020-10-01_2020-10-31.tif, 1675721165645640>\n",
      "<Blob: staging_demo, CA_monthly_02/monthly_classes_2020-11-01_2020-11-30.tif, 1660855820369571>\n",
      "<Blob: staging_demo, CA_monthly_02/monthly_rgb_2016-03-01_2016-03-31.tif, 1660855820537249>\n",
      "<Blob: staging_demo, CA_monthly_02/monthly_rgb_2016-04-01_2016-04-30.tif, 1660855820715262>\n",
      "<Blob: staging_demo, CA_monthly_02/monthly_rgb_2016-05-01_2016-05-31.tif, 1660855820877752>\n",
      "<Blob: staging_demo, CA_monthly_02/monthly_rgb_2016-06-01_2016-06-30.tif, 1660855821061835>\n",
      "<Blob: staging_demo, CA_monthly_02/monthly_rgb_2016-07-01_2016-07-31.tif, 1660855821228979>\n",
      "<Blob: staging_demo, CA_monthly_02/monthly_rgb_2016-08-01_2016-08-31.tif, 1660855821383019>\n",
      "<Blob: staging_demo, CA_monthly_02/monthly_rgb_2016-09-01_2016-09-30.tif, 1660855821540735>\n",
      "<Blob: staging_demo, CA_monthly_02/monthly_rgb_2016-10-01_2016-10-31.tif, 1660855821698285>\n",
      "<Blob: staging_demo, CA_monthly_02/monthly_rgb_2016-11-01_2016-11-30.tif, 1660855821843437>\n",
      "<Blob: staging_demo, CA_monthly_02/monthly_rgb_2016-12-01_2016-12-31.tif, 1660855821992106>\n",
      "<Blob: staging_demo, CA_monthly_02/monthly_rgb_2017-01-01_2017-01-31.tif, 1660855822162035>\n",
      "<Blob: staging_demo, CA_monthly_02/monthly_rgb_2017-04-01_2017-04-30.tif, 1660855822341030>\n",
      "<Blob: staging_demo, CA_monthly_02/monthly_rgb_2017-05-01_2017-05-31.tif, 1660855822501790>\n",
      "<Blob: staging_demo, CA_monthly_02/monthly_rgb_2017-06-01_2017-06-30.tif, 1660855822649996>\n",
      "<Blob: staging_demo, CA_monthly_02/monthly_rgb_2017-07-01_2017-07-31.tif, 1660855822810246>\n",
      "<Blob: staging_demo, CA_monthly_02/monthly_rgb_2017-08-01_2017-08-31.tif, 1660855823013680>\n",
      "<Blob: staging_demo, CA_monthly_02/monthly_rgb_2017-09-01_2017-09-30.tif, 1660855823219744>\n",
      "<Blob: staging_demo, CA_monthly_02/monthly_rgb_2017-10-01_2017-10-31.tif, 1660855823363850>\n",
      "<Blob: staging_demo, CA_monthly_02/monthly_rgb_2017-11-01_2017-11-30.tif, 1660855823514578>\n",
      "<Blob: staging_demo, CA_monthly_02/monthly_rgb_2018-02-01_2018-02-28.tif, 1660855823673057>\n",
      "<Blob: staging_demo, CA_monthly_02/monthly_rgb_2018-03-01_2018-03-31.tif, 1660855823823710>\n",
      "<Blob: staging_demo, CA_monthly_02/monthly_rgb_2018-04-01_2018-04-30.tif, 1660855823992504>\n",
      "<Blob: staging_demo, CA_monthly_02/monthly_rgb_2018-05-01_2018-05-31.tif, 1660855824164026>\n",
      "<Blob: staging_demo, CA_monthly_02/monthly_rgb_2018-06-01_2018-06-30.tif, 1660855824333558>\n",
      "<Blob: staging_demo, CA_monthly_02/monthly_rgb_2018-07-01_2018-07-31.tif, 1660855824532044>\n",
      "<Blob: staging_demo, CA_monthly_02/monthly_rgb_2018-08-01_2018-08-31.tif, 1660855824688621>\n",
      "<Blob: staging_demo, CA_monthly_02/monthly_rgb_2018-09-01_2018-09-30.tif, 1660855824841125>\n",
      "<Blob: staging_demo, CA_monthly_02/monthly_rgb_2018-10-01_2018-10-31.tif, 1660855825003107>\n",
      "<Blob: staging_demo, CA_monthly_02/monthly_rgb_2018-11-01_2018-11-30.tif, 1660855825155908>\n",
      "<Blob: staging_demo, CA_monthly_02/monthly_rgb_2018-12-01_2018-12-31.tif, 1660855825310514>\n",
      "<Blob: staging_demo, CA_monthly_02/monthly_rgb_2019-04-01_2019-04-30.tif, 1660855825472299>\n",
      "<Blob: staging_demo, CA_monthly_02/monthly_rgb_2019-05-01_2019-05-31.tif, 1660855825664098>\n",
      "<Blob: staging_demo, CA_monthly_02/monthly_rgb_2019-06-01_2019-06-30.tif, 1660855825829295>\n",
      "<Blob: staging_demo, CA_monthly_02/monthly_rgb_2019-07-01_2019-07-31.tif, 1660855825967371>\n",
      "<Blob: staging_demo, CA_monthly_02/monthly_rgb_2019-08-01_2019-08-31.tif, 1660855826115748>\n",
      "<Blob: staging_demo, CA_monthly_02/monthly_rgb_2019-09-01_2019-09-30.tif, 1660855826296099>\n",
      "<Blob: staging_demo, CA_monthly_02/monthly_rgb_2019-10-01_2019-10-31.tif, 1660855826451356>\n",
      "<Blob: staging_demo, CA_monthly_02/monthly_rgb_2019-11-01_2019-11-30.tif, 1660855826592162>\n",
      "<Blob: staging_demo, CA_monthly_02/monthly_rgb_2020-02-01_2020-02-29.tif, 1675721165831757>\n",
      "<Blob: staging_demo, CA_monthly_02/monthly_rgb_2020-03-01_2020-03-31.tif, 1675721165957514>\n",
      "<Blob: staging_demo, CA_monthly_02/monthly_rgb_2020-04-01_2020-04-30.tif, 1660855826891923>\n",
      "<Blob: staging_demo, CA_monthly_02/monthly_rgb_2020-05-01_2020-05-31.tif, 1675721166145589>\n",
      "<Blob: staging_demo, CA_monthly_02/monthly_rgb_2020-06-01_2020-06-30.tif, 1675721166314433>\n",
      "<Blob: staging_demo, CA_monthly_02/monthly_rgb_2020-07-01_2020-07-31.tif, 1675721166503946>\n",
      "<Blob: staging_demo, CA_monthly_02/monthly_rgb_2020-08-01_2020-08-31.tif, 1675721166681402>\n",
      "<Blob: staging_demo, CA_monthly_02/monthly_rgb_2020-09-01_2020-09-30.tif, 1675721166861964>\n",
      "<Blob: staging_demo, CA_monthly_02/monthly_rgb_2020-10-01_2020-10-31.tif, 1675721167035173>\n",
      "<Blob: staging_demo, CA_monthly_02/monthly_rgb_2020-11-01_2020-11-30.tif, 1660855827968671>\n",
      "<Blob: staging_demo, Clark_Ranch/monthly_classes_2020-02-01_2020-02-29.tif, 1675722077814165>\n",
      "<Blob: staging_demo, Clark_Ranch/monthly_classes_2020-03-01_2020-03-31.tif, 1675722077953438>\n",
      "<Blob: staging_demo, Clark_Ranch/monthly_classes_2020-05-01_2020-05-31.tif, 1675722078086485>\n",
      "<Blob: staging_demo, Clark_Ranch/monthly_classes_2020-06-01_2020-06-30.tif, 1675722078215279>\n",
      "<Blob: staging_demo, Clark_Ranch/monthly_classes_2020-07-01_2020-07-31.tif, 1675722078342486>\n",
      "<Blob: staging_demo, Clark_Ranch/monthly_classes_2020-08-01_2020-08-31.tif, 1675722078467112>\n",
      "<Blob: staging_demo, Clark_Ranch/monthly_classes_2020-09-01_2020-09-30.tif, 1675722078586346>\n",
      "<Blob: staging_demo, Clark_Ranch/monthly_classes_2020-10-01_2020-10-31.tif, 1675722078716331>\n",
      "<Blob: staging_demo, Clark_Ranch/monthly_rgb_2020-02-01_2020-02-29.tif, 1675722078843885>\n",
      "<Blob: staging_demo, Clark_Ranch/monthly_rgb_2020-03-01_2020-03-31.tif, 1675722078972255>\n",
      "<Blob: staging_demo, Clark_Ranch/monthly_rgb_2020-05-01_2020-05-31.tif, 1675722079125020>\n",
      "<Blob: staging_demo, Clark_Ranch/monthly_rgb_2020-06-01_2020-06-30.tif, 1675722079252034>\n",
      "<Blob: staging_demo, Clark_Ranch/monthly_rgb_2020-07-01_2020-07-31.tif, 1675722079374100>\n",
      "<Blob: staging_demo, Clark_Ranch/monthly_rgb_2020-08-01_2020-08-31.tif, 1675722079497551>\n",
      "<Blob: staging_demo, Clark_Ranch/monthly_rgb_2020-09-01_2020-09-30.tif, 1675722079631114>\n",
      "<Blob: staging_demo, Clark_Ranch/monthly_rgb_2020-10-01_2020-10-31.tif, 1675722079750778>\n",
      "<Blob: staging_demo, Restart/, 1695734227836953>\n",
      "processing Restart/\n",
      "Restart/\n",
      "<Blob: staging_demo, Restart/monthly_classes_2021-08-01_2021-08-31.tif, 1695735162322929>\n",
      "processing Restart/monthly_classes_2021-08-01_2021-08-31.tif\n",
      "Restart/monthly_classes_2021-08-01_2021-08-31.tif\n",
      "processing Restart/monthly_classes_2021-08-01_2021-08-31.tif\n"
     ]
    },
    {
     "name": "stdout",
     "output_type": "stream",
     "text": [
      "<Blob: staging_demo, Restart/monthly_classes_2021-09-01_2021-09-30.tif, 1695735201789861>\n",
      "processing Restart/monthly_classes_2021-09-01_2021-09-30.tif\n",
      "Restart/monthly_classes_2021-09-01_2021-09-30.tif\n",
      "processing Restart/monthly_classes_2021-09-01_2021-09-30.tif\n",
      "<Blob: staging_demo, Restart/monthly_classes_2021-10-01_2021-10-31.tif, 1695735211143185>\n",
      "processing Restart/monthly_classes_2021-10-01_2021-10-31.tif\n",
      "Restart/monthly_classes_2021-10-01_2021-10-31.tif\n",
      "processing Restart/monthly_classes_2021-10-01_2021-10-31.tif\n",
      "<Blob: staging_demo, Restart/monthly_classes_2021-11-01_2021-11-30.tif, 1695735220389022>\n",
      "processing Restart/monthly_classes_2021-11-01_2021-11-30.tif\n",
      "Restart/monthly_classes_2021-11-01_2021-11-30.tif\n",
      "processing Restart/monthly_classes_2021-11-01_2021-11-30.tif\n",
      "<Blob: staging_demo, Restart/monthly_rgb_2021-08-01_2021-08-31.tif, 1695735229507121>\n",
      "processing Restart/monthly_rgb_2021-08-01_2021-08-31.tif\n",
      "Restart/monthly_rgb_2021-08-01_2021-08-31.tif\n",
      "processing Restart/monthly_rgb_2021-08-01_2021-08-31.tif\n",
      "<Blob: staging_demo, Restart/monthly_rgb_2021-09-01_2021-09-30.tif, 1695735236609354>\n",
      "processing Restart/monthly_rgb_2021-09-01_2021-09-30.tif\n",
      "Restart/monthly_rgb_2021-09-01_2021-09-30.tif\n",
      "processing Restart/monthly_rgb_2021-09-01_2021-09-30.tif\n",
      "<Blob: staging_demo, Restart/monthly_rgb_2021-10-01_2021-10-31.tif, 1695735244442120>\n",
      "processing Restart/monthly_rgb_2021-10-01_2021-10-31.tif\n",
      "Restart/monthly_rgb_2021-10-01_2021-10-31.tif\n",
      "processing Restart/monthly_rgb_2021-10-01_2021-10-31.tif\n",
      "<Blob: staging_demo, Restart/monthly_rgb_2021-11-01_2021-11-30.tif, 1695735251285042>\n",
      "processing Restart/monthly_rgb_2021-11-01_2021-11-30.tif\n",
      "Restart/monthly_rgb_2021-11-01_2021-11-30.tif\n",
      "processing Restart/monthly_rgb_2021-11-01_2021-11-30.tif\n",
      "<Blob: staging_demo, Westwind/monthly_classes_2021-08-01_2021-08-31.tif, 1675724901827045>\n",
      "<Blob: staging_demo, Westwind/monthly_classes_2021-09-01_2021-09-30.tif, 1675724901979394>\n",
      "<Blob: staging_demo, Westwind/monthly_rgb_2021-08-01_2021-08-31.tif, 1675724902118361>\n",
      "<Blob: staging_demo, Westwind/monthly_rgb_2021-09-01_2021-09-30.tif, 1675724902247631>\n",
      "<Blob: staging_demo, hydracarta_demo_2022_06/, 1659529631289289>\n",
      "<Blob: staging_demo, hydracarta_demo_2022_06/classes_2016-02-01_2016-02-29.tif, 1659529655773349>\n",
      "<Blob: staging_demo, hydracarta_demo_2022_06/classes_2016-03-01_2016-03-31.tif, 1659529656174448>\n",
      "<Blob: staging_demo, hydracarta_demo_2022_06/classes_2016-04-01_2016-04-30.tif, 1659529656475236>\n",
      "<Blob: staging_demo, hydracarta_demo_2022_06/classes_2016-05-01_2016-05-31.tif, 1659529656789502>\n",
      "<Blob: staging_demo, hydracarta_demo_2022_06/classes_2016-07-01_2016-07-31.tif, 1659529657113322>\n",
      "<Blob: staging_demo, hydracarta_demo_2022_06/classes_2016-10-01_2016-10-31.tif, 1659529657501011>\n",
      "<Blob: staging_demo, hydracarta_demo_2022_06/classes_2016-11-01_2016-11-30.tif, 1659529657809213>\n",
      "<Blob: staging_demo, hydracarta_demo_2022_06/classes_2016-12-01_2016-12-31.tif, 1659529658117265>\n",
      "<Blob: staging_demo, hydracarta_demo_2022_06/classes_2017-01-01_2017-01-31.tif, 1659529658422442>\n",
      "<Blob: staging_demo, hydracarta_demo_2022_06/classes_2017-02-01_2017-02-28.tif, 1659529658756965>\n",
      "<Blob: staging_demo, hydracarta_demo_2022_06/classes_2017-03-01_2017-03-31.tif, 1659529659051334>\n",
      "<Blob: staging_demo, hydracarta_demo_2022_06/classes_2017-04-01_2017-04-30.tif, 1659529659349935>\n",
      "<Blob: staging_demo, hydracarta_demo_2022_06/classes_2017-05-01_2017-05-31.tif, 1659529659658177>\n",
      "<Blob: staging_demo, hydracarta_demo_2022_06/classes_2017-06-01_2017-06-30.tif, 1659529659968580>\n",
      "<Blob: staging_demo, hydracarta_demo_2022_06/classes_2017-07-01_2017-07-31.tif, 1659529660273591>\n",
      "<Blob: staging_demo, hydracarta_demo_2022_06/classes_2017-08-01_2017-08-31.tif, 1659529660574137>\n",
      "<Blob: staging_demo, hydracarta_demo_2022_06/classes_2017-11-01_2017-11-30.tif, 1659529660881625>\n",
      "<Blob: staging_demo, hydracarta_demo_2022_06/classes_2017-12-01_2017-12-31.tif, 1659529661185961>\n",
      "<Blob: staging_demo, hydracarta_demo_2022_06/classes_2018-01-01_2018-01-31.tif, 1659529661506415>\n",
      "<Blob: staging_demo, hydracarta_demo_2022_06/classes_2018-02-01_2018-02-28.tif, 1659529661810202>\n",
      "<Blob: staging_demo, hydracarta_demo_2022_06/classes_2018-03-01_2018-03-31.tif, 1659529662091277>\n",
      "<Blob: staging_demo, hydracarta_demo_2022_06/classes_2018-04-01_2018-04-30.tif, 1659529662411180>\n",
      "<Blob: staging_demo, hydracarta_demo_2022_06/classes_2018-05-01_2018-05-31.tif, 1659529662721009>\n",
      "<Blob: staging_demo, hydracarta_demo_2022_06/classes_2018-08-01_2018-08-31.tif, 1659529663027630>\n",
      "<Blob: staging_demo, hydracarta_demo_2022_06/classes_2018-10-01_2018-10-31.tif, 1659529663521746>\n",
      "<Blob: staging_demo, hydracarta_demo_2022_06/classes_2018-11-01_2018-11-30.tif, 1659529663829693>\n",
      "<Blob: staging_demo, hydracarta_demo_2022_06/classes_2018-12-01_2018-12-31.tif, 1659529664104362>\n",
      "<Blob: staging_demo, hydracarta_demo_2022_06/classes_2019-01-01_2019-01-31.tif, 1659529664404553>\n",
      "<Blob: staging_demo, hydracarta_demo_2022_06/classes_2019-02-01_2019-02-28.tif, 1659529664697841>\n",
      "<Blob: staging_demo, hydracarta_demo_2022_06/classes_2019-03-01_2019-03-31.tif, 1659529665002380>\n",
      "<Blob: staging_demo, hydracarta_demo_2022_06/classes_2019-04-01_2019-04-30.tif, 1659529665322041>\n",
      "<Blob: staging_demo, hydracarta_demo_2022_06/classes_2019-05-01_2019-05-31.tif, 1659529665614261>\n",
      "<Blob: staging_demo, hydracarta_demo_2022_06/classes_2019-06-01_2019-06-30.tif, 1659529665917136>\n",
      "<Blob: staging_demo, hydracarta_demo_2022_06/classes_2019-09-01_2019-09-30.tif, 1659529666212469>\n",
      "<Blob: staging_demo, hydracarta_demo_2022_06/classes_2019-11-01_2019-11-30.tif, 1659529666506938>\n",
      "<Blob: staging_demo, hydracarta_demo_2022_06/classes_2019-12-01_2019-12-31.tif, 1659529666874325>\n",
      "<Blob: staging_demo, hydracarta_demo_2022_06/classes_2020-01-01_2020-01-31.tif, 1659529667173028>\n",
      "<Blob: staging_demo, hydracarta_demo_2022_06/classes_2020-02-01_2020-02-29.tif, 1659529667463839>\n",
      "<Blob: staging_demo, hydracarta_demo_2022_06/classes_2020-03-01_2020-03-31.tif, 1659529667798069>\n",
      "<Blob: staging_demo, hydracarta_demo_2022_06/classes_2020-04-01_2020-04-30.tif, 1659529668092440>\n",
      "<Blob: staging_demo, hydracarta_demo_2022_06/classes_2020-06-01_2020-06-30.tif, 1659529668429520>\n",
      "<Blob: staging_demo, hydracarta_demo_2022_06/classes_2020-11-01_2020-11-30.tif, 1659529668725037>\n",
      "<Blob: staging_demo, hydracarta_demo_2022_06/classes_2020-12-01_2020-12-31.tif, 1659529669012699>\n",
      "<Blob: staging_demo, hydracarta_demo_2022_06/classes_2021-01-01_2021-01-31.tif, 1659529669324758>\n",
      "<Blob: staging_demo, hydracarta_demo_2022_06/classes_2021-02-01_2021-02-28.tif, 1659529669602567>\n",
      "<Blob: staging_demo, hydracarta_demo_2022_06/classes_2021-03-01_2021-03-31.tif, 1659529669891665>\n",
      "<Blob: staging_demo, hydracarta_demo_2022_06/classes_2021-04-01_2021-04-30.tif, 1659529670175268>\n",
      "<Blob: staging_demo, hydracarta_demo_2022_06/classes_2021-07-01_2021-07-31.tif, 1659529670477984>\n",
      "<Blob: staging_demo, hydracarta_demo_2022_06/classes_2021-09-01_2021-09-30.tif, 1659529670768628>\n",
      "<Blob: staging_demo, hydracarta_demo_2022_06/classes_2021-10-01_2021-10-31.tif, 1659529671072910>\n",
      "<Blob: staging_demo, hydracarta_demo_2022_06/classes_2021-11-01_2021-11-30.tif, 1659529671383503>\n",
      "<Blob: staging_demo, hydracarta_demo_2022_06/classes_2021-12-01_2021-12-31.tif, 1659529671688892>\n",
      "<Blob: staging_demo, hydracarta_demo_2022_06/rgb_2016-02-01_2016-02-29.tif, 1659529671992841>\n",
      "<Blob: staging_demo, hydracarta_demo_2022_06/rgb_2016-03-01_2016-03-31.tif, 1659529672282792>\n",
      "<Blob: staging_demo, hydracarta_demo_2022_06/rgb_2016-04-01_2016-04-30.tif, 1659529672571500>\n",
      "<Blob: staging_demo, hydracarta_demo_2022_06/rgb_2016-05-01_2016-05-31.tif, 1659529672879253>\n",
      "<Blob: staging_demo, hydracarta_demo_2022_06/rgb_2016-06-01_2016-06-30.tif, 1659529673182224>\n",
      "<Blob: staging_demo, hydracarta_demo_2022_06/rgb_2016-07-01_2016-07-31.tif, 1659529673479676>\n",
      "<Blob: staging_demo, hydracarta_demo_2022_06/rgb_2016-08-01_2016-08-31.tif, 1659529673811483>\n",
      "<Blob: staging_demo, hydracarta_demo_2022_06/rgb_2016-09-01_2016-09-30.tif, 1659529674095685>\n",
      "<Blob: staging_demo, hydracarta_demo_2022_06/rgb_2016-10-01_2016-10-31.tif, 1659529674387283>\n",
      "<Blob: staging_demo, hydracarta_demo_2022_06/rgb_2016-11-01_2016-11-30.tif, 1659529674674640>\n",
      "<Blob: staging_demo, hydracarta_demo_2022_06/rgb_2016-12-01_2016-12-31.tif, 1659529674965469>\n",
      "<Blob: staging_demo, hydracarta_demo_2022_06/rgb_2017-01-01_2017-01-31.tif, 1659529675255835>\n",
      "<Blob: staging_demo, hydracarta_demo_2022_06/rgb_2017-02-01_2017-02-28.tif, 1659529675560407>\n",
      "<Blob: staging_demo, hydracarta_demo_2022_06/rgb_2017-03-01_2017-03-31.tif, 1659529675847188>\n",
      "<Blob: staging_demo, hydracarta_demo_2022_06/rgb_2017-04-01_2017-04-30.tif, 1659529676148049>\n",
      "<Blob: staging_demo, hydracarta_demo_2022_06/rgb_2017-05-01_2017-05-31.tif, 1659529676449870>\n",
      "<Blob: staging_demo, hydracarta_demo_2022_06/rgb_2017-06-01_2017-06-30.tif, 1659529676752462>\n",
      "<Blob: staging_demo, hydracarta_demo_2022_06/rgb_2017-07-01_2017-07-31.tif, 1659529677044577>\n",
      "<Blob: staging_demo, hydracarta_demo_2022_06/rgb_2017-08-01_2017-08-31.tif, 1659529677334752>\n",
      "<Blob: staging_demo, hydracarta_demo_2022_06/rgb_2017-09-01_2017-09-30.tif, 1659529677612780>\n",
      "<Blob: staging_demo, hydracarta_demo_2022_06/rgb_2017-10-01_2017-10-31.tif, 1659529677890161>\n",
      "<Blob: staging_demo, hydracarta_demo_2022_06/rgb_2017-11-01_2017-11-30.tif, 1659529678212174>\n",
      "<Blob: staging_demo, hydracarta_demo_2022_06/rgb_2017-12-01_2017-12-31.tif, 1659529678535569>\n",
      "<Blob: staging_demo, hydracarta_demo_2022_06/rgb_2018-01-01_2018-01-31.tif, 1659529678821057>\n",
      "<Blob: staging_demo, hydracarta_demo_2022_06/rgb_2018-02-01_2018-02-28.tif, 1659529679097785>\n",
      "<Blob: staging_demo, hydracarta_demo_2022_06/rgb_2018-03-01_2018-03-31.tif, 1659529679392551>\n",
      "<Blob: staging_demo, hydracarta_demo_2022_06/rgb_2018-04-01_2018-04-30.tif, 1659529679685190>\n",
      "<Blob: staging_demo, hydracarta_demo_2022_06/rgb_2018-05-01_2018-05-31.tif, 1659529679977197>\n",
      "<Blob: staging_demo, hydracarta_demo_2022_06/rgb_2018-06-01_2018-06-30.tif, 1659529680284858>\n",
      "<Blob: staging_demo, hydracarta_demo_2022_06/rgb_2018-07-01_2018-07-31.tif, 1659529680579638>\n",
      "<Blob: staging_demo, hydracarta_demo_2022_06/rgb_2018-08-01_2018-08-31.tif, 1659529680899560>\n",
      "<Blob: staging_demo, hydracarta_demo_2022_06/rgb_2018-09-01_2018-09-30.tif, 1659529681198200>\n",
      "<Blob: staging_demo, hydracarta_demo_2022_06/rgb_2018-10-01_2018-10-31.tif, 1659529681495140>\n",
      "<Blob: staging_demo, hydracarta_demo_2022_06/rgb_2018-11-01_2018-11-30.tif, 1659529681781975>\n",
      "<Blob: staging_demo, hydracarta_demo_2022_06/rgb_2018-12-01_2018-12-31.tif, 1659529682062334>\n",
      "<Blob: staging_demo, hydracarta_demo_2022_06/rgb_2019-01-01_2019-01-31.tif, 1659529682393816>\n",
      "<Blob: staging_demo, hydracarta_demo_2022_06/rgb_2019-02-01_2019-02-28.tif, 1659529682695952>\n",
      "<Blob: staging_demo, hydracarta_demo_2022_06/rgb_2019-03-01_2019-03-31.tif, 1659529683010176>\n",
      "<Blob: staging_demo, hydracarta_demo_2022_06/rgb_2019-04-01_2019-04-30.tif, 1659529683301149>\n",
      "<Blob: staging_demo, hydracarta_demo_2022_06/rgb_2019-05-01_2019-05-31.tif, 1659529683597941>\n",
      "<Blob: staging_demo, hydracarta_demo_2022_06/rgb_2019-06-01_2019-06-30.tif, 1659529683941157>\n",
      "<Blob: staging_demo, hydracarta_demo_2022_06/rgb_2019-07-01_2019-07-31.tif, 1659529684219336>\n",
      "<Blob: staging_demo, hydracarta_demo_2022_06/rgb_2019-08-01_2019-08-31.tif, 1659529684526707>\n",
      "<Blob: staging_demo, hydracarta_demo_2022_06/rgb_2019-09-01_2019-09-30.tif, 1659529684800800>\n",
      "<Blob: staging_demo, hydracarta_demo_2022_06/rgb_2019-10-01_2019-10-31.tif, 1659529685088950>\n",
      "<Blob: staging_demo, hydracarta_demo_2022_06/rgb_2019-11-01_2019-11-30.tif, 1659529685392951>\n",
      "<Blob: staging_demo, hydracarta_demo_2022_06/rgb_2020-01-01_2020-01-31.tif, 1659529685678321>\n",
      "<Blob: staging_demo, hydracarta_demo_2022_06/rgb_2020-02-01_2020-02-29.tif, 1659529685978532>\n",
      "<Blob: staging_demo, hydracarta_demo_2022_06/rgb_2020-03-01_2020-03-31.tif, 1659529686294356>\n",
      "<Blob: staging_demo, hydracarta_demo_2022_06/rgb_2020-04-01_2020-04-30.tif, 1659529686570148>\n",
      "<Blob: staging_demo, hydracarta_demo_2022_06/rgb_2020-05-01_2020-05-31.tif, 1659529686858118>\n",
      "<Blob: staging_demo, hydracarta_demo_2022_06/rgb_2020-06-01_2020-06-30.tif, 1659529687153683>\n",
      "<Blob: staging_demo, hydracarta_demo_2022_06/rgb_2020-07-01_2020-07-31.tif, 1659529687463592>\n",
      "<Blob: staging_demo, hydracarta_demo_2022_06/rgb_2020-08-01_2020-08-31.tif, 1659529687733577>\n",
      "<Blob: staging_demo, hydracarta_demo_2022_06/rgb_2020-09-01_2020-09-30.tif, 1659529688019695>\n",
      "<Blob: staging_demo, hydracarta_demo_2022_06/rgb_2020-10-01_2020-10-31.tif, 1659529688301885>\n",
      "<Blob: staging_demo, hydracarta_demo_2022_06/rgb_2020-11-01_2020-11-30.tif, 1659529688586812>\n",
      "<Blob: staging_demo, hydracarta_demo_2022_06/rgb_2020-12-01_2020-12-31.tif, 1659529688853248>\n",
      "<Blob: staging_demo, hydracarta_demo_2022_06/rgb_2021-01-01_2021-01-31.tif, 1659529689125403>\n",
      "<Blob: staging_demo, hydracarta_demo_2022_06/rgb_2021-02-01_2021-02-28.tif, 1659529689415436>\n",
      "<Blob: staging_demo, hydracarta_demo_2022_06/rgb_2021-03-01_2021-03-31.tif, 1659529689686195>\n",
      "<Blob: staging_demo, hydracarta_demo_2022_06/rgb_2021-04-01_2021-04-30.tif, 1659529689973767>\n",
      "<Blob: staging_demo, hydracarta_demo_2022_06/rgb_2021-05-01_2021-05-31.tif, 1659529690257523>\n",
      "<Blob: staging_demo, hydracarta_demo_2022_06/rgb_2021-06-01_2021-06-30.tif, 1659529690544916>\n",
      "<Blob: staging_demo, hydracarta_demo_2022_06/rgb_2021-07-01_2021-07-31.tif, 1659529690831733>\n",
      "<Blob: staging_demo, hydracarta_demo_2022_06/rgb_2021-08-01_2021-08-31.tif, 1659529691115755>\n",
      "<Blob: staging_demo, hydracarta_demo_2022_06/rgb_2021-09-01_2021-09-30.tif, 1659529691396315>\n",
      "<Blob: staging_demo, hydracarta_demo_2022_06/rgb_2021-10-01_2021-10-31.tif, 1659529692098382>\n",
      "<Blob: staging_demo, hydracarta_demo_2022_06/rgb_2021-11-01_2021-11-30.tif, 1659529692391136>\n"
     ]
    }
   ],
   "source": [
    "from google.cloud import storage\n",
    "import subprocess\n",
    "\n",
    "bucket_name = \"staging_demo\"\n",
    "storage_client = storage.Client.from_service_account_json(\"second-impact-342800-51af159903ca.json\")\n",
    "blobs = storage_client.list_blobs(bucket_name)\n",
    "\n",
    "cnt=0\n",
    "for blob in blobs:\n",
    "    if project_name in blob.name:\n",
    "        filename = blob.name\n",
    "        print(blob.name)\n",
    "        if '.tif' in filename:\n",
    "            tmp_name = filename.split('/')[-1]\n",
    "            project_type, asset_type, start, end = tmp_name[:-4].split('_')\n",
    "            asset_name = f'projects/eda-bjonesneu-proto/assets/irrigation/{project_type}_{asset_type}_{project_name}/{tmp_name[:-4]}'\n",
    "            gs_name = f'gs://{bucket_name}/{filename}'\n",
    "            run_string = f\"earthengine upload image --asset_id={asset_name} {gs_name}\"\n",
    "            #print(run_string)\n",
    "            out = subprocess.call(run_string, shell=True)"
   ]
  },
  {
   "cell_type": "code",
   "execution_count": null,
   "metadata": {
    "id": "W7Xl3vtTxI5u"
   },
   "outputs": [],
   "source": [
    "STOP"
   ]
  },
  {
   "cell_type": "markdown",
   "metadata": {
    "id": "-kCGd0QEWz6W"
   },
   "source": [
    "##### Utility to delete unneeded files in folders"
   ]
  },
  {
   "cell_type": "code",
   "execution_count": null,
   "metadata": {
    "id": "4LqiM-8UfKKX"
   },
   "outputs": [],
   "source": [
    "#!earthengine ls projects/eda-bjonesneu-proto/assets/irrigation/rgb > todelete.txt"
   ]
  },
  {
   "cell_type": "code",
   "execution_count": null,
   "metadata": {
    "id": "WMrKxRdYTxHm"
   },
   "outputs": [],
   "source": [
    "if False:\n",
    "    with open('todelete.txt') as todelete:\n",
    "        for item in todelete:\n",
    "            run_string = f\"earthengine rm {item}\"\n",
    "            out = subprocess.call(run_string, shell=True)"
   ]
  },
  {
   "cell_type": "code",
   "execution_count": null,
   "metadata": {
    "colab": {
     "base_uri": "https://localhost:8080/"
    },
    "executionInfo": {
     "elapsed": 3807,
     "status": "ok",
     "timestamp": 1654189100302,
     "user": {
      "displayName": "Blair Jones",
      "userId": "11507989587297916179"
     },
     "user_tz": 300
    },
    "id": "OKllPeLYUg57",
    "outputId": "2cda3dac-7a65-4c77-a5d5-e8f986e15f79"
   },
   "outputs": [],
   "source": [
    "#!earthengine ls projects/eda-bjonesneu-proto/assets/irrigation/rgb"
   ]
  },
  {
   "cell_type": "markdown",
   "metadata": {
    "id": "dce-ksG_UpYz"
   },
   "source": [
    "# Retrieve job run costs"
   ]
  },
  {
   "cell_type": "code",
   "execution_count": 38,
   "metadata": {},
   "outputs": [],
   "source": [
    "# Since no jobs are launched, retrieve metrics directly from https://console.cloud.google.com/monitoring/"
   ]
  },
  {
   "cell_type": "code",
   "execution_count": null,
   "metadata": {},
   "outputs": [],
   "source": []
  }
 ],
 "metadata": {
  "colab": {
   "provenance": [
    {
     "file_id": "1j9czqdVYpKMsZ4A9OuR8AzhP8nqSTEza",
     "timestamp": 1646395591173
    },
    {
     "file_id": "1YST0rKUOHFgMG_q0h6qazFAtX-begT6b",
     "timestamp": 1645981406840
    }
   ]
  },
  "kernelspec": {
   "display_name": "Python 3",
   "language": "python",
   "name": "python3"
  },
  "language_info": {
   "codemirror_mode": {
    "name": "ipython",
    "version": 3
   },
   "file_extension": ".py",
   "mimetype": "text/x-python",
   "name": "python",
   "nbconvert_exporter": "python",
   "pygments_lexer": "ipython3",
   "version": "3.7.4"
  },
  "widgets": {
   "application/vnd.jupyter.widget-state+json": {
    "034788857bee462d9e2a6c2faebc8855": {
     "model_module": "@jupyter-widgets/controls",
     "model_module_version": "1.5.0",
     "model_name": "FloatProgressModel",
     "state": {
      "_dom_classes": [],
      "_model_module": "@jupyter-widgets/controls",
      "_model_module_version": "1.5.0",
      "_model_name": "FloatProgressModel",
      "_view_count": null,
      "_view_module": "@jupyter-widgets/controls",
      "_view_module_version": "1.5.0",
      "_view_name": "ProgressView",
      "bar_style": "danger",
      "description": "",
      "description_tooltip": null,
      "layout": "IPY_MODEL_c1d925c20ebb44aca0eb2feb7102bac5",
      "max": 15,
      "min": 0,
      "orientation": "horizontal",
      "style": "IPY_MODEL_4a00c78afb1b49659cf4852ac61020e0",
      "value": 1
     }
    },
    "11e24951e63244678fd694df6d9c8407": {
     "model_module": "@jupyter-widgets/base",
     "model_module_version": "1.2.0",
     "model_name": "LayoutModel",
     "state": {
      "_model_module": "@jupyter-widgets/base",
      "_model_module_version": "1.2.0",
      "_model_name": "LayoutModel",
      "_view_count": null,
      "_view_module": "@jupyter-widgets/base",
      "_view_module_version": "1.2.0",
      "_view_name": "LayoutView",
      "align_content": null,
      "align_items": null,
      "align_self": null,
      "border": null,
      "bottom": null,
      "display": null,
      "flex": null,
      "flex_flow": null,
      "grid_area": null,
      "grid_auto_columns": null,
      "grid_auto_flow": null,
      "grid_auto_rows": null,
      "grid_column": null,
      "grid_gap": null,
      "grid_row": null,
      "grid_template_areas": null,
      "grid_template_columns": null,
      "grid_template_rows": null,
      "height": "28px",
      "justify_content": null,
      "justify_items": null,
      "left": null,
      "margin": null,
      "max_height": null,
      "max_width": null,
      "min_height": null,
      "min_width": null,
      "object_fit": null,
      "object_position": null,
      "order": null,
      "overflow": null,
      "overflow_x": null,
      "overflow_y": null,
      "padding": "0px 0px 0px 4px",
      "right": null,
      "top": null,
      "visibility": null,
      "width": "28px"
     }
    },
    "17215e6c9d82406095a4a16ec909edd8": {
     "model_module": "jupyter-leaflet",
     "model_module_version": "^0.15.0",
     "model_name": "LeafletFullScreenControlModel",
     "state": {
      "_model_module": "jupyter-leaflet",
      "_model_module_version": "^0.15.0",
      "_model_name": "LeafletFullScreenControlModel",
      "_view_count": null,
      "_view_module": "jupyter-leaflet",
      "_view_module_version": "^0.15.0",
      "_view_name": "LeafletFullScreenControlView",
      "options": [
       "position"
      ],
      "position": "topleft"
     }
    },
    "17ec7f98a2c14860bc0407cda9a3926f": {
     "model_module": "@jupyter-widgets/controls",
     "model_module_version": "1.5.0",
     "model_name": "ToggleButtonModel",
     "state": {
      "_dom_classes": [],
      "_model_module": "@jupyter-widgets/controls",
      "_model_module_version": "1.5.0",
      "_model_name": "ToggleButtonModel",
      "_view_count": null,
      "_view_module": "@jupyter-widgets/controls",
      "_view_module_version": "1.5.0",
      "_view_name": "ToggleButtonView",
      "button_style": "",
      "description": "",
      "description_tooltip": null,
      "disabled": false,
      "icon": "globe",
      "layout": "IPY_MODEL_541d02002c2e468195b6c4ee2ac4b6fd",
      "style": "IPY_MODEL_a354fbf120c64253b7fcf7d48c05a0d0",
      "tooltip": "Search location/data",
      "value": false
     }
    },
    "191de9780d8d465f90558438d3b06285": {
     "model_module": "jupyter-leaflet",
     "model_module_version": "^0.15.0",
     "model_name": "LeafletMeasureControlModel",
     "state": {
      "_custom_units": {},
      "_model_module": "jupyter-leaflet",
      "_model_module_version": "^0.15.0",
      "_model_name": "LeafletMeasureControlModel",
      "_view_count": null,
      "_view_module": "jupyter-leaflet",
      "_view_module_version": "^0.15.0",
      "_view_name": "LeafletMeasureControlView",
      "active_color": "orange",
      "capture_z_index": 10000,
      "completed_color": "#C8F2BE",
      "options": [
       "active_color",
       "capture_z_index",
       "completed_color",
       "popup_options",
       "position",
       "primary_area_unit",
       "primary_length_unit",
       "secondary_area_unit",
       "secondary_length_unit"
      ],
      "popup_options": {
       "autoPanPadding": [
        10,
        10
       ],
       "className": "leaflet-measure-resultpopup"
      },
      "position": "bottomleft",
      "primary_area_unit": "acres",
      "primary_length_unit": "kilometers",
      "secondary_area_unit": null,
      "secondary_length_unit": null
     }
    },
    "1f2e04baaa6a464bbf8d160a527a4fa1": {
     "model_module": "@jupyter-widgets/controls",
     "model_module_version": "1.5.0",
     "model_name": "HBoxModel",
     "state": {
      "_dom_classes": [],
      "_model_module": "@jupyter-widgets/controls",
      "_model_module_version": "1.5.0",
      "_model_name": "HBoxModel",
      "_view_count": null,
      "_view_module": "@jupyter-widgets/controls",
      "_view_module_version": "1.5.0",
      "_view_name": "HBoxView",
      "box_style": "",
      "children": [
       "IPY_MODEL_17ec7f98a2c14860bc0407cda9a3926f"
      ],
      "layout": "IPY_MODEL_cf372a6dc36e47278d6245ecb49a0c2d"
     }
    },
    "1fa88a65f5484912af0ff1610697c9d5": {
     "model_module": "jupyter-leaflet",
     "model_module_version": "^0.15.0",
     "model_name": "LeafletTileLayerModel",
     "state": {
      "_model_module": "jupyter-leaflet",
      "_model_module_version": "^0.15.0",
      "_model_name": "LeafletTileLayerModel",
      "_view_count": null,
      "_view_module": "jupyter-leaflet",
      "_view_module_version": "^0.15.0",
      "_view_name": "LeafletTileLayerView",
      "attribution": "Google",
      "base": false,
      "bottom": true,
      "detect_retina": false,
      "loading": false,
      "max_native_zoom": 18,
      "max_zoom": 22,
      "min_native_zoom": 0,
      "min_zoom": 0,
      "name": "Google Maps",
      "no_wrap": false,
      "opacity": 1,
      "options": [
       "attribution",
       "detect_retina",
       "max_native_zoom",
       "max_zoom",
       "min_native_zoom",
       "min_zoom",
       "no_wrap",
       "tile_size",
       "tms"
      ],
      "popup": null,
      "popup_max_height": null,
      "popup_max_width": 300,
      "popup_min_width": 50,
      "show_loading": false,
      "tile_size": 256,
      "tms": false,
      "url": "https://mt1.google.com/vt/lyrs=m&x={x}&y={y}&z={z}",
      "visible": true
     }
    },
    "2b8e5cc6675f45f58e94f0ced9bd6165": {
     "model_module": "jupyter-leaflet",
     "model_module_version": "^0.15.0",
     "model_name": "LeafletTileLayerModel",
     "state": {
      "_model_module": "jupyter-leaflet",
      "_model_module_version": "^0.15.0",
      "_model_name": "LeafletTileLayerModel",
      "_view_count": null,
      "_view_module": "jupyter-leaflet",
      "_view_module_version": "^0.15.0",
      "_view_name": "LeafletTileLayerView",
      "attribution": "&copy; <a href=\"https://www.openstreetmap.org/copyright\">OpenStreetMap</a> contributors",
      "base": true,
      "bottom": true,
      "detect_retina": false,
      "loading": false,
      "max_native_zoom": 18,
      "max_zoom": 19,
      "min_native_zoom": 0,
      "min_zoom": 1,
      "name": "OpenStreetMap.Mapnik",
      "no_wrap": false,
      "opacity": 1,
      "options": [
       "attribution",
       "detect_retina",
       "max_native_zoom",
       "max_zoom",
       "min_native_zoom",
       "min_zoom",
       "no_wrap",
       "tile_size",
       "tms"
      ],
      "popup": null,
      "popup_max_height": null,
      "popup_max_width": 300,
      "popup_min_width": 50,
      "show_loading": false,
      "tile_size": 256,
      "tms": false,
      "url": "https://a.tile.openstreetmap.org/{z}/{x}/{y}.png",
      "visible": true
     }
    },
    "3e085d57ad7247e396ff95075e39f538": {
     "model_module": "@jupyter-widgets/base",
     "model_module_version": "1.2.0",
     "model_name": "LayoutModel",
     "state": {
      "_model_module": "@jupyter-widgets/base",
      "_model_module_version": "1.2.0",
      "_model_name": "LayoutModel",
      "_view_count": null,
      "_view_module": "@jupyter-widgets/base",
      "_view_module_version": "1.2.0",
      "_view_name": "LayoutView",
      "align_content": null,
      "align_items": null,
      "align_self": null,
      "border": null,
      "bottom": null,
      "display": null,
      "flex": null,
      "flex_flow": null,
      "grid_area": null,
      "grid_auto_columns": null,
      "grid_auto_flow": null,
      "grid_auto_rows": null,
      "grid_column": null,
      "grid_gap": null,
      "grid_row": null,
      "grid_template_areas": null,
      "grid_template_columns": null,
      "grid_template_rows": null,
      "height": null,
      "justify_content": null,
      "justify_items": null,
      "left": null,
      "margin": null,
      "max_height": null,
      "max_width": null,
      "min_height": null,
      "min_width": null,
      "object_fit": null,
      "object_position": null,
      "order": null,
      "overflow": null,
      "overflow_x": null,
      "overflow_y": null,
      "padding": null,
      "right": null,
      "top": null,
      "visibility": null,
      "width": null
     }
    },
    "42cb86997fca47e89284aeb971e0d384": {
     "model_module": "jupyter-leaflet",
     "model_module_version": "^0.15.0",
     "model_name": "LeafletScaleControlModel",
     "state": {
      "_model_module": "jupyter-leaflet",
      "_model_module_version": "^0.15.0",
      "_model_name": "LeafletScaleControlModel",
      "_view_count": null,
      "_view_module": "jupyter-leaflet",
      "_view_module_version": "^0.15.0",
      "_view_name": "LeafletScaleControlView",
      "imperial": true,
      "max_width": 100,
      "metric": true,
      "options": [
       "imperial",
       "max_width",
       "metric",
       "position",
       "update_when_idle"
      ],
      "position": "bottomleft",
      "update_when_idle": false
     }
    },
    "48bb79c90c784bb2a7eabcb5d33270c7": {
     "model_module": "@jupyter-widgets/controls",
     "model_module_version": "1.5.0",
     "model_name": "DescriptionStyleModel",
     "state": {
      "_model_module": "@jupyter-widgets/controls",
      "_model_module_version": "1.5.0",
      "_model_name": "DescriptionStyleModel",
      "_view_count": null,
      "_view_module": "@jupyter-widgets/base",
      "_view_module_version": "1.2.0",
      "_view_name": "StyleView",
      "description_width": ""
     }
    },
    "4a00c78afb1b49659cf4852ac61020e0": {
     "model_module": "@jupyter-widgets/controls",
     "model_module_version": "1.5.0",
     "model_name": "ProgressStyleModel",
     "state": {
      "_model_module": "@jupyter-widgets/controls",
      "_model_module_version": "1.5.0",
      "_model_name": "ProgressStyleModel",
      "_view_count": null,
      "_view_module": "@jupyter-widgets/base",
      "_view_module_version": "1.2.0",
      "_view_name": "StyleView",
      "bar_color": null,
      "description_width": ""
     }
    },
    "4aea53e838234024b47fcdcb98561545": {
     "model_module": "jupyter-leaflet",
     "model_module_version": "^0.15.0",
     "model_name": "LeafletMapStyleModel",
     "state": {
      "_model_module": "jupyter-leaflet",
      "_model_module_version": "^0.15.0",
      "_model_name": "LeafletMapStyleModel",
      "_view_count": null,
      "_view_module": "@jupyter-widgets/base",
      "_view_module_version": "1.2.0",
      "_view_name": "StyleView",
      "cursor": "move"
     }
    },
    "541d02002c2e468195b6c4ee2ac4b6fd": {
     "model_module": "@jupyter-widgets/base",
     "model_module_version": "1.2.0",
     "model_name": "LayoutModel",
     "state": {
      "_model_module": "@jupyter-widgets/base",
      "_model_module_version": "1.2.0",
      "_model_name": "LayoutModel",
      "_view_count": null,
      "_view_module": "@jupyter-widgets/base",
      "_view_module_version": "1.2.0",
      "_view_name": "LayoutView",
      "align_content": null,
      "align_items": null,
      "align_self": null,
      "border": null,
      "bottom": null,
      "display": null,
      "flex": null,
      "flex_flow": null,
      "grid_area": null,
      "grid_auto_columns": null,
      "grid_auto_flow": null,
      "grid_auto_rows": null,
      "grid_column": null,
      "grid_gap": null,
      "grid_row": null,
      "grid_template_areas": null,
      "grid_template_columns": null,
      "grid_template_rows": null,
      "height": "28px",
      "justify_content": null,
      "justify_items": null,
      "left": null,
      "margin": null,
      "max_height": null,
      "max_width": null,
      "min_height": null,
      "min_width": null,
      "object_fit": null,
      "object_position": null,
      "order": null,
      "overflow": null,
      "overflow_x": null,
      "overflow_y": null,
      "padding": "0px 0px 0px 4px",
      "right": null,
      "top": null,
      "visibility": null,
      "width": "28px"
     }
    },
    "55e3a18add6e4fe7bd959f5bcc041df3": {
     "model_module": "jupyter-leaflet",
     "model_module_version": "^0.15.0",
     "model_name": "LeafletWidgetControlModel",
     "state": {
      "_model_module": "jupyter-leaflet",
      "_model_module_version": "^0.15.0",
      "_model_name": "LeafletWidgetControlModel",
      "_view_count": null,
      "_view_module": "jupyter-leaflet",
      "_view_module_version": "^0.15.0",
      "_view_name": "LeafletWidgetControlView",
      "max_height": null,
      "max_width": null,
      "min_height": null,
      "min_width": null,
      "options": [
       "position",
       "transparent_bg"
      ],
      "position": "topright",
      "transparent_bg": false,
      "widget": "IPY_MODEL_7ed39b425c434f3895043030b35ca2cc"
     }
    },
    "56c6d21605c04435b69c9e239df37e4b": {
     "model_module": "jupyter-leaflet",
     "model_module_version": "^0.15.0",
     "model_name": "LeafletMapStyleModel",
     "state": {
      "_model_module": "jupyter-leaflet",
      "_model_module_version": "^0.15.0",
      "_model_name": "LeafletMapStyleModel",
      "_view_count": null,
      "_view_module": "@jupyter-widgets/base",
      "_view_module_version": "1.2.0",
      "_view_name": "StyleView",
      "cursor": "grab"
     }
    },
    "62794d6199f64e68ad2ee60f9d7c6412": {
     "model_module": "jupyter-leaflet",
     "model_module_version": "^0.15.0",
     "model_name": "LeafletMapModel",
     "state": {
      "_dom_classes": [],
      "_dragging": false,
      "_model_module": "jupyter-leaflet",
      "_model_module_version": "^0.15.0",
      "_model_name": "LeafletMapModel",
      "_view_count": null,
      "_view_module": "jupyter-leaflet",
      "_view_module_version": "^0.15.0",
      "_view_name": "LeafletMapView",
      "bottom": 206073.9093017578,
      "bounce_at_zoom_limits": true,
      "box_zoom": true,
      "center": [
       36.05914158333323,
       -119.82556632254276
      ],
      "close_popup_on_click": true,
      "controls": [
       "IPY_MODEL_8990da3783ca49a28ae8a6957433e8fc",
       "IPY_MODEL_6c1c6f5a6a35482cb7c800be9c7bfc1a",
       "IPY_MODEL_42cb86997fca47e89284aeb971e0d384",
       "IPY_MODEL_17215e6c9d82406095a4a16ec909edd8",
       "IPY_MODEL_191de9780d8d465f90558438d3b06285",
       "IPY_MODEL_6b4fa7738dde4428ab227536412acd40",
       "IPY_MODEL_d8b4b98bedeb4edfbffeb28b7e07e084",
       "IPY_MODEL_55e3a18add6e4fe7bd959f5bcc041df3"
      ],
      "crs": {
       "custom": false,
       "name": "EPSG3857"
      },
      "default_style": "IPY_MODEL_a1db2d83378e4075b8514cf3afb4b86e",
      "double_click_zoom": true,
      "dragging": true,
      "dragging_style": "IPY_MODEL_4aea53e838234024b47fcdcb98561545",
      "east": -119.61133292410526,
      "fullscreen": false,
      "inertia": true,
      "inertia_deceleration": 3000,
      "inertia_max_speed": 1500,
      "interpolation": "bilinear",
      "keyboard": true,
      "keyboard_pan_offset": 80,
      "keyboard_zoom_offset": 1,
      "layers": [
       "IPY_MODEL_2b8e5cc6675f45f58e94f0ced9bd6165",
       "IPY_MODEL_1fa88a65f5484912af0ff1610697c9d5",
       "IPY_MODEL_df14730060e3479682566bd7a58f643b",
       "IPY_MODEL_84288a634fa24fd9af9fa5c87536e2d1"
      ],
      "layout": "IPY_MODEL_ee64186fd4bb4d67887cb3d3ad521060",
      "left": 87323.37078857422,
      "max_zoom": 24,
      "min_zoom": 1,
      "modisdate": "2023-02-07",
      "north": 36.22549256338814,
      "options": [
       "bounce_at_zoom_limits",
       "box_zoom",
       "center",
       "close_popup_on_click",
       "double_click_zoom",
       "dragging",
       "fullscreen",
       "inertia",
       "inertia_deceleration",
       "inertia_max_speed",
       "interpolation",
       "keyboard",
       "keyboard_pan_offset",
       "keyboard_zoom_offset",
       "max_zoom",
       "min_zoom",
       "prefer_canvas",
       "scroll_wheel_zoom",
       "tap",
       "tap_tolerance",
       "touch_zoom",
       "world_copy_jump",
       "zoom",
       "zoom_animation_threshold",
       "zoom_delta",
       "zoom_snap",
       "zoom_start"
      ],
      "prefer_canvas": false,
      "right": 87947.37078857422,
      "scroll_wheel_zoom": true,
      "south": 35.89243819159532,
      "style": "IPY_MODEL_a1db2d83378e4075b8514cf3afb4b86e",
      "tap": true,
      "tap_tolerance": 15,
      "top": 205473.9093017578,
      "touch_zoom": true,
      "west": -120.03979972098024,
      "window_url": "https://x7c6ohg752-496ff2e9c6d22116-0-colab.googleusercontent.com/outputframe.html?vrz=colab-20230203-060043-RC00_506856568",
      "world_copy_jump": false,
      "zoom": 11,
      "zoom_animation_threshold": 4,
      "zoom_delta": 1,
      "zoom_snap": 1,
      "zoom_start": 12
     }
    },
    "67f357acfb324e1aa2cc2727fe957d3b": {
     "model_module": "@jupyter-widgets/controls",
     "model_module_version": "1.5.0",
     "model_name": "DescriptionStyleModel",
     "state": {
      "_model_module": "@jupyter-widgets/controls",
      "_model_module_version": "1.5.0",
      "_model_name": "DescriptionStyleModel",
      "_view_count": null,
      "_view_module": "@jupyter-widgets/base",
      "_view_module_version": "1.2.0",
      "_view_name": "StyleView",
      "description_width": ""
     }
    },
    "6b4fa7738dde4428ab227536412acd40": {
     "model_module": "jupyter-leaflet",
     "model_module_version": "^0.15.0",
     "model_name": "LeafletAttributionControlModel",
     "state": {
      "_model_module": "jupyter-leaflet",
      "_model_module_version": "^0.15.0",
      "_model_name": "LeafletAttributionControlModel",
      "_view_count": null,
      "_view_module": "jupyter-leaflet",
      "_view_module_version": "^0.15.0",
      "_view_name": "LeafletAttributionControlView",
      "options": [
       "position",
       "prefix"
      ],
      "position": "bottomright",
      "prefix": "ipyleaflet"
     }
    },
    "6c1c6f5a6a35482cb7c800be9c7bfc1a": {
     "model_module": "jupyter-leaflet",
     "model_module_version": "^0.15.0",
     "model_name": "LeafletZoomControlModel",
     "state": {
      "_model_module": "jupyter-leaflet",
      "_model_module_version": "^0.15.0",
      "_model_name": "LeafletZoomControlModel",
      "_view_count": null,
      "_view_module": "jupyter-leaflet",
      "_view_module_version": "^0.15.0",
      "_view_name": "LeafletZoomControlView",
      "options": [
       "position",
       "zoom_in_text",
       "zoom_in_title",
       "zoom_out_text",
       "zoom_out_title"
      ],
      "position": "topleft",
      "zoom_in_text": "+",
      "zoom_in_title": "Zoom in",
      "zoom_out_text": "-",
      "zoom_out_title": "Zoom out"
     }
    },
    "72bb826ab6e0431ca4537ab7d1462b44": {
     "model_module": "@jupyter-widgets/controls",
     "model_module_version": "1.5.0",
     "model_name": "DescriptionStyleModel",
     "state": {
      "_model_module": "@jupyter-widgets/controls",
      "_model_module_version": "1.5.0",
      "_model_name": "DescriptionStyleModel",
      "_view_count": null,
      "_view_module": "@jupyter-widgets/base",
      "_view_module_version": "1.2.0",
      "_view_name": "StyleView",
      "description_width": ""
     }
    },
    "73478cd1fe864565997450b2d19bd99e": {
     "model_module": "@jupyter-widgets/controls",
     "model_module_version": "1.5.0",
     "model_name": "ToggleButtonModel",
     "state": {
      "_dom_classes": [],
      "_model_module": "@jupyter-widgets/controls",
      "_model_module_version": "1.5.0",
      "_model_name": "ToggleButtonModel",
      "_view_count": null,
      "_view_module": "@jupyter-widgets/controls",
      "_view_module_version": "1.5.0",
      "_view_name": "ToggleButtonView",
      "button_style": "",
      "description": "",
      "description_tooltip": null,
      "disabled": false,
      "icon": "wrench",
      "layout": "IPY_MODEL_11e24951e63244678fd694df6d9c8407",
      "style": "IPY_MODEL_67f357acfb324e1aa2cc2727fe957d3b",
      "tooltip": "Toolbar",
      "value": false
     }
    },
    "7ed39b425c434f3895043030b35ca2cc": {
     "model_module": "@jupyter-widgets/controls",
     "model_module_version": "1.5.0",
     "model_name": "VBoxModel",
     "state": {
      "_dom_classes": [],
      "_model_module": "@jupyter-widgets/controls",
      "_model_module_version": "1.5.0",
      "_model_name": "VBoxModel",
      "_view_count": null,
      "_view_module": "@jupyter-widgets/controls",
      "_view_module_version": "1.5.0",
      "_view_name": "VBoxView",
      "box_style": "",
      "children": [
       "IPY_MODEL_73478cd1fe864565997450b2d19bd99e"
      ],
      "layout": "IPY_MODEL_3e085d57ad7247e396ff95075e39f538"
     }
    },
    "84288a634fa24fd9af9fa5c87536e2d1": {
     "model_module": "jupyter-leaflet",
     "model_module_version": "^0.15.0",
     "model_name": "LeafletTileLayerModel",
     "state": {
      "_model_module": "jupyter-leaflet",
      "_model_module_version": "^0.15.0",
      "_model_name": "LeafletTileLayerModel",
      "_view_count": null,
      "_view_module": "jupyter-leaflet",
      "_view_module_version": "^0.15.0",
      "_view_name": "LeafletTileLayerView",
      "attribution": "Google Earth Engine",
      "base": false,
      "bottom": true,
      "detect_retina": false,
      "loading": false,
      "max_native_zoom": 18,
      "max_zoom": 18,
      "min_native_zoom": 0,
      "min_zoom": 0,
      "name": "Drawn Features",
      "no_wrap": false,
      "opacity": 0.5,
      "options": [
       "attribution",
       "detect_retina",
       "max_native_zoom",
       "max_zoom",
       "min_native_zoom",
       "min_zoom",
       "no_wrap",
       "tile_size",
       "tms"
      ],
      "popup": null,
      "popup_max_height": null,
      "popup_max_width": 300,
      "popup_min_width": 50,
      "show_loading": false,
      "tile_size": 256,
      "tms": false,
      "url": "https://earthengine.googleapis.com/v1alpha/projects/earthengine-legacy/maps/f278167bce7c7280015648beac9a10c1-e7fdd2d06babe34b4434b6e7a2de6dfc/tiles/{z}/{x}/{y}",
      "visible": false
     }
    },
    "8990da3783ca49a28ae8a6957433e8fc": {
     "model_module": "jupyter-leaflet",
     "model_module_version": "^0.15.0",
     "model_name": "LeafletWidgetControlModel",
     "state": {
      "_model_module": "jupyter-leaflet",
      "_model_module_version": "^0.15.0",
      "_model_name": "LeafletWidgetControlModel",
      "_view_count": null,
      "_view_module": "jupyter-leaflet",
      "_view_module_version": "^0.15.0",
      "_view_name": "LeafletWidgetControlView",
      "max_height": null,
      "max_width": null,
      "min_height": null,
      "min_width": null,
      "options": [
       "position",
       "transparent_bg"
      ],
      "position": "topleft",
      "transparent_bg": false,
      "widget": "IPY_MODEL_1f2e04baaa6a464bbf8d160a527a4fa1"
     }
    },
    "8a873d84f2b84758a4fc719ee81aace4": {
     "model_module": "@jupyter-widgets/base",
     "model_module_version": "1.2.0",
     "model_name": "LayoutModel",
     "state": {
      "_model_module": "@jupyter-widgets/base",
      "_model_module_version": "1.2.0",
      "_model_name": "LayoutModel",
      "_view_count": null,
      "_view_module": "@jupyter-widgets/base",
      "_view_module_version": "1.2.0",
      "_view_name": "LayoutView",
      "align_content": null,
      "align_items": null,
      "align_self": null,
      "border": null,
      "bottom": null,
      "display": null,
      "flex": null,
      "flex_flow": null,
      "grid_area": null,
      "grid_auto_columns": null,
      "grid_auto_flow": null,
      "grid_auto_rows": null,
      "grid_column": null,
      "grid_gap": null,
      "grid_row": null,
      "grid_template_areas": null,
      "grid_template_columns": null,
      "grid_template_rows": null,
      "height": null,
      "justify_content": null,
      "justify_items": null,
      "left": null,
      "margin": null,
      "max_height": null,
      "max_width": null,
      "min_height": null,
      "min_width": null,
      "object_fit": null,
      "object_position": null,
      "order": null,
      "overflow": null,
      "overflow_x": null,
      "overflow_y": null,
      "padding": null,
      "right": null,
      "top": null,
      "visibility": null,
      "width": null
     }
    },
    "9b7c7c37cb5c4d33a178d19ad43d7848": {
     "model_module": "@jupyter-widgets/controls",
     "model_module_version": "1.5.0",
     "model_name": "HBoxModel",
     "state": {
      "_dom_classes": [],
      "_model_module": "@jupyter-widgets/controls",
      "_model_module_version": "1.5.0",
      "_model_name": "HBoxModel",
      "_view_count": null,
      "_view_module": "@jupyter-widgets/controls",
      "_view_module_version": "1.5.0",
      "_view_name": "HBoxView",
      "box_style": "",
      "children": [
       "IPY_MODEL_e6c43aab0a2f4695997de95947d65c06",
       "IPY_MODEL_034788857bee462d9e2a6c2faebc8855",
       "IPY_MODEL_a9b9d3ff2a514caea7ff2657c9bd2c7d"
      ],
      "layout": "IPY_MODEL_8a873d84f2b84758a4fc719ee81aace4"
     }
    },
    "a1db2d83378e4075b8514cf3afb4b86e": {
     "model_module": "jupyter-leaflet",
     "model_module_version": "^0.15.0",
     "model_name": "LeafletMapStyleModel",
     "state": {
      "_model_module": "jupyter-leaflet",
      "_model_module_version": "^0.15.0",
      "_model_name": "LeafletMapStyleModel",
      "_view_count": null,
      "_view_module": "@jupyter-widgets/base",
      "_view_module_version": "1.2.0",
      "_view_name": "StyleView",
      "cursor": "grab"
     }
    },
    "a354fbf120c64253b7fcf7d48c05a0d0": {
     "model_module": "@jupyter-widgets/controls",
     "model_module_version": "1.5.0",
     "model_name": "DescriptionStyleModel",
     "state": {
      "_model_module": "@jupyter-widgets/controls",
      "_model_module_version": "1.5.0",
      "_model_name": "DescriptionStyleModel",
      "_view_count": null,
      "_view_module": "@jupyter-widgets/base",
      "_view_module_version": "1.2.0",
      "_view_name": "StyleView",
      "description_width": ""
     }
    },
    "a74cd555df704375b30f9de974906da3": {
     "model_module": "@jupyter-widgets/base",
     "model_module_version": "1.2.0",
     "model_name": "LayoutModel",
     "state": {
      "_model_module": "@jupyter-widgets/base",
      "_model_module_version": "1.2.0",
      "_model_name": "LayoutModel",
      "_view_count": null,
      "_view_module": "@jupyter-widgets/base",
      "_view_module_version": "1.2.0",
      "_view_name": "LayoutView",
      "align_content": null,
      "align_items": null,
      "align_self": null,
      "border": null,
      "bottom": null,
      "display": null,
      "flex": null,
      "flex_flow": null,
      "grid_area": null,
      "grid_auto_columns": null,
      "grid_auto_flow": null,
      "grid_auto_rows": null,
      "grid_column": null,
      "grid_gap": null,
      "grid_row": null,
      "grid_template_areas": null,
      "grid_template_columns": null,
      "grid_template_rows": null,
      "height": null,
      "justify_content": null,
      "justify_items": null,
      "left": null,
      "margin": null,
      "max_height": null,
      "max_width": null,
      "min_height": null,
      "min_width": null,
      "object_fit": null,
      "object_position": null,
      "order": null,
      "overflow": null,
      "overflow_x": null,
      "overflow_y": null,
      "padding": null,
      "right": null,
      "top": null,
      "visibility": null,
      "width": null
     }
    },
    "a9b9d3ff2a514caea7ff2657c9bd2c7d": {
     "model_module": "@jupyter-widgets/controls",
     "model_module_version": "1.5.0",
     "model_name": "HTMLModel",
     "state": {
      "_dom_classes": [],
      "_model_module": "@jupyter-widgets/controls",
      "_model_module_version": "1.5.0",
      "_model_name": "HTMLModel",
      "_view_count": null,
      "_view_module": "@jupyter-widgets/controls",
      "_view_module_version": "1.5.0",
      "_view_name": "HTMLView",
      "description": "",
      "description_tooltip": null,
      "layout": "IPY_MODEL_fb2bb054669142bb859eb5af77b21168",
      "placeholder": "​",
      "style": "IPY_MODEL_48bb79c90c784bb2a7eabcb5d33270c7",
      "value": " 1/15 [00:43&lt;09:35, 41.12s/it]"
     }
    },
    "c1d925c20ebb44aca0eb2feb7102bac5": {
     "model_module": "@jupyter-widgets/base",
     "model_module_version": "1.2.0",
     "model_name": "LayoutModel",
     "state": {
      "_model_module": "@jupyter-widgets/base",
      "_model_module_version": "1.2.0",
      "_model_name": "LayoutModel",
      "_view_count": null,
      "_view_module": "@jupyter-widgets/base",
      "_view_module_version": "1.2.0",
      "_view_name": "LayoutView",
      "align_content": null,
      "align_items": null,
      "align_self": null,
      "border": null,
      "bottom": null,
      "display": null,
      "flex": null,
      "flex_flow": null,
      "grid_area": null,
      "grid_auto_columns": null,
      "grid_auto_flow": null,
      "grid_auto_rows": null,
      "grid_column": null,
      "grid_gap": null,
      "grid_row": null,
      "grid_template_areas": null,
      "grid_template_columns": null,
      "grid_template_rows": null,
      "height": null,
      "justify_content": null,
      "justify_items": null,
      "left": null,
      "margin": null,
      "max_height": null,
      "max_width": null,
      "min_height": null,
      "min_width": null,
      "object_fit": null,
      "object_position": null,
      "order": null,
      "overflow": null,
      "overflow_x": null,
      "overflow_y": null,
      "padding": null,
      "right": null,
      "top": null,
      "visibility": null,
      "width": null
     }
    },
    "cf372a6dc36e47278d6245ecb49a0c2d": {
     "model_module": "@jupyter-widgets/base",
     "model_module_version": "1.2.0",
     "model_name": "LayoutModel",
     "state": {
      "_model_module": "@jupyter-widgets/base",
      "_model_module_version": "1.2.0",
      "_model_name": "LayoutModel",
      "_view_count": null,
      "_view_module": "@jupyter-widgets/base",
      "_view_module_version": "1.2.0",
      "_view_name": "LayoutView",
      "align_content": null,
      "align_items": null,
      "align_self": null,
      "border": null,
      "bottom": null,
      "display": null,
      "flex": null,
      "flex_flow": null,
      "grid_area": null,
      "grid_auto_columns": null,
      "grid_auto_flow": null,
      "grid_auto_rows": null,
      "grid_column": null,
      "grid_gap": null,
      "grid_row": null,
      "grid_template_areas": null,
      "grid_template_columns": null,
      "grid_template_rows": null,
      "height": null,
      "justify_content": null,
      "justify_items": null,
      "left": null,
      "margin": null,
      "max_height": null,
      "max_width": null,
      "min_height": null,
      "min_width": null,
      "object_fit": null,
      "object_position": null,
      "order": null,
      "overflow": null,
      "overflow_x": null,
      "overflow_y": null,
      "padding": null,
      "right": null,
      "top": null,
      "visibility": null,
      "width": null
     }
    },
    "d8b4b98bedeb4edfbffeb28b7e07e084": {
     "model_module": "jupyter-leaflet",
     "model_module_version": "^0.15.0",
     "model_name": "LeafletDrawControlModel",
     "state": {
      "_model_module": "jupyter-leaflet",
      "_model_module_version": "^0.15.0",
      "_model_name": "LeafletDrawControlModel",
      "_view_count": null,
      "_view_module": "jupyter-leaflet",
      "_view_module_version": "^0.15.0",
      "_view_name": "LeafletDrawControlView",
      "circle": {
       "shapeOptions": {
        "color": "#3388ff"
       }
      },
      "circlemarker": {},
      "data": [
       {
        "geometry": {
         "coordinates": [
          [
           [
            -119.774508,
            36.066453
           ],
           [
            -119.774508,
            36.080527
           ],
           [
            -119.755754,
            36.080527
           ],
           [
            -119.755754,
            36.066453
           ],
           [
            -119.774508,
            36.066453
           ]
          ]
         ],
         "type": "Polygon"
        },
        "properties": {
         "style": {
          "clickable": true,
          "color": "#3388ff",
          "fill": true,
          "fillColor": null,
          "fillOpacity": 0.2,
          "opacity": 0.5,
          "stroke": true,
          "weight": 4
         }
        },
        "type": "Feature"
       }
      ],
      "edit": true,
      "marker": {
       "shapeOptions": {
        "color": "#3388ff"
       }
      },
      "options": [
       "position"
      ],
      "polygon": {
       "shapeOptions": {}
      },
      "polyline": {
       "shapeOptions": {}
      },
      "position": "topleft",
      "rectangle": {
       "shapeOptions": {
        "color": "#3388ff"
       }
      },
      "remove": true
     }
    },
    "df14730060e3479682566bd7a58f643b": {
     "model_module": "jupyter-leaflet",
     "model_module_version": "^0.15.0",
     "model_name": "LeafletTileLayerModel",
     "state": {
      "_model_module": "jupyter-leaflet",
      "_model_module_version": "^0.15.0",
      "_model_name": "LeafletTileLayerModel",
      "_view_count": null,
      "_view_module": "jupyter-leaflet",
      "_view_module_version": "^0.15.0",
      "_view_name": "LeafletTileLayerView",
      "attribution": "Google",
      "base": false,
      "bottom": true,
      "detect_retina": false,
      "loading": false,
      "max_native_zoom": 18,
      "max_zoom": 22,
      "min_native_zoom": 0,
      "min_zoom": 0,
      "name": "Google Satellite",
      "no_wrap": false,
      "opacity": 1,
      "options": [
       "attribution",
       "detect_retina",
       "max_native_zoom",
       "max_zoom",
       "min_native_zoom",
       "min_zoom",
       "no_wrap",
       "tile_size",
       "tms"
      ],
      "popup": null,
      "popup_max_height": null,
      "popup_max_width": 300,
      "popup_min_width": 50,
      "show_loading": false,
      "tile_size": 256,
      "tms": false,
      "url": "https://mt1.google.com/vt/lyrs=y&x={x}&y={y}&z={z}",
      "visible": true
     }
    },
    "e6c43aab0a2f4695997de95947d65c06": {
     "model_module": "@jupyter-widgets/controls",
     "model_module_version": "1.5.0",
     "model_name": "HTMLModel",
     "state": {
      "_dom_classes": [],
      "_model_module": "@jupyter-widgets/controls",
      "_model_module_version": "1.5.0",
      "_model_name": "HTMLModel",
      "_view_count": null,
      "_view_module": "@jupyter-widgets/controls",
      "_view_module_version": "1.5.0",
      "_view_name": "HTMLView",
      "description": "",
      "description_tooltip": null,
      "layout": "IPY_MODEL_a74cd555df704375b30f9de974906da3",
      "placeholder": "​",
      "style": "IPY_MODEL_72bb826ab6e0431ca4537ab7d1462b44",
      "value": "  7%"
     }
    },
    "ee64186fd4bb4d67887cb3d3ad521060": {
     "model_module": "@jupyter-widgets/base",
     "model_module_version": "1.2.0",
     "model_name": "LayoutModel",
     "state": {
      "_model_module": "@jupyter-widgets/base",
      "_model_module_version": "1.2.0",
      "_model_name": "LayoutModel",
      "_view_count": null,
      "_view_module": "@jupyter-widgets/base",
      "_view_module_version": "1.2.0",
      "_view_name": "LayoutView",
      "align_content": null,
      "align_items": null,
      "align_self": null,
      "border": null,
      "bottom": null,
      "display": null,
      "flex": null,
      "flex_flow": null,
      "grid_area": null,
      "grid_auto_columns": null,
      "grid_auto_flow": null,
      "grid_auto_rows": null,
      "grid_column": null,
      "grid_gap": null,
      "grid_row": null,
      "grid_template_areas": null,
      "grid_template_columns": null,
      "grid_template_rows": null,
      "height": "600px",
      "justify_content": null,
      "justify_items": null,
      "left": null,
      "margin": null,
      "max_height": null,
      "max_width": null,
      "min_height": null,
      "min_width": null,
      "object_fit": null,
      "object_position": null,
      "order": null,
      "overflow": null,
      "overflow_x": null,
      "overflow_y": null,
      "padding": null,
      "right": null,
      "top": null,
      "visibility": null,
      "width": null
     }
    },
    "fb2bb054669142bb859eb5af77b21168": {
     "model_module": "@jupyter-widgets/base",
     "model_module_version": "1.2.0",
     "model_name": "LayoutModel",
     "state": {
      "_model_module": "@jupyter-widgets/base",
      "_model_module_version": "1.2.0",
      "_model_name": "LayoutModel",
      "_view_count": null,
      "_view_module": "@jupyter-widgets/base",
      "_view_module_version": "1.2.0",
      "_view_name": "LayoutView",
      "align_content": null,
      "align_items": null,
      "align_self": null,
      "border": null,
      "bottom": null,
      "display": null,
      "flex": null,
      "flex_flow": null,
      "grid_area": null,
      "grid_auto_columns": null,
      "grid_auto_flow": null,
      "grid_auto_rows": null,
      "grid_column": null,
      "grid_gap": null,
      "grid_row": null,
      "grid_template_areas": null,
      "grid_template_columns": null,
      "grid_template_rows": null,
      "height": null,
      "justify_content": null,
      "justify_items": null,
      "left": null,
      "margin": null,
      "max_height": null,
      "max_width": null,
      "min_height": null,
      "min_width": null,
      "object_fit": null,
      "object_position": null,
      "order": null,
      "overflow": null,
      "overflow_x": null,
      "overflow_y": null,
      "padding": null,
      "right": null,
      "top": null,
      "visibility": null,
      "width": null
     }
    }
   }
  }
 },
 "nbformat": 4,
 "nbformat_minor": 1
}
