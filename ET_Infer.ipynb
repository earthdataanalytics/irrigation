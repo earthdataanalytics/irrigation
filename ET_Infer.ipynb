{
 "cells": [
  {
   "cell_type": "markdown",
   "metadata": {
    "id": "EZF8erxJt2BO"
   },
   "source": [
    "# Description"
   ]
  },
  {
   "cell_type": "markdown",
   "metadata": {
    "id": "39rChrfwtsp3"
   },
   "source": [
    "This notebook is used to run an pre-trained ML model to predict whether irrigation is in use in a geographic zone for a date range.  It generates images which can then be visualized in Google Earth Engine.\n",
    "\n",
    "The SEBAL calculations for ET are leveraged from https://github.com/gee-hydro/geeSEBAL\n"
   ]
  },
  {
   "cell_type": "markdown",
   "metadata": {
    "id": "CHn4vExr_-9z"
   },
   "source": [
    "# Setup Notebook"
   ]
  },
  {
   "cell_type": "code",
   "execution_count": 1,
   "metadata": {
    "executionInfo": {
     "elapsed": 189,
     "status": "ok",
     "timestamp": 1675895228520,
     "user": {
      "displayName": "Blair Jones",
      "userId": "11507989587297916179"
     },
     "user_tz": 300
    },
    "id": "lst9ZoxtN-er"
   },
   "outputs": [],
   "source": [
    "#!pip install geemap\n",
    "#!pip install geopandas"
   ]
  },
  {
   "cell_type": "code",
   "execution_count": 2,
   "metadata": {
    "executionInfo": {
     "elapsed": 1399,
     "status": "ok",
     "timestamp": 1675895230047,
     "user": {
      "displayName": "Blair Jones",
      "userId": "11507989587297916179"
     },
     "user_tz": 300
    },
    "id": "ATpKA5QIOFUk"
   },
   "outputs": [
    {
     "data": {
      "text/html": [
       "<p>To authorize access needed by Earth Engine, open the following\n",
       "        URL in a web browser and follow the instructions:</p>\n",
       "        <p><a href=https://code.earthengine.google.com/client-auth?scopes=https%3A//www.googleapis.com/auth/earthengine%20https%3A//www.googleapis.com/auth/devstorage.full_control&request_id=wrdocWr7zb6pyRpTAl_54uwh7cp3yAg8yPBAXCoNl1E&tc=layJqHDMig6uTQItsbQC9jttz6tCAXgZOaI0ZNHxwPk&cc=5hfyWtmHMwo-uzlqq3cWEY3eCPaTYnByogifOn5-6Cw>https://code.earthengine.google.com/client-auth?scopes=https%3A//www.googleapis.com/auth/earthengine%20https%3A//www.googleapis.com/auth/devstorage.full_control&request_id=wrdocWr7zb6pyRpTAl_54uwh7cp3yAg8yPBAXCoNl1E&tc=layJqHDMig6uTQItsbQC9jttz6tCAXgZOaI0ZNHxwPk&cc=5hfyWtmHMwo-uzlqq3cWEY3eCPaTYnByogifOn5-6Cw</a></p>\n",
       "        <p>The authorization workflow will generate a code, which you should paste in the box below.</p>\n",
       "        "
      ],
      "text/plain": [
       "<IPython.core.display.HTML object>"
      ]
     },
     "metadata": {},
     "output_type": "display_data"
    },
    {
     "name": "stdout",
     "output_type": "stream",
     "text": [
      "Enter verification code: 4/1AfJohXl4J6sy9nlHCPhCKndEJFfIsf8fKKlQyYe2fhjvhb-0wzHVwb-em5c\n",
      "\n",
      "Successfully saved authorization token.\n"
     ]
    },
    {
     "name": "stderr",
     "output_type": "stream",
     "text": [
      "*** Earth Engine *** Share your feedback by taking our Annual Developer Satisfaction Survey: https://google.qualtrics.com/jfe/form/SV_doiqkQG3NJ1t8IS?source=API\n"
     ]
    }
   ],
   "source": [
    "import ee\n",
    "ee.Authenticate()\n",
    "ee.Initialize(project='second-impact-342800')\n",
    "import geemap\n",
    "\n",
    "import numpy as np\n",
    "import pandas as pd\n",
    "import datetime\n",
    "import json\n",
    "from timeit import default_timer as timer\n",
    "from datetime import timedelta\n",
    "import ipyleaflet\n",
    "import ipywidgets as widgets\n",
    "from tqdm.notebook import tqdm\n",
    "import calendar"
   ]
  },
  {
   "cell_type": "code",
   "execution_count": 3,
   "metadata": {
    "colab": {
     "base_uri": "https://localhost:8080/"
    },
    "executionInfo": {
     "elapsed": 4,
     "status": "ok",
     "timestamp": 1675895230190,
     "user": {
      "displayName": "Blair Jones",
      "userId": "11507989587297916179"
     },
     "user_tz": 300
    },
    "id": "UFqGbailPSp0",
    "outputId": "ba2a1160-737d-46c2-8a3b-988047ffd5af"
   },
   "outputs": [],
   "source": [
    "# Run in a cloud environment\n",
    "#%cd /content\n",
    "#!git clone https://github.com/gee-hydro/geeSEBAL.git\n",
    "#!git clone https://github.com/earthdataanalytics/irrigation.git\n",
    "#!cp -r geeSEBAL/etbrasil/ irrigation/\n",
    "#%cd irrigation/"
   ]
  },
  {
   "cell_type": "markdown",
   "metadata": {
    "id": "Ee4YrSM06loM"
   },
   "source": [
    "#### Custom libraries"
   ]
  },
  {
   "cell_type": "code",
   "execution_count": 4,
   "metadata": {
    "executionInfo": {
     "elapsed": 660,
     "status": "ok",
     "timestamp": 1675895230849,
     "user": {
      "displayName": "Blair Jones",
      "userId": "11507989587297916179"
     },
     "user_tz": 300
    },
    "id": "diUuKsIzIvFM"
   },
   "outputs": [],
   "source": [
    "from etbrasil.geesebal import Image\n",
    "from pipeline import cropmasks as msk\n",
    "from pipeline import utils"
   ]
  },
  {
   "cell_type": "markdown",
   "metadata": {
    "id": "rGdWx_m9e6i1"
   },
   "source": [
    "# Train GEE Random Forest classifier"
   ]
  },
  {
   "cell_type": "markdown",
   "metadata": {
    "id": "0Vji2XyBFL_v"
   },
   "source": [
    "##### Set training parameters"
   ]
  },
  {
   "cell_type": "code",
   "execution_count": 5,
   "metadata": {
    "executionInfo": {
     "elapsed": 2,
     "status": "ok",
     "timestamp": 1675895230849,
     "user": {
      "displayName": "Blair Jones",
      "userId": "11507989587297916179"
     },
     "user_tz": 300
    },
    "id": "tg7R5w-bCENd"
   },
   "outputs": [],
   "source": [
    "# To customize for each run\n",
    "project_name = 'ssebop_1'\n",
    "startDate = '2016-08-01'\n",
    "endDate = '2022-10-31'\n",
    "model_name = '20231112_ssebop_1' # This retrieves the best model for the area.  Was previously f'{project_name}'\n",
    "\n",
    "# Defaults\n",
    "et_var = 'ET_24h' # could also use 'ET_24h_R' for the GEESEBAL model\n",
    "label_var = 'loc_type'"
   ]
  },
  {
   "cell_type": "markdown",
   "metadata": {
    "id": "ZxHD1NyJHyG4"
   },
   "source": [
    "##### Retrieve training data"
   ]
  },
  {
   "cell_type": "code",
   "execution_count": 6,
   "metadata": {
    "executionInfo": {
     "elapsed": 3,
     "status": "ok",
     "timestamp": 1675895230850,
     "user": {
      "displayName": "Blair Jones",
      "userId": "11507989587297916179"
     },
     "user_tz": 300
    },
    "id": "77pSwxSNXO6Q"
   },
   "outputs": [],
   "source": [
    "model_path = f'./runs/{model_name}/best/'\n",
    "with open(model_path+'summary_stats.json', 'r', encoding='utf-8') as f:\n",
    "    local_best = json.load(f)\n",
    "\n",
    "best_run = local_best['exp_ref']\n",
    "feature_path = f'./runs/{model_name}/{best_run}/'"
   ]
  },
  {
   "cell_type": "code",
   "execution_count": 16,
   "metadata": {},
   "outputs": [
    {
     "data": {
      "text/plain": [
       "Index(['ET0_24h', 'ET_24h', 'ET_fraction', 'NDVI', 'TMAX', 'TMIN',\n",
       "       'actual_vapor_pressure', 'date', 'loc_type', 'precip',\n",
       "       'solar_radiation', 'wind_speed', 'longitude', 'latitude', 'yyyy', 'mm',\n",
       "       'loc_idx', 'type', 'sum_precip_priorX', 'last_rain'],\n",
       "      dtype='object')"
      ]
     },
     "execution_count": 16,
     "metadata": {},
     "output_type": "execute_result"
    }
   ],
   "source": [
    "df_features = pd.read_pickle(feature_path+'features.pkl')\n",
    "df_features.columns"
   ]
  },
  {
   "cell_type": "code",
   "execution_count": 17,
   "metadata": {},
   "outputs": [],
   "source": [
    "# cols should be aligned with he definition in pipelines/ET_Train_RF.py\n",
    "# cols = [et_var, 'NDVI', 'LandT_G', 'last_rain', 'sum_precip_priorX', 'mm', label_var, 'latitude', 'longitude']\n",
    "#generic_cols = [et_var, 'NDVI', 'LandT_G', 'sum_precip_priorX', 'last_rain', 'mm', 'yyyy', 'loc_idx', 'date']\n",
    "#num_cols_rf = 2 # changed from 5 to 2 on 2023.11.12 to test SSEBOP # changed from 6 on 2022.08.02 to remove yyyy from predictors\n",
    "#cols = generic_cols[:num_cols_rf]\n",
    "\n",
    "cols = ['ET_24h', 'ET_fraction', 'NDVI', 'actual_vapor_pressure', 'wind_speed']"
   ]
  },
  {
   "cell_type": "code",
   "execution_count": 18,
   "metadata": {
    "colab": {
     "base_uri": "https://localhost:8080/"
    },
    "executionInfo": {
     "elapsed": 3797,
     "status": "ok",
     "timestamp": 1675895234644,
     "user": {
      "displayName": "Blair Jones",
      "userId": "11507989587297916179"
     },
     "user_tz": 300
    },
    "id": "nzbly4RLMMGF",
    "outputId": "4e399037-8a83-461a-c515-191e9c437236"
   },
   "outputs": [
    {
     "name": "stdout",
     "output_type": "stream",
     "text": [
      "Total number of samples:    214\n",
      "Number of training samples: 157\n"
     ]
    }
   ],
   "source": [
    "#with ee.profilePrinting():\n",
    "if True:\n",
    "    ee.data.setDefaultWorkloadTag('hydracarta_backend')\n",
    "    ee.data.setWorkloadTag('hydracarta_train_model')\n",
    "\n",
    "    # set all columns to numeric\n",
    "    for col in cols:\n",
    "        df_features[col] = df_features[col].astype(float)\n",
    "\n",
    "    # convert from celsius to kelvin\n",
    "    # Removed on 2023.11.12 by BCJ because the initial conversion was removed in utils.py\n",
    "    # df_features.LandT_G = df_features.LandT_G + 273.15\n",
    "\n",
    "    fc_data = geemap.pandas_to_ee(df_features, latitude=\"latitude\", longitude=\"longitude\")\n",
    "    print('Total number of samples:   ', fc_data.size().getInfo())\n",
    "\n",
    "    fc_split = utils.train_test_split(fc_data)\n",
    "    print('Number of training samples:', fc_split['train_partition'].size().getInfo())"
   ]
  },
  {
   "cell_type": "markdown",
   "metadata": {
    "id": "R53nBWicVOQH"
   },
   "source": [
    "##### Create and train GEE RandomForest Classifier"
   ]
  },
  {
   "cell_type": "code",
   "execution_count": 19,
   "metadata": {
    "executionInfo": {
     "elapsed": 12,
     "status": "ok",
     "timestamp": 1675895234644,
     "user": {
      "displayName": "Blair Jones",
      "userId": "11507989587297916179"
     },
     "user_tz": 300
    },
    "id": "U2mfSXxlMYdM"
   },
   "outputs": [],
   "source": [
    "#with ee.profilePrinting():\n",
    "if True:\n",
    "    ee.data.setWorkloadTag('hydracarta_train_model')\n",
    "\n",
    "    num_trees = 1000\n",
    "    bag_fraction = 0.63\n",
    "    #variables_per_split = 10\n",
    "    feature_list = cols[:6]\n",
    "\n",
    "    classifier = ee.Classifier.smileRandomForest(\n",
    "        numberOfTrees=num_trees,\n",
    "    #    variablesPerSplit=variables_per_split,\n",
    "        bagFraction=bag_fraction,\n",
    "        seed=10\n",
    "    )\n",
    "    classifier = classifier.train(\n",
    "        features=fc_split['train_partition'],\n",
    "        classProperty=label_var,\n",
    "        inputProperties=feature_list,\n",
    "        subsamplingSeed=10\n",
    "    )"
   ]
  },
  {
   "cell_type": "markdown",
   "metadata": {
    "id": "wO4eppTCCEso"
   },
   "source": [
    "#### Score GEE classifier"
   ]
  },
  {
   "cell_type": "code",
   "execution_count": 20,
   "metadata": {
    "colab": {
     "base_uri": "https://localhost:8080/"
    },
    "executionInfo": {
     "elapsed": 9493,
     "status": "ok",
     "timestamp": 1675895244126,
     "user": {
      "displayName": "Blair Jones",
      "userId": "11507989587297916179"
     },
     "user_tz": 300
    },
    "id": "Uz-n0c1RPiix",
    "outputId": "6cdb2c16-8af6-4b66-82c1-1565a308b14f"
   },
   "outputs": [
    {
     "name": "stdout",
     "output_type": "stream",
     "text": [
      "Validation error matrix: [[15, 12], [7, 23]]\n",
      "Validation accuracy:     0.667\n",
      "Validation kappa:        0.325\n",
      "CPU times: user 416 ms, sys: 23.2 ms, total: 439 ms\n",
      "Wall time: 6.04 s\n"
     ]
    }
   ],
   "source": [
    "%%time\n",
    "#with ee.profilePrinting():\n",
    "if True:\n",
    "    ee.data.setWorkloadTag('hydracarta_score_model')\n",
    "\n",
    "    validated = fc_split['test_partition'].classify(classifier)\n",
    "\n",
    "    # Get a confusion matrix representing expected accuracy.\n",
    "    if classifier.mode() != 'PROBABILITY':\n",
    "        validation_matrix = validated.errorMatrix(label_var, 'classification')\n",
    "        cm = validation_matrix.getInfo()\n",
    "        gee_acc = validation_matrix.accuracy().getInfo()\n",
    "        gee_kappa = validation_matrix.kappa().getInfo()\n",
    "\n",
    "        print(f'Validation error matrix: {cm}')\n",
    "        print(f'Validation accuracy:     {gee_acc:.3f}')\n",
    "        print(f'Validation kappa:        {gee_kappa:.3f}')"
   ]
  },
  {
   "cell_type": "code",
   "execution_count": 27,
   "metadata": {},
   "outputs": [
    {
     "ename": "NameError",
     "evalue": "name 'geo_json' is not defined",
     "output_type": "error",
     "traceback": [
      "\u001b[0;31m---------------------------------------------------------------------------\u001b[0m",
      "\u001b[0;31mNameError\u001b[0m                                 Traceback (most recent call last)",
      "\u001b[0;32m<ipython-input-27-45066ebc316e>\u001b[0m in \u001b[0;36m<module>\u001b[0;34m\u001b[0m\n\u001b[0;32m----> 1\u001b[0;31m \u001b[0mee\u001b[0m\u001b[0;34m.\u001b[0m\u001b[0mGeometry\u001b[0m\u001b[0;34m(\u001b[0m\u001b[0mgeo_json\u001b[0m\u001b[0;34m)\u001b[0m\u001b[0;34m\u001b[0m\u001b[0;34m\u001b[0m\u001b[0m\n\u001b[0m",
      "\u001b[0;31mNameError\u001b[0m: name 'geo_json' is not defined"
     ]
    }
   ],
   "source": [
    "ee.Geometry(geo_json)"
   ]
  },
  {
   "cell_type": "code",
   "execution_count": 33,
   "metadata": {},
   "outputs": [],
   "source": [
    "#TO COMPLETE:  Save model to GEE\n",
    "\n",
    "trees = ee.List(ee.Dictionary(classifier.explain()).get('trees'))\n",
    "dummy = ee.Feature(ee.Geometry.Point([0, 0]))\n",
    "fc_classifier = ee.FeatureCollection(trees.map(lambda x: dummy.set('tree',x)))\n",
    "task = ee.batch.Export.table.toAsset(fc_classifier,'save_classifier','projects/eda-bjonesneu-proto/assets/irrigation/test_RF_model')\n",
    "task.start()"
   ]
  },
  {
   "cell_type": "markdown",
   "metadata": {
    "id": "Ob_MlG7BCGVR"
   },
   "source": [
    "#### Compare GEE and local classfiers"
   ]
  },
  {
   "cell_type": "code",
   "execution_count": 22,
   "metadata": {
    "colab": {
     "base_uri": "https://localhost:8080/"
    },
    "executionInfo": {
     "elapsed": 15,
     "status": "ok",
     "timestamp": 1675895244126,
     "user": {
      "displayName": "Blair Jones",
      "userId": "11507989587297916179"
     },
     "user_tz": 300
    },
    "id": "oBD0DGqWCHK-",
    "outputId": "da664c6a-2152-42e0-bc90-028213b2c630"
   },
   "outputs": [
    {
     "name": "stdout",
     "output_type": "stream",
     "text": [
      "GEE RF Classifier Accuracy   0.67\n",
      "Local RF Classifier Accuracy 0.70\n"
     ]
    }
   ],
   "source": [
    "print(f'GEE RF Classifier Accuracy   {gee_acc:.2f}')\n",
    "print(f'Local RF Classifier Accuracy {local_best[\"rf_accuracy\"]:.2f}')"
   ]
  },
  {
   "cell_type": "markdown",
   "metadata": {
    "id": "5SgMJuJM65d3"
   },
   "source": [
    "# Infer classes for AOI"
   ]
  },
  {
   "cell_type": "markdown",
   "metadata": {
    "id": "Xjx_cCeOx3-h"
   },
   "source": [
    "##### Define Area of Interest (AOI)"
   ]
  },
  {
   "cell_type": "code",
   "execution_count": 15,
   "metadata": {
    "colab": {
     "base_uri": "https://localhost:8080/",
     "height": 621,
     "referenced_widgets": [
      "62794d6199f64e68ad2ee60f9d7c6412",
      "56c6d21605c04435b69c9e239df37e4b",
      "ee64186fd4bb4d67887cb3d3ad521060",
      "8990da3783ca49a28ae8a6957433e8fc",
      "6c1c6f5a6a35482cb7c800be9c7bfc1a",
      "42cb86997fca47e89284aeb971e0d384",
      "17215e6c9d82406095a4a16ec909edd8",
      "191de9780d8d465f90558438d3b06285",
      "6b4fa7738dde4428ab227536412acd40",
      "d8b4b98bedeb4edfbffeb28b7e07e084",
      "55e3a18add6e4fe7bd959f5bcc041df3",
      "a1db2d83378e4075b8514cf3afb4b86e",
      "2b8e5cc6675f45f58e94f0ced9bd6165",
      "1fa88a65f5484912af0ff1610697c9d5",
      "df14730060e3479682566bd7a58f643b",
      "4aea53e838234024b47fcdcb98561545",
      "1f2e04baaa6a464bbf8d160a527a4fa1",
      "7ed39b425c434f3895043030b35ca2cc",
      "cf372a6dc36e47278d6245ecb49a0c2d",
      "17ec7f98a2c14860bc0407cda9a3926f",
      "3e085d57ad7247e396ff95075e39f538",
      "73478cd1fe864565997450b2d19bd99e",
      "a354fbf120c64253b7fcf7d48c05a0d0",
      "541d02002c2e468195b6c4ee2ac4b6fd",
      "67f357acfb324e1aa2cc2727fe957d3b",
      "11e24951e63244678fd694df6d9c8407",
      "84288a634fa24fd9af9fa5c87536e2d1"
     ]
    },
    "executionInfo": {
     "elapsed": 362,
     "status": "ok",
     "timestamp": 1675895244474,
     "user": {
      "displayName": "Blair Jones",
      "userId": "11507989587297916179"
     },
     "user_tz": 300
    },
    "id": "7oW-gKuodfEd",
    "outputId": "36bdaca0-2020-4a32-df63-83c10a3e703f"
   },
   "outputs": [
    {
     "data": {
      "application/vnd.jupyter.widget-view+json": {
       "model_id": "b22a9ea6374443f0a8a1d7086dac2384",
       "version_major": 2,
       "version_minor": 0
      },
      "text/plain": [
       "Map(center=[20, 0], controls=(WidgetControl(options=['position', 'transparent_bg'], widget=HBox(children=(Togg…"
      ]
     },
     "metadata": {},
     "output_type": "display_data"
    }
   ],
   "source": [
    "Map = geemap.Map()\n",
    "Map.add_basemap('HYBRID')\n",
    "Map.centerObject(bnd.central_ca)\n",
    "Map"
   ]
  },
  {
   "cell_type": "code",
   "execution_count": 22,
   "metadata": {
    "executionInfo": {
     "elapsed": 137,
     "status": "ok",
     "timestamp": 1675895262573,
     "user": {
      "displayName": "Blair Jones",
      "userId": "11507989587297916179"
     },
     "user_tz": 300
    },
    "id": "NdRYXm3K64aH"
   },
   "outputs": [],
   "source": [
    "# In general it has been best to select an AOI which is less than (<) 3,000 hectares in area\n",
    "# otherwise the export step tends to crash when processing takes too long, which occurs\n",
    "# frequently when area > 3k hectares.\n",
    "\n",
    "if Map and (len(Map.draw_features) > 0):\n",
    "    aoi = ee.FeatureCollection(Map.draw_features)\n",
    "else:\n",
    "    print(\"Please select an Area of Interest on the map\")"
   ]
  },
  {
   "cell_type": "markdown",
   "metadata": {
    "id": "mv9bxbvQx9mr"
   },
   "source": [
    "##### Retrieve data for inference"
   ]
  },
  {
   "cell_type": "code",
   "execution_count": 36,
   "metadata": {
    "executionInfo": {
     "elapsed": 174,
     "status": "ok",
     "timestamp": 1675805152228,
     "user": {
      "displayName": "Blair Jones",
      "userId": "11507989587297916179"
     },
     "user_tz": 300
    },
    "id": "ge30_CDHIIf0"
   },
   "outputs": [],
   "source": [
    "def retrieveRGBandClassPredictions(startDate=None, endDate=None, applyCropMask=False):\n",
    "    if (startDate==None) or (endDate==None):\n",
    "        print(\"Please specify start and end date\")\n",
    "        return None, None\n",
    "\n",
    "    etcol = Image(window_start=startDate, window_end=endDate, \n",
    "                      aoi=aoi, cloud_max=30, et_var=et_var) \\\n",
    "                .ETandMeteo\n",
    "\n",
    "    if applyCropMask: # added on 2023-02-07\n",
    "        etcol = etcol.map(lambda x: x.updateMask(msk.createGFSADmask(aoi)))\n",
    "\n",
    "    num_images = etcol.size().getInfo()\n",
    "    print('Number of ET sample images retrieved: ', num_images)\n",
    "\n",
    "    rgbCol = ['R', 'G', 'B']\n",
    "    # 2022.08 - in versions before the monthly data labels version Aug-2022, \n",
    "    # the rgb_mosaic was calculated as a mosaic, however this started producing\n",
    "    # too many bad images.\n",
    "    rgb_mosaic = (\n",
    "        etcol\n",
    "            .first()\n",
    "            .clip(aoi)\n",
    "            .select(['R', 'GR', 'B'])\n",
    "            .rename(rgbCol)\n",
    "            .set('custom:date', startDate+'_'+endDate)\n",
    "    )\n",
    "\n",
    "    pred_col = etcol.map(lambda x: x.classify(classifier))\n",
    "\n",
    "    # create a map which takes the mean over all predictions in the time window\n",
    "    # to represent the probability of the pixel being irrigated or not during the window\n",
    "    pred_prob = (\n",
    "        pred_col\n",
    "            .mean()\n",
    "            .clip(aoi)\n",
    "            .set('custom:date', startDate+'_'+endDate)\n",
    "            .set('custom:num_input_images', num_images)\n",
    "    )\n",
    "            \n",
    "    return rgb_mosaic, pred_prob, etcol, num_images"
   ]
  },
  {
   "cell_type": "code",
   "execution_count": null,
   "metadata": {
    "colab": {
     "base_uri": "https://localhost:8080/"
    },
    "executionInfo": {
     "elapsed": 1078,
     "status": "ok",
     "timestamp": 1675805154149,
     "user": {
      "displayName": "Blair Jones",
      "userId": "11507989587297916179"
     },
     "user_tz": 300
    },
    "id": "GdpRDZH3KmOK",
    "outputId": "9bf2fe3f-4045-428b-8597-6475d3377d16"
   },
   "outputs": [],
   "source": [
    "%%time\n",
    "#with ee.profilePrinting():\n",
    "if True:\n",
    "    ee.data.setWorkloadTag('hydracarta_infer_aoi')\n",
    "\n",
    "    rgb_mosaic, pred_prob, et_data, cnt = retrieveRGBandClassPredictions(startDate, endDate, applyCropMask=False)"
   ]
  },
  {
   "cell_type": "markdown",
   "metadata": {
    "id": "lFgrL3pSyI-L"
   },
   "source": [
    "\n",
    "##### Visualize results\n"
   ]
  },
  {
   "cell_type": "code",
   "execution_count": null,
   "metadata": {},
   "outputs": [],
   "source": [
    "Map.centerObject(aoi)\n",
    "Map.addLayer(rgb_mosaic, rgb_viz, 'rgb', True, 1.0)\n",
    "Map"
   ]
  },
  {
   "cell_type": "code",
   "execution_count": null,
   "metadata": {
    "executionInfo": {
     "elapsed": 142,
     "status": "ok",
     "timestamp": 1675805155075,
     "user": {
      "displayName": "Blair Jones",
      "userId": "11507989587297916179"
     },
     "user_tz": 300
    },
    "id": "l3CQ2NCMLHiW",
    "scrolled": false
   },
   "outputs": [],
   "source": [
    "rgbCol = ['R', 'G', 'B']\n",
    "rgb_viz = {'bands': rgbCol, 'min': 0.0, 'max': 3000, 'gamma': 1.4} # LS-Col-1-SR\n",
    "pred_viz = {'min': 0.0, 'max': 1.0, 'palette': ['red', 'blue']}\n",
    "prob_viz = {'min': 0.0, 'max': 1.0, 'palette': ['red', 'magenta', 'pink', 'yellow', 'aqua', 'blue', 'darkblue']}\n",
    "\n",
    "#with ee.profilePrinting():\n",
    "if True: # skip this cell \n",
    "    ee.data.setWorkloadTag('hydracarta_view_infer_results')\n",
    "\n",
    "    Map.centerObject(aoi)\n",
    "    Map.addLayer(aoi, {}, 'aoi boundary', True, 0.55)\n",
    "    Map.addLayer(rgb_mosaic, rgb_viz, 'rgb', True, 1.0)\n",
    "    Map.addLayer(pred_prob, prob_viz, 'probabilities', True, 1.0)\n",
    "    Map"
   ]
  },
  {
   "cell_type": "markdown",
   "metadata": {
    "id": "BjUk66Frpi-B"
   },
   "source": [
    "# Export Data"
   ]
  },
  {
   "cell_type": "code",
   "execution_count": 31,
   "metadata": {
    "executionInfo": {
     "elapsed": 213,
     "status": "ok",
     "timestamp": 1675805157680,
     "user": {
      "displayName": "Blair Jones",
      "userId": "11507989587297916179"
     },
     "user_tz": 300
    },
    "id": "0M9EzqyzIhxG"
   },
   "outputs": [],
   "source": [
    "def exportImages(rgb_mosaic, pred_prob, startDate, endDate, aoi=None):\n",
    "    #print(\"RGB export start\")\n",
    "    rgb_filename = f'../outputmaps/monthly_rgb_{startDate}_{endDate}.tif'\n",
    "    geemap.ee_export_image(rgb_mosaic, filename=rgb_filename, scale=30, \n",
    "                            region=aoi, file_per_band=False,\n",
    "                            timeout=300)\n",
    "    #print(\"RGB export end\")\n",
    "    \n",
    "    #print(\"Class prediction export start\")\n",
    "    class_filename = f'../outputmaps/monthly_classes_{startDate}_{endDate}.tif'\n",
    "    geemap.ee_export_image(pred_prob, filename=class_filename, scale=30, \n",
    "                       region=aoi, file_per_band=False,\n",
    "                       timeout=1200)\n",
    "    #print(\"Class prediction export end\")"
   ]
  },
  {
   "cell_type": "code",
   "execution_count": null,
   "metadata": {
    "colab": {
     "base_uri": "https://localhost:8080/",
     "height": 864,
     "referenced_widgets": [
      "9b7c7c37cb5c4d33a178d19ad43d7848",
      "8a873d84f2b84758a4fc719ee81aace4",
      "e6c43aab0a2f4695997de95947d65c06",
      "034788857bee462d9e2a6c2faebc8855",
      "a9b9d3ff2a514caea7ff2657c9bd2c7d",
      "72bb826ab6e0431ca4537ab7d1462b44",
      "a74cd555df704375b30f9de974906da3",
      "4a00c78afb1b49659cf4852ac61020e0",
      "c1d925c20ebb44aca0eb2feb7102bac5",
      "48bb79c90c784bb2a7eabcb5d33270c7",
      "fb2bb054669142bb859eb5af77b21168"
     ]
    },
    "executionInfo": {
     "elapsed": 43770,
     "status": "error",
     "timestamp": 1675794497029,
     "user": {
      "displayName": "Blair Jones",
      "userId": "11507989587297916179"
     },
     "user_tz": 300
    },
    "id": "hr12p84GjueK",
    "outputId": "51936b14-546d-4f45-b468-761810c07d29"
   },
   "outputs": [],
   "source": [
    "%%time\n",
    "from dateutil.relativedelta import relativedelta\n",
    "# The output from this cell is saved to the local instance under the folder /outputmaps\n",
    "# No tasks are created on GEE\n",
    "\n",
    "retrieval_dates = pd.date_range(startDate,endDate, \n",
    "              freq='MS').strftime(\"%Y-%m-%d\").tolist()\n",
    "\n",
    "#with ee.profilePrinting():\n",
    "if True:\n",
    "    ee.data.setWorkloadTag('hydracarta_export_infer_results')\n",
    "\n",
    "    for start_date in tqdm(retrieval_dates):\n",
    "        start_date_ts = datetime.datetime.strptime(start_date, '%Y-%m-%d')\n",
    "        end_date = start_date_ts + relativedelta(months=1) + timedelta(days=-1)\n",
    "        end_date = end_date.strftime('%Y-%m-%d')\n",
    "\n",
    "        print('Processing', start_date, end_date)\n",
    "        rgb_mosaic, pred_prob, et_data, img_cnt = retrieveRGBandClassPredictions(start_date, end_date)\n",
    "        if img_cnt > 1:\n",
    "            exportImages(rgb_mosaic, pred_prob, start_date, end_date, aoi=aoi.geometry()) # or aoi=Map.user_roi\n",
    "        else:\n",
    "            print('\\tWarning:  Less than two(2) ET images retrieved for period', start_date, end_date)"
   ]
  },
  {
   "cell_type": "code",
   "execution_count": 42,
   "metadata": {},
   "outputs": [
    {
     "data": {
      "text/plain": [
       "'Restart'"
      ]
     },
     "execution_count": 42,
     "metadata": {},
     "output_type": "execute_result"
    }
   ],
   "source": [
    "project_name"
   ]
  },
  {
   "cell_type": "code",
   "execution_count": 41,
   "metadata": {
    "colab": {
     "base_uri": "https://localhost:8080/"
    },
    "executionInfo": {
     "elapsed": 2171,
     "status": "ok",
     "timestamp": 1675724902652,
     "user": {
      "displayName": "Blair Jones",
      "userId": "11507989587297916179"
     },
     "user_tz": 300
    },
    "id": "kdFqAtgUeaZY",
    "outputId": "f94ebf17-f141-4b72-9556-59ffb0166aa0"
   },
   "outputs": [
    {
     "data": {
      "text/plain": [
       "1"
      ]
     },
     "execution_count": 41,
     "metadata": {},
     "output_type": "execute_result"
    }
   ],
   "source": [
    "import subprocess\n",
    "#!gsutil mv *.tif gs://staging_demo/CA_monthly_01\n",
    "run_string = f'gsutil mv ../outputmaps/*.tif gs://staging_demo/{project_name}'\n",
    "subprocess.call(run_string, shell=True)"
   ]
  },
  {
   "cell_type": "markdown",
   "metadata": {
    "id": "f8wBpXal9JJl"
   },
   "source": [
    "Create image collections for each type"
   ]
  },
  {
   "cell_type": "code",
   "execution_count": 43,
   "metadata": {
    "colab": {
     "base_uri": "https://localhost:8080/"
    },
    "executionInfo": {
     "elapsed": 4746,
     "status": "ok",
     "timestamp": 1675724989768,
     "user": {
      "displayName": "Blair Jones",
      "userId": "11507989587297916179"
     },
     "user_tz": 300
    },
    "id": "kJuCKtMid76D",
    "outputId": "6637b345-f6ae-42c7-a56a-1e7e487b65a3"
   },
   "outputs": [
    {
     "data": {
      "text/plain": [
       "0"
      ]
     },
     "execution_count": 43,
     "metadata": {},
     "output_type": "execute_result"
    }
   ],
   "source": [
    "run_string = f'earthengine create collection projects/eda-bjonesneu-proto/assets/irrigation/monthly_classes_{project_name}'\n",
    "subprocess.call(run_string, shell=True)"
   ]
  },
  {
   "cell_type": "code",
   "execution_count": 44,
   "metadata": {
    "colab": {
     "base_uri": "https://localhost:8080/"
    },
    "executionInfo": {
     "elapsed": 4565,
     "status": "ok",
     "timestamp": 1675724996384,
     "user": {
      "displayName": "Blair Jones",
      "userId": "11507989587297916179"
     },
     "user_tz": 300
    },
    "id": "3KUepxHYe_jG",
    "outputId": "1e6dd053-cf7d-4b72-da96-14e354857e34"
   },
   "outputs": [
    {
     "data": {
      "text/plain": [
       "0"
      ]
     },
     "execution_count": 44,
     "metadata": {},
     "output_type": "execute_result"
    }
   ],
   "source": [
    "run_string = f'earthengine create collection projects/eda-bjonesneu-proto/assets/irrigation/monthly_rgb_{project_name}'\n",
    "subprocess.call(run_string, shell=True)"
   ]
  },
  {
   "cell_type": "code",
   "execution_count": 45,
   "metadata": {
    "colab": {
     "base_uri": "https://localhost:8080/"
    },
    "executionInfo": {
     "elapsed": 4349,
     "status": "ok",
     "timestamp": 1675725000731,
     "user": {
      "displayName": "Blair Jones",
      "userId": "11507989587297916179"
     },
     "user_tz": 300
    },
    "id": "xMNQkcF7isEl",
    "outputId": "e8931814-f810-4e1f-d62a-a186f4525c5b"
   },
   "outputs": [
    {
     "name": "stdout",
     "output_type": "stream",
     "text": [
      "projects/eda-bjonesneu-proto/assets/irrigation/classes_col\r\n",
      "projects/eda-bjonesneu-proto/assets/irrigation/labels\r\n",
      "projects/eda-bjonesneu-proto/assets/irrigation/labels_new\r\n",
      "projects/eda-bjonesneu-proto/assets/irrigation/labels_old\r\n",
      "projects/eda-bjonesneu-proto/assets/irrigation/monthly_classes_Clark_Ranch\r\n",
      "projects/eda-bjonesneu-proto/assets/irrigation/monthly_classes_Restart\r\n",
      "projects/eda-bjonesneu-proto/assets/irrigation/monthly_classes_Westwind\r\n",
      "projects/eda-bjonesneu-proto/assets/irrigation/monthly_classes_col_monthly\r\n",
      "projects/eda-bjonesneu-proto/assets/irrigation/monthly_classes_col_monthly_02\r\n",
      "projects/eda-bjonesneu-proto/assets/irrigation/monthly_rgb_Clark_Ranch\r\n",
      "projects/eda-bjonesneu-proto/assets/irrigation/monthly_rgb_Restart\r\n",
      "projects/eda-bjonesneu-proto/assets/irrigation/monthly_rgb_Westwind\r\n",
      "projects/eda-bjonesneu-proto/assets/irrigation/monthly_rgb_col_monthly\r\n",
      "projects/eda-bjonesneu-proto/assets/irrigation/monthly_rgb_col_monthly_02\r\n",
      "projects/eda-bjonesneu-proto/assets/irrigation/rgb_col\r\n"
     ]
    }
   ],
   "source": [
    "!earthengine ls projects/eda-bjonesneu-proto/assets/irrigation"
   ]
  },
  {
   "cell_type": "markdown",
   "metadata": {
    "id": "JQY5l7pi9Cpg"
   },
   "source": [
    "Upload the individual images to each image collection"
   ]
  },
  {
   "cell_type": "code",
   "execution_count": 52,
   "metadata": {
    "executionInfo": {
     "elapsed": 17187,
     "status": "ok",
     "timestamp": 1675725035686,
     "user": {
      "displayName": "Blair Jones",
      "userId": "11507989587297916179"
     },
     "user_tz": 300
    },
    "id": "cUh6X9nqXhiJ"
   },
   "outputs": [
    {
     "name": "stdout",
     "output_type": "stream",
     "text": [
      "<Blob: staging_demo, CA_monthly_01/monthly_classes_2016-03-01_2016-03-31.tif, 1660007854784470>\n",
      "<Blob: staging_demo, CA_monthly_01/monthly_classes_2016-04-01_2016-04-30.tif, 1660007854936408>\n",
      "<Blob: staging_demo, CA_monthly_01/monthly_classes_2016-05-01_2016-05-31.tif, 1660007855100679>\n",
      "<Blob: staging_demo, CA_monthly_01/monthly_classes_2016-06-01_2016-06-30.tif, 1660007855265766>\n",
      "<Blob: staging_demo, CA_monthly_01/monthly_classes_2016-07-01_2016-07-31.tif, 1660007855441392>\n",
      "<Blob: staging_demo, CA_monthly_01/monthly_classes_2016-08-01_2016-08-31.tif, 1660007855635241>\n",
      "<Blob: staging_demo, CA_monthly_01/monthly_classes_2016-09-01_2016-09-30.tif, 1660007855770685>\n",
      "<Blob: staging_demo, CA_monthly_01/monthly_classes_2016-10-01_2016-10-31.tif, 1660007855948929>\n",
      "<Blob: staging_demo, CA_monthly_01/monthly_classes_2016-11-01_2016-11-30.tif, 1660007856116652>\n",
      "<Blob: staging_demo, CA_monthly_01/monthly_classes_2016-12-01_2016-12-31.tif, 1660007856301638>\n",
      "<Blob: staging_demo, CA_monthly_01/monthly_classes_2017-01-01_2017-01-31.tif, 1660007856468634>\n",
      "<Blob: staging_demo, CA_monthly_01/monthly_classes_2017-04-01_2017-04-30.tif, 1660007856633877>\n",
      "<Blob: staging_demo, CA_monthly_01/monthly_classes_2017-05-01_2017-05-31.tif, 1660007856770852>\n",
      "<Blob: staging_demo, CA_monthly_01/monthly_classes_2017-06-01_2017-06-30.tif, 1660007856948000>\n",
      "<Blob: staging_demo, CA_monthly_01/monthly_classes_2017-07-01_2017-07-31.tif, 1660007857085224>\n",
      "<Blob: staging_demo, CA_monthly_01/monthly_classes_2017-08-01_2017-08-31.tif, 1660007857228968>\n",
      "<Blob: staging_demo, CA_monthly_01/monthly_classes_2017-09-01_2017-09-30.tif, 1660007857391858>\n",
      "<Blob: staging_demo, CA_monthly_01/monthly_classes_2017-10-01_2017-10-31.tif, 1660007857564692>\n",
      "<Blob: staging_demo, CA_monthly_01/monthly_classes_2017-11-01_2017-11-30.tif, 1660007857696629>\n",
      "<Blob: staging_demo, CA_monthly_01/monthly_classes_2018-02-01_2018-02-28.tif, 1660007857835437>\n",
      "<Blob: staging_demo, CA_monthly_01/monthly_classes_2018-03-01_2018-03-31.tif, 1660007857997036>\n",
      "<Blob: staging_demo, CA_monthly_01/monthly_classes_2018-04-01_2018-04-30.tif, 1660007858208080>\n",
      "<Blob: staging_demo, CA_monthly_01/monthly_classes_2018-05-01_2018-05-31.tif, 1660007858381785>\n",
      "<Blob: staging_demo, CA_monthly_01/monthly_classes_2018-06-01_2018-06-30.tif, 1660007858561095>\n",
      "<Blob: staging_demo, CA_monthly_01/monthly_classes_2018-07-01_2018-07-31.tif, 1660007858702303>\n",
      "<Blob: staging_demo, CA_monthly_01/monthly_classes_2018-08-01_2018-08-31.tif, 1660007858870980>\n",
      "<Blob: staging_demo, CA_monthly_01/monthly_classes_2018-09-01_2018-09-30.tif, 1660007859007728>\n",
      "<Blob: staging_demo, CA_monthly_01/monthly_classes_2018-10-01_2018-10-31.tif, 1660007859195101>\n",
      "<Blob: staging_demo, CA_monthly_01/monthly_classes_2018-11-01_2018-11-30.tif, 1660007859355182>\n",
      "<Blob: staging_demo, CA_monthly_01/monthly_classes_2018-12-01_2018-12-31.tif, 1660007859538637>\n",
      "<Blob: staging_demo, CA_monthly_01/monthly_classes_2019-04-01_2019-04-30.tif, 1660007859713671>\n",
      "<Blob: staging_demo, CA_monthly_01/monthly_classes_2019-05-01_2019-05-31.tif, 1660007859846533>\n",
      "<Blob: staging_demo, CA_monthly_01/monthly_classes_2019-06-01_2019-06-30.tif, 1660007859990476>\n",
      "<Blob: staging_demo, CA_monthly_01/monthly_classes_2019-07-01_2019-07-31.tif, 1660007860174690>\n",
      "<Blob: staging_demo, CA_monthly_01/monthly_classes_2019-08-01_2019-08-31.tif, 1660007860345497>\n",
      "<Blob: staging_demo, CA_monthly_01/monthly_classes_2019-09-01_2019-09-30.tif, 1660007860518365>\n",
      "<Blob: staging_demo, CA_monthly_01/monthly_classes_2019-10-01_2019-10-31.tif, 1660007860683892>\n",
      "<Blob: staging_demo, CA_monthly_01/monthly_classes_2019-11-01_2019-11-30.tif, 1660007860815429>\n",
      "<Blob: staging_demo, CA_monthly_01/monthly_classes_2020-03-01_2020-03-31.tif, 1660007861015687>\n",
      "<Blob: staging_demo, CA_monthly_01/monthly_classes_2020-04-01_2020-04-30.tif, 1660007861197602>\n",
      "<Blob: staging_demo, CA_monthly_01/monthly_classes_2020-05-01_2020-05-31.tif, 1660007861390813>\n",
      "<Blob: staging_demo, CA_monthly_01/monthly_classes_2020-06-01_2020-06-30.tif, 1660007861527121>\n",
      "<Blob: staging_demo, CA_monthly_01/monthly_classes_2020-07-01_2020-07-31.tif, 1660007861705267>\n",
      "<Blob: staging_demo, CA_monthly_01/monthly_classes_2020-08-01_2020-08-31.tif, 1660007861863729>\n",
      "<Blob: staging_demo, CA_monthly_01/monthly_classes_2020-09-01_2020-09-30.tif, 1660007862016455>\n",
      "<Blob: staging_demo, CA_monthly_01/monthly_classes_2020-10-01_2020-10-31.tif, 1660007862210802>\n",
      "<Blob: staging_demo, CA_monthly_01/monthly_classes_2020-11-01_2020-11-30.tif, 1660007862396704>\n",
      "<Blob: staging_demo, CA_monthly_01/monthly_classes_2021-03-01_2021-03-31.tif, 1660007862554691>\n",
      "<Blob: staging_demo, CA_monthly_01/monthly_classes_2021-04-01_2021-04-30.tif, 1660007862750703>\n",
      "<Blob: staging_demo, CA_monthly_01/monthly_classes_2021-05-01_2021-05-31.tif, 1660007862917644>\n",
      "<Blob: staging_demo, CA_monthly_01/monthly_classes_2021-06-01_2021-06-30.tif, 1660007863102290>\n",
      "<Blob: staging_demo, CA_monthly_01/monthly_classes_2021-07-01_2021-07-31.tif, 1660007863253408>\n",
      "<Blob: staging_demo, CA_monthly_01/monthly_classes_2021-08-01_2021-08-31.tif, 1660007863422517>\n",
      "<Blob: staging_demo, CA_monthly_01/monthly_classes_2021-09-01_2021-09-30.tif, 1660007863582280>\n",
      "<Blob: staging_demo, CA_monthly_01/monthly_classes_2021-11-01_2021-11-30.tif, 1660007863745553>\n",
      "<Blob: staging_demo, CA_monthly_01/monthly_rgb_2016-03-01_2016-03-31.tif, 1660007863893106>\n",
      "<Blob: staging_demo, CA_monthly_01/monthly_rgb_2016-04-01_2016-04-30.tif, 1660007864043895>\n",
      "<Blob: staging_demo, CA_monthly_01/monthly_rgb_2016-05-01_2016-05-31.tif, 1660007864206875>\n",
      "<Blob: staging_demo, CA_monthly_01/monthly_rgb_2016-06-01_2016-06-30.tif, 1660007864362753>\n",
      "<Blob: staging_demo, CA_monthly_01/monthly_rgb_2016-07-01_2016-07-31.tif, 1660007864528078>\n",
      "<Blob: staging_demo, CA_monthly_01/monthly_rgb_2016-08-01_2016-08-31.tif, 1660007864789377>\n",
      "<Blob: staging_demo, CA_monthly_01/monthly_rgb_2016-09-01_2016-09-30.tif, 1660007864948195>\n",
      "<Blob: staging_demo, CA_monthly_01/monthly_rgb_2016-10-01_2016-10-31.tif, 1660007865106029>\n",
      "<Blob: staging_demo, CA_monthly_01/monthly_rgb_2016-11-01_2016-11-30.tif, 1660007865312100>\n",
      "<Blob: staging_demo, CA_monthly_01/monthly_rgb_2016-12-01_2016-12-31.tif, 1660007865506000>\n",
      "<Blob: staging_demo, CA_monthly_01/monthly_rgb_2017-01-01_2017-01-31.tif, 1660007865667282>\n",
      "<Blob: staging_demo, CA_monthly_01/monthly_rgb_2017-04-01_2017-04-30.tif, 1660007865819218>\n",
      "<Blob: staging_demo, CA_monthly_01/monthly_rgb_2017-05-01_2017-05-31.tif, 1660007865976247>\n",
      "<Blob: staging_demo, CA_monthly_01/monthly_rgb_2017-06-01_2017-06-30.tif, 1660007866137067>\n",
      "<Blob: staging_demo, CA_monthly_01/monthly_rgb_2017-07-01_2017-07-31.tif, 1660007866289015>\n",
      "<Blob: staging_demo, CA_monthly_01/monthly_rgb_2017-08-01_2017-08-31.tif, 1660007866451318>\n",
      "<Blob: staging_demo, CA_monthly_01/monthly_rgb_2017-09-01_2017-09-30.tif, 1660007866600932>\n",
      "<Blob: staging_demo, CA_monthly_01/monthly_rgb_2017-10-01_2017-10-31.tif, 1660007866744361>\n",
      "<Blob: staging_demo, CA_monthly_01/monthly_rgb_2017-11-01_2017-11-30.tif, 1660007866933692>\n",
      "<Blob: staging_demo, CA_monthly_01/monthly_rgb_2018-02-01_2018-02-28.tif, 1660007867091878>\n",
      "<Blob: staging_demo, CA_monthly_01/monthly_rgb_2018-03-01_2018-03-31.tif, 1660007867308095>\n",
      "<Blob: staging_demo, CA_monthly_01/monthly_rgb_2018-04-01_2018-04-30.tif, 1660007867464404>\n",
      "<Blob: staging_demo, CA_monthly_01/monthly_rgb_2018-05-01_2018-05-31.tif, 1660007867628875>\n",
      "<Blob: staging_demo, CA_monthly_01/monthly_rgb_2018-06-01_2018-06-30.tif, 1660007867772881>\n",
      "<Blob: staging_demo, CA_monthly_01/monthly_rgb_2018-07-01_2018-07-31.tif, 1660007867923798>\n",
      "<Blob: staging_demo, CA_monthly_01/monthly_rgb_2018-08-01_2018-08-31.tif, 1660007868071409>\n",
      "<Blob: staging_demo, CA_monthly_01/monthly_rgb_2018-09-01_2018-09-30.tif, 1660007868225706>\n",
      "<Blob: staging_demo, CA_monthly_01/monthly_rgb_2018-10-01_2018-10-31.tif, 1660007868368139>\n",
      "<Blob: staging_demo, CA_monthly_01/monthly_rgb_2018-11-01_2018-11-30.tif, 1660007868514444>\n",
      "<Blob: staging_demo, CA_monthly_01/monthly_rgb_2018-12-01_2018-12-31.tif, 1660007868691410>\n",
      "<Blob: staging_demo, CA_monthly_01/monthly_rgb_2019-04-01_2019-04-30.tif, 1660007868861299>\n",
      "<Blob: staging_demo, CA_monthly_01/monthly_rgb_2019-05-01_2019-05-31.tif, 1660007869010670>\n",
      "<Blob: staging_demo, CA_monthly_01/monthly_rgb_2019-06-01_2019-06-30.tif, 1660007869160738>\n",
      "<Blob: staging_demo, CA_monthly_01/monthly_rgb_2019-07-01_2019-07-31.tif, 1660007869307827>\n",
      "<Blob: staging_demo, CA_monthly_01/monthly_rgb_2019-08-01_2019-08-31.tif, 1660007869456671>\n",
      "<Blob: staging_demo, CA_monthly_01/monthly_rgb_2019-09-01_2019-09-30.tif, 1660007869617820>\n",
      "<Blob: staging_demo, CA_monthly_01/monthly_rgb_2019-10-01_2019-10-31.tif, 1660007869766784>\n",
      "<Blob: staging_demo, CA_monthly_01/monthly_rgb_2019-11-01_2019-11-30.tif, 1660007869913711>\n",
      "<Blob: staging_demo, CA_monthly_01/monthly_rgb_2020-03-01_2020-03-31.tif, 1660007870107722>\n",
      "<Blob: staging_demo, CA_monthly_01/monthly_rgb_2020-04-01_2020-04-30.tif, 1660007870249944>\n",
      "<Blob: staging_demo, CA_monthly_01/monthly_rgb_2020-05-01_2020-05-31.tif, 1660007870421561>\n",
      "<Blob: staging_demo, CA_monthly_01/monthly_rgb_2020-06-01_2020-06-30.tif, 1660007870574585>\n",
      "<Blob: staging_demo, CA_monthly_01/monthly_rgb_2020-07-01_2020-07-31.tif, 1660007870777043>\n",
      "<Blob: staging_demo, CA_monthly_01/monthly_rgb_2020-08-01_2020-08-31.tif, 1660007870944086>\n",
      "<Blob: staging_demo, CA_monthly_01/monthly_rgb_2020-09-01_2020-09-30.tif, 1660007871098710>\n",
      "<Blob: staging_demo, CA_monthly_01/monthly_rgb_2020-10-01_2020-10-31.tif, 1660007871255977>\n",
      "<Blob: staging_demo, CA_monthly_01/monthly_rgb_2020-11-01_2020-11-30.tif, 1660007871408115>\n",
      "<Blob: staging_demo, CA_monthly_01/monthly_rgb_2021-03-01_2021-03-31.tif, 1660007871556201>\n",
      "<Blob: staging_demo, CA_monthly_01/monthly_rgb_2021-04-01_2021-04-30.tif, 1660007871701072>\n",
      "<Blob: staging_demo, CA_monthly_01/monthly_rgb_2021-05-01_2021-05-31.tif, 1660007871866551>\n",
      "<Blob: staging_demo, CA_monthly_01/monthly_rgb_2021-06-01_2021-06-30.tif, 1660007872047393>\n",
      "<Blob: staging_demo, CA_monthly_01/monthly_rgb_2021-07-01_2021-07-31.tif, 1660007872190915>\n",
      "<Blob: staging_demo, CA_monthly_01/monthly_rgb_2021-08-01_2021-08-31.tif, 1660007872332502>\n",
      "<Blob: staging_demo, CA_monthly_01/monthly_rgb_2021-09-01_2021-09-30.tif, 1660007872517711>\n",
      "<Blob: staging_demo, CA_monthly_01/monthly_rgb_2021-11-01_2021-11-30.tif, 1660007872676353>\n",
      "<Blob: staging_demo, CA_monthly_02/monthly_classes_2016-03-01_2016-03-31.tif, 1660855813042883>\n",
      "<Blob: staging_demo, CA_monthly_02/monthly_classes_2016-04-01_2016-04-30.tif, 1660855813193855>\n",
      "<Blob: staging_demo, CA_monthly_02/monthly_classes_2016-05-01_2016-05-31.tif, 1660855813367328>\n",
      "<Blob: staging_demo, CA_monthly_02/monthly_classes_2016-06-01_2016-06-30.tif, 1660855813515679>\n",
      "<Blob: staging_demo, CA_monthly_02/monthly_classes_2016-07-01_2016-07-31.tif, 1660855813696884>\n",
      "<Blob: staging_demo, CA_monthly_02/monthly_classes_2016-08-01_2016-08-31.tif, 1660855813834396>\n",
      "<Blob: staging_demo, CA_monthly_02/monthly_classes_2016-09-01_2016-09-30.tif, 1660855813984900>\n",
      "<Blob: staging_demo, CA_monthly_02/monthly_classes_2016-10-01_2016-10-31.tif, 1660855814122857>\n",
      "<Blob: staging_demo, CA_monthly_02/monthly_classes_2016-11-01_2016-11-30.tif, 1660855814270735>\n",
      "<Blob: staging_demo, CA_monthly_02/monthly_classes_2016-12-01_2016-12-31.tif, 1660855814462696>\n",
      "<Blob: staging_demo, CA_monthly_02/monthly_classes_2017-01-01_2017-01-31.tif, 1660855814617104>\n",
      "<Blob: staging_demo, CA_monthly_02/monthly_classes_2017-04-01_2017-04-30.tif, 1660855814809086>\n",
      "<Blob: staging_demo, CA_monthly_02/monthly_classes_2017-05-01_2017-05-31.tif, 1660855814984698>\n",
      "<Blob: staging_demo, CA_monthly_02/monthly_classes_2017-06-01_2017-06-30.tif, 1660855815124214>\n",
      "<Blob: staging_demo, CA_monthly_02/monthly_classes_2017-07-01_2017-07-31.tif, 1660855815319126>\n",
      "<Blob: staging_demo, CA_monthly_02/monthly_classes_2017-08-01_2017-08-31.tif, 1660855815484508>\n",
      "<Blob: staging_demo, CA_monthly_02/monthly_classes_2017-09-01_2017-09-30.tif, 1660855815639904>\n",
      "<Blob: staging_demo, CA_monthly_02/monthly_classes_2017-10-01_2017-10-31.tif, 1660855815789366>\n",
      "<Blob: staging_demo, CA_monthly_02/monthly_classes_2017-11-01_2017-11-30.tif, 1660855815962924>\n",
      "<Blob: staging_demo, CA_monthly_02/monthly_classes_2018-02-01_2018-02-28.tif, 1660855816121686>\n",
      "<Blob: staging_demo, CA_monthly_02/monthly_classes_2018-03-01_2018-03-31.tif, 1660855816311775>\n",
      "<Blob: staging_demo, CA_monthly_02/monthly_classes_2018-04-01_2018-04-30.tif, 1660855816466317>\n",
      "<Blob: staging_demo, CA_monthly_02/monthly_classes_2018-05-01_2018-05-31.tif, 1660855816609104>\n",
      "<Blob: staging_demo, CA_monthly_02/monthly_classes_2018-06-01_2018-06-30.tif, 1660855816742726>\n",
      "<Blob: staging_demo, CA_monthly_02/monthly_classes_2018-07-01_2018-07-31.tif, 1660855816884764>\n",
      "<Blob: staging_demo, CA_monthly_02/monthly_classes_2018-08-01_2018-08-31.tif, 1660855817036469>\n",
      "<Blob: staging_demo, CA_monthly_02/monthly_classes_2018-09-01_2018-09-30.tif, 1660855817210109>\n",
      "<Blob: staging_demo, CA_monthly_02/monthly_classes_2018-10-01_2018-10-31.tif, 1660855817341587>\n",
      "<Blob: staging_demo, CA_monthly_02/monthly_classes_2018-11-01_2018-11-30.tif, 1660855817492603>\n",
      "<Blob: staging_demo, CA_monthly_02/monthly_classes_2018-12-01_2018-12-31.tif, 1660855817651945>\n",
      "<Blob: staging_demo, CA_monthly_02/monthly_classes_2019-04-01_2019-04-30.tif, 1660855817810686>\n",
      "<Blob: staging_demo, CA_monthly_02/monthly_classes_2019-05-01_2019-05-31.tif, 1660855817944267>\n",
      "<Blob: staging_demo, CA_monthly_02/monthly_classes_2019-06-01_2019-06-30.tif, 1660855818114750>\n",
      "<Blob: staging_demo, CA_monthly_02/monthly_classes_2019-07-01_2019-07-31.tif, 1660855818276098>\n",
      "<Blob: staging_demo, CA_monthly_02/monthly_classes_2019-08-01_2019-08-31.tif, 1660855818441650>\n",
      "<Blob: staging_demo, CA_monthly_02/monthly_classes_2019-09-01_2019-09-30.tif, 1660855818599486>\n",
      "<Blob: staging_demo, CA_monthly_02/monthly_classes_2019-10-01_2019-10-31.tif, 1660855818774514>\n",
      "<Blob: staging_demo, CA_monthly_02/monthly_classes_2019-11-01_2019-11-30.tif, 1660855818894618>\n",
      "<Blob: staging_demo, CA_monthly_02/monthly_classes_2020-02-01_2020-02-29.tif, 1675721164399345>\n",
      "<Blob: staging_demo, CA_monthly_02/monthly_classes_2020-03-01_2020-03-31.tif, 1675721164558555>\n",
      "<Blob: staging_demo, CA_monthly_02/monthly_classes_2020-04-01_2020-04-30.tif, 1660855819237881>\n",
      "<Blob: staging_demo, CA_monthly_02/monthly_classes_2020-05-01_2020-05-31.tif, 1675721164757429>\n",
      "<Blob: staging_demo, CA_monthly_02/monthly_classes_2020-06-01_2020-06-30.tif, 1675721164928126>\n",
      "<Blob: staging_demo, CA_monthly_02/monthly_classes_2020-07-01_2020-07-31.tif, 1675721165113102>\n",
      "<Blob: staging_demo, CA_monthly_02/monthly_classes_2020-08-01_2020-08-31.tif, 1675721165290471>\n",
      "<Blob: staging_demo, CA_monthly_02/monthly_classes_2020-09-01_2020-09-30.tif, 1675721165466953>\n",
      "<Blob: staging_demo, CA_monthly_02/monthly_classes_2020-10-01_2020-10-31.tif, 1675721165645640>\n",
      "<Blob: staging_demo, CA_monthly_02/monthly_classes_2020-11-01_2020-11-30.tif, 1660855820369571>\n",
      "<Blob: staging_demo, CA_monthly_02/monthly_rgb_2016-03-01_2016-03-31.tif, 1660855820537249>\n",
      "<Blob: staging_demo, CA_monthly_02/monthly_rgb_2016-04-01_2016-04-30.tif, 1660855820715262>\n",
      "<Blob: staging_demo, CA_monthly_02/monthly_rgb_2016-05-01_2016-05-31.tif, 1660855820877752>\n",
      "<Blob: staging_demo, CA_monthly_02/monthly_rgb_2016-06-01_2016-06-30.tif, 1660855821061835>\n",
      "<Blob: staging_demo, CA_monthly_02/monthly_rgb_2016-07-01_2016-07-31.tif, 1660855821228979>\n",
      "<Blob: staging_demo, CA_monthly_02/monthly_rgb_2016-08-01_2016-08-31.tif, 1660855821383019>\n",
      "<Blob: staging_demo, CA_monthly_02/monthly_rgb_2016-09-01_2016-09-30.tif, 1660855821540735>\n",
      "<Blob: staging_demo, CA_monthly_02/monthly_rgb_2016-10-01_2016-10-31.tif, 1660855821698285>\n",
      "<Blob: staging_demo, CA_monthly_02/monthly_rgb_2016-11-01_2016-11-30.tif, 1660855821843437>\n",
      "<Blob: staging_demo, CA_monthly_02/monthly_rgb_2016-12-01_2016-12-31.tif, 1660855821992106>\n",
      "<Blob: staging_demo, CA_monthly_02/monthly_rgb_2017-01-01_2017-01-31.tif, 1660855822162035>\n",
      "<Blob: staging_demo, CA_monthly_02/monthly_rgb_2017-04-01_2017-04-30.tif, 1660855822341030>\n",
      "<Blob: staging_demo, CA_monthly_02/monthly_rgb_2017-05-01_2017-05-31.tif, 1660855822501790>\n",
      "<Blob: staging_demo, CA_monthly_02/monthly_rgb_2017-06-01_2017-06-30.tif, 1660855822649996>\n",
      "<Blob: staging_demo, CA_monthly_02/monthly_rgb_2017-07-01_2017-07-31.tif, 1660855822810246>\n",
      "<Blob: staging_demo, CA_monthly_02/monthly_rgb_2017-08-01_2017-08-31.tif, 1660855823013680>\n",
      "<Blob: staging_demo, CA_monthly_02/monthly_rgb_2017-09-01_2017-09-30.tif, 1660855823219744>\n",
      "<Blob: staging_demo, CA_monthly_02/monthly_rgb_2017-10-01_2017-10-31.tif, 1660855823363850>\n",
      "<Blob: staging_demo, CA_monthly_02/monthly_rgb_2017-11-01_2017-11-30.tif, 1660855823514578>\n",
      "<Blob: staging_demo, CA_monthly_02/monthly_rgb_2018-02-01_2018-02-28.tif, 1660855823673057>\n",
      "<Blob: staging_demo, CA_monthly_02/monthly_rgb_2018-03-01_2018-03-31.tif, 1660855823823710>\n",
      "<Blob: staging_demo, CA_monthly_02/monthly_rgb_2018-04-01_2018-04-30.tif, 1660855823992504>\n",
      "<Blob: staging_demo, CA_monthly_02/monthly_rgb_2018-05-01_2018-05-31.tif, 1660855824164026>\n",
      "<Blob: staging_demo, CA_monthly_02/monthly_rgb_2018-06-01_2018-06-30.tif, 1660855824333558>\n",
      "<Blob: staging_demo, CA_monthly_02/monthly_rgb_2018-07-01_2018-07-31.tif, 1660855824532044>\n",
      "<Blob: staging_demo, CA_monthly_02/monthly_rgb_2018-08-01_2018-08-31.tif, 1660855824688621>\n",
      "<Blob: staging_demo, CA_monthly_02/monthly_rgb_2018-09-01_2018-09-30.tif, 1660855824841125>\n",
      "<Blob: staging_demo, CA_monthly_02/monthly_rgb_2018-10-01_2018-10-31.tif, 1660855825003107>\n",
      "<Blob: staging_demo, CA_monthly_02/monthly_rgb_2018-11-01_2018-11-30.tif, 1660855825155908>\n",
      "<Blob: staging_demo, CA_monthly_02/monthly_rgb_2018-12-01_2018-12-31.tif, 1660855825310514>\n",
      "<Blob: staging_demo, CA_monthly_02/monthly_rgb_2019-04-01_2019-04-30.tif, 1660855825472299>\n",
      "<Blob: staging_demo, CA_monthly_02/monthly_rgb_2019-05-01_2019-05-31.tif, 1660855825664098>\n",
      "<Blob: staging_demo, CA_monthly_02/monthly_rgb_2019-06-01_2019-06-30.tif, 1660855825829295>\n",
      "<Blob: staging_demo, CA_monthly_02/monthly_rgb_2019-07-01_2019-07-31.tif, 1660855825967371>\n",
      "<Blob: staging_demo, CA_monthly_02/monthly_rgb_2019-08-01_2019-08-31.tif, 1660855826115748>\n",
      "<Blob: staging_demo, CA_monthly_02/monthly_rgb_2019-09-01_2019-09-30.tif, 1660855826296099>\n",
      "<Blob: staging_demo, CA_monthly_02/monthly_rgb_2019-10-01_2019-10-31.tif, 1660855826451356>\n",
      "<Blob: staging_demo, CA_monthly_02/monthly_rgb_2019-11-01_2019-11-30.tif, 1660855826592162>\n",
      "<Blob: staging_demo, CA_monthly_02/monthly_rgb_2020-02-01_2020-02-29.tif, 1675721165831757>\n",
      "<Blob: staging_demo, CA_monthly_02/monthly_rgb_2020-03-01_2020-03-31.tif, 1675721165957514>\n",
      "<Blob: staging_demo, CA_monthly_02/monthly_rgb_2020-04-01_2020-04-30.tif, 1660855826891923>\n",
      "<Blob: staging_demo, CA_monthly_02/monthly_rgb_2020-05-01_2020-05-31.tif, 1675721166145589>\n",
      "<Blob: staging_demo, CA_monthly_02/monthly_rgb_2020-06-01_2020-06-30.tif, 1675721166314433>\n",
      "<Blob: staging_demo, CA_monthly_02/monthly_rgb_2020-07-01_2020-07-31.tif, 1675721166503946>\n",
      "<Blob: staging_demo, CA_monthly_02/monthly_rgb_2020-08-01_2020-08-31.tif, 1675721166681402>\n",
      "<Blob: staging_demo, CA_monthly_02/monthly_rgb_2020-09-01_2020-09-30.tif, 1675721166861964>\n",
      "<Blob: staging_demo, CA_monthly_02/monthly_rgb_2020-10-01_2020-10-31.tif, 1675721167035173>\n",
      "<Blob: staging_demo, CA_monthly_02/monthly_rgb_2020-11-01_2020-11-30.tif, 1660855827968671>\n",
      "<Blob: staging_demo, Clark_Ranch/monthly_classes_2020-02-01_2020-02-29.tif, 1675722077814165>\n",
      "<Blob: staging_demo, Clark_Ranch/monthly_classes_2020-03-01_2020-03-31.tif, 1675722077953438>\n",
      "<Blob: staging_demo, Clark_Ranch/monthly_classes_2020-05-01_2020-05-31.tif, 1675722078086485>\n",
      "<Blob: staging_demo, Clark_Ranch/monthly_classes_2020-06-01_2020-06-30.tif, 1675722078215279>\n",
      "<Blob: staging_demo, Clark_Ranch/monthly_classes_2020-07-01_2020-07-31.tif, 1675722078342486>\n",
      "<Blob: staging_demo, Clark_Ranch/monthly_classes_2020-08-01_2020-08-31.tif, 1675722078467112>\n",
      "<Blob: staging_demo, Clark_Ranch/monthly_classes_2020-09-01_2020-09-30.tif, 1675722078586346>\n",
      "<Blob: staging_demo, Clark_Ranch/monthly_classes_2020-10-01_2020-10-31.tif, 1675722078716331>\n",
      "<Blob: staging_demo, Clark_Ranch/monthly_rgb_2020-02-01_2020-02-29.tif, 1675722078843885>\n",
      "<Blob: staging_demo, Clark_Ranch/monthly_rgb_2020-03-01_2020-03-31.tif, 1675722078972255>\n",
      "<Blob: staging_demo, Clark_Ranch/monthly_rgb_2020-05-01_2020-05-31.tif, 1675722079125020>\n",
      "<Blob: staging_demo, Clark_Ranch/monthly_rgb_2020-06-01_2020-06-30.tif, 1675722079252034>\n",
      "<Blob: staging_demo, Clark_Ranch/monthly_rgb_2020-07-01_2020-07-31.tif, 1675722079374100>\n",
      "<Blob: staging_demo, Clark_Ranch/monthly_rgb_2020-08-01_2020-08-31.tif, 1675722079497551>\n",
      "<Blob: staging_demo, Clark_Ranch/monthly_rgb_2020-09-01_2020-09-30.tif, 1675722079631114>\n",
      "<Blob: staging_demo, Clark_Ranch/monthly_rgb_2020-10-01_2020-10-31.tif, 1675722079750778>\n",
      "<Blob: staging_demo, Restart/, 1695734227836953>\n",
      "processing Restart/\n",
      "Restart/\n",
      "<Blob: staging_demo, Restart/monthly_classes_2021-08-01_2021-08-31.tif, 1695735162322929>\n",
      "processing Restart/monthly_classes_2021-08-01_2021-08-31.tif\n",
      "Restart/monthly_classes_2021-08-01_2021-08-31.tif\n",
      "processing Restart/monthly_classes_2021-08-01_2021-08-31.tif\n"
     ]
    },
    {
     "name": "stdout",
     "output_type": "stream",
     "text": [
      "<Blob: staging_demo, Restart/monthly_classes_2021-09-01_2021-09-30.tif, 1695735201789861>\n",
      "processing Restart/monthly_classes_2021-09-01_2021-09-30.tif\n",
      "Restart/monthly_classes_2021-09-01_2021-09-30.tif\n",
      "processing Restart/monthly_classes_2021-09-01_2021-09-30.tif\n",
      "<Blob: staging_demo, Restart/monthly_classes_2021-10-01_2021-10-31.tif, 1695735211143185>\n",
      "processing Restart/monthly_classes_2021-10-01_2021-10-31.tif\n",
      "Restart/monthly_classes_2021-10-01_2021-10-31.tif\n",
      "processing Restart/monthly_classes_2021-10-01_2021-10-31.tif\n",
      "<Blob: staging_demo, Restart/monthly_classes_2021-11-01_2021-11-30.tif, 1695735220389022>\n",
      "processing Restart/monthly_classes_2021-11-01_2021-11-30.tif\n",
      "Restart/monthly_classes_2021-11-01_2021-11-30.tif\n",
      "processing Restart/monthly_classes_2021-11-01_2021-11-30.tif\n",
      "<Blob: staging_demo, Restart/monthly_rgb_2021-08-01_2021-08-31.tif, 1695735229507121>\n",
      "processing Restart/monthly_rgb_2021-08-01_2021-08-31.tif\n",
      "Restart/monthly_rgb_2021-08-01_2021-08-31.tif\n",
      "processing Restart/monthly_rgb_2021-08-01_2021-08-31.tif\n",
      "<Blob: staging_demo, Restart/monthly_rgb_2021-09-01_2021-09-30.tif, 1695735236609354>\n",
      "processing Restart/monthly_rgb_2021-09-01_2021-09-30.tif\n",
      "Restart/monthly_rgb_2021-09-01_2021-09-30.tif\n",
      "processing Restart/monthly_rgb_2021-09-01_2021-09-30.tif\n",
      "<Blob: staging_demo, Restart/monthly_rgb_2021-10-01_2021-10-31.tif, 1695735244442120>\n",
      "processing Restart/monthly_rgb_2021-10-01_2021-10-31.tif\n",
      "Restart/monthly_rgb_2021-10-01_2021-10-31.tif\n",
      "processing Restart/monthly_rgb_2021-10-01_2021-10-31.tif\n",
      "<Blob: staging_demo, Restart/monthly_rgb_2021-11-01_2021-11-30.tif, 1695735251285042>\n",
      "processing Restart/monthly_rgb_2021-11-01_2021-11-30.tif\n",
      "Restart/monthly_rgb_2021-11-01_2021-11-30.tif\n",
      "processing Restart/monthly_rgb_2021-11-01_2021-11-30.tif\n",
      "<Blob: staging_demo, Westwind/monthly_classes_2021-08-01_2021-08-31.tif, 1675724901827045>\n",
      "<Blob: staging_demo, Westwind/monthly_classes_2021-09-01_2021-09-30.tif, 1675724901979394>\n",
      "<Blob: staging_demo, Westwind/monthly_rgb_2021-08-01_2021-08-31.tif, 1675724902118361>\n",
      "<Blob: staging_demo, Westwind/monthly_rgb_2021-09-01_2021-09-30.tif, 1675724902247631>\n",
      "<Blob: staging_demo, hydracarta_demo_2022_06/, 1659529631289289>\n",
      "<Blob: staging_demo, hydracarta_demo_2022_06/classes_2016-02-01_2016-02-29.tif, 1659529655773349>\n",
      "<Blob: staging_demo, hydracarta_demo_2022_06/classes_2016-03-01_2016-03-31.tif, 1659529656174448>\n",
      "<Blob: staging_demo, hydracarta_demo_2022_06/classes_2016-04-01_2016-04-30.tif, 1659529656475236>\n",
      "<Blob: staging_demo, hydracarta_demo_2022_06/classes_2016-05-01_2016-05-31.tif, 1659529656789502>\n",
      "<Blob: staging_demo, hydracarta_demo_2022_06/classes_2016-07-01_2016-07-31.tif, 1659529657113322>\n",
      "<Blob: staging_demo, hydracarta_demo_2022_06/classes_2016-10-01_2016-10-31.tif, 1659529657501011>\n",
      "<Blob: staging_demo, hydracarta_demo_2022_06/classes_2016-11-01_2016-11-30.tif, 1659529657809213>\n",
      "<Blob: staging_demo, hydracarta_demo_2022_06/classes_2016-12-01_2016-12-31.tif, 1659529658117265>\n",
      "<Blob: staging_demo, hydracarta_demo_2022_06/classes_2017-01-01_2017-01-31.tif, 1659529658422442>\n",
      "<Blob: staging_demo, hydracarta_demo_2022_06/classes_2017-02-01_2017-02-28.tif, 1659529658756965>\n",
      "<Blob: staging_demo, hydracarta_demo_2022_06/classes_2017-03-01_2017-03-31.tif, 1659529659051334>\n",
      "<Blob: staging_demo, hydracarta_demo_2022_06/classes_2017-04-01_2017-04-30.tif, 1659529659349935>\n",
      "<Blob: staging_demo, hydracarta_demo_2022_06/classes_2017-05-01_2017-05-31.tif, 1659529659658177>\n",
      "<Blob: staging_demo, hydracarta_demo_2022_06/classes_2017-06-01_2017-06-30.tif, 1659529659968580>\n",
      "<Blob: staging_demo, hydracarta_demo_2022_06/classes_2017-07-01_2017-07-31.tif, 1659529660273591>\n",
      "<Blob: staging_demo, hydracarta_demo_2022_06/classes_2017-08-01_2017-08-31.tif, 1659529660574137>\n",
      "<Blob: staging_demo, hydracarta_demo_2022_06/classes_2017-11-01_2017-11-30.tif, 1659529660881625>\n",
      "<Blob: staging_demo, hydracarta_demo_2022_06/classes_2017-12-01_2017-12-31.tif, 1659529661185961>\n",
      "<Blob: staging_demo, hydracarta_demo_2022_06/classes_2018-01-01_2018-01-31.tif, 1659529661506415>\n",
      "<Blob: staging_demo, hydracarta_demo_2022_06/classes_2018-02-01_2018-02-28.tif, 1659529661810202>\n",
      "<Blob: staging_demo, hydracarta_demo_2022_06/classes_2018-03-01_2018-03-31.tif, 1659529662091277>\n",
      "<Blob: staging_demo, hydracarta_demo_2022_06/classes_2018-04-01_2018-04-30.tif, 1659529662411180>\n",
      "<Blob: staging_demo, hydracarta_demo_2022_06/classes_2018-05-01_2018-05-31.tif, 1659529662721009>\n",
      "<Blob: staging_demo, hydracarta_demo_2022_06/classes_2018-08-01_2018-08-31.tif, 1659529663027630>\n",
      "<Blob: staging_demo, hydracarta_demo_2022_06/classes_2018-10-01_2018-10-31.tif, 1659529663521746>\n",
      "<Blob: staging_demo, hydracarta_demo_2022_06/classes_2018-11-01_2018-11-30.tif, 1659529663829693>\n",
      "<Blob: staging_demo, hydracarta_demo_2022_06/classes_2018-12-01_2018-12-31.tif, 1659529664104362>\n",
      "<Blob: staging_demo, hydracarta_demo_2022_06/classes_2019-01-01_2019-01-31.tif, 1659529664404553>\n",
      "<Blob: staging_demo, hydracarta_demo_2022_06/classes_2019-02-01_2019-02-28.tif, 1659529664697841>\n",
      "<Blob: staging_demo, hydracarta_demo_2022_06/classes_2019-03-01_2019-03-31.tif, 1659529665002380>\n",
      "<Blob: staging_demo, hydracarta_demo_2022_06/classes_2019-04-01_2019-04-30.tif, 1659529665322041>\n",
      "<Blob: staging_demo, hydracarta_demo_2022_06/classes_2019-05-01_2019-05-31.tif, 1659529665614261>\n",
      "<Blob: staging_demo, hydracarta_demo_2022_06/classes_2019-06-01_2019-06-30.tif, 1659529665917136>\n",
      "<Blob: staging_demo, hydracarta_demo_2022_06/classes_2019-09-01_2019-09-30.tif, 1659529666212469>\n",
      "<Blob: staging_demo, hydracarta_demo_2022_06/classes_2019-11-01_2019-11-30.tif, 1659529666506938>\n",
      "<Blob: staging_demo, hydracarta_demo_2022_06/classes_2019-12-01_2019-12-31.tif, 1659529666874325>\n",
      "<Blob: staging_demo, hydracarta_demo_2022_06/classes_2020-01-01_2020-01-31.tif, 1659529667173028>\n",
      "<Blob: staging_demo, hydracarta_demo_2022_06/classes_2020-02-01_2020-02-29.tif, 1659529667463839>\n",
      "<Blob: staging_demo, hydracarta_demo_2022_06/classes_2020-03-01_2020-03-31.tif, 1659529667798069>\n",
      "<Blob: staging_demo, hydracarta_demo_2022_06/classes_2020-04-01_2020-04-30.tif, 1659529668092440>\n",
      "<Blob: staging_demo, hydracarta_demo_2022_06/classes_2020-06-01_2020-06-30.tif, 1659529668429520>\n",
      "<Blob: staging_demo, hydracarta_demo_2022_06/classes_2020-11-01_2020-11-30.tif, 1659529668725037>\n",
      "<Blob: staging_demo, hydracarta_demo_2022_06/classes_2020-12-01_2020-12-31.tif, 1659529669012699>\n",
      "<Blob: staging_demo, hydracarta_demo_2022_06/classes_2021-01-01_2021-01-31.tif, 1659529669324758>\n",
      "<Blob: staging_demo, hydracarta_demo_2022_06/classes_2021-02-01_2021-02-28.tif, 1659529669602567>\n",
      "<Blob: staging_demo, hydracarta_demo_2022_06/classes_2021-03-01_2021-03-31.tif, 1659529669891665>\n",
      "<Blob: staging_demo, hydracarta_demo_2022_06/classes_2021-04-01_2021-04-30.tif, 1659529670175268>\n",
      "<Blob: staging_demo, hydracarta_demo_2022_06/classes_2021-07-01_2021-07-31.tif, 1659529670477984>\n",
      "<Blob: staging_demo, hydracarta_demo_2022_06/classes_2021-09-01_2021-09-30.tif, 1659529670768628>\n",
      "<Blob: staging_demo, hydracarta_demo_2022_06/classes_2021-10-01_2021-10-31.tif, 1659529671072910>\n",
      "<Blob: staging_demo, hydracarta_demo_2022_06/classes_2021-11-01_2021-11-30.tif, 1659529671383503>\n",
      "<Blob: staging_demo, hydracarta_demo_2022_06/classes_2021-12-01_2021-12-31.tif, 1659529671688892>\n",
      "<Blob: staging_demo, hydracarta_demo_2022_06/rgb_2016-02-01_2016-02-29.tif, 1659529671992841>\n",
      "<Blob: staging_demo, hydracarta_demo_2022_06/rgb_2016-03-01_2016-03-31.tif, 1659529672282792>\n",
      "<Blob: staging_demo, hydracarta_demo_2022_06/rgb_2016-04-01_2016-04-30.tif, 1659529672571500>\n",
      "<Blob: staging_demo, hydracarta_demo_2022_06/rgb_2016-05-01_2016-05-31.tif, 1659529672879253>\n",
      "<Blob: staging_demo, hydracarta_demo_2022_06/rgb_2016-06-01_2016-06-30.tif, 1659529673182224>\n",
      "<Blob: staging_demo, hydracarta_demo_2022_06/rgb_2016-07-01_2016-07-31.tif, 1659529673479676>\n",
      "<Blob: staging_demo, hydracarta_demo_2022_06/rgb_2016-08-01_2016-08-31.tif, 1659529673811483>\n",
      "<Blob: staging_demo, hydracarta_demo_2022_06/rgb_2016-09-01_2016-09-30.tif, 1659529674095685>\n",
      "<Blob: staging_demo, hydracarta_demo_2022_06/rgb_2016-10-01_2016-10-31.tif, 1659529674387283>\n",
      "<Blob: staging_demo, hydracarta_demo_2022_06/rgb_2016-11-01_2016-11-30.tif, 1659529674674640>\n",
      "<Blob: staging_demo, hydracarta_demo_2022_06/rgb_2016-12-01_2016-12-31.tif, 1659529674965469>\n",
      "<Blob: staging_demo, hydracarta_demo_2022_06/rgb_2017-01-01_2017-01-31.tif, 1659529675255835>\n",
      "<Blob: staging_demo, hydracarta_demo_2022_06/rgb_2017-02-01_2017-02-28.tif, 1659529675560407>\n",
      "<Blob: staging_demo, hydracarta_demo_2022_06/rgb_2017-03-01_2017-03-31.tif, 1659529675847188>\n",
      "<Blob: staging_demo, hydracarta_demo_2022_06/rgb_2017-04-01_2017-04-30.tif, 1659529676148049>\n",
      "<Blob: staging_demo, hydracarta_demo_2022_06/rgb_2017-05-01_2017-05-31.tif, 1659529676449870>\n",
      "<Blob: staging_demo, hydracarta_demo_2022_06/rgb_2017-06-01_2017-06-30.tif, 1659529676752462>\n",
      "<Blob: staging_demo, hydracarta_demo_2022_06/rgb_2017-07-01_2017-07-31.tif, 1659529677044577>\n",
      "<Blob: staging_demo, hydracarta_demo_2022_06/rgb_2017-08-01_2017-08-31.tif, 1659529677334752>\n",
      "<Blob: staging_demo, hydracarta_demo_2022_06/rgb_2017-09-01_2017-09-30.tif, 1659529677612780>\n",
      "<Blob: staging_demo, hydracarta_demo_2022_06/rgb_2017-10-01_2017-10-31.tif, 1659529677890161>\n",
      "<Blob: staging_demo, hydracarta_demo_2022_06/rgb_2017-11-01_2017-11-30.tif, 1659529678212174>\n",
      "<Blob: staging_demo, hydracarta_demo_2022_06/rgb_2017-12-01_2017-12-31.tif, 1659529678535569>\n",
      "<Blob: staging_demo, hydracarta_demo_2022_06/rgb_2018-01-01_2018-01-31.tif, 1659529678821057>\n",
      "<Blob: staging_demo, hydracarta_demo_2022_06/rgb_2018-02-01_2018-02-28.tif, 1659529679097785>\n",
      "<Blob: staging_demo, hydracarta_demo_2022_06/rgb_2018-03-01_2018-03-31.tif, 1659529679392551>\n",
      "<Blob: staging_demo, hydracarta_demo_2022_06/rgb_2018-04-01_2018-04-30.tif, 1659529679685190>\n",
      "<Blob: staging_demo, hydracarta_demo_2022_06/rgb_2018-05-01_2018-05-31.tif, 1659529679977197>\n",
      "<Blob: staging_demo, hydracarta_demo_2022_06/rgb_2018-06-01_2018-06-30.tif, 1659529680284858>\n",
      "<Blob: staging_demo, hydracarta_demo_2022_06/rgb_2018-07-01_2018-07-31.tif, 1659529680579638>\n",
      "<Blob: staging_demo, hydracarta_demo_2022_06/rgb_2018-08-01_2018-08-31.tif, 1659529680899560>\n",
      "<Blob: staging_demo, hydracarta_demo_2022_06/rgb_2018-09-01_2018-09-30.tif, 1659529681198200>\n",
      "<Blob: staging_demo, hydracarta_demo_2022_06/rgb_2018-10-01_2018-10-31.tif, 1659529681495140>\n",
      "<Blob: staging_demo, hydracarta_demo_2022_06/rgb_2018-11-01_2018-11-30.tif, 1659529681781975>\n",
      "<Blob: staging_demo, hydracarta_demo_2022_06/rgb_2018-12-01_2018-12-31.tif, 1659529682062334>\n",
      "<Blob: staging_demo, hydracarta_demo_2022_06/rgb_2019-01-01_2019-01-31.tif, 1659529682393816>\n",
      "<Blob: staging_demo, hydracarta_demo_2022_06/rgb_2019-02-01_2019-02-28.tif, 1659529682695952>\n",
      "<Blob: staging_demo, hydracarta_demo_2022_06/rgb_2019-03-01_2019-03-31.tif, 1659529683010176>\n",
      "<Blob: staging_demo, hydracarta_demo_2022_06/rgb_2019-04-01_2019-04-30.tif, 1659529683301149>\n",
      "<Blob: staging_demo, hydracarta_demo_2022_06/rgb_2019-05-01_2019-05-31.tif, 1659529683597941>\n",
      "<Blob: staging_demo, hydracarta_demo_2022_06/rgb_2019-06-01_2019-06-30.tif, 1659529683941157>\n",
      "<Blob: staging_demo, hydracarta_demo_2022_06/rgb_2019-07-01_2019-07-31.tif, 1659529684219336>\n",
      "<Blob: staging_demo, hydracarta_demo_2022_06/rgb_2019-08-01_2019-08-31.tif, 1659529684526707>\n",
      "<Blob: staging_demo, hydracarta_demo_2022_06/rgb_2019-09-01_2019-09-30.tif, 1659529684800800>\n",
      "<Blob: staging_demo, hydracarta_demo_2022_06/rgb_2019-10-01_2019-10-31.tif, 1659529685088950>\n",
      "<Blob: staging_demo, hydracarta_demo_2022_06/rgb_2019-11-01_2019-11-30.tif, 1659529685392951>\n",
      "<Blob: staging_demo, hydracarta_demo_2022_06/rgb_2020-01-01_2020-01-31.tif, 1659529685678321>\n",
      "<Blob: staging_demo, hydracarta_demo_2022_06/rgb_2020-02-01_2020-02-29.tif, 1659529685978532>\n",
      "<Blob: staging_demo, hydracarta_demo_2022_06/rgb_2020-03-01_2020-03-31.tif, 1659529686294356>\n",
      "<Blob: staging_demo, hydracarta_demo_2022_06/rgb_2020-04-01_2020-04-30.tif, 1659529686570148>\n",
      "<Blob: staging_demo, hydracarta_demo_2022_06/rgb_2020-05-01_2020-05-31.tif, 1659529686858118>\n",
      "<Blob: staging_demo, hydracarta_demo_2022_06/rgb_2020-06-01_2020-06-30.tif, 1659529687153683>\n",
      "<Blob: staging_demo, hydracarta_demo_2022_06/rgb_2020-07-01_2020-07-31.tif, 1659529687463592>\n",
      "<Blob: staging_demo, hydracarta_demo_2022_06/rgb_2020-08-01_2020-08-31.tif, 1659529687733577>\n",
      "<Blob: staging_demo, hydracarta_demo_2022_06/rgb_2020-09-01_2020-09-30.tif, 1659529688019695>\n",
      "<Blob: staging_demo, hydracarta_demo_2022_06/rgb_2020-10-01_2020-10-31.tif, 1659529688301885>\n",
      "<Blob: staging_demo, hydracarta_demo_2022_06/rgb_2020-11-01_2020-11-30.tif, 1659529688586812>\n",
      "<Blob: staging_demo, hydracarta_demo_2022_06/rgb_2020-12-01_2020-12-31.tif, 1659529688853248>\n",
      "<Blob: staging_demo, hydracarta_demo_2022_06/rgb_2021-01-01_2021-01-31.tif, 1659529689125403>\n",
      "<Blob: staging_demo, hydracarta_demo_2022_06/rgb_2021-02-01_2021-02-28.tif, 1659529689415436>\n",
      "<Blob: staging_demo, hydracarta_demo_2022_06/rgb_2021-03-01_2021-03-31.tif, 1659529689686195>\n",
      "<Blob: staging_demo, hydracarta_demo_2022_06/rgb_2021-04-01_2021-04-30.tif, 1659529689973767>\n",
      "<Blob: staging_demo, hydracarta_demo_2022_06/rgb_2021-05-01_2021-05-31.tif, 1659529690257523>\n",
      "<Blob: staging_demo, hydracarta_demo_2022_06/rgb_2021-06-01_2021-06-30.tif, 1659529690544916>\n",
      "<Blob: staging_demo, hydracarta_demo_2022_06/rgb_2021-07-01_2021-07-31.tif, 1659529690831733>\n",
      "<Blob: staging_demo, hydracarta_demo_2022_06/rgb_2021-08-01_2021-08-31.tif, 1659529691115755>\n",
      "<Blob: staging_demo, hydracarta_demo_2022_06/rgb_2021-09-01_2021-09-30.tif, 1659529691396315>\n",
      "<Blob: staging_demo, hydracarta_demo_2022_06/rgb_2021-10-01_2021-10-31.tif, 1659529692098382>\n",
      "<Blob: staging_demo, hydracarta_demo_2022_06/rgb_2021-11-01_2021-11-30.tif, 1659529692391136>\n"
     ]
    }
   ],
   "source": [
    "from google.cloud import storage\n",
    "import subprocess\n",
    "\n",
    "bucket_name = \"staging_demo\"\n",
    "storage_client = storage.Client.from_service_account_json(\"second-impact-342800-51af159903ca.json\")\n",
    "blobs = storage_client.list_blobs(bucket_name)\n",
    "\n",
    "cnt=0\n",
    "for blob in blobs:\n",
    "    if project_name in blob.name:\n",
    "        filename = blob.name\n",
    "        print(blob.name)\n",
    "        if '.tif' in filename:\n",
    "            tmp_name = filename.split('/')[-1]\n",
    "            project_type, asset_type, start, end = tmp_name[:-4].split('_')\n",
    "            asset_name = f'projects/eda-bjonesneu-proto/assets/irrigation/{project_type}_{asset_type}_{project_name}/{tmp_name[:-4]}'\n",
    "            gs_name = f'gs://{bucket_name}/{filename}'\n",
    "            run_string = f\"earthengine upload image --asset_id={asset_name} {gs_name}\"\n",
    "            #print(run_string)\n",
    "            out = subprocess.call(run_string, shell=True)"
   ]
  },
  {
   "cell_type": "code",
   "execution_count": null,
   "metadata": {
    "id": "W7Xl3vtTxI5u"
   },
   "outputs": [],
   "source": [
    "STOP"
   ]
  },
  {
   "cell_type": "markdown",
   "metadata": {
    "id": "-kCGd0QEWz6W"
   },
   "source": [
    "##### Utility to delete unneeded files in folders"
   ]
  },
  {
   "cell_type": "code",
   "execution_count": null,
   "metadata": {
    "id": "4LqiM-8UfKKX"
   },
   "outputs": [],
   "source": [
    "#!earthengine ls projects/eda-bjonesneu-proto/assets/irrigation/rgb > todelete.txt"
   ]
  },
  {
   "cell_type": "code",
   "execution_count": null,
   "metadata": {
    "id": "WMrKxRdYTxHm"
   },
   "outputs": [],
   "source": [
    "if False:\n",
    "    with open('todelete.txt') as todelete:\n",
    "        for item in todelete:\n",
    "            run_string = f\"earthengine rm {item}\"\n",
    "            out = subprocess.call(run_string, shell=True)"
   ]
  },
  {
   "cell_type": "code",
   "execution_count": null,
   "metadata": {
    "colab": {
     "base_uri": "https://localhost:8080/"
    },
    "executionInfo": {
     "elapsed": 3807,
     "status": "ok",
     "timestamp": 1654189100302,
     "user": {
      "displayName": "Blair Jones",
      "userId": "11507989587297916179"
     },
     "user_tz": 300
    },
    "id": "OKllPeLYUg57",
    "outputId": "2cda3dac-7a65-4c77-a5d5-e8f986e15f79"
   },
   "outputs": [],
   "source": [
    "#!earthengine ls projects/eda-bjonesneu-proto/assets/irrigation/rgb"
   ]
  },
  {
   "cell_type": "markdown",
   "metadata": {
    "id": "dce-ksG_UpYz"
   },
   "source": [
    "# Retrieve job run costs"
   ]
  },
  {
   "cell_type": "code",
   "execution_count": 38,
   "metadata": {},
   "outputs": [],
   "source": [
    "# Since no jobs are launched, retrieve metrics directly from https://console.cloud.google.com/monitoring/"
   ]
  },
  {
   "cell_type": "code",
   "execution_count": null,
   "metadata": {},
   "outputs": [],
   "source": []
  }
 ],
 "metadata": {
  "colab": {
   "provenance": [
    {
     "file_id": "1j9czqdVYpKMsZ4A9OuR8AzhP8nqSTEza",
     "timestamp": 1646395591173
    },
    {
     "file_id": "1YST0rKUOHFgMG_q0h6qazFAtX-begT6b",
     "timestamp": 1645981406840
    }
   ]
  },
  "kernelspec": {
   "display_name": "Python 3",
   "language": "python",
   "name": "python3"
  },
  "language_info": {
   "codemirror_mode": {
    "name": "ipython",
    "version": 3
   },
   "file_extension": ".py",
   "mimetype": "text/x-python",
   "name": "python",
   "nbconvert_exporter": "python",
   "pygments_lexer": "ipython3",
   "version": "3.7.4"
  },
  "widgets": {
   "application/vnd.jupyter.widget-state+json": {
    "034788857bee462d9e2a6c2faebc8855": {
     "model_module": "@jupyter-widgets/controls",
     "model_module_version": "1.5.0",
     "model_name": "FloatProgressModel",
     "state": {
      "_dom_classes": [],
      "_model_module": "@jupyter-widgets/controls",
      "_model_module_version": "1.5.0",
      "_model_name": "FloatProgressModel",
      "_view_count": null,
      "_view_module": "@jupyter-widgets/controls",
      "_view_module_version": "1.5.0",
      "_view_name": "ProgressView",
      "bar_style": "danger",
      "description": "",
      "description_tooltip": null,
      "layout": "IPY_MODEL_c1d925c20ebb44aca0eb2feb7102bac5",
      "max": 15,
      "min": 0,
      "orientation": "horizontal",
      "style": "IPY_MODEL_4a00c78afb1b49659cf4852ac61020e0",
      "value": 1
     }
    },
    "11e24951e63244678fd694df6d9c8407": {
     "model_module": "@jupyter-widgets/base",
     "model_module_version": "1.2.0",
     "model_name": "LayoutModel",
     "state": {
      "_model_module": "@jupyter-widgets/base",
      "_model_module_version": "1.2.0",
      "_model_name": "LayoutModel",
      "_view_count": null,
      "_view_module": "@jupyter-widgets/base",
      "_view_module_version": "1.2.0",
      "_view_name": "LayoutView",
      "align_content": null,
      "align_items": null,
      "align_self": null,
      "border": null,
      "bottom": null,
      "display": null,
      "flex": null,
      "flex_flow": null,
      "grid_area": null,
      "grid_auto_columns": null,
      "grid_auto_flow": null,
      "grid_auto_rows": null,
      "grid_column": null,
      "grid_gap": null,
      "grid_row": null,
      "grid_template_areas": null,
      "grid_template_columns": null,
      "grid_template_rows": null,
      "height": "28px",
      "justify_content": null,
      "justify_items": null,
      "left": null,
      "margin": null,
      "max_height": null,
      "max_width": null,
      "min_height": null,
      "min_width": null,
      "object_fit": null,
      "object_position": null,
      "order": null,
      "overflow": null,
      "overflow_x": null,
      "overflow_y": null,
      "padding": "0px 0px 0px 4px",
      "right": null,
      "top": null,
      "visibility": null,
      "width": "28px"
     }
    },
    "17215e6c9d82406095a4a16ec909edd8": {
     "model_module": "jupyter-leaflet",
     "model_module_version": "^0.15.0",
     "model_name": "LeafletFullScreenControlModel",
     "state": {
      "_model_module": "jupyter-leaflet",
      "_model_module_version": "^0.15.0",
      "_model_name": "LeafletFullScreenControlModel",
      "_view_count": null,
      "_view_module": "jupyter-leaflet",
      "_view_module_version": "^0.15.0",
      "_view_name": "LeafletFullScreenControlView",
      "options": [
       "position"
      ],
      "position": "topleft"
     }
    },
    "17ec7f98a2c14860bc0407cda9a3926f": {
     "model_module": "@jupyter-widgets/controls",
     "model_module_version": "1.5.0",
     "model_name": "ToggleButtonModel",
     "state": {
      "_dom_classes": [],
      "_model_module": "@jupyter-widgets/controls",
      "_model_module_version": "1.5.0",
      "_model_name": "ToggleButtonModel",
      "_view_count": null,
      "_view_module": "@jupyter-widgets/controls",
      "_view_module_version": "1.5.0",
      "_view_name": "ToggleButtonView",
      "button_style": "",
      "description": "",
      "description_tooltip": null,
      "disabled": false,
      "icon": "globe",
      "layout": "IPY_MODEL_541d02002c2e468195b6c4ee2ac4b6fd",
      "style": "IPY_MODEL_a354fbf120c64253b7fcf7d48c05a0d0",
      "tooltip": "Search location/data",
      "value": false
     }
    },
    "191de9780d8d465f90558438d3b06285": {
     "model_module": "jupyter-leaflet",
     "model_module_version": "^0.15.0",
     "model_name": "LeafletMeasureControlModel",
     "state": {
      "_custom_units": {},
      "_model_module": "jupyter-leaflet",
      "_model_module_version": "^0.15.0",
      "_model_name": "LeafletMeasureControlModel",
      "_view_count": null,
      "_view_module": "jupyter-leaflet",
      "_view_module_version": "^0.15.0",
      "_view_name": "LeafletMeasureControlView",
      "active_color": "orange",
      "capture_z_index": 10000,
      "completed_color": "#C8F2BE",
      "options": [
       "active_color",
       "capture_z_index",
       "completed_color",
       "popup_options",
       "position",
       "primary_area_unit",
       "primary_length_unit",
       "secondary_area_unit",
       "secondary_length_unit"
      ],
      "popup_options": {
       "autoPanPadding": [
        10,
        10
       ],
       "className": "leaflet-measure-resultpopup"
      },
      "position": "bottomleft",
      "primary_area_unit": "acres",
      "primary_length_unit": "kilometers",
      "secondary_area_unit": null,
      "secondary_length_unit": null
     }
    },
    "1f2e04baaa6a464bbf8d160a527a4fa1": {
     "model_module": "@jupyter-widgets/controls",
     "model_module_version": "1.5.0",
     "model_name": "HBoxModel",
     "state": {
      "_dom_classes": [],
      "_model_module": "@jupyter-widgets/controls",
      "_model_module_version": "1.5.0",
      "_model_name": "HBoxModel",
      "_view_count": null,
      "_view_module": "@jupyter-widgets/controls",
      "_view_module_version": "1.5.0",
      "_view_name": "HBoxView",
      "box_style": "",
      "children": [
       "IPY_MODEL_17ec7f98a2c14860bc0407cda9a3926f"
      ],
      "layout": "IPY_MODEL_cf372a6dc36e47278d6245ecb49a0c2d"
     }
    },
    "1fa88a65f5484912af0ff1610697c9d5": {
     "model_module": "jupyter-leaflet",
     "model_module_version": "^0.15.0",
     "model_name": "LeafletTileLayerModel",
     "state": {
      "_model_module": "jupyter-leaflet",
      "_model_module_version": "^0.15.0",
      "_model_name": "LeafletTileLayerModel",
      "_view_count": null,
      "_view_module": "jupyter-leaflet",
      "_view_module_version": "^0.15.0",
      "_view_name": "LeafletTileLayerView",
      "attribution": "Google",
      "base": false,
      "bottom": true,
      "detect_retina": false,
      "loading": false,
      "max_native_zoom": 18,
      "max_zoom": 22,
      "min_native_zoom": 0,
      "min_zoom": 0,
      "name": "Google Maps",
      "no_wrap": false,
      "opacity": 1,
      "options": [
       "attribution",
       "detect_retina",
       "max_native_zoom",
       "max_zoom",
       "min_native_zoom",
       "min_zoom",
       "no_wrap",
       "tile_size",
       "tms"
      ],
      "popup": null,
      "popup_max_height": null,
      "popup_max_width": 300,
      "popup_min_width": 50,
      "show_loading": false,
      "tile_size": 256,
      "tms": false,
      "url": "https://mt1.google.com/vt/lyrs=m&x={x}&y={y}&z={z}",
      "visible": true
     }
    },
    "2b8e5cc6675f45f58e94f0ced9bd6165": {
     "model_module": "jupyter-leaflet",
     "model_module_version": "^0.15.0",
     "model_name": "LeafletTileLayerModel",
     "state": {
      "_model_module": "jupyter-leaflet",
      "_model_module_version": "^0.15.0",
      "_model_name": "LeafletTileLayerModel",
      "_view_count": null,
      "_view_module": "jupyter-leaflet",
      "_view_module_version": "^0.15.0",
      "_view_name": "LeafletTileLayerView",
      "attribution": "&copy; <a href=\"https://www.openstreetmap.org/copyright\">OpenStreetMap</a> contributors",
      "base": true,
      "bottom": true,
      "detect_retina": false,
      "loading": false,
      "max_native_zoom": 18,
      "max_zoom": 19,
      "min_native_zoom": 0,
      "min_zoom": 1,
      "name": "OpenStreetMap.Mapnik",
      "no_wrap": false,
      "opacity": 1,
      "options": [
       "attribution",
       "detect_retina",
       "max_native_zoom",
       "max_zoom",
       "min_native_zoom",
       "min_zoom",
       "no_wrap",
       "tile_size",
       "tms"
      ],
      "popup": null,
      "popup_max_height": null,
      "popup_max_width": 300,
      "popup_min_width": 50,
      "show_loading": false,
      "tile_size": 256,
      "tms": false,
      "url": "https://a.tile.openstreetmap.org/{z}/{x}/{y}.png",
      "visible": true
     }
    },
    "3e085d57ad7247e396ff95075e39f538": {
     "model_module": "@jupyter-widgets/base",
     "model_module_version": "1.2.0",
     "model_name": "LayoutModel",
     "state": {
      "_model_module": "@jupyter-widgets/base",
      "_model_module_version": "1.2.0",
      "_model_name": "LayoutModel",
      "_view_count": null,
      "_view_module": "@jupyter-widgets/base",
      "_view_module_version": "1.2.0",
      "_view_name": "LayoutView",
      "align_content": null,
      "align_items": null,
      "align_self": null,
      "border": null,
      "bottom": null,
      "display": null,
      "flex": null,
      "flex_flow": null,
      "grid_area": null,
      "grid_auto_columns": null,
      "grid_auto_flow": null,
      "grid_auto_rows": null,
      "grid_column": null,
      "grid_gap": null,
      "grid_row": null,
      "grid_template_areas": null,
      "grid_template_columns": null,
      "grid_template_rows": null,
      "height": null,
      "justify_content": null,
      "justify_items": null,
      "left": null,
      "margin": null,
      "max_height": null,
      "max_width": null,
      "min_height": null,
      "min_width": null,
      "object_fit": null,
      "object_position": null,
      "order": null,
      "overflow": null,
      "overflow_x": null,
      "overflow_y": null,
      "padding": null,
      "right": null,
      "top": null,
      "visibility": null,
      "width": null
     }
    },
    "42cb86997fca47e89284aeb971e0d384": {
     "model_module": "jupyter-leaflet",
     "model_module_version": "^0.15.0",
     "model_name": "LeafletScaleControlModel",
     "state": {
      "_model_module": "jupyter-leaflet",
      "_model_module_version": "^0.15.0",
      "_model_name": "LeafletScaleControlModel",
      "_view_count": null,
      "_view_module": "jupyter-leaflet",
      "_view_module_version": "^0.15.0",
      "_view_name": "LeafletScaleControlView",
      "imperial": true,
      "max_width": 100,
      "metric": true,
      "options": [
       "imperial",
       "max_width",
       "metric",
       "position",
       "update_when_idle"
      ],
      "position": "bottomleft",
      "update_when_idle": false
     }
    },
    "48bb79c90c784bb2a7eabcb5d33270c7": {
     "model_module": "@jupyter-widgets/controls",
     "model_module_version": "1.5.0",
     "model_name": "DescriptionStyleModel",
     "state": {
      "_model_module": "@jupyter-widgets/controls",
      "_model_module_version": "1.5.0",
      "_model_name": "DescriptionStyleModel",
      "_view_count": null,
      "_view_module": "@jupyter-widgets/base",
      "_view_module_version": "1.2.0",
      "_view_name": "StyleView",
      "description_width": ""
     }
    },
    "4a00c78afb1b49659cf4852ac61020e0": {
     "model_module": "@jupyter-widgets/controls",
     "model_module_version": "1.5.0",
     "model_name": "ProgressStyleModel",
     "state": {
      "_model_module": "@jupyter-widgets/controls",
      "_model_module_version": "1.5.0",
      "_model_name": "ProgressStyleModel",
      "_view_count": null,
      "_view_module": "@jupyter-widgets/base",
      "_view_module_version": "1.2.0",
      "_view_name": "StyleView",
      "bar_color": null,
      "description_width": ""
     }
    },
    "4aea53e838234024b47fcdcb98561545": {
     "model_module": "jupyter-leaflet",
     "model_module_version": "^0.15.0",
     "model_name": "LeafletMapStyleModel",
     "state": {
      "_model_module": "jupyter-leaflet",
      "_model_module_version": "^0.15.0",
      "_model_name": "LeafletMapStyleModel",
      "_view_count": null,
      "_view_module": "@jupyter-widgets/base",
      "_view_module_version": "1.2.0",
      "_view_name": "StyleView",
      "cursor": "move"
     }
    },
    "541d02002c2e468195b6c4ee2ac4b6fd": {
     "model_module": "@jupyter-widgets/base",
     "model_module_version": "1.2.0",
     "model_name": "LayoutModel",
     "state": {
      "_model_module": "@jupyter-widgets/base",
      "_model_module_version": "1.2.0",
      "_model_name": "LayoutModel",
      "_view_count": null,
      "_view_module": "@jupyter-widgets/base",
      "_view_module_version": "1.2.0",
      "_view_name": "LayoutView",
      "align_content": null,
      "align_items": null,
      "align_self": null,
      "border": null,
      "bottom": null,
      "display": null,
      "flex": null,
      "flex_flow": null,
      "grid_area": null,
      "grid_auto_columns": null,
      "grid_auto_flow": null,
      "grid_auto_rows": null,
      "grid_column": null,
      "grid_gap": null,
      "grid_row": null,
      "grid_template_areas": null,
      "grid_template_columns": null,
      "grid_template_rows": null,
      "height": "28px",
      "justify_content": null,
      "justify_items": null,
      "left": null,
      "margin": null,
      "max_height": null,
      "max_width": null,
      "min_height": null,
      "min_width": null,
      "object_fit": null,
      "object_position": null,
      "order": null,
      "overflow": null,
      "overflow_x": null,
      "overflow_y": null,
      "padding": "0px 0px 0px 4px",
      "right": null,
      "top": null,
      "visibility": null,
      "width": "28px"
     }
    },
    "55e3a18add6e4fe7bd959f5bcc041df3": {
     "model_module": "jupyter-leaflet",
     "model_module_version": "^0.15.0",
     "model_name": "LeafletWidgetControlModel",
     "state": {
      "_model_module": "jupyter-leaflet",
      "_model_module_version": "^0.15.0",
      "_model_name": "LeafletWidgetControlModel",
      "_view_count": null,
      "_view_module": "jupyter-leaflet",
      "_view_module_version": "^0.15.0",
      "_view_name": "LeafletWidgetControlView",
      "max_height": null,
      "max_width": null,
      "min_height": null,
      "min_width": null,
      "options": [
       "position",
       "transparent_bg"
      ],
      "position": "topright",
      "transparent_bg": false,
      "widget": "IPY_MODEL_7ed39b425c434f3895043030b35ca2cc"
     }
    },
    "56c6d21605c04435b69c9e239df37e4b": {
     "model_module": "jupyter-leaflet",
     "model_module_version": "^0.15.0",
     "model_name": "LeafletMapStyleModel",
     "state": {
      "_model_module": "jupyter-leaflet",
      "_model_module_version": "^0.15.0",
      "_model_name": "LeafletMapStyleModel",
      "_view_count": null,
      "_view_module": "@jupyter-widgets/base",
      "_view_module_version": "1.2.0",
      "_view_name": "StyleView",
      "cursor": "grab"
     }
    },
    "62794d6199f64e68ad2ee60f9d7c6412": {
     "model_module": "jupyter-leaflet",
     "model_module_version": "^0.15.0",
     "model_name": "LeafletMapModel",
     "state": {
      "_dom_classes": [],
      "_dragging": false,
      "_model_module": "jupyter-leaflet",
      "_model_module_version": "^0.15.0",
      "_model_name": "LeafletMapModel",
      "_view_count": null,
      "_view_module": "jupyter-leaflet",
      "_view_module_version": "^0.15.0",
      "_view_name": "LeafletMapView",
      "bottom": 206073.9093017578,
      "bounce_at_zoom_limits": true,
      "box_zoom": true,
      "center": [
       36.05914158333323,
       -119.82556632254276
      ],
      "close_popup_on_click": true,
      "controls": [
       "IPY_MODEL_8990da3783ca49a28ae8a6957433e8fc",
       "IPY_MODEL_6c1c6f5a6a35482cb7c800be9c7bfc1a",
       "IPY_MODEL_42cb86997fca47e89284aeb971e0d384",
       "IPY_MODEL_17215e6c9d82406095a4a16ec909edd8",
       "IPY_MODEL_191de9780d8d465f90558438d3b06285",
       "IPY_MODEL_6b4fa7738dde4428ab227536412acd40",
       "IPY_MODEL_d8b4b98bedeb4edfbffeb28b7e07e084",
       "IPY_MODEL_55e3a18add6e4fe7bd959f5bcc041df3"
      ],
      "crs": {
       "custom": false,
       "name": "EPSG3857"
      },
      "default_style": "IPY_MODEL_a1db2d83378e4075b8514cf3afb4b86e",
      "double_click_zoom": true,
      "dragging": true,
      "dragging_style": "IPY_MODEL_4aea53e838234024b47fcdcb98561545",
      "east": -119.61133292410526,
      "fullscreen": false,
      "inertia": true,
      "inertia_deceleration": 3000,
      "inertia_max_speed": 1500,
      "interpolation": "bilinear",
      "keyboard": true,
      "keyboard_pan_offset": 80,
      "keyboard_zoom_offset": 1,
      "layers": [
       "IPY_MODEL_2b8e5cc6675f45f58e94f0ced9bd6165",
       "IPY_MODEL_1fa88a65f5484912af0ff1610697c9d5",
       "IPY_MODEL_df14730060e3479682566bd7a58f643b",
       "IPY_MODEL_84288a634fa24fd9af9fa5c87536e2d1"
      ],
      "layout": "IPY_MODEL_ee64186fd4bb4d67887cb3d3ad521060",
      "left": 87323.37078857422,
      "max_zoom": 24,
      "min_zoom": 1,
      "modisdate": "2023-02-07",
      "north": 36.22549256338814,
      "options": [
       "bounce_at_zoom_limits",
       "box_zoom",
       "center",
       "close_popup_on_click",
       "double_click_zoom",
       "dragging",
       "fullscreen",
       "inertia",
       "inertia_deceleration",
       "inertia_max_speed",
       "interpolation",
       "keyboard",
       "keyboard_pan_offset",
       "keyboard_zoom_offset",
       "max_zoom",
       "min_zoom",
       "prefer_canvas",
       "scroll_wheel_zoom",
       "tap",
       "tap_tolerance",
       "touch_zoom",
       "world_copy_jump",
       "zoom",
       "zoom_animation_threshold",
       "zoom_delta",
       "zoom_snap",
       "zoom_start"
      ],
      "prefer_canvas": false,
      "right": 87947.37078857422,
      "scroll_wheel_zoom": true,
      "south": 35.89243819159532,
      "style": "IPY_MODEL_a1db2d83378e4075b8514cf3afb4b86e",
      "tap": true,
      "tap_tolerance": 15,
      "top": 205473.9093017578,
      "touch_zoom": true,
      "west": -120.03979972098024,
      "window_url": "https://x7c6ohg752-496ff2e9c6d22116-0-colab.googleusercontent.com/outputframe.html?vrz=colab-20230203-060043-RC00_506856568",
      "world_copy_jump": false,
      "zoom": 11,
      "zoom_animation_threshold": 4,
      "zoom_delta": 1,
      "zoom_snap": 1,
      "zoom_start": 12
     }
    },
    "67f357acfb324e1aa2cc2727fe957d3b": {
     "model_module": "@jupyter-widgets/controls",
     "model_module_version": "1.5.0",
     "model_name": "DescriptionStyleModel",
     "state": {
      "_model_module": "@jupyter-widgets/controls",
      "_model_module_version": "1.5.0",
      "_model_name": "DescriptionStyleModel",
      "_view_count": null,
      "_view_module": "@jupyter-widgets/base",
      "_view_module_version": "1.2.0",
      "_view_name": "StyleView",
      "description_width": ""
     }
    },
    "6b4fa7738dde4428ab227536412acd40": {
     "model_module": "jupyter-leaflet",
     "model_module_version": "^0.15.0",
     "model_name": "LeafletAttributionControlModel",
     "state": {
      "_model_module": "jupyter-leaflet",
      "_model_module_version": "^0.15.0",
      "_model_name": "LeafletAttributionControlModel",
      "_view_count": null,
      "_view_module": "jupyter-leaflet",
      "_view_module_version": "^0.15.0",
      "_view_name": "LeafletAttributionControlView",
      "options": [
       "position",
       "prefix"
      ],
      "position": "bottomright",
      "prefix": "ipyleaflet"
     }
    },
    "6c1c6f5a6a35482cb7c800be9c7bfc1a": {
     "model_module": "jupyter-leaflet",
     "model_module_version": "^0.15.0",
     "model_name": "LeafletZoomControlModel",
     "state": {
      "_model_module": "jupyter-leaflet",
      "_model_module_version": "^0.15.0",
      "_model_name": "LeafletZoomControlModel",
      "_view_count": null,
      "_view_module": "jupyter-leaflet",
      "_view_module_version": "^0.15.0",
      "_view_name": "LeafletZoomControlView",
      "options": [
       "position",
       "zoom_in_text",
       "zoom_in_title",
       "zoom_out_text",
       "zoom_out_title"
      ],
      "position": "topleft",
      "zoom_in_text": "+",
      "zoom_in_title": "Zoom in",
      "zoom_out_text": "-",
      "zoom_out_title": "Zoom out"
     }
    },
    "72bb826ab6e0431ca4537ab7d1462b44": {
     "model_module": "@jupyter-widgets/controls",
     "model_module_version": "1.5.0",
     "model_name": "DescriptionStyleModel",
     "state": {
      "_model_module": "@jupyter-widgets/controls",
      "_model_module_version": "1.5.0",
      "_model_name": "DescriptionStyleModel",
      "_view_count": null,
      "_view_module": "@jupyter-widgets/base",
      "_view_module_version": "1.2.0",
      "_view_name": "StyleView",
      "description_width": ""
     }
    },
    "73478cd1fe864565997450b2d19bd99e": {
     "model_module": "@jupyter-widgets/controls",
     "model_module_version": "1.5.0",
     "model_name": "ToggleButtonModel",
     "state": {
      "_dom_classes": [],
      "_model_module": "@jupyter-widgets/controls",
      "_model_module_version": "1.5.0",
      "_model_name": "ToggleButtonModel",
      "_view_count": null,
      "_view_module": "@jupyter-widgets/controls",
      "_view_module_version": "1.5.0",
      "_view_name": "ToggleButtonView",
      "button_style": "",
      "description": "",
      "description_tooltip": null,
      "disabled": false,
      "icon": "wrench",
      "layout": "IPY_MODEL_11e24951e63244678fd694df6d9c8407",
      "style": "IPY_MODEL_67f357acfb324e1aa2cc2727fe957d3b",
      "tooltip": "Toolbar",
      "value": false
     }
    },
    "7ed39b425c434f3895043030b35ca2cc": {
     "model_module": "@jupyter-widgets/controls",
     "model_module_version": "1.5.0",
     "model_name": "VBoxModel",
     "state": {
      "_dom_classes": [],
      "_model_module": "@jupyter-widgets/controls",
      "_model_module_version": "1.5.0",
      "_model_name": "VBoxModel",
      "_view_count": null,
      "_view_module": "@jupyter-widgets/controls",
      "_view_module_version": "1.5.0",
      "_view_name": "VBoxView",
      "box_style": "",
      "children": [
       "IPY_MODEL_73478cd1fe864565997450b2d19bd99e"
      ],
      "layout": "IPY_MODEL_3e085d57ad7247e396ff95075e39f538"
     }
    },
    "84288a634fa24fd9af9fa5c87536e2d1": {
     "model_module": "jupyter-leaflet",
     "model_module_version": "^0.15.0",
     "model_name": "LeafletTileLayerModel",
     "state": {
      "_model_module": "jupyter-leaflet",
      "_model_module_version": "^0.15.0",
      "_model_name": "LeafletTileLayerModel",
      "_view_count": null,
      "_view_module": "jupyter-leaflet",
      "_view_module_version": "^0.15.0",
      "_view_name": "LeafletTileLayerView",
      "attribution": "Google Earth Engine",
      "base": false,
      "bottom": true,
      "detect_retina": false,
      "loading": false,
      "max_native_zoom": 18,
      "max_zoom": 18,
      "min_native_zoom": 0,
      "min_zoom": 0,
      "name": "Drawn Features",
      "no_wrap": false,
      "opacity": 0.5,
      "options": [
       "attribution",
       "detect_retina",
       "max_native_zoom",
       "max_zoom",
       "min_native_zoom",
       "min_zoom",
       "no_wrap",
       "tile_size",
       "tms"
      ],
      "popup": null,
      "popup_max_height": null,
      "popup_max_width": 300,
      "popup_min_width": 50,
      "show_loading": false,
      "tile_size": 256,
      "tms": false,
      "url": "https://earthengine.googleapis.com/v1alpha/projects/earthengine-legacy/maps/f278167bce7c7280015648beac9a10c1-e7fdd2d06babe34b4434b6e7a2de6dfc/tiles/{z}/{x}/{y}",
      "visible": false
     }
    },
    "8990da3783ca49a28ae8a6957433e8fc": {
     "model_module": "jupyter-leaflet",
     "model_module_version": "^0.15.0",
     "model_name": "LeafletWidgetControlModel",
     "state": {
      "_model_module": "jupyter-leaflet",
      "_model_module_version": "^0.15.0",
      "_model_name": "LeafletWidgetControlModel",
      "_view_count": null,
      "_view_module": "jupyter-leaflet",
      "_view_module_version": "^0.15.0",
      "_view_name": "LeafletWidgetControlView",
      "max_height": null,
      "max_width": null,
      "min_height": null,
      "min_width": null,
      "options": [
       "position",
       "transparent_bg"
      ],
      "position": "topleft",
      "transparent_bg": false,
      "widget": "IPY_MODEL_1f2e04baaa6a464bbf8d160a527a4fa1"
     }
    },
    "8a873d84f2b84758a4fc719ee81aace4": {
     "model_module": "@jupyter-widgets/base",
     "model_module_version": "1.2.0",
     "model_name": "LayoutModel",
     "state": {
      "_model_module": "@jupyter-widgets/base",
      "_model_module_version": "1.2.0",
      "_model_name": "LayoutModel",
      "_view_count": null,
      "_view_module": "@jupyter-widgets/base",
      "_view_module_version": "1.2.0",
      "_view_name": "LayoutView",
      "align_content": null,
      "align_items": null,
      "align_self": null,
      "border": null,
      "bottom": null,
      "display": null,
      "flex": null,
      "flex_flow": null,
      "grid_area": null,
      "grid_auto_columns": null,
      "grid_auto_flow": null,
      "grid_auto_rows": null,
      "grid_column": null,
      "grid_gap": null,
      "grid_row": null,
      "grid_template_areas": null,
      "grid_template_columns": null,
      "grid_template_rows": null,
      "height": null,
      "justify_content": null,
      "justify_items": null,
      "left": null,
      "margin": null,
      "max_height": null,
      "max_width": null,
      "min_height": null,
      "min_width": null,
      "object_fit": null,
      "object_position": null,
      "order": null,
      "overflow": null,
      "overflow_x": null,
      "overflow_y": null,
      "padding": null,
      "right": null,
      "top": null,
      "visibility": null,
      "width": null
     }
    },
    "9b7c7c37cb5c4d33a178d19ad43d7848": {
     "model_module": "@jupyter-widgets/controls",
     "model_module_version": "1.5.0",
     "model_name": "HBoxModel",
     "state": {
      "_dom_classes": [],
      "_model_module": "@jupyter-widgets/controls",
      "_model_module_version": "1.5.0",
      "_model_name": "HBoxModel",
      "_view_count": null,
      "_view_module": "@jupyter-widgets/controls",
      "_view_module_version": "1.5.0",
      "_view_name": "HBoxView",
      "box_style": "",
      "children": [
       "IPY_MODEL_e6c43aab0a2f4695997de95947d65c06",
       "IPY_MODEL_034788857bee462d9e2a6c2faebc8855",
       "IPY_MODEL_a9b9d3ff2a514caea7ff2657c9bd2c7d"
      ],
      "layout": "IPY_MODEL_8a873d84f2b84758a4fc719ee81aace4"
     }
    },
    "a1db2d83378e4075b8514cf3afb4b86e": {
     "model_module": "jupyter-leaflet",
     "model_module_version": "^0.15.0",
     "model_name": "LeafletMapStyleModel",
     "state": {
      "_model_module": "jupyter-leaflet",
      "_model_module_version": "^0.15.0",
      "_model_name": "LeafletMapStyleModel",
      "_view_count": null,
      "_view_module": "@jupyter-widgets/base",
      "_view_module_version": "1.2.0",
      "_view_name": "StyleView",
      "cursor": "grab"
     }
    },
    "a354fbf120c64253b7fcf7d48c05a0d0": {
     "model_module": "@jupyter-widgets/controls",
     "model_module_version": "1.5.0",
     "model_name": "DescriptionStyleModel",
     "state": {
      "_model_module": "@jupyter-widgets/controls",
      "_model_module_version": "1.5.0",
      "_model_name": "DescriptionStyleModel",
      "_view_count": null,
      "_view_module": "@jupyter-widgets/base",
      "_view_module_version": "1.2.0",
      "_view_name": "StyleView",
      "description_width": ""
     }
    },
    "a74cd555df704375b30f9de974906da3": {
     "model_module": "@jupyter-widgets/base",
     "model_module_version": "1.2.0",
     "model_name": "LayoutModel",
     "state": {
      "_model_module": "@jupyter-widgets/base",
      "_model_module_version": "1.2.0",
      "_model_name": "LayoutModel",
      "_view_count": null,
      "_view_module": "@jupyter-widgets/base",
      "_view_module_version": "1.2.0",
      "_view_name": "LayoutView",
      "align_content": null,
      "align_items": null,
      "align_self": null,
      "border": null,
      "bottom": null,
      "display": null,
      "flex": null,
      "flex_flow": null,
      "grid_area": null,
      "grid_auto_columns": null,
      "grid_auto_flow": null,
      "grid_auto_rows": null,
      "grid_column": null,
      "grid_gap": null,
      "grid_row": null,
      "grid_template_areas": null,
      "grid_template_columns": null,
      "grid_template_rows": null,
      "height": null,
      "justify_content": null,
      "justify_items": null,
      "left": null,
      "margin": null,
      "max_height": null,
      "max_width": null,
      "min_height": null,
      "min_width": null,
      "object_fit": null,
      "object_position": null,
      "order": null,
      "overflow": null,
      "overflow_x": null,
      "overflow_y": null,
      "padding": null,
      "right": null,
      "top": null,
      "visibility": null,
      "width": null
     }
    },
    "a9b9d3ff2a514caea7ff2657c9bd2c7d": {
     "model_module": "@jupyter-widgets/controls",
     "model_module_version": "1.5.0",
     "model_name": "HTMLModel",
     "state": {
      "_dom_classes": [],
      "_model_module": "@jupyter-widgets/controls",
      "_model_module_version": "1.5.0",
      "_model_name": "HTMLModel",
      "_view_count": null,
      "_view_module": "@jupyter-widgets/controls",
      "_view_module_version": "1.5.0",
      "_view_name": "HTMLView",
      "description": "",
      "description_tooltip": null,
      "layout": "IPY_MODEL_fb2bb054669142bb859eb5af77b21168",
      "placeholder": "​",
      "style": "IPY_MODEL_48bb79c90c784bb2a7eabcb5d33270c7",
      "value": " 1/15 [00:43&lt;09:35, 41.12s/it]"
     }
    },
    "c1d925c20ebb44aca0eb2feb7102bac5": {
     "model_module": "@jupyter-widgets/base",
     "model_module_version": "1.2.0",
     "model_name": "LayoutModel",
     "state": {
      "_model_module": "@jupyter-widgets/base",
      "_model_module_version": "1.2.0",
      "_model_name": "LayoutModel",
      "_view_count": null,
      "_view_module": "@jupyter-widgets/base",
      "_view_module_version": "1.2.0",
      "_view_name": "LayoutView",
      "align_content": null,
      "align_items": null,
      "align_self": null,
      "border": null,
      "bottom": null,
      "display": null,
      "flex": null,
      "flex_flow": null,
      "grid_area": null,
      "grid_auto_columns": null,
      "grid_auto_flow": null,
      "grid_auto_rows": null,
      "grid_column": null,
      "grid_gap": null,
      "grid_row": null,
      "grid_template_areas": null,
      "grid_template_columns": null,
      "grid_template_rows": null,
      "height": null,
      "justify_content": null,
      "justify_items": null,
      "left": null,
      "margin": null,
      "max_height": null,
      "max_width": null,
      "min_height": null,
      "min_width": null,
      "object_fit": null,
      "object_position": null,
      "order": null,
      "overflow": null,
      "overflow_x": null,
      "overflow_y": null,
      "padding": null,
      "right": null,
      "top": null,
      "visibility": null,
      "width": null
     }
    },
    "cf372a6dc36e47278d6245ecb49a0c2d": {
     "model_module": "@jupyter-widgets/base",
     "model_module_version": "1.2.0",
     "model_name": "LayoutModel",
     "state": {
      "_model_module": "@jupyter-widgets/base",
      "_model_module_version": "1.2.0",
      "_model_name": "LayoutModel",
      "_view_count": null,
      "_view_module": "@jupyter-widgets/base",
      "_view_module_version": "1.2.0",
      "_view_name": "LayoutView",
      "align_content": null,
      "align_items": null,
      "align_self": null,
      "border": null,
      "bottom": null,
      "display": null,
      "flex": null,
      "flex_flow": null,
      "grid_area": null,
      "grid_auto_columns": null,
      "grid_auto_flow": null,
      "grid_auto_rows": null,
      "grid_column": null,
      "grid_gap": null,
      "grid_row": null,
      "grid_template_areas": null,
      "grid_template_columns": null,
      "grid_template_rows": null,
      "height": null,
      "justify_content": null,
      "justify_items": null,
      "left": null,
      "margin": null,
      "max_height": null,
      "max_width": null,
      "min_height": null,
      "min_width": null,
      "object_fit": null,
      "object_position": null,
      "order": null,
      "overflow": null,
      "overflow_x": null,
      "overflow_y": null,
      "padding": null,
      "right": null,
      "top": null,
      "visibility": null,
      "width": null
     }
    },
    "d8b4b98bedeb4edfbffeb28b7e07e084": {
     "model_module": "jupyter-leaflet",
     "model_module_version": "^0.15.0",
     "model_name": "LeafletDrawControlModel",
     "state": {
      "_model_module": "jupyter-leaflet",
      "_model_module_version": "^0.15.0",
      "_model_name": "LeafletDrawControlModel",
      "_view_count": null,
      "_view_module": "jupyter-leaflet",
      "_view_module_version": "^0.15.0",
      "_view_name": "LeafletDrawControlView",
      "circle": {
       "shapeOptions": {
        "color": "#3388ff"
       }
      },
      "circlemarker": {},
      "data": [
       {
        "geometry": {
         "coordinates": [
          [
           [
            -119.774508,
            36.066453
           ],
           [
            -119.774508,
            36.080527
           ],
           [
            -119.755754,
            36.080527
           ],
           [
            -119.755754,
            36.066453
           ],
           [
            -119.774508,
            36.066453
           ]
          ]
         ],
         "type": "Polygon"
        },
        "properties": {
         "style": {
          "clickable": true,
          "color": "#3388ff",
          "fill": true,
          "fillColor": null,
          "fillOpacity": 0.2,
          "opacity": 0.5,
          "stroke": true,
          "weight": 4
         }
        },
        "type": "Feature"
       }
      ],
      "edit": true,
      "marker": {
       "shapeOptions": {
        "color": "#3388ff"
       }
      },
      "options": [
       "position"
      ],
      "polygon": {
       "shapeOptions": {}
      },
      "polyline": {
       "shapeOptions": {}
      },
      "position": "topleft",
      "rectangle": {
       "shapeOptions": {
        "color": "#3388ff"
       }
      },
      "remove": true
     }
    },
    "df14730060e3479682566bd7a58f643b": {
     "model_module": "jupyter-leaflet",
     "model_module_version": "^0.15.0",
     "model_name": "LeafletTileLayerModel",
     "state": {
      "_model_module": "jupyter-leaflet",
      "_model_module_version": "^0.15.0",
      "_model_name": "LeafletTileLayerModel",
      "_view_count": null,
      "_view_module": "jupyter-leaflet",
      "_view_module_version": "^0.15.0",
      "_view_name": "LeafletTileLayerView",
      "attribution": "Google",
      "base": false,
      "bottom": true,
      "detect_retina": false,
      "loading": false,
      "max_native_zoom": 18,
      "max_zoom": 22,
      "min_native_zoom": 0,
      "min_zoom": 0,
      "name": "Google Satellite",
      "no_wrap": false,
      "opacity": 1,
      "options": [
       "attribution",
       "detect_retina",
       "max_native_zoom",
       "max_zoom",
       "min_native_zoom",
       "min_zoom",
       "no_wrap",
       "tile_size",
       "tms"
      ],
      "popup": null,
      "popup_max_height": null,
      "popup_max_width": 300,
      "popup_min_width": 50,
      "show_loading": false,
      "tile_size": 256,
      "tms": false,
      "url": "https://mt1.google.com/vt/lyrs=y&x={x}&y={y}&z={z}",
      "visible": true
     }
    },
    "e6c43aab0a2f4695997de95947d65c06": {
     "model_module": "@jupyter-widgets/controls",
     "model_module_version": "1.5.0",
     "model_name": "HTMLModel",
     "state": {
      "_dom_classes": [],
      "_model_module": "@jupyter-widgets/controls",
      "_model_module_version": "1.5.0",
      "_model_name": "HTMLModel",
      "_view_count": null,
      "_view_module": "@jupyter-widgets/controls",
      "_view_module_version": "1.5.0",
      "_view_name": "HTMLView",
      "description": "",
      "description_tooltip": null,
      "layout": "IPY_MODEL_a74cd555df704375b30f9de974906da3",
      "placeholder": "​",
      "style": "IPY_MODEL_72bb826ab6e0431ca4537ab7d1462b44",
      "value": "  7%"
     }
    },
    "ee64186fd4bb4d67887cb3d3ad521060": {
     "model_module": "@jupyter-widgets/base",
     "model_module_version": "1.2.0",
     "model_name": "LayoutModel",
     "state": {
      "_model_module": "@jupyter-widgets/base",
      "_model_module_version": "1.2.0",
      "_model_name": "LayoutModel",
      "_view_count": null,
      "_view_module": "@jupyter-widgets/base",
      "_view_module_version": "1.2.0",
      "_view_name": "LayoutView",
      "align_content": null,
      "align_items": null,
      "align_self": null,
      "border": null,
      "bottom": null,
      "display": null,
      "flex": null,
      "flex_flow": null,
      "grid_area": null,
      "grid_auto_columns": null,
      "grid_auto_flow": null,
      "grid_auto_rows": null,
      "grid_column": null,
      "grid_gap": null,
      "grid_row": null,
      "grid_template_areas": null,
      "grid_template_columns": null,
      "grid_template_rows": null,
      "height": "600px",
      "justify_content": null,
      "justify_items": null,
      "left": null,
      "margin": null,
      "max_height": null,
      "max_width": null,
      "min_height": null,
      "min_width": null,
      "object_fit": null,
      "object_position": null,
      "order": null,
      "overflow": null,
      "overflow_x": null,
      "overflow_y": null,
      "padding": null,
      "right": null,
      "top": null,
      "visibility": null,
      "width": null
     }
    },
    "fb2bb054669142bb859eb5af77b21168": {
     "model_module": "@jupyter-widgets/base",
     "model_module_version": "1.2.0",
     "model_name": "LayoutModel",
     "state": {
      "_model_module": "@jupyter-widgets/base",
      "_model_module_version": "1.2.0",
      "_model_name": "LayoutModel",
      "_view_count": null,
      "_view_module": "@jupyter-widgets/base",
      "_view_module_version": "1.2.0",
      "_view_name": "LayoutView",
      "align_content": null,
      "align_items": null,
      "align_self": null,
      "border": null,
      "bottom": null,
      "display": null,
      "flex": null,
      "flex_flow": null,
      "grid_area": null,
      "grid_auto_columns": null,
      "grid_auto_flow": null,
      "grid_auto_rows": null,
      "grid_column": null,
      "grid_gap": null,
      "grid_row": null,
      "grid_template_areas": null,
      "grid_template_columns": null,
      "grid_template_rows": null,
      "height": null,
      "justify_content": null,
      "justify_items": null,
      "left": null,
      "margin": null,
      "max_height": null,
      "max_width": null,
      "min_height": null,
      "min_width": null,
      "object_fit": null,
      "object_position": null,
      "order": null,
      "overflow": null,
      "overflow_x": null,
      "overflow_y": null,
      "padding": null,
      "right": null,
      "top": null,
      "visibility": null,
      "width": null
     }
    }
   }
  }
 },
 "nbformat": 4,
 "nbformat_minor": 1
}
