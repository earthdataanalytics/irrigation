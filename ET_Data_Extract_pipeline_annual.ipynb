{
 "cells": [
  {
   "cell_type": "markdown",
   "metadata": {
    "id": "EZF8erxJt2BO"
   },
   "source": [
    "# Description"
   ]
  },
  {
   "cell_type": "markdown",
   "metadata": {
    "id": "39rChrfwtsp3"
   },
   "source": [
    "This notebook is used to extract ET and other data for analysis in other notebooks/code.\n",
    "\n",
    "The SEBAL calculations for ET are leveraged from https://github.com/gee-hydro/geeSEBAL\n",
    "\n",
    "Usage:\n",
    "\n",
    "  1) Show map with labeled samples for rain or irrigated locations\n",
    "\n",
    "  2) Manually specify Area of Interest (AOI) with bounding box on map\n",
    "\n",
    "  3) Specify the filename and number of sample locations to generate within the AOI\n",
    "\n",
    "  4) Launch batch data extraction\n"
   ]
  },
  {
   "cell_type": "markdown",
   "metadata": {
    "id": "CHn4vExr_-9z"
   },
   "source": [
    "# Setup Notebook"
   ]
  },
  {
   "cell_type": "code",
   "execution_count": 1,
   "metadata": {
    "executionInfo": {
     "elapsed": 56,
     "status": "ok",
     "timestamp": 1659278011365,
     "user": {
      "displayName": "Blair Jones",
      "userId": "11507989587297916179"
     },
     "user_tz": 300
    },
    "id": "lst9ZoxtN-er"
   },
   "outputs": [],
   "source": [
    "#!pip install geemap\n",
    "#!pip install geopandas"
   ]
  },
  {
   "cell_type": "code",
   "execution_count": 2,
   "metadata": {
    "executionInfo": {
     "elapsed": 1681,
     "status": "ok",
     "timestamp": 1659278013112,
     "user": {
      "displayName": "Blair Jones",
      "userId": "11507989587297916179"
     },
     "user_tz": 300
    },
    "id": "ATpKA5QIOFUk"
   },
   "outputs": [],
   "source": [
    "import ee\n",
    "#ee.Authenticate()\n",
    "ee.Initialize()\n",
    "import geemap\n",
    "\n",
    "import numpy as np\n",
    "import pandas as pd\n",
    "import datetime\n",
    "from timeit import default_timer as timer\n",
    "from datetime import timedelta"
   ]
  },
  {
   "cell_type": "code",
   "execution_count": 3,
   "metadata": {
    "colab": {
     "base_uri": "https://localhost:8080/"
    },
    "executionInfo": {
     "elapsed": 153,
     "status": "ok",
     "timestamp": 1659278013262,
     "user": {
      "displayName": "Blair Jones",
      "userId": "11507989587297916179"
     },
     "user_tz": 300
    },
    "id": "UFqGbailPSp0",
    "outputId": "c9df8128-4055-4491-d95a-0f13fc8b6eda"
   },
   "outputs": [
    {
     "name": "stdout",
     "output_type": "stream",
     "text": [
      "/content\n",
      "fatal: destination path 'irrigation' already exists and is not an empty directory.\n",
      "/content/irrigation\n"
     ]
    }
   ],
   "source": [
    "%cd /content\n",
    "#!git clone https://github.com/gee-hydro/geeSEBAL.git\n",
    "!git clone https://github.com/earthdataanalytics/irrigation.git\n",
    "#!cp -r geeSEBAL/etbrasil/ irrigation/\n",
    "%cd irrigation/"
   ]
  },
  {
   "cell_type": "markdown",
   "metadata": {
    "id": "nXZ8LFyHlBJ5"
   },
   "source": [
    "### Import Custom Libraries"
   ]
  },
  {
   "cell_type": "code",
   "execution_count": 4,
   "metadata": {
    "executionInfo": {
     "elapsed": 634,
     "status": "ok",
     "timestamp": 1659278013895,
     "user": {
      "displayName": "Blair Jones",
      "userId": "11507989587297916179"
     },
     "user_tz": 300
    },
    "id": "diUuKsIzIvFM"
   },
   "outputs": [],
   "source": [
    "from pipeline import boundaries as bnd\n",
    "from pipeline import rainfed_labels as rain_labels\n",
    "from pipeline import labeledsamples as ls\n",
    "from pipeline import dataextract as dx\n",
    "from pipeline import cropmasks as msk"
   ]
  },
  {
   "cell_type": "markdown",
   "metadata": {
    "id": "nijMMmz__6CD"
   },
   "source": [
    "## 1) Show labeled locations on map\n",
    "\n",
    "Rain = Red\n",
    "\n",
    "Irrigated = Blue"
   ]
  },
  {
   "cell_type": "code",
   "execution_count": 5,
   "metadata": {
    "colab": {
     "base_uri": "https://localhost:8080/"
    },
    "executionInfo": {
     "elapsed": 3169,
     "status": "ok",
     "timestamp": 1659278017062,
     "user": {
      "displayName": "Blair Jones",
      "userId": "11507989587297916179"
     },
     "user_tz": 300
    },
    "id": "Ux23EAJ7se0X",
    "outputId": "d1af4080-27d0-478f-ded8-94fd163e5649"
   },
   "outputs": [
    {
     "name": "stderr",
     "output_type": "stream",
     "text": [
      "/usr/local/lib/python3.7/dist-packages/geopandas/_compat.py:115: UserWarning: The Shapely GEOS version (3.9.1-CAPI-1.14.2) is incompatible with the GEOS version PyGEOS was compiled with (3.10.1-CAPI-1.16.0). Conversions between both will be slow.\n",
      "  shapely_geos_version, geos_capi_version_string\n"
     ]
    }
   ],
   "source": [
    "# irrMapper and LANID data\n",
    "irr_west, rain_west, irr_east, rain_east = ls.getRawLabeledData()"
   ]
  },
  {
   "cell_type": "code",
   "execution_count": 6,
   "metadata": {
    "colab": {
     "base_uri": "https://localhost:8080/",
     "height": 621,
     "referenced_widgets": [
      "dac79964504c48ffa882829c2f046ff1",
      "0ded1f4becb6489a99e90dc4b6c03f05",
      "11e31b71ce514db48372a56654c950dc",
      "0a26048433ed4d9f9fa4137f0bdd69ed",
      "b059c088b44e44b49a40c73a8149e0a7",
      "bd898e66038847aa8d0e9bbb6de2de9d",
      "aadd9d74d1d94ad28be8f2aa38415097",
      "3c64dbfba37d456eb87bce6dc3ad5577",
      "e1dafb2780fb451483a32306cab2d7b4",
      "68cfaa21d4574131a8a5be3f41c0e4cd",
      "b31ece45c5a54be4bbc7b93d97eee43f",
      "b0e1aff0e42f4c98879b64dc6c20ce1d",
      "c947a9c10c264aadb70393024991b302",
      "97def0bd7f564260a973b56a4f178997",
      "0e025b9368fc462cad1904d1fa58ea98",
      "84ff89fcc6374673882803d455d23934",
      "69bf5b45d1ae4718a2065353ae3a0643",
      "1aa509fd61cc436382ab7731978af2f0",
      "f2d4c7cbd28f4c8596e15cd44b5b065e",
      "bdf7a30937c14c86a14c670f846a0c29",
      "1eddccec83934d70a1088b1fa3b32b83",
      "3a7ef047bfd84a3fa9b2ef73dbf7c323",
      "4a26131e0a3f4ecd9e7d0a90701d006d",
      "478170c4475b4188be81eca4caad1a56",
      "ff962e5b6df44680b098c1f261749d49",
      "ed6a9c169464475aa5a4d551d70cce5d",
      "e292bc72dbbe40599c0519ad828c2ce5",
      "5697c3d5965c4ee59e6d59a0eaf4e2c4",
      "20bf4d22fb1648f296aa64ee7a5e0f79",
      "6cd39cae06b745dd86d5c7c592ae8002",
      "fbe6af5ed8c5410bb5c53fcf7afa8531"
     ]
    },
    "executionInfo": {
     "elapsed": 2352,
     "status": "ok",
     "timestamp": 1659278019497,
     "user": {
      "displayName": "Blair Jones",
      "userId": "11507989587297916179"
     },
     "user_tz": 300
    },
    "id": "p3WGynWLsxPz",
    "outputId": "0fa8d752-46f2-4aeb-8f25-c81fd1699fdd"
   },
   "outputs": [
    {
     "data": {
      "application/vnd.jupyter.widget-view+json": {
       "model_id": "dac79964504c48ffa882829c2f046ff1",
       "version_major": 2,
       "version_minor": 0
      },
      "text/plain": [
       "Map(center=[20, 0], controls=(WidgetControl(options=['position', 'transparent_bg'], widget=HBox(children=(Togg…"
      ]
     },
     "metadata": {
      "application/vnd.jupyter.widget-view+json": {
       "colab": {
        "custom_widget_manager": {
         "url": "https://ssl.gstatic.com/colaboratory-static/widgets/colab-cdn-widget-manager/a8874ba6619b6106/manager.min.js"
        }
       }
      }
     },
     "output_type": "display_data"
    }
   ],
   "source": [
    "Map = geemap.Map()\n",
    "Map.add_basemap('HYBRID')\n",
    "Map.addLayer(irr_west, { 'color': 'blue'}, 'irrigated irrM west', opacity=0.5)\n",
    "Map.addLayer(rain_west, { 'color': 'red'}, 'rainfed irrM west', opacity=0.5)\n",
    "#Map.addLayer(irr_east, { 'color': 'blue'}, 'irrigated LANID east', opacity=0.5)\n",
    "#Map.addLayer(rain_east, { 'color': 'red'}, 'rainfed LANID east', opacity=0.5)\n",
    "Map.addLayer(rain_labels.manual_rainfed, { 'color': 'red'}, 'rainfed manual labels', opacity=0.5)\n",
    "Map.center_object(irr_west)\n",
    "Map"
   ]
  },
  {
   "cell_type": "markdown",
   "metadata": {
    "id": "Te5ZJTJR06VD"
   },
   "source": [
    "## 2) Draw a bounding box on the map around the area in which to extract data"
   ]
  },
  {
   "cell_type": "markdown",
   "metadata": {
    "id": "jtcFdkazKbXE"
   },
   "source": [
    "## 3) Generate sample locations within the bounding box\n",
    "\n",
    "Specify the:\n",
    "\n",
    "* name of the AOI\n",
    "* number of sample locations to generate\n",
    "\n",
    "\n",
    "This displays the generated samples as Yellow points on the map."
   ]
  },
  {
   "cell_type": "code",
   "execution_count": 7,
   "metadata": {
    "colab": {
     "base_uri": "https://localhost:8080/",
     "height": 34
    },
    "executionInfo": {
     "elapsed": 53241,
     "status": "ok",
     "timestamp": 1659278147065,
     "user": {
      "displayName": "Blair Jones",
      "userId": "11507989587297916179"
     },
     "user_tz": 300
    },
    "id": "laLaghPfYGS1",
    "outputId": "1498e733-020c-43e0-a223-7a0f5c010bc3"
   },
   "outputs": [
    {
     "name": "stdout",
     "output_type": "stream",
     "text": [
      "Number of sample locations generated by type {'0': 1, '1': 1}\n"
     ]
    }
   ],
   "source": [
    "# specify manually\n",
    "aoi_name = 'test_throwaway' # used in the saved filename\n",
    "num_samples = 50 # number of samples locations for each class\n",
    "\n",
    "if Map and (len(Map.draw_features) > 0):\n",
    "    AOI = ee.FeatureCollection(Map.draw_features)\n",
    "    sample_locs = ls.generateAnnualSampleLocations(AOI, aoi_name, \n",
    "                                              num_samples=num_samples,\n",
    "                                              #start_yr=2015, end_yr=2021,\n",
    "                                            )\n",
    "    print('Number of sample locations generated by type', sample_locs.aggregate_histogram('POINT_TYPE').getInfo())\n",
    "    Map.addLayer(sample_locs.draw(color=\"yellow\", pointRadius=5, strokeWidth=3), {}, 'sample_locations')\n",
    "    Map.centerObject(sample_locs)\n",
    "\n",
    "else:\n",
    "    print(\"No AOI selected on Map\")"
   ]
  },
  {
   "cell_type": "markdown",
   "metadata": {
    "id": "X8yqw4i-V2py"
   },
   "source": [
    "## 4) Launch batch data extraction"
   ]
  },
  {
   "cell_type": "code",
   "execution_count": null,
   "metadata": {
    "colab": {
     "base_uri": "https://localhost:8080/",
     "height": 503
    },
    "executionInfo": {
     "elapsed": 140043,
     "status": "error",
     "timestamp": 1659278289453,
     "user": {
      "displayName": "Blair Jones",
      "userId": "11507989587297916179"
     },
     "user_tz": 300
    },
    "id": "bTf-t-wa7YhN",
    "outputId": "aafd079b-4bf4-4af8-a752-dc39c557c8fb"
   },
   "outputs": [],
   "source": [
    "if sample_locs:\n",
    "    et = dx.extractData(sample_locs, aoi_name)"
   ]
  },
  {
   "cell_type": "code",
   "execution_count": null,
   "metadata": {
    "colab": {
     "base_uri": "https://localhost:8080/"
    },
    "executionInfo": {
     "elapsed": 5800,
     "status": "ok",
     "timestamp": 1648214148897,
     "user": {
      "displayName": "Blair Jones",
      "photoUrl": "https://lh3.googleusercontent.com/a/default-user=s64",
      "userId": "11507989587297916179"
     },
     "user_tz": 300
    },
    "id": "g_nD5fBDGxej",
    "outputId": "b68f20ef-5dc8-4989-dffe-4628e3c3eb56"
   },
   "outputs": [
    {
     "name": "stdout",
     "output_type": "stream",
     "text": [
      "0\n"
     ]
    }
   ],
   "source": [
    "!earthengine task list --status RUNNING READY | wc -l"
   ]
  },
  {
   "cell_type": "code",
   "execution_count": null,
   "metadata": {
    "id": "-C0779a1ah7E"
   },
   "outputs": [],
   "source": []
  }
 ],
 "metadata": {
  "colab": {
   "collapsed_sections": [],
   "name": "ET_Data_Extract_pipeline_annual.ipynb",
   "provenance": [
    {
     "file_id": "1j9czqdVYpKMsZ4A9OuR8AzhP8nqSTEza",
     "timestamp": 1646395591173
    },
    {
     "file_id": "1YST0rKUOHFgMG_q0h6qazFAtX-begT6b",
     "timestamp": 1645981406840
    }
   ]
  },
  "kernelspec": {
   "display_name": "Python 3",
   "language": "python",
   "name": "python3"
  },
  "language_info": {
   "codemirror_mode": {
    "name": "ipython",
    "version": 3
   },
   "file_extension": ".py",
   "mimetype": "text/x-python",
   "name": "python",
   "nbconvert_exporter": "python",
   "pygments_lexer": "ipython3",
   "version": "3.7.4"
  },
  "widgets": {
   "application/vnd.jupyter.widget-state+json": {
    "0a26048433ed4d9f9fa4137f0bdd69ed": {
     "model_module": "jupyter-leaflet",
     "model_module_version": "^0.15.0",
     "model_name": "LeafletWidgetControlModel",
     "state": {
      "_model_module": "jupyter-leaflet",
      "_model_module_version": "^0.15.0",
      "_model_name": "LeafletWidgetControlModel",
      "_view_count": null,
      "_view_module": "jupyter-leaflet",
      "_view_module_version": "^0.15.0",
      "_view_name": "LeafletWidgetControlView",
      "max_height": null,
      "max_width": null,
      "min_height": null,
      "min_width": null,
      "options": [
       "position",
       "transparent_bg"
      ],
      "position": "topleft",
      "transparent_bg": false,
      "widget": "IPY_MODEL_bdf7a30937c14c86a14c670f846a0c29"
     }
    },
    "0ded1f4becb6489a99e90dc4b6c03f05": {
     "model_module": "jupyter-leaflet",
     "model_module_version": "^0.15.0",
     "model_name": "LeafletMapStyleModel",
     "state": {
      "_model_module": "jupyter-leaflet",
      "_model_module_version": "^0.15.0",
      "_model_name": "LeafletMapStyleModel",
      "_view_count": null,
      "_view_module": "@jupyter-widgets/base",
      "_view_module_version": "1.2.0",
      "_view_name": "StyleView",
      "cursor": "grab"
     }
    },
    "0e025b9368fc462cad1904d1fa58ea98": {
     "model_module": "jupyter-leaflet",
     "model_module_version": "^0.15.0",
     "model_name": "LeafletTileLayerModel",
     "state": {
      "_model_module": "jupyter-leaflet",
      "_model_module_version": "^0.15.0",
      "_model_name": "LeafletTileLayerModel",
      "_view_count": null,
      "_view_module": "jupyter-leaflet",
      "_view_module_version": "^0.15.0",
      "_view_name": "LeafletTileLayerView",
      "attribution": "Google",
      "base": false,
      "bottom": true,
      "detect_retina": false,
      "loading": false,
      "max_native_zoom": 18,
      "max_zoom": 22,
      "min_native_zoom": 0,
      "min_zoom": 0,
      "name": "Google Satellite",
      "no_wrap": false,
      "opacity": 1,
      "options": [
       "attribution",
       "detect_retina",
       "max_native_zoom",
       "max_zoom",
       "min_native_zoom",
       "min_zoom",
       "no_wrap",
       "tile_size",
       "tms"
      ],
      "popup": null,
      "popup_max_height": null,
      "popup_max_width": 300,
      "popup_min_width": 50,
      "show_loading": false,
      "tile_size": 256,
      "tms": false,
      "url": "https://mt1.google.com/vt/lyrs=y&x={x}&y={y}&z={z}",
      "visible": true
     }
    },
    "11e31b71ce514db48372a56654c950dc": {
     "model_module": "@jupyter-widgets/base",
     "model_module_version": "1.2.0",
     "model_name": "LayoutModel",
     "state": {
      "_model_module": "@jupyter-widgets/base",
      "_model_module_version": "1.2.0",
      "_model_name": "LayoutModel",
      "_view_count": null,
      "_view_module": "@jupyter-widgets/base",
      "_view_module_version": "1.2.0",
      "_view_name": "LayoutView",
      "align_content": null,
      "align_items": null,
      "align_self": null,
      "border": null,
      "bottom": null,
      "display": null,
      "flex": null,
      "flex_flow": null,
      "grid_area": null,
      "grid_auto_columns": null,
      "grid_auto_flow": null,
      "grid_auto_rows": null,
      "grid_column": null,
      "grid_gap": null,
      "grid_row": null,
      "grid_template_areas": null,
      "grid_template_columns": null,
      "grid_template_rows": null,
      "height": "600px",
      "justify_content": null,
      "justify_items": null,
      "left": null,
      "margin": null,
      "max_height": null,
      "max_width": null,
      "min_height": null,
      "min_width": null,
      "object_fit": null,
      "object_position": null,
      "order": null,
      "overflow": null,
      "overflow_x": null,
      "overflow_y": null,
      "padding": null,
      "right": null,
      "top": null,
      "visibility": null,
      "width": null
     }
    },
    "1aa509fd61cc436382ab7731978af2f0": {
     "model_module": "jupyter-leaflet",
     "model_module_version": "^0.15.0",
     "model_name": "LeafletTileLayerModel",
     "state": {
      "_model_module": "jupyter-leaflet",
      "_model_module_version": "^0.15.0",
      "_model_name": "LeafletTileLayerModel",
      "_view_count": null,
      "_view_module": "jupyter-leaflet",
      "_view_module_version": "^0.15.0",
      "_view_name": "LeafletTileLayerView",
      "attribution": "Google Earth Engine",
      "base": false,
      "bottom": true,
      "detect_retina": false,
      "loading": false,
      "max_native_zoom": 18,
      "max_zoom": 24,
      "min_native_zoom": 0,
      "min_zoom": 0,
      "name": "rainfed manual labels",
      "no_wrap": false,
      "opacity": 0.5,
      "options": [
       "attribution",
       "detect_retina",
       "max_native_zoom",
       "max_zoom",
       "min_native_zoom",
       "min_zoom",
       "no_wrap",
       "tile_size",
       "tms"
      ],
      "popup": null,
      "popup_max_height": null,
      "popup_max_width": 300,
      "popup_min_width": 50,
      "show_loading": false,
      "tile_size": 256,
      "tms": false,
      "url": "https://earthengine.googleapis.com/v1alpha/projects/earthengine-legacy/maps/21ca1a9bb1c8dc5e6aa4f2aed8f4b8f7-9f8091aa61d712c3f7df4d09df6d5b31/tiles/{z}/{x}/{y}",
      "visible": true
     }
    },
    "1eddccec83934d70a1088b1fa3b32b83": {
     "model_module": "@jupyter-widgets/controls",
     "model_module_version": "1.5.0",
     "model_name": "VBoxModel",
     "state": {
      "_dom_classes": [],
      "_model_module": "@jupyter-widgets/controls",
      "_model_module_version": "1.5.0",
      "_model_name": "VBoxModel",
      "_view_count": null,
      "_view_module": "@jupyter-widgets/controls",
      "_view_module_version": "1.5.0",
      "_view_name": "VBoxView",
      "box_style": "",
      "children": [
       "IPY_MODEL_ff962e5b6df44680b098c1f261749d49"
      ],
      "layout": "IPY_MODEL_478170c4475b4188be81eca4caad1a56"
     }
    },
    "20bf4d22fb1648f296aa64ee7a5e0f79": {
     "model_module": "@jupyter-widgets/base",
     "model_module_version": "1.2.0",
     "model_name": "LayoutModel",
     "state": {
      "_model_module": "@jupyter-widgets/base",
      "_model_module_version": "1.2.0",
      "_model_name": "LayoutModel",
      "_view_count": null,
      "_view_module": "@jupyter-widgets/base",
      "_view_module_version": "1.2.0",
      "_view_name": "LayoutView",
      "align_content": null,
      "align_items": null,
      "align_self": null,
      "border": null,
      "bottom": null,
      "display": null,
      "flex": null,
      "flex_flow": null,
      "grid_area": null,
      "grid_auto_columns": null,
      "grid_auto_flow": null,
      "grid_auto_rows": null,
      "grid_column": null,
      "grid_gap": null,
      "grid_row": null,
      "grid_template_areas": null,
      "grid_template_columns": null,
      "grid_template_rows": null,
      "height": "28px",
      "justify_content": null,
      "justify_items": null,
      "left": null,
      "margin": null,
      "max_height": null,
      "max_width": null,
      "min_height": null,
      "min_width": null,
      "object_fit": null,
      "object_position": null,
      "order": null,
      "overflow": null,
      "overflow_x": null,
      "overflow_y": null,
      "padding": "0px 0px 0px 4px",
      "right": null,
      "top": null,
      "visibility": null,
      "width": "28px"
     }
    },
    "3a7ef047bfd84a3fa9b2ef73dbf7c323": {
     "model_module": "@jupyter-widgets/base",
     "model_module_version": "1.2.0",
     "model_name": "LayoutModel",
     "state": {
      "_model_module": "@jupyter-widgets/base",
      "_model_module_version": "1.2.0",
      "_model_name": "LayoutModel",
      "_view_count": null,
      "_view_module": "@jupyter-widgets/base",
      "_view_module_version": "1.2.0",
      "_view_name": "LayoutView",
      "align_content": null,
      "align_items": null,
      "align_self": null,
      "border": null,
      "bottom": null,
      "display": null,
      "flex": null,
      "flex_flow": null,
      "grid_area": null,
      "grid_auto_columns": null,
      "grid_auto_flow": null,
      "grid_auto_rows": null,
      "grid_column": null,
      "grid_gap": null,
      "grid_row": null,
      "grid_template_areas": null,
      "grid_template_columns": null,
      "grid_template_rows": null,
      "height": null,
      "justify_content": null,
      "justify_items": null,
      "left": null,
      "margin": null,
      "max_height": null,
      "max_width": null,
      "min_height": null,
      "min_width": null,
      "object_fit": null,
      "object_position": null,
      "order": null,
      "overflow": null,
      "overflow_x": null,
      "overflow_y": null,
      "padding": null,
      "right": null,
      "top": null,
      "visibility": null,
      "width": null
     }
    },
    "3c64dbfba37d456eb87bce6dc3ad5577": {
     "model_module": "jupyter-leaflet",
     "model_module_version": "^0.15.0",
     "model_name": "LeafletMeasureControlModel",
     "state": {
      "_custom_units": {},
      "_model_module": "jupyter-leaflet",
      "_model_module_version": "^0.15.0",
      "_model_name": "LeafletMeasureControlModel",
      "_view_count": null,
      "_view_module": "jupyter-leaflet",
      "_view_module_version": "^0.15.0",
      "_view_name": "LeafletMeasureControlView",
      "active_color": "orange",
      "capture_z_index": 10000,
      "completed_color": "#C8F2BE",
      "options": [
       "active_color",
       "capture_z_index",
       "completed_color",
       "popup_options",
       "position",
       "primary_area_unit",
       "primary_length_unit",
       "secondary_area_unit",
       "secondary_length_unit"
      ],
      "popup_options": {
       "autoPanPadding": [
        10,
        10
       ],
       "className": "leaflet-measure-resultpopup"
      },
      "position": "bottomleft",
      "primary_area_unit": "acres",
      "primary_length_unit": "kilometers",
      "secondary_area_unit": null,
      "secondary_length_unit": null
     }
    },
    "478170c4475b4188be81eca4caad1a56": {
     "model_module": "@jupyter-widgets/base",
     "model_module_version": "1.2.0",
     "model_name": "LayoutModel",
     "state": {
      "_model_module": "@jupyter-widgets/base",
      "_model_module_version": "1.2.0",
      "_model_name": "LayoutModel",
      "_view_count": null,
      "_view_module": "@jupyter-widgets/base",
      "_view_module_version": "1.2.0",
      "_view_name": "LayoutView",
      "align_content": null,
      "align_items": null,
      "align_self": null,
      "border": null,
      "bottom": null,
      "display": null,
      "flex": null,
      "flex_flow": null,
      "grid_area": null,
      "grid_auto_columns": null,
      "grid_auto_flow": null,
      "grid_auto_rows": null,
      "grid_column": null,
      "grid_gap": null,
      "grid_row": null,
      "grid_template_areas": null,
      "grid_template_columns": null,
      "grid_template_rows": null,
      "height": null,
      "justify_content": null,
      "justify_items": null,
      "left": null,
      "margin": null,
      "max_height": null,
      "max_width": null,
      "min_height": null,
      "min_width": null,
      "object_fit": null,
      "object_position": null,
      "order": null,
      "overflow": null,
      "overflow_x": null,
      "overflow_y": null,
      "padding": null,
      "right": null,
      "top": null,
      "visibility": null,
      "width": null
     }
    },
    "4a26131e0a3f4ecd9e7d0a90701d006d": {
     "model_module": "@jupyter-widgets/controls",
     "model_module_version": "1.5.0",
     "model_name": "ToggleButtonModel",
     "state": {
      "_dom_classes": [],
      "_model_module": "@jupyter-widgets/controls",
      "_model_module_version": "1.5.0",
      "_model_name": "ToggleButtonModel",
      "_view_count": null,
      "_view_module": "@jupyter-widgets/controls",
      "_view_module_version": "1.5.0",
      "_view_name": "ToggleButtonView",
      "button_style": "",
      "description": "",
      "description_tooltip": null,
      "disabled": false,
      "icon": "globe",
      "layout": "IPY_MODEL_e292bc72dbbe40599c0519ad828c2ce5",
      "style": "IPY_MODEL_ed6a9c169464475aa5a4d551d70cce5d",
      "tooltip": "Search location/data",
      "value": false
     }
    },
    "5697c3d5965c4ee59e6d59a0eaf4e2c4": {
     "model_module": "@jupyter-widgets/controls",
     "model_module_version": "1.5.0",
     "model_name": "DescriptionStyleModel",
     "state": {
      "_model_module": "@jupyter-widgets/controls",
      "_model_module_version": "1.5.0",
      "_model_name": "DescriptionStyleModel",
      "_view_count": null,
      "_view_module": "@jupyter-widgets/base",
      "_view_module_version": "1.2.0",
      "_view_name": "StyleView",
      "description_width": ""
     }
    },
    "68cfaa21d4574131a8a5be3f41c0e4cd": {
     "model_module": "jupyter-leaflet",
     "model_module_version": "^0.15.0",
     "model_name": "LeafletDrawControlModel",
     "state": {
      "_model_module": "jupyter-leaflet",
      "_model_module_version": "^0.15.0",
      "_model_name": "LeafletDrawControlModel",
      "_view_count": null,
      "_view_module": "jupyter-leaflet",
      "_view_module_version": "^0.15.0",
      "_view_name": "LeafletDrawControlView",
      "circle": {
       "shapeOptions": {
        "color": "#3388ff"
       }
      },
      "circlemarker": {},
      "data": [
       {
        "geometry": {
         "coordinates": [
          [
           [
            -129.265137,
            29.678508
           ],
           [
            -129.265137,
            48.552978
           ],
           [
            -100.294189,
            48.552978
           ],
           [
            -100.294189,
            29.678508
           ],
           [
            -129.265137,
            29.678508
           ]
          ]
         ],
         "type": "Polygon"
        },
        "properties": {
         "style": {
          "clickable": true,
          "color": "#3388ff",
          "fill": true,
          "fillColor": null,
          "fillOpacity": 0.2,
          "opacity": 0.5,
          "stroke": true,
          "weight": 4
         }
        },
        "type": "Feature"
       }
      ],
      "edit": true,
      "marker": {
       "shapeOptions": {
        "color": "#3388ff"
       }
      },
      "options": [
       "position"
      ],
      "polygon": {
       "shapeOptions": {}
      },
      "polyline": {
       "shapeOptions": {}
      },
      "position": "topleft",
      "rectangle": {
       "shapeOptions": {
        "color": "#3388ff"
       }
      },
      "remove": true
     }
    },
    "69bf5b45d1ae4718a2065353ae3a0643": {
     "model_module": "jupyter-leaflet",
     "model_module_version": "^0.15.0",
     "model_name": "LeafletTileLayerModel",
     "state": {
      "_model_module": "jupyter-leaflet",
      "_model_module_version": "^0.15.0",
      "_model_name": "LeafletTileLayerModel",
      "_view_count": null,
      "_view_module": "jupyter-leaflet",
      "_view_module_version": "^0.15.0",
      "_view_name": "LeafletTileLayerView",
      "attribution": "Google Earth Engine",
      "base": false,
      "bottom": true,
      "detect_retina": false,
      "loading": false,
      "max_native_zoom": 18,
      "max_zoom": 24,
      "min_native_zoom": 0,
      "min_zoom": 0,
      "name": "rainfed irrM west",
      "no_wrap": false,
      "opacity": 0.5,
      "options": [
       "attribution",
       "detect_retina",
       "max_native_zoom",
       "max_zoom",
       "min_native_zoom",
       "min_zoom",
       "no_wrap",
       "tile_size",
       "tms"
      ],
      "popup": null,
      "popup_max_height": null,
      "popup_max_width": 300,
      "popup_min_width": 50,
      "show_loading": false,
      "tile_size": 256,
      "tms": false,
      "url": "https://earthengine.googleapis.com/v1alpha/projects/earthengine-legacy/maps/caf90c6d71d37130b8f8bf59facc041d-b51baa5535d5d958e8228a49393947a4/tiles/{z}/{x}/{y}",
      "visible": true
     }
    },
    "6cd39cae06b745dd86d5c7c592ae8002": {
     "model_module": "jupyter-leaflet",
     "model_module_version": "^0.15.0",
     "model_name": "LeafletTileLayerModel",
     "state": {
      "_model_module": "jupyter-leaflet",
      "_model_module_version": "^0.15.0",
      "_model_name": "LeafletTileLayerModel",
      "_view_count": null,
      "_view_module": "jupyter-leaflet",
      "_view_module_version": "^0.15.0",
      "_view_name": "LeafletTileLayerView",
      "attribution": "Google Earth Engine",
      "base": false,
      "bottom": true,
      "detect_retina": false,
      "loading": false,
      "max_native_zoom": 18,
      "max_zoom": 18,
      "min_native_zoom": 0,
      "min_zoom": 0,
      "name": "Drawn Features",
      "no_wrap": false,
      "opacity": 0.5,
      "options": [
       "attribution",
       "detect_retina",
       "max_native_zoom",
       "max_zoom",
       "min_native_zoom",
       "min_zoom",
       "no_wrap",
       "tile_size",
       "tms"
      ],
      "popup": null,
      "popup_max_height": null,
      "popup_max_width": 300,
      "popup_min_width": 50,
      "show_loading": false,
      "tile_size": 256,
      "tms": false,
      "url": "https://earthengine.googleapis.com/v1alpha/projects/earthengine-legacy/maps/f1e864dd6158386c1fab98ae646e304f-7881cd68e19ca2dee64fe55a6f38ec53/tiles/{z}/{x}/{y}",
      "visible": false
     }
    },
    "84ff89fcc6374673882803d455d23934": {
     "model_module": "jupyter-leaflet",
     "model_module_version": "^0.15.0",
     "model_name": "LeafletTileLayerModel",
     "state": {
      "_model_module": "jupyter-leaflet",
      "_model_module_version": "^0.15.0",
      "_model_name": "LeafletTileLayerModel",
      "_view_count": null,
      "_view_module": "jupyter-leaflet",
      "_view_module_version": "^0.15.0",
      "_view_name": "LeafletTileLayerView",
      "attribution": "Google Earth Engine",
      "base": false,
      "bottom": true,
      "detect_retina": false,
      "loading": false,
      "max_native_zoom": 18,
      "max_zoom": 24,
      "min_native_zoom": 0,
      "min_zoom": 0,
      "name": "irrigated irrM west",
      "no_wrap": false,
      "opacity": 0.5,
      "options": [
       "attribution",
       "detect_retina",
       "max_native_zoom",
       "max_zoom",
       "min_native_zoom",
       "min_zoom",
       "no_wrap",
       "tile_size",
       "tms"
      ],
      "popup": null,
      "popup_max_height": null,
      "popup_max_width": 300,
      "popup_min_width": 50,
      "show_loading": false,
      "tile_size": 256,
      "tms": false,
      "url": "https://earthengine.googleapis.com/v1alpha/projects/earthengine-legacy/maps/2e1149167373d6912e2fb9f7960159d1-912861dba7015ef3d0079202ab1cc5be/tiles/{z}/{x}/{y}",
      "visible": true
     }
    },
    "97def0bd7f564260a973b56a4f178997": {
     "model_module": "jupyter-leaflet",
     "model_module_version": "^0.15.0",
     "model_name": "LeafletTileLayerModel",
     "state": {
      "_model_module": "jupyter-leaflet",
      "_model_module_version": "^0.15.0",
      "_model_name": "LeafletTileLayerModel",
      "_view_count": null,
      "_view_module": "jupyter-leaflet",
      "_view_module_version": "^0.15.0",
      "_view_name": "LeafletTileLayerView",
      "attribution": "Google",
      "base": false,
      "bottom": true,
      "detect_retina": false,
      "loading": false,
      "max_native_zoom": 18,
      "max_zoom": 22,
      "min_native_zoom": 0,
      "min_zoom": 0,
      "name": "Google Maps",
      "no_wrap": false,
      "opacity": 1,
      "options": [
       "attribution",
       "detect_retina",
       "max_native_zoom",
       "max_zoom",
       "min_native_zoom",
       "min_zoom",
       "no_wrap",
       "tile_size",
       "tms"
      ],
      "popup": null,
      "popup_max_height": null,
      "popup_max_width": 300,
      "popup_min_width": 50,
      "show_loading": false,
      "tile_size": 256,
      "tms": false,
      "url": "https://mt1.google.com/vt/lyrs=m&x={x}&y={y}&z={z}",
      "visible": true
     }
    },
    "aadd9d74d1d94ad28be8f2aa38415097": {
     "model_module": "jupyter-leaflet",
     "model_module_version": "^0.15.0",
     "model_name": "LeafletFullScreenControlModel",
     "state": {
      "_model_module": "jupyter-leaflet",
      "_model_module_version": "^0.15.0",
      "_model_name": "LeafletFullScreenControlModel",
      "_view_count": null,
      "_view_module": "jupyter-leaflet",
      "_view_module_version": "^0.15.0",
      "_view_name": "LeafletFullScreenControlView",
      "options": [
       "position"
      ],
      "position": "topleft"
     }
    },
    "b059c088b44e44b49a40c73a8149e0a7": {
     "model_module": "jupyter-leaflet",
     "model_module_version": "^0.15.0",
     "model_name": "LeafletZoomControlModel",
     "state": {
      "_model_module": "jupyter-leaflet",
      "_model_module_version": "^0.15.0",
      "_model_name": "LeafletZoomControlModel",
      "_view_count": null,
      "_view_module": "jupyter-leaflet",
      "_view_module_version": "^0.15.0",
      "_view_name": "LeafletZoomControlView",
      "options": [
       "position",
       "zoom_in_text",
       "zoom_in_title",
       "zoom_out_text",
       "zoom_out_title"
      ],
      "position": "topleft",
      "zoom_in_text": "+",
      "zoom_in_title": "Zoom in",
      "zoom_out_text": "-",
      "zoom_out_title": "Zoom out"
     }
    },
    "b0e1aff0e42f4c98879b64dc6c20ce1d": {
     "model_module": "jupyter-leaflet",
     "model_module_version": "^0.15.0",
     "model_name": "LeafletMapStyleModel",
     "state": {
      "_model_module": "jupyter-leaflet",
      "_model_module_version": "^0.15.0",
      "_model_name": "LeafletMapStyleModel",
      "_view_count": null,
      "_view_module": "@jupyter-widgets/base",
      "_view_module_version": "1.2.0",
      "_view_name": "StyleView",
      "cursor": "grab"
     }
    },
    "b31ece45c5a54be4bbc7b93d97eee43f": {
     "model_module": "jupyter-leaflet",
     "model_module_version": "^0.15.0",
     "model_name": "LeafletWidgetControlModel",
     "state": {
      "_model_module": "jupyter-leaflet",
      "_model_module_version": "^0.15.0",
      "_model_name": "LeafletWidgetControlModel",
      "_view_count": null,
      "_view_module": "jupyter-leaflet",
      "_view_module_version": "^0.15.0",
      "_view_name": "LeafletWidgetControlView",
      "max_height": null,
      "max_width": null,
      "min_height": null,
      "min_width": null,
      "options": [
       "position",
       "transparent_bg"
      ],
      "position": "topright",
      "transparent_bg": false,
      "widget": "IPY_MODEL_1eddccec83934d70a1088b1fa3b32b83"
     }
    },
    "bd898e66038847aa8d0e9bbb6de2de9d": {
     "model_module": "jupyter-leaflet",
     "model_module_version": "^0.15.0",
     "model_name": "LeafletScaleControlModel",
     "state": {
      "_model_module": "jupyter-leaflet",
      "_model_module_version": "^0.15.0",
      "_model_name": "LeafletScaleControlModel",
      "_view_count": null,
      "_view_module": "jupyter-leaflet",
      "_view_module_version": "^0.15.0",
      "_view_name": "LeafletScaleControlView",
      "imperial": true,
      "max_width": 100,
      "metric": true,
      "options": [
       "imperial",
       "max_width",
       "metric",
       "position",
       "update_when_idle"
      ],
      "position": "bottomleft",
      "update_when_idle": false
     }
    },
    "bdf7a30937c14c86a14c670f846a0c29": {
     "model_module": "@jupyter-widgets/controls",
     "model_module_version": "1.5.0",
     "model_name": "HBoxModel",
     "state": {
      "_dom_classes": [],
      "_model_module": "@jupyter-widgets/controls",
      "_model_module_version": "1.5.0",
      "_model_name": "HBoxModel",
      "_view_count": null,
      "_view_module": "@jupyter-widgets/controls",
      "_view_module_version": "1.5.0",
      "_view_name": "HBoxView",
      "box_style": "",
      "children": [
       "IPY_MODEL_4a26131e0a3f4ecd9e7d0a90701d006d"
      ],
      "layout": "IPY_MODEL_3a7ef047bfd84a3fa9b2ef73dbf7c323"
     }
    },
    "c947a9c10c264aadb70393024991b302": {
     "model_module": "jupyter-leaflet",
     "model_module_version": "^0.15.0",
     "model_name": "LeafletTileLayerModel",
     "state": {
      "_model_module": "jupyter-leaflet",
      "_model_module_version": "^0.15.0",
      "_model_name": "LeafletTileLayerModel",
      "_view_count": null,
      "_view_module": "jupyter-leaflet",
      "_view_module_version": "^0.15.0",
      "_view_name": "LeafletTileLayerView",
      "attribution": "&copy; <a href=\"https://www.openstreetmap.org/copyright\">OpenStreetMap</a> contributors",
      "base": true,
      "bottom": true,
      "detect_retina": false,
      "loading": false,
      "max_native_zoom": 18,
      "max_zoom": 19,
      "min_native_zoom": 0,
      "min_zoom": 1,
      "name": "OpenStreetMap.Mapnik",
      "no_wrap": false,
      "opacity": 1,
      "options": [
       "attribution",
       "detect_retina",
       "max_native_zoom",
       "max_zoom",
       "min_native_zoom",
       "min_zoom",
       "no_wrap",
       "tile_size",
       "tms"
      ],
      "popup": null,
      "popup_max_height": null,
      "popup_max_width": 300,
      "popup_min_width": 50,
      "show_loading": false,
      "tile_size": 256,
      "tms": false,
      "url": "https://a.tile.openstreetmap.org/{z}/{x}/{y}.png",
      "visible": true
     }
    },
    "dac79964504c48ffa882829c2f046ff1": {
     "model_module": "jupyter-leaflet",
     "model_module_version": "^0.15.0",
     "model_name": "LeafletMapModel",
     "state": {
      "_dom_classes": [],
      "_dragging": true,
      "_model_module": "jupyter-leaflet",
      "_model_module_version": "^0.15.0",
      "_model_name": "LeafletMapModel",
      "_view_count": null,
      "_view_module": "jupyter-leaflet",
      "_view_module_version": "^0.15.0",
      "_view_name": "LeafletMapView",
      "bottom": 527,
      "bounce_at_zoom_limits": true,
      "box_zoom": true,
      "center": [
       42.828753732182236,
       -120.06549633722265
      ],
      "close_popup_on_click": true,
      "controls": [
       "IPY_MODEL_0a26048433ed4d9f9fa4137f0bdd69ed",
       "IPY_MODEL_b059c088b44e44b49a40c73a8149e0a7",
       "IPY_MODEL_bd898e66038847aa8d0e9bbb6de2de9d",
       "IPY_MODEL_aadd9d74d1d94ad28be8f2aa38415097",
       "IPY_MODEL_3c64dbfba37d456eb87bce6dc3ad5577",
       "IPY_MODEL_e1dafb2780fb451483a32306cab2d7b4",
       "IPY_MODEL_68cfaa21d4574131a8a5be3f41c0e4cd",
       "IPY_MODEL_b31ece45c5a54be4bbc7b93d97eee43f"
      ],
      "crs": {
       "custom": false,
       "name": "EPSG3857"
      },
      "default_style": "IPY_MODEL_b0e1aff0e42f4c98879b64dc6c20ce1d",
      "double_click_zoom": true,
      "dragging": true,
      "dragging_style": "IPY_MODEL_f2d4c7cbd28f4c8596e15cd44b5b065e",
      "east": 246.09375000000003,
      "fullscreen": false,
      "inertia": true,
      "inertia_deceleration": 3000,
      "inertia_max_speed": 1500,
      "interpolation": "bilinear",
      "keyboard": true,
      "keyboard_pan_offset": 80,
      "keyboard_zoom_offset": 1,
      "layers": [
       "IPY_MODEL_c947a9c10c264aadb70393024991b302",
       "IPY_MODEL_97def0bd7f564260a973b56a4f178997",
       "IPY_MODEL_0e025b9368fc462cad1904d1fa58ea98",
       "IPY_MODEL_84ff89fcc6374673882803d455d23934",
       "IPY_MODEL_69bf5b45d1ae4718a2065353ae3a0643",
       "IPY_MODEL_1aa509fd61cc436382ab7731978af2f0",
       "IPY_MODEL_6cd39cae06b745dd86d5c7c592ae8002",
       "IPY_MODEL_fbe6af5ed8c5410bb5c53fcf7afa8531"
      ],
      "layout": "IPY_MODEL_11e31b71ce514db48372a56654c950dc",
      "left": -94,
      "max_zoom": 24,
      "min_zoom": 1,
      "modisdate": "2022-07-30",
      "north": 87.97851382356153,
      "options": [
       "bounce_at_zoom_limits",
       "box_zoom",
       "center",
       "close_popup_on_click",
       "double_click_zoom",
       "dragging",
       "fullscreen",
       "inertia",
       "inertia_deceleration",
       "inertia_max_speed",
       "interpolation",
       "keyboard",
       "keyboard_pan_offset",
       "keyboard_zoom_offset",
       "max_zoom",
       "min_zoom",
       "prefer_canvas",
       "scroll_wheel_zoom",
       "tap",
       "tap_tolerance",
       "touch_zoom",
       "world_copy_jump",
       "zoom",
       "zoom_animation_threshold",
       "zoom_delta",
       "zoom_snap",
       "zoom_start"
      ],
      "prefer_canvas": false,
      "right": 606,
      "scroll_wheel_zoom": true,
      "south": -85.8823884445632,
      "style": "IPY_MODEL_f2d4c7cbd28f4c8596e15cd44b5b065e",
      "tap": true,
      "tap_tolerance": 15,
      "top": -73,
      "touch_zoom": true,
      "west": -246.09375000000003,
      "window_url": "https://cw4d6x8omfd-496ff2e9c6d22116-0-colab.googleusercontent.com/outputframe.html?vrz=colab-20220728-060048-RC00_463807217",
      "world_copy_jump": false,
      "zoom": 1,
      "zoom_animation_threshold": 4,
      "zoom_delta": 1,
      "zoom_snap": 1,
      "zoom_start": 12
     }
    },
    "e1dafb2780fb451483a32306cab2d7b4": {
     "model_module": "jupyter-leaflet",
     "model_module_version": "^0.15.0",
     "model_name": "LeafletAttributionControlModel",
     "state": {
      "_model_module": "jupyter-leaflet",
      "_model_module_version": "^0.15.0",
      "_model_name": "LeafletAttributionControlModel",
      "_view_count": null,
      "_view_module": "jupyter-leaflet",
      "_view_module_version": "^0.15.0",
      "_view_name": "LeafletAttributionControlView",
      "options": [
       "position",
       "prefix"
      ],
      "position": "bottomright",
      "prefix": "ipyleaflet"
     }
    },
    "e292bc72dbbe40599c0519ad828c2ce5": {
     "model_module": "@jupyter-widgets/base",
     "model_module_version": "1.2.0",
     "model_name": "LayoutModel",
     "state": {
      "_model_module": "@jupyter-widgets/base",
      "_model_module_version": "1.2.0",
      "_model_name": "LayoutModel",
      "_view_count": null,
      "_view_module": "@jupyter-widgets/base",
      "_view_module_version": "1.2.0",
      "_view_name": "LayoutView",
      "align_content": null,
      "align_items": null,
      "align_self": null,
      "border": null,
      "bottom": null,
      "display": null,
      "flex": null,
      "flex_flow": null,
      "grid_area": null,
      "grid_auto_columns": null,
      "grid_auto_flow": null,
      "grid_auto_rows": null,
      "grid_column": null,
      "grid_gap": null,
      "grid_row": null,
      "grid_template_areas": null,
      "grid_template_columns": null,
      "grid_template_rows": null,
      "height": "28px",
      "justify_content": null,
      "justify_items": null,
      "left": null,
      "margin": null,
      "max_height": null,
      "max_width": null,
      "min_height": null,
      "min_width": null,
      "object_fit": null,
      "object_position": null,
      "order": null,
      "overflow": null,
      "overflow_x": null,
      "overflow_y": null,
      "padding": "0px 0px 0px 4px",
      "right": null,
      "top": null,
      "visibility": null,
      "width": "28px"
     }
    },
    "ed6a9c169464475aa5a4d551d70cce5d": {
     "model_module": "@jupyter-widgets/controls",
     "model_module_version": "1.5.0",
     "model_name": "DescriptionStyleModel",
     "state": {
      "_model_module": "@jupyter-widgets/controls",
      "_model_module_version": "1.5.0",
      "_model_name": "DescriptionStyleModel",
      "_view_count": null,
      "_view_module": "@jupyter-widgets/base",
      "_view_module_version": "1.2.0",
      "_view_name": "StyleView",
      "description_width": ""
     }
    },
    "f2d4c7cbd28f4c8596e15cd44b5b065e": {
     "model_module": "jupyter-leaflet",
     "model_module_version": "^0.15.0",
     "model_name": "LeafletMapStyleModel",
     "state": {
      "_model_module": "jupyter-leaflet",
      "_model_module_version": "^0.15.0",
      "_model_name": "LeafletMapStyleModel",
      "_view_count": null,
      "_view_module": "@jupyter-widgets/base",
      "_view_module_version": "1.2.0",
      "_view_name": "StyleView",
      "cursor": "move"
     }
    },
    "fbe6af5ed8c5410bb5c53fcf7afa8531": {
     "model_module": "jupyter-leaflet",
     "model_module_version": "^0.15.0",
     "model_name": "LeafletTileLayerModel",
     "state": {
      "_model_module": "jupyter-leaflet",
      "_model_module_version": "^0.15.0",
      "_model_name": "LeafletTileLayerModel",
      "_view_count": null,
      "_view_module": "jupyter-leaflet",
      "_view_module_version": "^0.15.0",
      "_view_name": "LeafletTileLayerView",
      "attribution": "Google Earth Engine",
      "base": false,
      "bottom": true,
      "detect_retina": false,
      "loading": false,
      "max_native_zoom": 18,
      "max_zoom": 24,
      "min_native_zoom": 0,
      "min_zoom": 0,
      "name": "sample_locations",
      "no_wrap": false,
      "opacity": 1,
      "options": [
       "attribution",
       "detect_retina",
       "max_native_zoom",
       "max_zoom",
       "min_native_zoom",
       "min_zoom",
       "no_wrap",
       "tile_size",
       "tms"
      ],
      "popup": null,
      "popup_max_height": null,
      "popup_max_width": 300,
      "popup_min_width": 50,
      "show_loading": false,
      "tile_size": 256,
      "tms": false,
      "url": "https://earthengine.googleapis.com/v1alpha/projects/earthengine-legacy/maps/c851bd90fc8e47a4be5ef7fd59159105-a70753c18b2c566c493738b594f2924a/tiles/{z}/{x}/{y}",
      "visible": true
     }
    },
    "ff962e5b6df44680b098c1f261749d49": {
     "model_module": "@jupyter-widgets/controls",
     "model_module_version": "1.5.0",
     "model_name": "ToggleButtonModel",
     "state": {
      "_dom_classes": [],
      "_model_module": "@jupyter-widgets/controls",
      "_model_module_version": "1.5.0",
      "_model_name": "ToggleButtonModel",
      "_view_count": null,
      "_view_module": "@jupyter-widgets/controls",
      "_view_module_version": "1.5.0",
      "_view_name": "ToggleButtonView",
      "button_style": "",
      "description": "",
      "description_tooltip": null,
      "disabled": false,
      "icon": "wrench",
      "layout": "IPY_MODEL_20bf4d22fb1648f296aa64ee7a5e0f79",
      "style": "IPY_MODEL_5697c3d5965c4ee59e6d59a0eaf4e2c4",
      "tooltip": "Toolbar",
      "value": false
     }
    }
   }
  }
 },
 "nbformat": 4,
 "nbformat_minor": 1
}
